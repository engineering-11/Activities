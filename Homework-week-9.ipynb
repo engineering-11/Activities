{
 "cells": [
  {
   "cell_type": "markdown",
   "metadata": {},
   "source": [
    "### Useful Numbers\n",
    "Avogadros number: $6.02\\times10^{23}$ atoms/mole\n",
    "\n",
    "$1 MeV = 1.602\\times10^{-13}J$ (J = Joules)"
   ]
  },
  {
   "attachments": {},
   "cell_type": "markdown",
   "metadata": {},
   "source": [
    "### Problem 1: Energy from Radon\n",
    "\n",
    "The average home in the US contains ~0.019 pico-grams ($10^{-12} g$) of Rn/$m^3$ (Rn = Radon).\n",
    "\n",
    "#### 1.a What is the corresponding Bq/$m^3$?\n",
    "\n",
    ">*NOTE: We will include all of the daughter decays that occur with short half-lives relative to the ~4 day half-life of Radon in the determination of the total energy produced per decay, but do not include those here in the determination of activity. For the purposes of this excersize, all daughter decays are considered part of the Radon decay.*"
   ]
  },
  {
   "cell_type": "code",
   "execution_count": null,
   "metadata": {},
   "outputs": [],
   "source": []
  },
  {
   "cell_type": "markdown",
   "metadata": {},
   "source": [
    "##### 1.b If we assume all of the short half-life daughters following the Rn decay to be part of the same disintegration, how much energy is being produced  by this activity? (in units of MeV/$m^3$/s)\n",
    "\n",
    ">*NOTE: Use the decay chain for Radon provided in the lecture slides*"
   ]
  },
  {
   "cell_type": "code",
   "execution_count": null,
   "metadata": {},
   "outputs": [],
   "source": []
  },
  {
   "cell_type": "markdown",
   "metadata": {},
   "source": [
    "##### 1.c In a $25 m^3$ room, how much energy is being produced from Radon? How does this compare to a ~10W (Joules/s) LED light bulb?"
   ]
  },
  {
   "cell_type": "code",
   "execution_count": null,
   "metadata": {},
   "outputs": [],
   "source": []
  },
  {
   "cell_type": "markdown",
   "metadata": {},
   "source": [
    "### Problem 2. Dose from Radon\n",
    "\n",
    "##### 2.a Neglecting gamma-radiation, and assuming full absorption of beta and alpha decays, what is the corresponding dose-rate in mGy/yr (milliGray/year) using your answer from problem 1?\n",
    "\n",
    ">*HINT: This is the dose to the human body, so assuming a body mass of 70kg*"
   ]
  },
  {
   "cell_type": "code",
   "execution_count": null,
   "metadata": {},
   "outputs": [],
   "source": []
  },
  {
   "cell_type": "markdown",
   "metadata": {},
   "source": [
    "##### 2.b What equivalent dose (mSv/yr) does this correspond to?\n",
    "\n",
    ">*NOTE: Use the weight-factors indicated in the lecture slides (slide 12)*"
   ]
  },
  {
   "cell_type": "code",
   "execution_count": null,
   "metadata": {},
   "outputs": [],
   "source": []
  },
  {
   "cell_type": "markdown",
   "metadata": {},
   "source": [
    "##### 2.c How does this dose-rate compare to what we determined the internal dose from K-40 to be in class?\n",
    "\n",
    ">*NOTE: Check the slides for the final confirmed dose-rate from our calculations in class with some corrections*"
   ]
  },
  {
   "cell_type": "code",
   "execution_count": null,
   "metadata": {},
   "outputs": [],
   "source": []
  },
  {
   "cell_type": "markdown",
   "metadata": {},
   "source": [
    "##### 2.d If we apply a similar correction for the beta decays produced in the Radon decay chain (true $<E_{beta}> = 0.5E_{max}$), what total equivalent dose (mSv/yr) do we get from these internal sources (combining K-40 and Rn-86)? How does this compare to the average total dose world-wide?\n",
    "\n",
    ">*NOTE: Again, see the lecture slides (slide 17)*"
   ]
  },
  {
   "cell_type": "code",
   "execution_count": null,
   "metadata": {},
   "outputs": [],
   "source": []
  },
  {
   "cell_type": "markdown",
   "metadata": {},
   "source": [
    "#### 2.e Why might our estimated yearly dose be off from the actual average yearly dose?\n",
    "> List all possible sources of descrepancy, even if they go in the wrong direction or you got a reasonable estimate"
   ]
  },
  {
   "cell_type": "code",
   "execution_count": null,
   "metadata": {},
   "outputs": [],
   "source": []
  }
 ],
 "metadata": {
  "kernelspec": {
   "display_name": "Python 3",
   "language": "python",
   "name": "python3"
  },
  "language_info": {
   "codemirror_mode": {
    "name": "ipython",
    "version": 3
   },
   "file_extension": ".py",
   "mimetype": "text/x-python",
   "name": "python",
   "nbconvert_exporter": "python",
   "pygments_lexer": "ipython3",
   "version": "3.7.3"
  }
 },
 "nbformat": 4,
 "nbformat_minor": 2
}
