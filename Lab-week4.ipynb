{
 "cells": [
  {
   "cell_type": "code",
   "execution_count": 1,
   "metadata": {},
   "outputs": [],
   "source": [
    "import numpy as np\n",
    "import pandas as pd\n",
    "import matplotlib.pyplot as plt\n",
    "import io\n",
    "import requests"
   ]
  },
  {
   "cell_type": "code",
   "execution_count": 2,
   "metadata": {},
   "outputs": [],
   "source": [
    "def get_web_data(url):\n",
    "    header = {\n",
    "      \"User-Agent\": \"Mozilla/5.0 (X11; Linux x86_64) AppleWebKit/537.36 (KHTML, like Gecko) Chrome/50.0.2661.75 Safari/537.36\",\n",
    "      \"X-Requested-With\": \"XMLHttpRequest\"\n",
    "    }\n",
    "\n",
    "    s=requests.get(url,headers=header).text\n",
    "\n",
    "    data = pd.read_csv(io.StringIO(s))\n",
    "    return data    "
   ]
  },
  {
   "cell_type": "code",
   "execution_count": 3,
   "metadata": {},
   "outputs": [],
   "source": [
    "def get_local_data(filename):\n",
    "    return pd.read_csv(filename)"
   ]
  },
  {
   "cell_type": "code",
   "execution_count": 4,
   "metadata": {},
   "outputs": [],
   "source": [
    "url = \"https://radwatch.berkeley.edu/test/tmp/dosenet/etch_roof.csv\"\n",
    "data = get_web_data(url)\n",
    "\n",
    "url = \"https://radwatch.berkeley.edu/test/tmp/dosenet/etch_roof_weather.csv\"\n",
    "data_w = get_web_data(url)\n"
   ]
  },
  {
   "cell_type": "code",
   "execution_count": 26,
   "metadata": {},
   "outputs": [],
   "source": [
    "filename = r\"C:/Users/ahanks/Downloads/etch_roof_d3s.csv\"\n",
    "data_d3s = get_local_data(filename)"
   ]
  },
  {
   "cell_type": "code",
   "execution_count": 5,
   "metadata": {},
   "outputs": [
    {
     "data": {
      "text/html": [
       "<div>\n",
       "<style scoped>\n",
       "    .dataframe tbody tr th:only-of-type {\n",
       "        vertical-align: middle;\n",
       "    }\n",
       "\n",
       "    .dataframe tbody tr th {\n",
       "        vertical-align: top;\n",
       "    }\n",
       "\n",
       "    .dataframe thead th {\n",
       "        text-align: right;\n",
       "    }\n",
       "</style>\n",
       "<table border=\"1\" class=\"dataframe\">\n",
       "  <thead>\n",
       "    <tr style=\"text-align: right;\">\n",
       "      <th></th>\n",
       "      <th>deviceTime_utc</th>\n",
       "      <th>deviceTime_local</th>\n",
       "      <th>deviceTime_unix</th>\n",
       "      <th>temperature</th>\n",
       "      <th>pressure</th>\n",
       "      <th>humidity</th>\n",
       "      <th>error_flag</th>\n",
       "    </tr>\n",
       "  </thead>\n",
       "  <tbody>\n",
       "    <tr>\n",
       "      <th>0</th>\n",
       "      <td>2020-02-24 23:15:40+00:00</td>\n",
       "      <td>2020-02-24 15:15:40-08:00</td>\n",
       "      <td>1.582586e+09</td>\n",
       "      <td>20.38</td>\n",
       "      <td>1011.90</td>\n",
       "      <td>42.60</td>\n",
       "      <td>NaN</td>\n",
       "    </tr>\n",
       "    <tr>\n",
       "      <th>1</th>\n",
       "      <td>2020-02-24 23:10:40+00:00</td>\n",
       "      <td>2020-02-24 15:10:40-08:00</td>\n",
       "      <td>1.582586e+09</td>\n",
       "      <td>20.36</td>\n",
       "      <td>1011.85</td>\n",
       "      <td>42.26</td>\n",
       "      <td>NaN</td>\n",
       "    </tr>\n",
       "    <tr>\n",
       "      <th>2</th>\n",
       "      <td>2020-02-24 23:05:40+00:00</td>\n",
       "      <td>2020-02-24 15:05:40-08:00</td>\n",
       "      <td>1.582586e+09</td>\n",
       "      <td>20.33</td>\n",
       "      <td>1011.86</td>\n",
       "      <td>42.19</td>\n",
       "      <td>NaN</td>\n",
       "    </tr>\n",
       "    <tr>\n",
       "      <th>3</th>\n",
       "      <td>2020-02-24 23:00:46+00:00</td>\n",
       "      <td>2020-02-24 15:00:46-08:00</td>\n",
       "      <td>1.582585e+09</td>\n",
       "      <td>20.33</td>\n",
       "      <td>1011.92</td>\n",
       "      <td>42.03</td>\n",
       "      <td>NaN</td>\n",
       "    </tr>\n",
       "    <tr>\n",
       "      <th>4</th>\n",
       "      <td>2020-02-24 23:00:40+00:00</td>\n",
       "      <td>2020-02-24 15:00:40-08:00</td>\n",
       "      <td>1.582585e+09</td>\n",
       "      <td>20.33</td>\n",
       "      <td>1011.92</td>\n",
       "      <td>42.03</td>\n",
       "      <td>NaN</td>\n",
       "    </tr>\n",
       "    <tr>\n",
       "      <th>...</th>\n",
       "      <td>...</td>\n",
       "      <td>...</td>\n",
       "      <td>...</td>\n",
       "      <td>...</td>\n",
       "      <td>...</td>\n",
       "      <td>...</td>\n",
       "      <td>...</td>\n",
       "    </tr>\n",
       "    <tr>\n",
       "      <th>160583</th>\n",
       "      <td>2020-09-17 17:20:43+0000</td>\n",
       "      <td>2020-09-17 10:20:43-0700</td>\n",
       "      <td>1.600363e+09</td>\n",
       "      <td>20.09</td>\n",
       "      <td>1002.14</td>\n",
       "      <td>87.78</td>\n",
       "      <td>0.0</td>\n",
       "    </tr>\n",
       "    <tr>\n",
       "      <th>160584</th>\n",
       "      <td>2020-09-17 17:25:43+0000</td>\n",
       "      <td>2020-09-17 10:25:43-0700</td>\n",
       "      <td>1.600364e+09</td>\n",
       "      <td>20.58</td>\n",
       "      <td>1002.16</td>\n",
       "      <td>87.03</td>\n",
       "      <td>0.0</td>\n",
       "    </tr>\n",
       "    <tr>\n",
       "      <th>160585</th>\n",
       "      <td>2020-09-17 17:30:43+0000</td>\n",
       "      <td>2020-09-17 10:30:43-0700</td>\n",
       "      <td>1.600364e+09</td>\n",
       "      <td>20.59</td>\n",
       "      <td>1002.19</td>\n",
       "      <td>85.57</td>\n",
       "      <td>0.0</td>\n",
       "    </tr>\n",
       "    <tr>\n",
       "      <th>160586</th>\n",
       "      <td>2020-09-17 17:35:43+0000</td>\n",
       "      <td>2020-09-17 10:35:43-0700</td>\n",
       "      <td>1.600364e+09</td>\n",
       "      <td>20.86</td>\n",
       "      <td>1002.15</td>\n",
       "      <td>84.54</td>\n",
       "      <td>0.0</td>\n",
       "    </tr>\n",
       "    <tr>\n",
       "      <th>160587</th>\n",
       "      <td>2020-09-17 17:40:43+0000</td>\n",
       "      <td>2020-09-17 10:40:43-0700</td>\n",
       "      <td>1.600364e+09</td>\n",
       "      <td>20.91</td>\n",
       "      <td>1002.14</td>\n",
       "      <td>83.69</td>\n",
       "      <td>0.0</td>\n",
       "    </tr>\n",
       "  </tbody>\n",
       "</table>\n",
       "<p>160588 rows × 7 columns</p>\n",
       "</div>"
      ],
      "text/plain": [
       "                   deviceTime_utc           deviceTime_local  deviceTime_unix  \\\n",
       "0       2020-02-24 23:15:40+00:00  2020-02-24 15:15:40-08:00     1.582586e+09   \n",
       "1       2020-02-24 23:10:40+00:00  2020-02-24 15:10:40-08:00     1.582586e+09   \n",
       "2       2020-02-24 23:05:40+00:00  2020-02-24 15:05:40-08:00     1.582586e+09   \n",
       "3       2020-02-24 23:00:46+00:00  2020-02-24 15:00:46-08:00     1.582585e+09   \n",
       "4       2020-02-24 23:00:40+00:00  2020-02-24 15:00:40-08:00     1.582585e+09   \n",
       "...                           ...                        ...              ...   \n",
       "160583   2020-09-17 17:20:43+0000   2020-09-17 10:20:43-0700     1.600363e+09   \n",
       "160584   2020-09-17 17:25:43+0000   2020-09-17 10:25:43-0700     1.600364e+09   \n",
       "160585   2020-09-17 17:30:43+0000   2020-09-17 10:30:43-0700     1.600364e+09   \n",
       "160586   2020-09-17 17:35:43+0000   2020-09-17 10:35:43-0700     1.600364e+09   \n",
       "160587   2020-09-17 17:40:43+0000   2020-09-17 10:40:43-0700     1.600364e+09   \n",
       "\n",
       "        temperature  pressure  humidity  error_flag  \n",
       "0             20.38   1011.90     42.60         NaN  \n",
       "1             20.36   1011.85     42.26         NaN  \n",
       "2             20.33   1011.86     42.19         NaN  \n",
       "3             20.33   1011.92     42.03         NaN  \n",
       "4             20.33   1011.92     42.03         NaN  \n",
       "...             ...       ...       ...         ...  \n",
       "160583        20.09   1002.14     87.78         0.0  \n",
       "160584        20.58   1002.16     87.03         0.0  \n",
       "160585        20.59   1002.19     85.57         0.0  \n",
       "160586        20.86   1002.15     84.54         0.0  \n",
       "160587        20.91   1002.14     83.69         0.0  \n",
       "\n",
       "[160588 rows x 7 columns]"
      ]
     },
     "execution_count": 5,
     "metadata": {},
     "output_type": "execute_result"
    }
   ],
   "source": [
    "data_w"
   ]
  },
  {
   "cell_type": "code",
   "execution_count": 6,
   "metadata": {},
   "outputs": [],
   "source": [
    "weather_data = data_w.loc[:,\"deviceTime_local\":\"humidity\"]\n",
    "weather_data = weather_data.drop(\"deviceTime_local\")\n",
    "time_mask = weather_data['deviceTime_local']>'2020-08-17 00:00:00-07:00'\n",
    "month_weather_data = weather_data[time_mask]"
   ]
  },
  {
   "cell_type": "code",
   "execution_count": 7,
   "metadata": {},
   "outputs": [
    {
     "data": {
      "text/html": [
       "<div>\n",
       "<style scoped>\n",
       "    .dataframe tbody tr th:only-of-type {\n",
       "        vertical-align: middle;\n",
       "    }\n",
       "\n",
       "    .dataframe tbody tr th {\n",
       "        vertical-align: top;\n",
       "    }\n",
       "\n",
       "    .dataframe thead th {\n",
       "        text-align: right;\n",
       "    }\n",
       "</style>\n",
       "<table border=\"1\" class=\"dataframe\">\n",
       "  <thead>\n",
       "    <tr style=\"text-align: right;\">\n",
       "      <th></th>\n",
       "      <th>deviceTime_local</th>\n",
       "      <th>deviceTime_unix</th>\n",
       "      <th>temperature</th>\n",
       "      <th>pressure</th>\n",
       "      <th>humidity</th>\n",
       "    </tr>\n",
       "  </thead>\n",
       "  <tbody>\n",
       "    <tr>\n",
       "      <th>151535</th>\n",
       "      <td>2020-08-17 00:00:52-0700</td>\n",
       "      <td>1.597648e+09</td>\n",
       "      <td>24.39</td>\n",
       "      <td>1000.46</td>\n",
       "      <td>57.85</td>\n",
       "    </tr>\n",
       "    <tr>\n",
       "      <th>151536</th>\n",
       "      <td>2020-08-17 00:05:51-0700</td>\n",
       "      <td>1.597648e+09</td>\n",
       "      <td>24.30</td>\n",
       "      <td>1000.26</td>\n",
       "      <td>57.83</td>\n",
       "    </tr>\n",
       "    <tr>\n",
       "      <th>151537</th>\n",
       "      <td>2020-08-17 00:10:52-0700</td>\n",
       "      <td>1.597648e+09</td>\n",
       "      <td>23.88</td>\n",
       "      <td>1000.13</td>\n",
       "      <td>59.31</td>\n",
       "    </tr>\n",
       "    <tr>\n",
       "      <th>151538</th>\n",
       "      <td>2020-08-17 00:15:51-0700</td>\n",
       "      <td>1.597649e+09</td>\n",
       "      <td>24.38</td>\n",
       "      <td>1000.02</td>\n",
       "      <td>58.19</td>\n",
       "    </tr>\n",
       "    <tr>\n",
       "      <th>151539</th>\n",
       "      <td>2020-08-17 00:20:51-0700</td>\n",
       "      <td>1.597649e+09</td>\n",
       "      <td>24.61</td>\n",
       "      <td>999.93</td>\n",
       "      <td>57.50</td>\n",
       "    </tr>\n",
       "    <tr>\n",
       "      <th>...</th>\n",
       "      <td>...</td>\n",
       "      <td>...</td>\n",
       "      <td>...</td>\n",
       "      <td>...</td>\n",
       "      <td>...</td>\n",
       "    </tr>\n",
       "    <tr>\n",
       "      <th>160583</th>\n",
       "      <td>2020-09-17 10:20:43-0700</td>\n",
       "      <td>1.600363e+09</td>\n",
       "      <td>20.09</td>\n",
       "      <td>1002.14</td>\n",
       "      <td>87.78</td>\n",
       "    </tr>\n",
       "    <tr>\n",
       "      <th>160584</th>\n",
       "      <td>2020-09-17 10:25:43-0700</td>\n",
       "      <td>1.600364e+09</td>\n",
       "      <td>20.58</td>\n",
       "      <td>1002.16</td>\n",
       "      <td>87.03</td>\n",
       "    </tr>\n",
       "    <tr>\n",
       "      <th>160585</th>\n",
       "      <td>2020-09-17 10:30:43-0700</td>\n",
       "      <td>1.600364e+09</td>\n",
       "      <td>20.59</td>\n",
       "      <td>1002.19</td>\n",
       "      <td>85.57</td>\n",
       "    </tr>\n",
       "    <tr>\n",
       "      <th>160586</th>\n",
       "      <td>2020-09-17 10:35:43-0700</td>\n",
       "      <td>1.600364e+09</td>\n",
       "      <td>20.86</td>\n",
       "      <td>1002.15</td>\n",
       "      <td>84.54</td>\n",
       "    </tr>\n",
       "    <tr>\n",
       "      <th>160587</th>\n",
       "      <td>2020-09-17 10:40:43-0700</td>\n",
       "      <td>1.600364e+09</td>\n",
       "      <td>20.91</td>\n",
       "      <td>1002.14</td>\n",
       "      <td>83.69</td>\n",
       "    </tr>\n",
       "  </tbody>\n",
       "</table>\n",
       "<p>9053 rows × 5 columns</p>\n",
       "</div>"
      ],
      "text/plain": [
       "                deviceTime_local  deviceTime_unix  temperature  pressure  \\\n",
       "151535  2020-08-17 00:00:52-0700     1.597648e+09        24.39   1000.46   \n",
       "151536  2020-08-17 00:05:51-0700     1.597648e+09        24.30   1000.26   \n",
       "151537  2020-08-17 00:10:52-0700     1.597648e+09        23.88   1000.13   \n",
       "151538  2020-08-17 00:15:51-0700     1.597649e+09        24.38   1000.02   \n",
       "151539  2020-08-17 00:20:51-0700     1.597649e+09        24.61    999.93   \n",
       "...                          ...              ...          ...       ...   \n",
       "160583  2020-09-17 10:20:43-0700     1.600363e+09        20.09   1002.14   \n",
       "160584  2020-09-17 10:25:43-0700     1.600364e+09        20.58   1002.16   \n",
       "160585  2020-09-17 10:30:43-0700     1.600364e+09        20.59   1002.19   \n",
       "160586  2020-09-17 10:35:43-0700     1.600364e+09        20.86   1002.15   \n",
       "160587  2020-09-17 10:40:43-0700     1.600364e+09        20.91   1002.14   \n",
       "\n",
       "        humidity  \n",
       "151535     57.85  \n",
       "151536     57.83  \n",
       "151537     59.31  \n",
       "151538     58.19  \n",
       "151539     57.50  \n",
       "...          ...  \n",
       "160583     87.78  \n",
       "160584     87.03  \n",
       "160585     85.57  \n",
       "160586     84.54  \n",
       "160587     83.69  \n",
       "\n",
       "[9053 rows x 5 columns]"
      ]
     },
     "execution_count": 7,
     "metadata": {},
     "output_type": "execute_result"
    }
   ],
   "source": [
    "month_weather_data"
   ]
  },
  {
   "cell_type": "code",
   "execution_count": 8,
   "metadata": {},
   "outputs": [
    {
     "data": {
      "image/png": "[encoded data removed]",
      "text/plain": [
       "<Figure size 432x288 with 1 Axes>"
      ]
     },
     "metadata": {
      "needs_background": "light"
     },
     "output_type": "display_data"
    }
   ],
   "source": [
    "plt.plot(month_weather_data[\"deviceTime_unix\"].values,month_weather_data[\"temperature\"].values)\n",
    "plt.xlabel(\"Time (epoch)\")\n",
    "plt.ylabel(\"Temperature (C)\")\n",
    "plt.show()"
   ]
  },
  {
   "cell_type": "code",
   "execution_count": 22,
   "metadata": {},
   "outputs": [
    {
     "data": {
      "image/png": "[encoded data removed]",
      "text/plain": [
       "<Figure size 432x288 with 1 Axes>"
      ]
     },
     "metadata": {
      "needs_background": "light"
     },
     "output_type": "display_data"
    }
   ],
   "source": [
    "plt.plot(month_weather_data[\"deviceTime_unix\"].values,month_weather_data[\"humidity\"].values)\n",
    "plt.xlabel(\"Time (epoch)\")\n",
    "plt.ylabel(\"Humidity (%)\")\n",
    "plt.show()"
   ]
  },
  {
   "cell_type": "code",
   "execution_count": 10,
   "metadata": {},
   "outputs": [
    {
     "data": {
      "image/png": "[encoded data removed]",
      "text/plain": [
       "<Figure size 432x288 with 1 Axes>"
      ]
     },
     "metadata": {
      "needs_background": "light"
     },
     "output_type": "display_data"
    }
   ],
   "source": [
    "plt.hist(month_weather_data[\"temperature\"].values,bins=200)\n",
    "plt.show()"
   ]
  },
  {
   "cell_type": "code",
   "execution_count": 11,
   "metadata": {},
   "outputs": [
    {
     "data": {
      "image/png": "[encoded data removed]",
      "text/plain": [
       "<Figure size 432x288 with 1 Axes>"
      ]
     },
     "metadata": {
      "needs_background": "light"
     },
     "output_type": "display_data"
    }
   ],
   "source": [
    "plt.hist(month_weather_data[\"humidity\"].values,bins=200)\n",
    "plt.show()"
   ]
  },
  {
   "cell_type": "code",
   "execution_count": 12,
   "metadata": {},
   "outputs": [
    {
     "data": {
      "image/png": "[encoded data removed]",
      "text/plain": [
       "<Figure size 864x432 with 2 Axes>"
      ]
     },
     "metadata": {
      "needs_background": "light"
     },
     "output_type": "display_data"
    }
   ],
   "source": [
    "t_low = 17\n",
    "t_high = 18\n",
    "cut_data = month_weather_data[(month_weather_data['temperature']>t_low) & (month_weather_data['temperature']<t_high)]\n",
    "\n",
    "fig1 = plt.figure(1, figsize=(12,6))\n",
    "ax1 = fig1.add_subplot(121)\n",
    "ax2 = fig1.add_subplot(122)\n",
    "\n",
    "ax1.hist(cut_data[\"humidity\"].values,bins=50)\n",
    "ax1.set_xlabel(\"Humidity\")\n",
    "ax1.set_ylabel(\"Frequency\")\n",
    "ax2.hist(cut_data[\"temperature\"].values,bins=50)\n",
    "ax2.set_xlabel(\"Temperature\")\n",
    "ax2.set_ylabel(\"Frequency\")\n",
    "\n",
    "plt.show()"
   ]
  },
  {
   "cell_type": "code",
   "execution_count": 13,
   "metadata": {},
   "outputs": [
    {
     "data": {
      "image/png": "[encoded data removed]",
      "text/plain": [
       "<Figure size 864x432 with 2 Axes>"
      ]
     },
     "metadata": {
      "needs_background": "light"
     },
     "output_type": "display_data"
    }
   ],
   "source": [
    "h_low = 60\n",
    "h_high = 70\n",
    "cut_data = month_weather_data[(month_weather_data['humidity']>h_low) & (month_weather_data['humidity']<h_high)]\n",
    "\n",
    "fig1 = plt.figure(1, figsize=(12,6))\n",
    "ax1 = fig1.add_subplot(121)\n",
    "ax2 = fig1.add_subplot(122)\n",
    "\n",
    "ax1.hist(cut_data[\"humidity\"].values,bins=50)\n",
    "ax1.set_xlabel(\"Humidity\")\n",
    "ax1.set_ylabel(\"Frequency\")\n",
    "ax2.hist(cut_data[\"temperature\"].values,bins=50)\n",
    "ax2.set_xlabel(\"Temperature\")\n",
    "ax2.set_ylabel(\"Frequency\")\n",
    "\n",
    "plt.show()"
   ]
  },
  {
   "cell_type": "code",
   "execution_count": 16,
   "metadata": {},
   "outputs": [
    {
     "data": {
      "image/png": "[encoded data removed]",
      "text/plain": [
       "<Figure size 432x288 with 1 Axes>"
      ]
     },
     "metadata": {
      "needs_background": "light"
     },
     "output_type": "display_data"
    }
   ],
   "source": [
    "plt.scatter(month_weather_data[\"temperature\"].values,month_weather_data[\"humidity\"].values)\n",
    "plt.show()"
   ]
  },
  {
   "cell_type": "code",
   "execution_count": 17,
   "metadata": {},
   "outputs": [
    {
     "data": {
      "image/png": "[encoded data removed]",
      "text/plain": [
       "<Figure size 432x288 with 1 Axes>"
      ]
     },
     "metadata": {
      "needs_background": "light"
     },
     "output_type": "display_data"
    }
   ],
   "source": [
    "plt.scatter(month_weather_data[\"temperature\"].values[:100],month_weather_data[\"humidity\"].values[:100])\n",
    "plt.show()"
   ]
  },
  {
   "cell_type": "code",
   "execution_count": 20,
   "metadata": {},
   "outputs": [
    {
     "data": {
      "image/png": "[encoded data removed]",
      "text/plain": [
       "<Figure size 432x288 with 1 Axes>"
      ]
     },
     "metadata": {
      "needs_background": "light"
     },
     "output_type": "display_data"
    },
    {
     "data": {
      "image/png": "[encoded data removed]",
      "text/plain": [
       "<Figure size 432x288 with 1 Axes>"
      ]
     },
     "metadata": {
      "needs_background": "light"
     },
     "output_type": "display_data"
    }
   ],
   "source": [
    "plt.plot(month_weather_data[\"deviceTime_unix\"].values,month_weather_data[\"pressure\"].values)\n",
    "plt.xlabel(\"Time (epoch)\")\n",
    "plt.ylabel(\"Pressure\")\n",
    "plt.show()\n",
    "\n",
    "plt.scatter(month_weather_data[\"temperature\"].values[:100],month_weather_data[\"pressure\"].values[:100])\n",
    "plt.show()"
   ]
  },
  {
   "cell_type": "code",
   "execution_count": 29,
   "metadata": {},
   "outputs": [],
   "source": [
    "import scipy.stats"
   ]
  },
  {
   "cell_type": "code",
   "execution_count": 30,
   "metadata": {},
   "outputs": [
    {
     "data": {
      "text/plain": [
       "(-0.9375388818699399, 0.0)"
      ]
     },
     "execution_count": 30,
     "metadata": {},
     "output_type": "execute_result"
    }
   ],
   "source": [
    "scipy.stats.pearsonr(month_weather_data[\"humidity\"].values, \n",
    "                     month_weather_data[\"temperature\"].values)"
   ]
  },
  {
   "cell_type": "code",
   "execution_count": 31,
   "metadata": {},
   "outputs": [
    {
     "data": {
      "text/plain": [
       "(-0.15099981940982238, 2.57519496254082e-47)"
      ]
     },
     "execution_count": 31,
     "metadata": {},
     "output_type": "execute_result"
    }
   ],
   "source": [
    "scipy.stats.pearsonr(month_weather_data[\"pressure\"].values, \n",
    "                     month_weather_data[\"temperature\"].values)"
   ]
  },
  {
   "cell_type": "code",
   "execution_count": 40,
   "metadata": {},
   "outputs": [],
   "source": [
    "import random"
   ]
  },
  {
   "cell_type": "code",
   "execution_count": 42,
   "metadata": {},
   "outputs": [
    {
     "name": "stdout",
     "output_type": "stream",
     "text": [
      "[24.39 24.3  23.88 ... 20.59 20.86 20.91]\n",
      "[16.48 19.97 20.15 ... 22.28 16.23 17.38]\n"
     ]
    }
   ],
   "source": [
    "temp_random = month_weather_data[\"temperature\"].values\n",
    "print(temp_random)\n",
    "random.shuffle(temp_random)\n",
    "print(temp_random)"
   ]
  },
  {
   "cell_type": "code",
   "execution_count": 43,
   "metadata": {},
   "outputs": [
    {
     "name": "stdout",
     "output_type": "stream",
     "text": [
      "[57.85 57.83 59.31 ... 85.57 84.54 83.69]\n",
      "[55.26 67.06 71.95 ... 78.89 27.68 54.56]\n"
     ]
    }
   ],
   "source": [
    "h_random = month_weather_data[\"humidity\"].values\n",
    "print(h_random)\n",
    "random.shuffle(h_random)\n",
    "print(h_random)"
   ]
  },
  {
   "cell_type": "code",
   "execution_count": 44,
   "metadata": {},
   "outputs": [
    {
     "data": {
      "text/plain": [
       "(0.019185047476700984, 0.06795267687979147)"
      ]
     },
     "execution_count": 44,
     "metadata": {},
     "output_type": "execute_result"
    }
   ],
   "source": [
    "scipy.stats.pearsonr(h_random,temp_random)"
   ]
  },
  {
   "cell_type": "code",
   "execution_count": null,
   "metadata": {},
   "outputs": [],
   "source": []
  },
  {
   "cell_type": "code",
   "execution_count": 27,
   "metadata": {},
   "outputs": [],
   "source": [
    "filename = r\"C:/Users/ahanks/Downloads/etch_roof_d3s.csv\"\n",
    "data_d3s = get_local_data(filename)"
   ]
  },
  {
   "cell_type": "code",
   "execution_count": 35,
   "metadata": {},
   "outputs": [
    {
     "data": {
      "text/html": [
       "<div>\n",
       "<style scoped>\n",
       "    .dataframe tbody tr th:only-of-type {\n",
       "        vertical-align: middle;\n",
       "    }\n",
       "\n",
       "    .dataframe tbody tr th {\n",
       "        vertical-align: top;\n",
       "    }\n",
       "\n",
       "    .dataframe thead th {\n",
       "        text-align: right;\n",
       "    }\n",
       "</style>\n",
       "<table border=\"1\" class=\"dataframe\">\n",
       "  <thead>\n",
       "    <tr style=\"text-align: right;\">\n",
       "      <th></th>\n",
       "      <th>deviceTime_utc</th>\n",
       "      <th>deviceTime_local</th>\n",
       "      <th>deviceTime_unix</th>\n",
       "      <th>cpm</th>\n",
       "      <th>cpmError</th>\n",
       "      <th>error_flag</th>\n",
       "    </tr>\n",
       "  </thead>\n",
       "  <tbody>\n",
       "    <tr>\n",
       "      <th>321523</th>\n",
       "      <td>2020-08-17 07:00:51+0000</td>\n",
       "      <td>2020-08-17 00:00:51-0700</td>\n",
       "      <td>1.597648e+09</td>\n",
       "      <td>2.0</td>\n",
       "      <td>0.632456</td>\n",
       "      <td>0.0</td>\n",
       "    </tr>\n",
       "    <tr>\n",
       "      <th>321524</th>\n",
       "      <td>2020-08-17 07:05:51+0000</td>\n",
       "      <td>2020-08-17 00:05:51-0700</td>\n",
       "      <td>1.597648e+09</td>\n",
       "      <td>3.4</td>\n",
       "      <td>0.824621</td>\n",
       "      <td>0.0</td>\n",
       "    </tr>\n",
       "    <tr>\n",
       "      <th>321525</th>\n",
       "      <td>2020-08-17 07:10:51+0000</td>\n",
       "      <td>2020-08-17 00:10:51-0700</td>\n",
       "      <td>1.597648e+09</td>\n",
       "      <td>2.8</td>\n",
       "      <td>0.748331</td>\n",
       "      <td>0.0</td>\n",
       "    </tr>\n",
       "    <tr>\n",
       "      <th>321526</th>\n",
       "      <td>2020-08-17 07:15:51+0000</td>\n",
       "      <td>2020-08-17 00:15:51-0700</td>\n",
       "      <td>1.597649e+09</td>\n",
       "      <td>1.8</td>\n",
       "      <td>0.600000</td>\n",
       "      <td>0.0</td>\n",
       "    </tr>\n",
       "    <tr>\n",
       "      <th>321527</th>\n",
       "      <td>2020-08-17 07:20:51+0000</td>\n",
       "      <td>2020-08-17 00:20:51-0700</td>\n",
       "      <td>1.597649e+09</td>\n",
       "      <td>3.0</td>\n",
       "      <td>0.774597</td>\n",
       "      <td>0.0</td>\n",
       "    </tr>\n",
       "    <tr>\n",
       "      <th>...</th>\n",
       "      <td>...</td>\n",
       "      <td>...</td>\n",
       "      <td>...</td>\n",
       "      <td>...</td>\n",
       "      <td>...</td>\n",
       "      <td>...</td>\n",
       "    </tr>\n",
       "    <tr>\n",
       "      <th>330539</th>\n",
       "      <td>2020-09-17 17:30:42+0000</td>\n",
       "      <td>2020-09-17 10:30:42-0700</td>\n",
       "      <td>1.600364e+09</td>\n",
       "      <td>3.8</td>\n",
       "      <td>0.871780</td>\n",
       "      <td>0.0</td>\n",
       "    </tr>\n",
       "    <tr>\n",
       "      <th>330540</th>\n",
       "      <td>2020-09-17 17:35:42+0000</td>\n",
       "      <td>2020-09-17 10:35:42-0700</td>\n",
       "      <td>1.600364e+09</td>\n",
       "      <td>3.4</td>\n",
       "      <td>0.824621</td>\n",
       "      <td>0.0</td>\n",
       "    </tr>\n",
       "    <tr>\n",
       "      <th>330541</th>\n",
       "      <td>2020-09-17 17:40:42+0000</td>\n",
       "      <td>2020-09-17 10:40:42-0700</td>\n",
       "      <td>1.600364e+09</td>\n",
       "      <td>2.0</td>\n",
       "      <td>0.632456</td>\n",
       "      <td>0.0</td>\n",
       "    </tr>\n",
       "    <tr>\n",
       "      <th>330542</th>\n",
       "      <td>2020-09-17 17:45:42+0000</td>\n",
       "      <td>2020-09-17 10:45:42-0700</td>\n",
       "      <td>1.600365e+09</td>\n",
       "      <td>2.6</td>\n",
       "      <td>0.721110</td>\n",
       "      <td>0.0</td>\n",
       "    </tr>\n",
       "    <tr>\n",
       "      <th>330543</th>\n",
       "      <td>2020-09-17 17:50:42+0000</td>\n",
       "      <td>2020-09-17 10:50:42-0700</td>\n",
       "      <td>1.600365e+09</td>\n",
       "      <td>2.4</td>\n",
       "      <td>0.692820</td>\n",
       "      <td>0.0</td>\n",
       "    </tr>\n",
       "  </tbody>\n",
       "</table>\n",
       "<p>9021 rows × 6 columns</p>\n",
       "</div>"
      ],
      "text/plain": [
       "                  deviceTime_utc          deviceTime_local  deviceTime_unix  \\\n",
       "321523  2020-08-17 07:00:51+0000  2020-08-17 00:00:51-0700     1.597648e+09   \n",
       "321524  2020-08-17 07:05:51+0000  2020-08-17 00:05:51-0700     1.597648e+09   \n",
       "321525  2020-08-17 07:10:51+0000  2020-08-17 00:10:51-0700     1.597648e+09   \n",
       "321526  2020-08-17 07:15:51+0000  2020-08-17 00:15:51-0700     1.597649e+09   \n",
       "321527  2020-08-17 07:20:51+0000  2020-08-17 00:20:51-0700     1.597649e+09   \n",
       "...                          ...                       ...              ...   \n",
       "330539  2020-09-17 17:30:42+0000  2020-09-17 10:30:42-0700     1.600364e+09   \n",
       "330540  2020-09-17 17:35:42+0000  2020-09-17 10:35:42-0700     1.600364e+09   \n",
       "330541  2020-09-17 17:40:42+0000  2020-09-17 10:40:42-0700     1.600364e+09   \n",
       "330542  2020-09-17 17:45:42+0000  2020-09-17 10:45:42-0700     1.600365e+09   \n",
       "330543  2020-09-17 17:50:42+0000  2020-09-17 10:50:42-0700     1.600365e+09   \n",
       "\n",
       "        cpm  cpmError  error_flag  \n",
       "321523  2.0  0.632456         0.0  \n",
       "321524  3.4  0.824621         0.0  \n",
       "321525  2.8  0.748331         0.0  \n",
       "321526  1.8  0.600000         0.0  \n",
       "321527  3.0  0.774597         0.0  \n",
       "...     ...       ...         ...  \n",
       "330539  3.8  0.871780         0.0  \n",
       "330540  3.4  0.824621         0.0  \n",
       "330541  2.0  0.632456         0.0  \n",
       "330542  2.6  0.721110         0.0  \n",
       "330543  2.4  0.692820         0.0  \n",
       "\n",
       "[9021 rows x 6 columns]"
      ]
     },
     "execution_count": 35,
     "metadata": {},
     "output_type": "execute_result"
    }
   ],
   "source": [
    "time_mask = data['deviceTime_local']>'2020-08-17 00:00:00-07:00'\n",
    "month_data = data[time_mask]\n",
    "month_data"
   ]
  },
  {
   "cell_type": "code",
   "execution_count": 36,
   "metadata": {},
   "outputs": [
    {
     "data": {
      "text/html": [
       "<div>\n",
       "<style scoped>\n",
       "    .dataframe tbody tr th:only-of-type {\n",
       "        vertical-align: middle;\n",
       "    }\n",
       "\n",
       "    .dataframe tbody tr th {\n",
       "        vertical-align: top;\n",
       "    }\n",
       "\n",
       "    .dataframe thead th {\n",
       "        text-align: right;\n",
       "    }\n",
       "</style>\n",
       "<table border=\"1\" class=\"dataframe\">\n",
       "  <thead>\n",
       "    <tr style=\"text-align: right;\">\n",
       "      <th></th>\n",
       "      <th>deviceTime_utc</th>\n",
       "      <th>deviceTime_local</th>\n",
       "      <th>deviceTime_unix</th>\n",
       "      <th>cpm</th>\n",
       "      <th>cpmError</th>\n",
       "      <th>keV_per_ch</th>\n",
       "      <th>0</th>\n",
       "      <th>1</th>\n",
       "      <th>2</th>\n",
       "      <th>3</th>\n",
       "      <th>...</th>\n",
       "      <th>1015</th>\n",
       "      <th>1016</th>\n",
       "      <th>1017</th>\n",
       "      <th>1018</th>\n",
       "      <th>1019</th>\n",
       "      <th>1020</th>\n",
       "      <th>1021</th>\n",
       "      <th>1022</th>\n",
       "      <th>1023</th>\n",
       "      <th>error_flag</th>\n",
       "    </tr>\n",
       "  </thead>\n",
       "  <tbody>\n",
       "    <tr>\n",
       "      <th>200809</th>\n",
       "      <td>2020-08-17 07:01:09+0000</td>\n",
       "      <td>2020-08-17 00:01:09-0700</td>\n",
       "      <td>1.597648e+09</td>\n",
       "      <td>2323.6</td>\n",
       "      <td>21.557365</td>\n",
       "      <td>2.57</td>\n",
       "      <td>0</td>\n",
       "      <td>0</td>\n",
       "      <td>0</td>\n",
       "      <td>0</td>\n",
       "      <td>...</td>\n",
       "      <td>0</td>\n",
       "      <td>0</td>\n",
       "      <td>0</td>\n",
       "      <td>0</td>\n",
       "      <td>0</td>\n",
       "      <td>1</td>\n",
       "      <td>0</td>\n",
       "      <td>0</td>\n",
       "      <td>72</td>\n",
       "      <td>0.0</td>\n",
       "    </tr>\n",
       "    <tr>\n",
       "      <th>200810</th>\n",
       "      <td>2020-08-17 07:06:09+0000</td>\n",
       "      <td>2020-08-17 00:06:09-0700</td>\n",
       "      <td>1.597648e+09</td>\n",
       "      <td>2335.4</td>\n",
       "      <td>21.612034</td>\n",
       "      <td>2.57</td>\n",
       "      <td>0</td>\n",
       "      <td>0</td>\n",
       "      <td>0</td>\n",
       "      <td>0</td>\n",
       "      <td>...</td>\n",
       "      <td>0</td>\n",
       "      <td>0</td>\n",
       "      <td>0</td>\n",
       "      <td>0</td>\n",
       "      <td>0</td>\n",
       "      <td>1</td>\n",
       "      <td>0</td>\n",
       "      <td>0</td>\n",
       "      <td>67</td>\n",
       "      <td>0.0</td>\n",
       "    </tr>\n",
       "    <tr>\n",
       "      <th>200811</th>\n",
       "      <td>2020-08-17 07:11:09+0000</td>\n",
       "      <td>2020-08-17 00:11:09-0700</td>\n",
       "      <td>1.597648e+09</td>\n",
       "      <td>2320.8</td>\n",
       "      <td>21.544373</td>\n",
       "      <td>2.57</td>\n",
       "      <td>0</td>\n",
       "      <td>0</td>\n",
       "      <td>0</td>\n",
       "      <td>0</td>\n",
       "      <td>...</td>\n",
       "      <td>0</td>\n",
       "      <td>0</td>\n",
       "      <td>0</td>\n",
       "      <td>0</td>\n",
       "      <td>0</td>\n",
       "      <td>0</td>\n",
       "      <td>0</td>\n",
       "      <td>0</td>\n",
       "      <td>63</td>\n",
       "      <td>0.0</td>\n",
       "    </tr>\n",
       "    <tr>\n",
       "      <th>200812</th>\n",
       "      <td>2020-08-17 07:16:09+0000</td>\n",
       "      <td>2020-08-17 00:16:09-0700</td>\n",
       "      <td>1.597649e+09</td>\n",
       "      <td>2260.6</td>\n",
       "      <td>21.263114</td>\n",
       "      <td>2.57</td>\n",
       "      <td>0</td>\n",
       "      <td>0</td>\n",
       "      <td>0</td>\n",
       "      <td>0</td>\n",
       "      <td>...</td>\n",
       "      <td>0</td>\n",
       "      <td>0</td>\n",
       "      <td>0</td>\n",
       "      <td>0</td>\n",
       "      <td>0</td>\n",
       "      <td>0</td>\n",
       "      <td>0</td>\n",
       "      <td>0</td>\n",
       "      <td>56</td>\n",
       "      <td>0.0</td>\n",
       "    </tr>\n",
       "    <tr>\n",
       "      <th>200813</th>\n",
       "      <td>2020-08-17 07:21:09+0000</td>\n",
       "      <td>2020-08-17 00:21:09-0700</td>\n",
       "      <td>1.597649e+09</td>\n",
       "      <td>2274.8</td>\n",
       "      <td>21.329791</td>\n",
       "      <td>2.57</td>\n",
       "      <td>0</td>\n",
       "      <td>0</td>\n",
       "      <td>0</td>\n",
       "      <td>0</td>\n",
       "      <td>...</td>\n",
       "      <td>0</td>\n",
       "      <td>0</td>\n",
       "      <td>0</td>\n",
       "      <td>0</td>\n",
       "      <td>0</td>\n",
       "      <td>0</td>\n",
       "      <td>0</td>\n",
       "      <td>0</td>\n",
       "      <td>72</td>\n",
       "      <td>0.0</td>\n",
       "    </tr>\n",
       "    <tr>\n",
       "      <th>...</th>\n",
       "      <td>...</td>\n",
       "      <td>...</td>\n",
       "      <td>...</td>\n",
       "      <td>...</td>\n",
       "      <td>...</td>\n",
       "      <td>...</td>\n",
       "      <td>...</td>\n",
       "      <td>...</td>\n",
       "      <td>...</td>\n",
       "      <td>...</td>\n",
       "      <td>...</td>\n",
       "      <td>...</td>\n",
       "      <td>...</td>\n",
       "      <td>...</td>\n",
       "      <td>...</td>\n",
       "      <td>...</td>\n",
       "      <td>...</td>\n",
       "      <td>...</td>\n",
       "      <td>...</td>\n",
       "      <td>...</td>\n",
       "      <td>...</td>\n",
       "    </tr>\n",
       "    <tr>\n",
       "      <th>209875</th>\n",
       "      <td>2020-09-17 18:52:16+0000</td>\n",
       "      <td>2020-09-17 11:52:16-0700</td>\n",
       "      <td>1.600369e+09</td>\n",
       "      <td>2301.4</td>\n",
       "      <td>21.454137</td>\n",
       "      <td>2.57</td>\n",
       "      <td>0</td>\n",
       "      <td>0</td>\n",
       "      <td>0</td>\n",
       "      <td>0</td>\n",
       "      <td>...</td>\n",
       "      <td>0</td>\n",
       "      <td>0</td>\n",
       "      <td>0</td>\n",
       "      <td>0</td>\n",
       "      <td>0</td>\n",
       "      <td>0</td>\n",
       "      <td>0</td>\n",
       "      <td>0</td>\n",
       "      <td>74</td>\n",
       "      <td>0.0</td>\n",
       "    </tr>\n",
       "    <tr>\n",
       "      <th>209876</th>\n",
       "      <td>2020-09-17 18:57:16+0000</td>\n",
       "      <td>2020-09-17 11:57:16-0700</td>\n",
       "      <td>1.600369e+09</td>\n",
       "      <td>2332.0</td>\n",
       "      <td>21.596296</td>\n",
       "      <td>2.57</td>\n",
       "      <td>0</td>\n",
       "      <td>0</td>\n",
       "      <td>0</td>\n",
       "      <td>0</td>\n",
       "      <td>...</td>\n",
       "      <td>0</td>\n",
       "      <td>0</td>\n",
       "      <td>0</td>\n",
       "      <td>0</td>\n",
       "      <td>0</td>\n",
       "      <td>0</td>\n",
       "      <td>0</td>\n",
       "      <td>0</td>\n",
       "      <td>72</td>\n",
       "      <td>0.0</td>\n",
       "    </tr>\n",
       "    <tr>\n",
       "      <th>209877</th>\n",
       "      <td>2020-09-17 19:02:16+0000</td>\n",
       "      <td>2020-09-17 12:02:16-0700</td>\n",
       "      <td>1.600369e+09</td>\n",
       "      <td>2310.0</td>\n",
       "      <td>21.494185</td>\n",
       "      <td>2.57</td>\n",
       "      <td>0</td>\n",
       "      <td>0</td>\n",
       "      <td>0</td>\n",
       "      <td>0</td>\n",
       "      <td>...</td>\n",
       "      <td>0</td>\n",
       "      <td>0</td>\n",
       "      <td>0</td>\n",
       "      <td>0</td>\n",
       "      <td>0</td>\n",
       "      <td>1</td>\n",
       "      <td>0</td>\n",
       "      <td>0</td>\n",
       "      <td>73</td>\n",
       "      <td>0.0</td>\n",
       "    </tr>\n",
       "    <tr>\n",
       "      <th>209878</th>\n",
       "      <td>2020-09-17 19:07:16+0000</td>\n",
       "      <td>2020-09-17 12:07:16-0700</td>\n",
       "      <td>1.600370e+09</td>\n",
       "      <td>2316.4</td>\n",
       "      <td>21.523940</td>\n",
       "      <td>2.57</td>\n",
       "      <td>0</td>\n",
       "      <td>0</td>\n",
       "      <td>0</td>\n",
       "      <td>0</td>\n",
       "      <td>...</td>\n",
       "      <td>0</td>\n",
       "      <td>0</td>\n",
       "      <td>0</td>\n",
       "      <td>0</td>\n",
       "      <td>0</td>\n",
       "      <td>0</td>\n",
       "      <td>0</td>\n",
       "      <td>0</td>\n",
       "      <td>68</td>\n",
       "      <td>0.0</td>\n",
       "    </tr>\n",
       "    <tr>\n",
       "      <th>209879</th>\n",
       "      <td>2020-09-17 19:12:16+0000</td>\n",
       "      <td>2020-09-17 12:12:16-0700</td>\n",
       "      <td>1.600370e+09</td>\n",
       "      <td>2322.2</td>\n",
       "      <td>21.550870</td>\n",
       "      <td>2.57</td>\n",
       "      <td>0</td>\n",
       "      <td>0</td>\n",
       "      <td>0</td>\n",
       "      <td>0</td>\n",
       "      <td>...</td>\n",
       "      <td>0</td>\n",
       "      <td>0</td>\n",
       "      <td>0</td>\n",
       "      <td>0</td>\n",
       "      <td>0</td>\n",
       "      <td>0</td>\n",
       "      <td>0</td>\n",
       "      <td>0</td>\n",
       "      <td>64</td>\n",
       "      <td>0.0</td>\n",
       "    </tr>\n",
       "  </tbody>\n",
       "</table>\n",
       "<p>9071 rows × 1031 columns</p>\n",
       "</div>"
      ],
      "text/plain": [
       "                  deviceTime_utc          deviceTime_local  deviceTime_unix  \\\n",
       "200809  2020-08-17 07:01:09+0000  2020-08-17 00:01:09-0700     1.597648e+09   \n",
       "200810  2020-08-17 07:06:09+0000  2020-08-17 00:06:09-0700     1.597648e+09   \n",
       "200811  2020-08-17 07:11:09+0000  2020-08-17 00:11:09-0700     1.597648e+09   \n",
       "200812  2020-08-17 07:16:09+0000  2020-08-17 00:16:09-0700     1.597649e+09   \n",
       "200813  2020-08-17 07:21:09+0000  2020-08-17 00:21:09-0700     1.597649e+09   \n",
       "...                          ...                       ...              ...   \n",
       "209875  2020-09-17 18:52:16+0000  2020-09-17 11:52:16-0700     1.600369e+09   \n",
       "209876  2020-09-17 18:57:16+0000  2020-09-17 11:57:16-0700     1.600369e+09   \n",
       "209877  2020-09-17 19:02:16+0000  2020-09-17 12:02:16-0700     1.600369e+09   \n",
       "209878  2020-09-17 19:07:16+0000  2020-09-17 12:07:16-0700     1.600370e+09   \n",
       "209879  2020-09-17 19:12:16+0000  2020-09-17 12:12:16-0700     1.600370e+09   \n",
       "\n",
       "           cpm   cpmError  keV_per_ch  0  1  2  3  ...  1015  1016  1017  \\\n",
       "200809  2323.6  21.557365        2.57  0  0  0  0  ...     0     0     0   \n",
       "200810  2335.4  21.612034        2.57  0  0  0  0  ...     0     0     0   \n",
       "200811  2320.8  21.544373        2.57  0  0  0  0  ...     0     0     0   \n",
       "200812  2260.6  21.263114        2.57  0  0  0  0  ...     0     0     0   \n",
       "200813  2274.8  21.329791        2.57  0  0  0  0  ...     0     0     0   \n",
       "...        ...        ...         ... .. .. .. ..  ...   ...   ...   ...   \n",
       "209875  2301.4  21.454137        2.57  0  0  0  0  ...     0     0     0   \n",
       "209876  2332.0  21.596296        2.57  0  0  0  0  ...     0     0     0   \n",
       "209877  2310.0  21.494185        2.57  0  0  0  0  ...     0     0     0   \n",
       "209878  2316.4  21.523940        2.57  0  0  0  0  ...     0     0     0   \n",
       "209879  2322.2  21.550870        2.57  0  0  0  0  ...     0     0     0   \n",
       "\n",
       "        1018  1019  1020  1021  1022  1023  error_flag  \n",
       "200809     0     0     1     0     0    72         0.0  \n",
       "200810     0     0     1     0     0    67         0.0  \n",
       "200811     0     0     0     0     0    63         0.0  \n",
       "200812     0     0     0     0     0    56         0.0  \n",
       "200813     0     0     0     0     0    72         0.0  \n",
       "...      ...   ...   ...   ...   ...   ...         ...  \n",
       "209875     0     0     0     0     0    74         0.0  \n",
       "209876     0     0     0     0     0    72         0.0  \n",
       "209877     0     0     1     0     0    73         0.0  \n",
       "209878     0     0     0     0     0    68         0.0  \n",
       "209879     0     0     0     0     0    64         0.0  \n",
       "\n",
       "[9071 rows x 1031 columns]"
      ]
     },
     "execution_count": 36,
     "metadata": {},
     "output_type": "execute_result"
    }
   ],
   "source": [
    "time_mask = data_d3s['deviceTime_local']>'2020-08-17 00:00:00-07:00'\n",
    "month_data_d3s = data_d3s[time_mask]\n",
    "month_data_d3s"
   ]
  },
  {
   "cell_type": "code",
   "execution_count": 38,
   "metadata": {},
   "outputs": [
    {
     "data": {
      "text/plain": [
       "(0.07832615702853017, 9.351619920610551e-14)"
      ]
     },
     "execution_count": 38,
     "metadata": {},
     "output_type": "execute_result"
    }
   ],
   "source": [
    "scipy.stats.pearsonr(month_data[\"cpm\"].values, \n",
    "                     month_data_d3s[\"cpm\"].values[:-50])"
   ]
  },
  {
   "cell_type": "code",
   "execution_count": 39,
   "metadata": {},
   "outputs": [
    {
     "data": {
      "image/png": "[encoded data removed]",
      "text/plain": [
       "<Figure size 432x288 with 1 Axes>"
      ]
     },
     "metadata": {
      "needs_background": "light"
     },
     "output_type": "display_data"
    }
   ],
   "source": [
    "plt.scatter(month_data[\"cpm\"].values[:100],month_data_d3s[\"cpm\"].values[:100])\n",
    "plt.show()"
   ]
  },
  {
   "cell_type": "code",
   "execution_count": null,
   "metadata": {},
   "outputs": [],
   "source": []
  }
 ],
 "metadata": {
  "kernelspec": {
   "display_name": "Python 3",
   "language": "python",
   "name": "python3"
  },
  "language_info": {
   "codemirror_mode": {
    "name": "ipython",
    "version": 3
   },
   "file_extension": ".py",
   "mimetype": "text/x-python",
   "name": "python",
   "nbconvert_exporter": "python",
   "pygments_lexer": "ipython3",
   "version": "3.7.3"
  }
 },
 "nbformat": 4,
 "nbformat_minor": 4
}
