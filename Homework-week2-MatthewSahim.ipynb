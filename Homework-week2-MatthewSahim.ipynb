{
 "cells": [
  {
   "cell_type": "raw",
   "metadata": {},
   "source": [
    "1. How radioactive are humans?\n",
    "1.a. Assume an average human mass of 70kg. What is the activity (Bq) of that person?\n",
    "\n",
    "    Hints:\n",
    "        What elements(isotopes) in our body produce radiation that actually escapes our body?\n",
    "        How much of our body is made up of those elements?\n",
    "            Don’t forget to consider the natural abundance of the unstable isotopes\n",
    "        How much activity will that lead to?\n",
    "            Don’t forget about branching ratios\n",
    "\n",
    "1.b. How radioactive are you?\n",
    "\n",
    "    Hint: make use of specific activity\n",
    "    You don’t have to use your actual mass\n",
    "\n",
    "1.c. Provide references\n",
    "\n",
    "    Where did you get the relevant numbers that went in to your calculations?\n",
    "    Include your references in Markdown\n",
    "\n",
    "2. What is the activity from a 120g (medium size) banana?\n",
    "\n",
    "    Neglect the impact of the banana peel in your answers - assume a uniform composition and assume you will injest the entire banana.\n",
    "    Composition of bananas:\n",
    "        Potassium (K)\n",
    "        Vitamin B6 (C8H11NO3)\n",
    "        Vitamin C (C6H8O6)\n",
    "        Isoamyl acetate (C7H14O2)\n",
    "        Pectin (C6H10O7)\n",
    "    Check nutrition information\n",
    "\n",
    "2.a. Which of the above components of the banana composition will contribute significantly to your answer and why?\n",
    "2.b. What is the activity just from gamma radiation?\n",
    "2.c. Assuming no self-shielding of electrons (all electrons produced escape the banana), what is the activity just from electrons?\n",
    "2.d. What is the total activity of the banana?\n",
    "2.e. When you purchase the banana, how much of the activity from the banana are you being exposed to?\n",
    "2.f. When you eat the banana, how much of the activity are you being exposed to?"
   ]
  },
  {
   "cell_type": "code",
   "execution_count": null,
   "metadata": {},
   "outputs": [],
   "source": []
  },
  {
   "cell_type": "raw",
   "metadata": {},
   "source": [
    "1. How radioactive are humans?\n",
    "- Everyday, humans intake radioactive materials through the atmosphere and the food we eat. As carbon based organisms, we contain Carbon-14 (a radioactive isotope) within us. An essential element to our bodily functions that we consume is potassium. Potassium also has a radioactive isotope of Potassium-40. WIthin the air we breathe contains other radioactive isotopes such as Radon-226 and Radon-228. Other elements such as Lead-210 and Uranium-238 can be found in foods we eat in addition. All these elements and more add up to a radioactivity equal to the sum of these individually radioactive isotopes."
   ]
  },
  {
   "cell_type": "raw",
   "metadata": {},
   "source": [
    "1.a. Assume an average human mass of 70kg. What is the activity (Bq) of that person?\n",
    "\n",
    "- A 70 kg average human body contains about 7.0 x 10^27 atoms. The human body consists of ~65% oxygen, 18% carbon, 10% hydrogen, 3% nitrogen, and various trace elements. Two essential elements that are radioactive are Potassium-40 and Carbon-14. \n",
    "    Potassium-40 in the body is based on its natural abundance of 0.012% of all potassium. Given half-life 1.28 x 10^9 years, the specific activity of natural potassium is 30.5 kBq. Since the potassium content of the body is ~0.2%, the amount of K-40 in a 70 kg person would be about 4.27 kBq. \n",
    "    Carbon-14 in the body is based on there being one C-14 atom for every 10^12 C-12 atoms in living organisms. Given a half-life of 5,730 years, this results in a specific activity of 0.19 Bq of carbon. Since carbon is 18% of the body weight, the amount of C-14 in a 70 kg person would be about 2.39 kBq. \n",
    "    Adding the activity of K-40 and C-14 gives us 4.27 kBq + 2.39kBq resulting in 6.66 kBq of a 70 kg person between these two essential elements."
   ]
  },
  {
   "cell_type": "raw",
   "metadata": {},
   "source": [
    "1.b. How radioactive are you?\n",
    "- As a 65 kg individual, I would radiate 65/70 of that of a 70 kg average human or 6.18 Bq."
   ]
  },
  {
   "cell_type": "raw",
   "metadata": {},
   "source": [
    "1.c. Provide references\n",
    "- https://education.jlab.org/qa/mathatom_04.html \n",
    "- https://askabiologist.asu.edu/content/atoms-life"
   ]
  },
  {
   "cell_type": "raw",
   "metadata": {},
   "source": [
    "2. What is the activity from a 120g (medium size) banana?\n",
    "- A medium sized 120g banana contains about 422 mg of Potassium. Since Potassium-40 is about 0.012% of all potassium, this gives us 5.06 mg of radioactive Potassium-40. This amount calculated with the specific activity of 30.5 kBq in potassium gives 15.43 Bq."
   ]
  },
  {
   "cell_type": "raw",
   "metadata": {},
   "source": [
    "# 2.a. Which of the above components of the banana composition will contribute significantly to your answer and why? \n",
    "- The component of a banana's composition that contributes significantly is Potassium-40. Banana's are rich in Potassium which has Potassium-40 as a radioactive isotope. As Potassium-40 decays, it release beta rays which account for a majority of banana activity (89%)."
   ]
  },
  {
   "cell_type": "raw",
   "metadata": {},
   "source": [
    "2.b. What is the activity just from gamma radiation?\n",
    "- The activity just from gamma radiation can be calculated using the branching ratios of potassium. Since 10.66% of decay is gamma, just gamma radiation would amount to 1.64 Bq."
   ]
  },
  {
   "cell_type": "raw",
   "metadata": {},
   "source": [
    "2.c. Assuming no self-shielding of electrons (all electrons produced escape the banana), what is the activity just from electrons?\n",
    "- The activity just from electrons is 0.2% of activity which results in 0.03 Bq."
   ]
  },
  {
   "cell_type": "raw",
   "metadata": {},
   "source": [
    "2.d. What is the total activity of the banana? \n",
    "- The total activity would be the sum of decay from Potassium-40 and Carbon-14 since bananas are plants. Since the activity from potassium in the banana was already calculated to 15.43 Bq, the activity from carbon  (assuming it has a similar composition of carbon in humans as 18%) would amount to 4.10 Bq. Adding the activity from these two results in 19.53 Bq."
   ]
  },
  {
   "cell_type": "raw",
   "metadata": {},
   "source": [
    "2.e. When you purchase the banana, how much of the activity from the banana are you being exposed to?\n",
    "- When purchasing a banana, a person is exposed to all of the activity given uniform composition and neglection of the banana peel. Activity would amount to 19.53 Bq minus any activy that was blocked by clothing."
   ]
  },
  {
   "cell_type": "raw",
   "metadata": {},
   "source": [
    "2.f. When you eat the banana, how much of the activity are you being exposed to?\n",
    " - When consuming the banana, you are exposed to the entirety of the activity without any blockage. The body digests the banana whole resulting in exposure to all 19.53 Bq of activity."
   ]
  },
  {
   "cell_type": "code",
   "execution_count": null,
   "metadata": {},
   "outputs": [],
   "source": []
  }
 ],
 "metadata": {
  "kernelspec": {
   "display_name": "Python 3",
   "language": "python",
   "name": "python3"
  },
  "language_info": {
   "codemirror_mode": {
    "name": "ipython",
    "version": 2
   },
   "file_extension": ".py",
   "mimetype": "text/x-python",
   "name": "python",
   "nbconvert_exporter": "python",
   "pygments_lexer": "ipython2",
   "version": "2.7.16"
  }
 },
 "nbformat": 4,
 "nbformat_minor": 2
}
