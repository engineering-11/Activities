{
 "cells": [
  {
   "cell_type": "code",
   "execution_count": 9,
   "id": "3e2ecd44",
   "metadata": {},
   "outputs": [],
   "source": [
    "a=5"
   ]
  },
  {
   "cell_type": "code",
   "execution_count": 13,
   "id": "556710b8",
   "metadata": {},
   "outputs": [
    {
     "name": "stdout",
     "output_type": "stream",
     "text": [
      "5.0\n"
     ]
    }
   ],
   "source": [
    "print(a)"
   ]
  },
  {
   "cell_type": "code",
   "execution_count": 3,
   "id": "f86dd908",
   "metadata": {},
   "outputs": [
    {
     "data": {
      "text/plain": [
       "5"
      ]
     },
     "execution_count": 3,
     "metadata": {},
     "output_type": "execute_result"
    }
   ],
   "source": [
    "a"
   ]
  },
  {
   "cell_type": "code",
   "execution_count": 4,
   "id": "18c79aed",
   "metadata": {},
   "outputs": [],
   "source": [
    "b = 5"
   ]
  },
  {
   "cell_type": "code",
   "execution_count": 5,
   "id": "c31c7e0e",
   "metadata": {},
   "outputs": [
    {
     "name": "stdout",
     "output_type": "stream",
     "text": [
      "10\n"
     ]
    }
   ],
   "source": [
    "c = a+b\n",
    "print(c)"
   ]
  },
  {
   "cell_type": "code",
   "execution_count": 8,
   "id": "785855c8",
   "metadata": {},
   "outputs": [],
   "source": [
    "data_variable = 5"
   ]
  },
  {
   "cell_type": "code",
   "execution_count": 12,
   "id": "e1b91982",
   "metadata": {},
   "outputs": [
    {
     "data": {
      "text/plain": [
       "float"
      ]
     },
     "execution_count": 12,
     "metadata": {},
     "output_type": "execute_result"
    }
   ],
   "source": [
    "type(a)"
   ]
  },
  {
   "cell_type": "code",
   "execution_count": 11,
   "id": "2604b5b7",
   "metadata": {},
   "outputs": [],
   "source": [
    "a = 5.0"
   ]
  },
  {
   "cell_type": "code",
   "execution_count": 15,
   "id": "3b0c42ff",
   "metadata": {},
   "outputs": [
    {
     "name": "stdout",
     "output_type": "stream",
     "text": [
      "10\n"
     ]
    }
   ],
   "source": [
    "print(c)"
   ]
  },
  {
   "cell_type": "code",
   "execution_count": 16,
   "id": "9b750ba2",
   "metadata": {},
   "outputs": [
    {
     "name": "stdout",
     "output_type": "stream",
     "text": [
      "10.0\n"
     ]
    }
   ],
   "source": [
    "d = a+b\n",
    "print(d)"
   ]
  },
  {
   "cell_type": "code",
   "execution_count": 14,
   "id": "19218552",
   "metadata": {},
   "outputs": [
    {
     "name": "stdout",
     "output_type": "stream",
     "text": [
      "Hello World!\n"
     ]
    }
   ],
   "source": [
    "hello = \"Hello World!\"\n",
    "print(hello)"
   ]
  },
  {
   "cell_type": "code",
   "execution_count": 17,
   "id": "edbfe887",
   "metadata": {},
   "outputs": [
    {
     "data": {
      "text/plain": [
       "12"
      ]
     },
     "execution_count": 17,
     "metadata": {},
     "output_type": "execute_result"
    }
   ],
   "source": [
    "len(hello)"
   ]
  },
  {
   "cell_type": "code",
   "execution_count": 18,
   "id": "1565a9fa",
   "metadata": {},
   "outputs": [
    {
     "ename": "TypeError",
     "evalue": "object of type 'float' has no len()",
     "output_type": "error",
     "traceback": [
      "\u001b[1;31m---------------------------------------------------------------------------\u001b[0m",
      "\u001b[1;31mTypeError\u001b[0m                                 Traceback (most recent call last)",
      "\u001b[1;32m<ipython-input-18-1a2e6ec5f1e3>\u001b[0m in \u001b[0;36m<module>\u001b[1;34m\u001b[0m\n\u001b[1;32m----> 1\u001b[1;33m \u001b[0mlen\u001b[0m\u001b[1;33m(\u001b[0m\u001b[0ma\u001b[0m\u001b[1;33m)\u001b[0m\u001b[1;33m\u001b[0m\u001b[1;33m\u001b[0m\u001b[0m\n\u001b[0m",
      "\u001b[1;31mTypeError\u001b[0m: object of type 'float' has no len()"
     ]
    }
   ],
   "source": [
    "len(a)"
   ]
  },
  {
   "cell_type": "code",
   "execution_count": 22,
   "id": "c72ad5b3",
   "metadata": {},
   "outputs": [
    {
     "data": {
      "text/plain": [
       "'H'"
      ]
     },
     "execution_count": 22,
     "metadata": {},
     "output_type": "execute_result"
    }
   ],
   "source": [
    "hello[0]"
   ]
  },
  {
   "cell_type": "code",
   "execution_count": 23,
   "id": "d3d2a462",
   "metadata": {},
   "outputs": [
    {
     "data": {
      "text/plain": [
       "'!'"
      ]
     },
     "execution_count": 23,
     "metadata": {},
     "output_type": "execute_result"
    }
   ],
   "source": [
    "hello[-1]"
   ]
  },
  {
   "cell_type": "code",
   "execution_count": 25,
   "id": "5f392d2c",
   "metadata": {},
   "outputs": [
    {
     "data": {
      "text/plain": [
       "'Hlo'"
      ]
     },
     "execution_count": 25,
     "metadata": {},
     "output_type": "execute_result"
    }
   ],
   "source": [
    "# slice - [start:end:step-size]\n",
    "hello[0:5:2]"
   ]
  },
  {
   "cell_type": "code",
   "execution_count": 26,
   "id": "ab7bec83",
   "metadata": {},
   "outputs": [
    {
     "name": "stdout",
     "output_type": "stream",
     "text": [
      "[0, 1, 2, 3, 4, 5, 6]\n"
     ]
    }
   ],
   "source": [
    "data = [0,1,2,3,4,5,6]\n",
    "print(data)"
   ]
  },
  {
   "cell_type": "code",
   "execution_count": 27,
   "id": "ec364237",
   "metadata": {},
   "outputs": [
    {
     "data": {
      "text/plain": [
       "7"
      ]
     },
     "execution_count": 27,
     "metadata": {},
     "output_type": "execute_result"
    }
   ],
   "source": [
    "len(data)"
   ]
  },
  {
   "cell_type": "code",
   "execution_count": 28,
   "id": "72361522",
   "metadata": {},
   "outputs": [],
   "source": [
    "data1 = (0,1,2,3,4,5)"
   ]
  },
  {
   "cell_type": "code",
   "execution_count": 29,
   "id": "e1b4e6e2",
   "metadata": {},
   "outputs": [
    {
     "data": {
      "text/plain": [
       "list"
      ]
     },
     "execution_count": 29,
     "metadata": {},
     "output_type": "execute_result"
    }
   ],
   "source": [
    "type(data)"
   ]
  },
  {
   "cell_type": "code",
   "execution_count": 30,
   "id": "4c2d6ac9",
   "metadata": {},
   "outputs": [
    {
     "data": {
      "text/plain": [
       "tuple"
      ]
     },
     "execution_count": 30,
     "metadata": {},
     "output_type": "execute_result"
    }
   ],
   "source": [
    "type(data1)"
   ]
  },
  {
   "cell_type": "code",
   "execution_count": 31,
   "id": "62f7b6bc",
   "metadata": {},
   "outputs": [],
   "source": [
    "import numpy as np"
   ]
  },
  {
   "cell_type": "code",
   "execution_count": 32,
   "id": "906edf8f",
   "metadata": {},
   "outputs": [],
   "source": [
    "data2 = np.array(data)"
   ]
  },
  {
   "cell_type": "code",
   "execution_count": 33,
   "id": "f142384d",
   "metadata": {},
   "outputs": [
    {
     "name": "stdout",
     "output_type": "stream",
     "text": [
      "[0 1 2 3 4 5 6]\n"
     ]
    }
   ],
   "source": [
    "print(data2)"
   ]
  },
  {
   "cell_type": "code",
   "execution_count": 34,
   "id": "85deef50",
   "metadata": {},
   "outputs": [
    {
     "data": {
      "text/plain": [
       "numpy.ndarray"
      ]
     },
     "execution_count": 34,
     "metadata": {},
     "output_type": "execute_result"
    }
   ],
   "source": [
    "type(data2)"
   ]
  },
  {
   "cell_type": "code",
   "execution_count": 35,
   "id": "c7e11b0c",
   "metadata": {},
   "outputs": [],
   "source": [
    "data3 = np.array([3,4,5,6,7,8,9])"
   ]
  },
  {
   "cell_type": "code",
   "execution_count": 36,
   "id": "cca5bbb7",
   "metadata": {},
   "outputs": [],
   "source": [
    "list1 = [0,1,2,3,4,5,6]\n",
    "list2 = [3,4,5,6,7,8,9]"
   ]
  },
  {
   "cell_type": "code",
   "execution_count": 37,
   "id": "5481494d",
   "metadata": {},
   "outputs": [
    {
     "data": {
      "text/plain": [
       "[0, 1, 2, 3, 4, 5, 6, 3, 4, 5, 6, 7, 8, 9]"
      ]
     },
     "execution_count": 37,
     "metadata": {},
     "output_type": "execute_result"
    }
   ],
   "source": [
    "list1 + list2"
   ]
  },
  {
   "cell_type": "code",
   "execution_count": 38,
   "id": "b39c68a9",
   "metadata": {},
   "outputs": [],
   "source": [
    "npdata = data2 + data3\n"
   ]
  },
  {
   "cell_type": "code",
   "execution_count": 41,
   "id": "4e0519af",
   "metadata": {},
   "outputs": [
    {
     "name": "stdout",
     "output_type": "stream",
     "text": [
      "[ 3  5  7  9 11 13 15]\n"
     ]
    }
   ],
   "source": [
    "print(npdata)"
   ]
  },
  {
   "cell_type": "code",
   "execution_count": 44,
   "id": "d3feca84",
   "metadata": {},
   "outputs": [],
   "source": [
    "npdata2 = data2*10"
   ]
  },
  {
   "cell_type": "code",
   "execution_count": 42,
   "id": "ad1161fe",
   "metadata": {},
   "outputs": [
    {
     "data": {
      "text/plain": [
       "array([ 0,  4, 10, 18, 28, 40, 54])"
      ]
     },
     "execution_count": 42,
     "metadata": {},
     "output_type": "execute_result"
    }
   ],
   "source": [
    "data2*data3"
   ]
  },
  {
   "cell_type": "code",
   "execution_count": 43,
   "id": "5cb587c7",
   "metadata": {},
   "outputs": [
    {
     "data": {
      "text/plain": [
       "array([0, 1, 2, 3, 4, 5, 6])"
      ]
     },
     "execution_count": 43,
     "metadata": {},
     "output_type": "execute_result"
    }
   ],
   "source": [
    "data2"
   ]
  },
  {
   "cell_type": "code",
   "execution_count": 45,
   "id": "d92bf0c0",
   "metadata": {},
   "outputs": [
    {
     "name": "stdout",
     "output_type": "stream",
     "text": [
      "[ 0 10 20 30 40 50 60]\n"
     ]
    }
   ],
   "source": [
    "print(npdata2)"
   ]
  },
  {
   "cell_type": "code",
   "execution_count": 46,
   "id": "92e6c52c",
   "metadata": {},
   "outputs": [
    {
     "data": {
      "text/plain": [
       "7"
      ]
     },
     "execution_count": 46,
     "metadata": {},
     "output_type": "execute_result"
    }
   ],
   "source": [
    "len(data2)"
   ]
  },
  {
   "cell_type": "code",
   "execution_count": 47,
   "id": "ce82808a",
   "metadata": {},
   "outputs": [],
   "source": [
    "data4 = np.array([2,3,4])"
   ]
  },
  {
   "cell_type": "code",
   "execution_count": 48,
   "id": "810052c9",
   "metadata": {},
   "outputs": [
    {
     "ename": "ValueError",
     "evalue": "operands could not be broadcast together with shapes (7,) (3,) ",
     "output_type": "error",
     "traceback": [
      "\u001b[1;31m---------------------------------------------------------------------------\u001b[0m",
      "\u001b[1;31mValueError\u001b[0m                                Traceback (most recent call last)",
      "\u001b[1;32m<ipython-input-48-423a8abaa59f>\u001b[0m in \u001b[0;36m<module>\u001b[1;34m\u001b[0m\n\u001b[1;32m----> 1\u001b[1;33m \u001b[0mdata2\u001b[0m\u001b[1;33m+\u001b[0m\u001b[0mdata4\u001b[0m\u001b[1;33m\u001b[0m\u001b[1;33m\u001b[0m\u001b[0m\n\u001b[0m",
      "\u001b[1;31mValueError\u001b[0m: operands could not be broadcast together with shapes (7,) (3,) "
     ]
    }
   ],
   "source": [
    "data2+data4"
   ]
  },
  {
   "cell_type": "code",
   "execution_count": 49,
   "id": "b73975fd",
   "metadata": {},
   "outputs": [
    {
     "data": {
      "text/plain": [
       "7"
      ]
     },
     "execution_count": 49,
     "metadata": {},
     "output_type": "execute_result"
    }
   ],
   "source": [
    "data2.size"
   ]
  },
  {
   "cell_type": "code",
   "execution_count": 50,
   "id": "783d2514",
   "metadata": {},
   "outputs": [
    {
     "data": {
      "text/plain": [
       "7"
      ]
     },
     "execution_count": 50,
     "metadata": {},
     "output_type": "execute_result"
    }
   ],
   "source": [
    "len(data2)"
   ]
  },
  {
   "cell_type": "code",
   "execution_count": 55,
   "id": "7cf44df6",
   "metadata": {},
   "outputs": [],
   "source": [
    "list2d = [[0,1,2,3],[3,4,5,6]]"
   ]
  },
  {
   "cell_type": "code",
   "execution_count": 52,
   "id": "cce44834",
   "metadata": {},
   "outputs": [
    {
     "name": "stdout",
     "output_type": "stream",
     "text": [
      "[[0, 1, 2, 3], [3, 4, 5, 6, 7]]\n"
     ]
    }
   ],
   "source": [
    "print(list2d)"
   ]
  },
  {
   "cell_type": "code",
   "execution_count": 61,
   "id": "54a97f75",
   "metadata": {},
   "outputs": [],
   "source": [
    "np2darray = np.array(list2d)"
   ]
  },
  {
   "cell_type": "code",
   "execution_count": 62,
   "id": "def2134e",
   "metadata": {},
   "outputs": [
    {
     "data": {
      "text/plain": [
       "array([[0, 1, 2, 3],\n",
       "       [3, 4, 5, 6]])"
      ]
     },
     "execution_count": 62,
     "metadata": {},
     "output_type": "execute_result"
    }
   ],
   "source": [
    "np2darray"
   ]
  },
  {
   "cell_type": "code",
   "execution_count": 63,
   "id": "b67a7afe",
   "metadata": {},
   "outputs": [
    {
     "data": {
      "text/plain": [
       "8"
      ]
     },
     "execution_count": 63,
     "metadata": {},
     "output_type": "execute_result"
    }
   ],
   "source": [
    "np2darray.size"
   ]
  },
  {
   "cell_type": "code",
   "execution_count": 64,
   "id": "401f7b1a",
   "metadata": {},
   "outputs": [
    {
     "data": {
      "text/plain": [
       "(2, 4)"
      ]
     },
     "execution_count": 64,
     "metadata": {},
     "output_type": "execute_result"
    }
   ],
   "source": [
    "np2darray.shape"
   ]
  },
  {
   "cell_type": "code",
   "execution_count": 65,
   "id": "f5c79559",
   "metadata": {},
   "outputs": [
    {
     "data": {
      "text/plain": [
       "array([3, 4, 5, 6])"
      ]
     },
     "execution_count": 65,
     "metadata": {},
     "output_type": "execute_result"
    }
   ],
   "source": [
    "np2darray[1]"
   ]
  },
  {
   "cell_type": "code",
   "execution_count": 66,
   "id": "f42bda1e",
   "metadata": {},
   "outputs": [
    {
     "data": {
      "text/plain": [
       "5"
      ]
     },
     "execution_count": 66,
     "metadata": {},
     "output_type": "execute_result"
    }
   ],
   "source": [
    "np2darray[1,2]"
   ]
  },
  {
   "cell_type": "code",
   "execution_count": 67,
   "id": "7cc505e3",
   "metadata": {},
   "outputs": [
    {
     "data": {
      "text/plain": [
       "5"
      ]
     },
     "execution_count": 67,
     "metadata": {},
     "output_type": "execute_result"
    }
   ],
   "source": [
    "np2darray[1][2]"
   ]
  },
  {
   "cell_type": "code",
   "execution_count": 68,
   "id": "53b9d272",
   "metadata": {},
   "outputs": [
    {
     "data": {
      "text/plain": [
       "array([[0, 1]])"
      ]
     },
     "execution_count": 68,
     "metadata": {},
     "output_type": "execute_result"
    }
   ],
   "source": [
    "np2darray[0:1,0:2]"
   ]
  },
  {
   "cell_type": "code",
   "execution_count": 70,
   "id": "f8a69a21",
   "metadata": {},
   "outputs": [
    {
     "data": {
      "text/plain": [
       "array([1.5, 2.5, 3.5, 4.5])"
      ]
     },
     "execution_count": 70,
     "metadata": {},
     "output_type": "execute_result"
    }
   ],
   "source": [
    "np.mean(np2darray,axis=0)"
   ]
  },
  {
   "cell_type": "code",
   "execution_count": 71,
   "id": "84da3ec9",
   "metadata": {},
   "outputs": [
    {
     "data": {
      "text/plain": [
       "array([1.5, 4.5])"
      ]
     },
     "execution_count": 71,
     "metadata": {},
     "output_type": "execute_result"
    }
   ],
   "source": [
    "np.mean(np2darray,axis=1)"
   ]
  },
  {
   "cell_type": "code",
   "execution_count": 72,
   "id": "0100413e",
   "metadata": {},
   "outputs": [],
   "source": [
    "import pandas as pd"
   ]
  },
  {
   "cell_type": "code",
   "execution_count": 73,
   "id": "f3dc4a4a",
   "metadata": {},
   "outputs": [],
   "source": [
    "data = {'Name':['Elan','Carlos','Marc','Mike'],\n",
    "        'Age':[24,12,45,53],\n",
    "        'Year':['Freshman','Freshman','Junior','Senior']}"
   ]
  },
  {
   "cell_type": "code",
   "execution_count": 75,
   "id": "295a243a",
   "metadata": {},
   "outputs": [
    {
     "data": {
      "text/plain": [
       "[24, 12, 45, 53]"
      ]
     },
     "execution_count": 75,
     "metadata": {},
     "output_type": "execute_result"
    }
   ],
   "source": [
    "data['Age']"
   ]
  },
  {
   "cell_type": "code",
   "execution_count": 76,
   "id": "70a6345a",
   "metadata": {},
   "outputs": [
    {
     "name": "stdout",
     "output_type": "stream",
     "text": [
      "     Name  Age      Year\n",
      "0    Elan   24  Freshman\n",
      "1  Carlos   12  Freshman\n",
      "2    Marc   45    Junior\n",
      "3    Mike   53    Senior\n"
     ]
    }
   ],
   "source": [
    "df = pd.DataFrame(data)\n",
    "print(df)"
   ]
  },
  {
   "cell_type": "code",
   "execution_count": 78,
   "id": "246c7d6e",
   "metadata": {},
   "outputs": [
    {
     "data": {
      "text/html": [
       "<div>\n",
       "<style scoped>\n",
       "    .dataframe tbody tr th:only-of-type {\n",
       "        vertical-align: middle;\n",
       "    }\n",
       "\n",
       "    .dataframe tbody tr th {\n",
       "        vertical-align: top;\n",
       "    }\n",
       "\n",
       "    .dataframe thead th {\n",
       "        text-align: right;\n",
       "    }\n",
       "</style>\n",
       "<table border=\"1\" class=\"dataframe\">\n",
       "  <thead>\n",
       "    <tr style=\"text-align: right;\">\n",
       "      <th></th>\n",
       "      <th>Name</th>\n",
       "      <th>Age</th>\n",
       "      <th>Year</th>\n",
       "    </tr>\n",
       "  </thead>\n",
       "  <tbody>\n",
       "    <tr>\n",
       "      <th>0</th>\n",
       "      <td>Elan</td>\n",
       "      <td>24</td>\n",
       "      <td>Freshman</td>\n",
       "    </tr>\n",
       "    <tr>\n",
       "      <th>1</th>\n",
       "      <td>Carlos</td>\n",
       "      <td>12</td>\n",
       "      <td>Freshman</td>\n",
       "    </tr>\n",
       "    <tr>\n",
       "      <th>2</th>\n",
       "      <td>Marc</td>\n",
       "      <td>45</td>\n",
       "      <td>Junior</td>\n",
       "    </tr>\n",
       "    <tr>\n",
       "      <th>3</th>\n",
       "      <td>Mike</td>\n",
       "      <td>53</td>\n",
       "      <td>Senior</td>\n",
       "    </tr>\n",
       "  </tbody>\n",
       "</table>\n",
       "</div>"
      ],
      "text/plain": [
       "     Name  Age      Year\n",
       "0    Elan   24  Freshman\n",
       "1  Carlos   12  Freshman\n",
       "2    Marc   45    Junior\n",
       "3    Mike   53    Senior"
      ]
     },
     "metadata": {},
     "output_type": "display_data"
    }
   ],
   "source": [
    "display(df)"
   ]
  },
  {
   "cell_type": "code",
   "execution_count": 83,
   "id": "48c51a99",
   "metadata": {},
   "outputs": [
    {
     "data": {
      "text/plain": [
       "array([24, 12, 45, 53], dtype=int64)"
      ]
     },
     "execution_count": 83,
     "metadata": {},
     "output_type": "execute_result"
    }
   ],
   "source": [
    "df['Age'].to_numpy()"
   ]
  },
  {
   "cell_type": "code",
   "execution_count": 98,
   "id": "5bbfa89a",
   "metadata": {},
   "outputs": [],
   "source": [
    "data_string = 'https://radwatch.berkeley.edu/test/tmp/dosenet/etch_roof.csv'\n",
    "\n",
    "# '/Users/ahanks/Downloads/etch_roof.csv'\n",
    "\n",
    "local_string = r'C:\\Users\\ahanks\\Downloads\\etch_roof.csv'"
   ]
  },
  {
   "cell_type": "code",
   "execution_count": 99,
   "id": "b1afaeb8",
   "metadata": {},
   "outputs": [],
   "source": [
    "df = pd.read_csv(local_string)"
   ]
  },
  {
   "cell_type": "code",
   "execution_count": 101,
   "id": "0937c6d5",
   "metadata": {},
   "outputs": [
    {
     "data": {
      "text/html": [
       "<div>\n",
       "<style scoped>\n",
       "    .dataframe tbody tr th:only-of-type {\n",
       "        vertical-align: middle;\n",
       "    }\n",
       "\n",
       "    .dataframe tbody tr th {\n",
       "        vertical-align: top;\n",
       "    }\n",
       "\n",
       "    .dataframe thead th {\n",
       "        text-align: right;\n",
       "    }\n",
       "</style>\n",
       "<table border=\"1\" class=\"dataframe\">\n",
       "  <thead>\n",
       "    <tr style=\"text-align: right;\">\n",
       "      <th></th>\n",
       "      <th>deviceTime_utc</th>\n",
       "      <th>deviceTime_local</th>\n",
       "      <th>deviceTime_unix</th>\n",
       "      <th>cpm</th>\n",
       "      <th>cpmError</th>\n",
       "      <th>error_flag</th>\n",
       "    </tr>\n",
       "  </thead>\n",
       "  <tbody>\n",
       "    <tr>\n",
       "      <th>0</th>\n",
       "      <td>2015-11-20 02:27:13+00:00</td>\n",
       "      <td>2015-11-19 18:27:13-08:00</td>\n",
       "      <td>1.447986e+09</td>\n",
       "      <td>4.0</td>\n",
       "      <td>0.894427</td>\n",
       "      <td>NaN</td>\n",
       "    </tr>\n",
       "    <tr>\n",
       "      <th>1</th>\n",
       "      <td>2015-11-20 02:32:13+00:00</td>\n",
       "      <td>2015-11-19 18:32:13-08:00</td>\n",
       "      <td>1.447987e+09</td>\n",
       "      <td>2.8</td>\n",
       "      <td>0.748331</td>\n",
       "      <td>NaN</td>\n",
       "    </tr>\n",
       "    <tr>\n",
       "      <th>2</th>\n",
       "      <td>2015-11-20 02:37:15+00:00</td>\n",
       "      <td>2015-11-19 18:37:15-08:00</td>\n",
       "      <td>1.447987e+09</td>\n",
       "      <td>3.4</td>\n",
       "      <td>0.824621</td>\n",
       "      <td>NaN</td>\n",
       "    </tr>\n",
       "    <tr>\n",
       "      <th>3</th>\n",
       "      <td>2015-11-20 02:42:15+00:00</td>\n",
       "      <td>2015-11-19 18:42:15-08:00</td>\n",
       "      <td>1.447987e+09</td>\n",
       "      <td>2.4</td>\n",
       "      <td>0.692820</td>\n",
       "      <td>NaN</td>\n",
       "    </tr>\n",
       "    <tr>\n",
       "      <th>4</th>\n",
       "      <td>2015-11-20 02:47:16+00:00</td>\n",
       "      <td>2015-11-19 18:47:16-08:00</td>\n",
       "      <td>1.447988e+09</td>\n",
       "      <td>3.4</td>\n",
       "      <td>0.824621</td>\n",
       "      <td>NaN</td>\n",
       "    </tr>\n",
       "    <tr>\n",
       "      <th>...</th>\n",
       "      <td>...</td>\n",
       "      <td>...</td>\n",
       "      <td>...</td>\n",
       "      <td>...</td>\n",
       "      <td>...</td>\n",
       "      <td>...</td>\n",
       "    </tr>\n",
       "    <tr>\n",
       "      <th>418555</th>\n",
       "      <td>2022-09-08 10:05:42+0000</td>\n",
       "      <td>2022-09-08 03:05:42-0700</td>\n",
       "      <td>1.662632e+09</td>\n",
       "      <td>2.8</td>\n",
       "      <td>0.748331</td>\n",
       "      <td>0.0</td>\n",
       "    </tr>\n",
       "    <tr>\n",
       "      <th>418556</th>\n",
       "      <td>2022-09-08 10:10:42+0000</td>\n",
       "      <td>2022-09-08 03:10:42-0700</td>\n",
       "      <td>1.662632e+09</td>\n",
       "      <td>2.8</td>\n",
       "      <td>0.748331</td>\n",
       "      <td>0.0</td>\n",
       "    </tr>\n",
       "    <tr>\n",
       "      <th>418557</th>\n",
       "      <td>2022-09-08 10:15:42+0000</td>\n",
       "      <td>2022-09-08 03:15:42-0700</td>\n",
       "      <td>1.662632e+09</td>\n",
       "      <td>3.6</td>\n",
       "      <td>0.848528</td>\n",
       "      <td>0.0</td>\n",
       "    </tr>\n",
       "    <tr>\n",
       "      <th>418558</th>\n",
       "      <td>2022-09-08 10:20:42+0000</td>\n",
       "      <td>2022-09-08 03:20:42-0700</td>\n",
       "      <td>1.662632e+09</td>\n",
       "      <td>2.8</td>\n",
       "      <td>0.748331</td>\n",
       "      <td>0.0</td>\n",
       "    </tr>\n",
       "    <tr>\n",
       "      <th>418559</th>\n",
       "      <td>2022-09-08 10:25:42+0000</td>\n",
       "      <td>2022-09-08 03:25:42-0700</td>\n",
       "      <td>1.662633e+09</td>\n",
       "      <td>3.0</td>\n",
       "      <td>0.774597</td>\n",
       "      <td>0.0</td>\n",
       "    </tr>\n",
       "  </tbody>\n",
       "</table>\n",
       "<p>418560 rows × 6 columns</p>\n",
       "</div>"
      ],
      "text/plain": [
       "                   deviceTime_utc           deviceTime_local  deviceTime_unix  \\\n",
       "0       2015-11-20 02:27:13+00:00  2015-11-19 18:27:13-08:00     1.447986e+09   \n",
       "1       2015-11-20 02:32:13+00:00  2015-11-19 18:32:13-08:00     1.447987e+09   \n",
       "2       2015-11-20 02:37:15+00:00  2015-11-19 18:37:15-08:00     1.447987e+09   \n",
       "3       2015-11-20 02:42:15+00:00  2015-11-19 18:42:15-08:00     1.447987e+09   \n",
       "4       2015-11-20 02:47:16+00:00  2015-11-19 18:47:16-08:00     1.447988e+09   \n",
       "...                           ...                        ...              ...   \n",
       "418555   2022-09-08 10:05:42+0000   2022-09-08 03:05:42-0700     1.662632e+09   \n",
       "418556   2022-09-08 10:10:42+0000   2022-09-08 03:10:42-0700     1.662632e+09   \n",
       "418557   2022-09-08 10:15:42+0000   2022-09-08 03:15:42-0700     1.662632e+09   \n",
       "418558   2022-09-08 10:20:42+0000   2022-09-08 03:20:42-0700     1.662632e+09   \n",
       "418559   2022-09-08 10:25:42+0000   2022-09-08 03:25:42-0700     1.662633e+09   \n",
       "\n",
       "        cpm  cpmError  error_flag  \n",
       "0       4.0  0.894427         NaN  \n",
       "1       2.8  0.748331         NaN  \n",
       "2       3.4  0.824621         NaN  \n",
       "3       2.4  0.692820         NaN  \n",
       "4       3.4  0.824621         NaN  \n",
       "...     ...       ...         ...  \n",
       "418555  2.8  0.748331         0.0  \n",
       "418556  2.8  0.748331         0.0  \n",
       "418557  3.6  0.848528         0.0  \n",
       "418558  2.8  0.748331         0.0  \n",
       "418559  3.0  0.774597         0.0  \n",
       "\n",
       "[418560 rows x 6 columns]"
      ]
     },
     "metadata": {},
     "output_type": "display_data"
    }
   ],
   "source": [
    "display(df)"
   ]
  },
  {
   "cell_type": "code",
   "execution_count": 108,
   "id": "1c813a9d",
   "metadata": {},
   "outputs": [
    {
     "data": {
      "text/plain": [
       "2.7039870030581046"
      ]
     },
     "execution_count": 108,
     "metadata": {},
     "output_type": "execute_result"
    }
   ],
   "source": [
    "np.mean(df['cpm'].to_numpy())"
   ]
  },
  {
   "cell_type": "code",
   "execution_count": 105,
   "id": "4652e687",
   "metadata": {},
   "outputs": [
    {
     "data": {
      "text/plain": [
       "2.7039870030581046"
      ]
     },
     "execution_count": 105,
     "metadata": {},
     "output_type": "execute_result"
    }
   ],
   "source": [
    "df['cpm'].mean()"
   ]
  },
  {
   "cell_type": "code",
   "execution_count": 106,
   "id": "8056ab26",
   "metadata": {},
   "outputs": [
    {
     "data": {
      "text/plain": [
       "0.9272380333333139"
      ]
     },
     "execution_count": 106,
     "metadata": {},
     "output_type": "execute_result"
    }
   ],
   "source": [
    "df['cpm'].std()"
   ]
  },
  {
   "cell_type": "code",
   "execution_count": 109,
   "id": "fd4cf132",
   "metadata": {},
   "outputs": [
    {
     "data": {
      "text/plain": [
       "0         4.0\n",
       "1         2.8\n",
       "2         3.4\n",
       "3         2.4\n",
       "4         3.4\n",
       "         ... \n",
       "418555    2.8\n",
       "418556    2.8\n",
       "418557    3.6\n",
       "418558    2.8\n",
       "418559    3.0\n",
       "Name: cpm, Length: 418560, dtype: float64"
      ]
     },
     "execution_count": 109,
     "metadata": {},
     "output_type": "execute_result"
    }
   ],
   "source": [
    "df.loc[:,'cpm']"
   ]
  },
  {
   "cell_type": "code",
   "execution_count": 110,
   "id": "73235c2e",
   "metadata": {},
   "outputs": [
    {
     "data": {
      "text/html": [
       "<div>\n",
       "<style scoped>\n",
       "    .dataframe tbody tr th:only-of-type {\n",
       "        vertical-align: middle;\n",
       "    }\n",
       "\n",
       "    .dataframe tbody tr th {\n",
       "        vertical-align: top;\n",
       "    }\n",
       "\n",
       "    .dataframe thead th {\n",
       "        text-align: right;\n",
       "    }\n",
       "</style>\n",
       "<table border=\"1\" class=\"dataframe\">\n",
       "  <thead>\n",
       "    <tr style=\"text-align: right;\">\n",
       "      <th></th>\n",
       "      <th>deviceTime_unix</th>\n",
       "      <th>cpm</th>\n",
       "      <th>cpmError</th>\n",
       "      <th>error_flag</th>\n",
       "    </tr>\n",
       "  </thead>\n",
       "  <tbody>\n",
       "    <tr>\n",
       "      <th>count</th>\n",
       "      <td>4.185600e+05</td>\n",
       "      <td>418560.000000</td>\n",
       "      <td>418560.000000</td>\n",
       "      <td>103124.0</td>\n",
       "    </tr>\n",
       "    <tr>\n",
       "      <th>mean</th>\n",
       "      <td>1.533129e+09</td>\n",
       "      <td>2.703987</td>\n",
       "      <td>0.727172</td>\n",
       "      <td>0.0</td>\n",
       "    </tr>\n",
       "    <tr>\n",
       "      <th>std</th>\n",
       "      <td>5.945913e+07</td>\n",
       "      <td>0.927238</td>\n",
       "      <td>0.109707</td>\n",
       "      <td>0.0</td>\n",
       "    </tr>\n",
       "    <tr>\n",
       "      <th>min</th>\n",
       "      <td>1.447986e+09</td>\n",
       "      <td>0.000000</td>\n",
       "      <td>0.000000</td>\n",
       "      <td>0.0</td>\n",
       "    </tr>\n",
       "    <tr>\n",
       "      <th>25%</th>\n",
       "      <td>1.481505e+09</td>\n",
       "      <td>2.200000</td>\n",
       "      <td>0.663325</td>\n",
       "      <td>0.0</td>\n",
       "    </tr>\n",
       "    <tr>\n",
       "      <th>50%</th>\n",
       "      <td>1.526052e+09</td>\n",
       "      <td>2.600000</td>\n",
       "      <td>0.721110</td>\n",
       "      <td>0.0</td>\n",
       "    </tr>\n",
       "    <tr>\n",
       "      <th>75%</th>\n",
       "      <td>1.582189e+09</td>\n",
       "      <td>3.200000</td>\n",
       "      <td>0.800000</td>\n",
       "      <td>0.0</td>\n",
       "    </tr>\n",
       "    <tr>\n",
       "      <th>max</th>\n",
       "      <td>1.662633e+09</td>\n",
       "      <td>96.000000</td>\n",
       "      <td>4.381780</td>\n",
       "      <td>0.0</td>\n",
       "    </tr>\n",
       "  </tbody>\n",
       "</table>\n",
       "</div>"
      ],
      "text/plain": [
       "       deviceTime_unix            cpm       cpmError  error_flag\n",
       "count     4.185600e+05  418560.000000  418560.000000    103124.0\n",
       "mean      1.533129e+09       2.703987       0.727172         0.0\n",
       "std       5.945913e+07       0.927238       0.109707         0.0\n",
       "min       1.447986e+09       0.000000       0.000000         0.0\n",
       "25%       1.481505e+09       2.200000       0.663325         0.0\n",
       "50%       1.526052e+09       2.600000       0.721110         0.0\n",
       "75%       1.582189e+09       3.200000       0.800000         0.0\n",
       "max       1.662633e+09      96.000000       4.381780         0.0"
      ]
     },
     "execution_count": 110,
     "metadata": {},
     "output_type": "execute_result"
    }
   ],
   "source": [
    "df.describe()"
   ]
  },
  {
   "cell_type": "code",
   "execution_count": 111,
   "id": "985c504b",
   "metadata": {},
   "outputs": [
    {
     "data": {
      "text/plain": [
       "0         True\n",
       "1         True\n",
       "2         True\n",
       "3         True\n",
       "4         True\n",
       "          ... \n",
       "418555    True\n",
       "418556    True\n",
       "418557    True\n",
       "418558    True\n",
       "418559    True\n",
       "Name: cpm, Length: 418560, dtype: bool"
      ]
     },
     "execution_count": 111,
     "metadata": {},
     "output_type": "execute_result"
    }
   ],
   "source": [
    "df['cpm'] > 0"
   ]
  },
  {
   "cell_type": "code",
   "execution_count": 113,
   "id": "c063e61d",
   "metadata": {},
   "outputs": [
    {
     "data": {
      "text/html": [
       "<div>\n",
       "<style scoped>\n",
       "    .dataframe tbody tr th:only-of-type {\n",
       "        vertical-align: middle;\n",
       "    }\n",
       "\n",
       "    .dataframe tbody tr th {\n",
       "        vertical-align: top;\n",
       "    }\n",
       "\n",
       "    .dataframe thead th {\n",
       "        text-align: right;\n",
       "    }\n",
       "</style>\n",
       "<table border=\"1\" class=\"dataframe\">\n",
       "  <thead>\n",
       "    <tr style=\"text-align: right;\">\n",
       "      <th></th>\n",
       "      <th>deviceTime_utc</th>\n",
       "      <th>deviceTime_local</th>\n",
       "      <th>deviceTime_unix</th>\n",
       "      <th>cpm</th>\n",
       "      <th>cpmError</th>\n",
       "      <th>error_flag</th>\n",
       "    </tr>\n",
       "  </thead>\n",
       "  <tbody>\n",
       "    <tr>\n",
       "      <th>0</th>\n",
       "      <td>2015-11-20 02:27:13+00:00</td>\n",
       "      <td>2015-11-19 18:27:13-08:00</td>\n",
       "      <td>1.447986e+09</td>\n",
       "      <td>4.0</td>\n",
       "      <td>0.894427</td>\n",
       "      <td>NaN</td>\n",
       "    </tr>\n",
       "    <tr>\n",
       "      <th>1</th>\n",
       "      <td>2015-11-20 02:32:13+00:00</td>\n",
       "      <td>2015-11-19 18:32:13-08:00</td>\n",
       "      <td>1.447987e+09</td>\n",
       "      <td>2.8</td>\n",
       "      <td>0.748331</td>\n",
       "      <td>NaN</td>\n",
       "    </tr>\n",
       "    <tr>\n",
       "      <th>2</th>\n",
       "      <td>2015-11-20 02:37:15+00:00</td>\n",
       "      <td>2015-11-19 18:37:15-08:00</td>\n",
       "      <td>1.447987e+09</td>\n",
       "      <td>3.4</td>\n",
       "      <td>0.824621</td>\n",
       "      <td>NaN</td>\n",
       "    </tr>\n",
       "    <tr>\n",
       "      <th>3</th>\n",
       "      <td>2015-11-20 02:42:15+00:00</td>\n",
       "      <td>2015-11-19 18:42:15-08:00</td>\n",
       "      <td>1.447987e+09</td>\n",
       "      <td>2.4</td>\n",
       "      <td>0.692820</td>\n",
       "      <td>NaN</td>\n",
       "    </tr>\n",
       "    <tr>\n",
       "      <th>4</th>\n",
       "      <td>2015-11-20 02:47:16+00:00</td>\n",
       "      <td>2015-11-19 18:47:16-08:00</td>\n",
       "      <td>1.447988e+09</td>\n",
       "      <td>3.4</td>\n",
       "      <td>0.824621</td>\n",
       "      <td>NaN</td>\n",
       "    </tr>\n",
       "    <tr>\n",
       "      <th>...</th>\n",
       "      <td>...</td>\n",
       "      <td>...</td>\n",
       "      <td>...</td>\n",
       "      <td>...</td>\n",
       "      <td>...</td>\n",
       "      <td>...</td>\n",
       "    </tr>\n",
       "    <tr>\n",
       "      <th>418555</th>\n",
       "      <td>2022-09-08 10:05:42+0000</td>\n",
       "      <td>2022-09-08 03:05:42-0700</td>\n",
       "      <td>1.662632e+09</td>\n",
       "      <td>2.8</td>\n",
       "      <td>0.748331</td>\n",
       "      <td>0.0</td>\n",
       "    </tr>\n",
       "    <tr>\n",
       "      <th>418556</th>\n",
       "      <td>2022-09-08 10:10:42+0000</td>\n",
       "      <td>2022-09-08 03:10:42-0700</td>\n",
       "      <td>1.662632e+09</td>\n",
       "      <td>2.8</td>\n",
       "      <td>0.748331</td>\n",
       "      <td>0.0</td>\n",
       "    </tr>\n",
       "    <tr>\n",
       "      <th>418557</th>\n",
       "      <td>2022-09-08 10:15:42+0000</td>\n",
       "      <td>2022-09-08 03:15:42-0700</td>\n",
       "      <td>1.662632e+09</td>\n",
       "      <td>3.6</td>\n",
       "      <td>0.848528</td>\n",
       "      <td>0.0</td>\n",
       "    </tr>\n",
       "    <tr>\n",
       "      <th>418558</th>\n",
       "      <td>2022-09-08 10:20:42+0000</td>\n",
       "      <td>2022-09-08 03:20:42-0700</td>\n",
       "      <td>1.662632e+09</td>\n",
       "      <td>2.8</td>\n",
       "      <td>0.748331</td>\n",
       "      <td>0.0</td>\n",
       "    </tr>\n",
       "    <tr>\n",
       "      <th>418559</th>\n",
       "      <td>2022-09-08 10:25:42+0000</td>\n",
       "      <td>2022-09-08 03:25:42-0700</td>\n",
       "      <td>1.662633e+09</td>\n",
       "      <td>3.0</td>\n",
       "      <td>0.774597</td>\n",
       "      <td>0.0</td>\n",
       "    </tr>\n",
       "  </tbody>\n",
       "</table>\n",
       "<p>418373 rows × 6 columns</p>\n",
       "</div>"
      ],
      "text/plain": [
       "                   deviceTime_utc           deviceTime_local  deviceTime_unix  \\\n",
       "0       2015-11-20 02:27:13+00:00  2015-11-19 18:27:13-08:00     1.447986e+09   \n",
       "1       2015-11-20 02:32:13+00:00  2015-11-19 18:32:13-08:00     1.447987e+09   \n",
       "2       2015-11-20 02:37:15+00:00  2015-11-19 18:37:15-08:00     1.447987e+09   \n",
       "3       2015-11-20 02:42:15+00:00  2015-11-19 18:42:15-08:00     1.447987e+09   \n",
       "4       2015-11-20 02:47:16+00:00  2015-11-19 18:47:16-08:00     1.447988e+09   \n",
       "...                           ...                        ...              ...   \n",
       "418555   2022-09-08 10:05:42+0000   2022-09-08 03:05:42-0700     1.662632e+09   \n",
       "418556   2022-09-08 10:10:42+0000   2022-09-08 03:10:42-0700     1.662632e+09   \n",
       "418557   2022-09-08 10:15:42+0000   2022-09-08 03:15:42-0700     1.662632e+09   \n",
       "418558   2022-09-08 10:20:42+0000   2022-09-08 03:20:42-0700     1.662632e+09   \n",
       "418559   2022-09-08 10:25:42+0000   2022-09-08 03:25:42-0700     1.662633e+09   \n",
       "\n",
       "        cpm  cpmError  error_flag  \n",
       "0       4.0  0.894427         NaN  \n",
       "1       2.8  0.748331         NaN  \n",
       "2       3.4  0.824621         NaN  \n",
       "3       2.4  0.692820         NaN  \n",
       "4       3.4  0.824621         NaN  \n",
       "...     ...       ...         ...  \n",
       "418555  2.8  0.748331         0.0  \n",
       "418556  2.8  0.748331         0.0  \n",
       "418557  3.6  0.848528         0.0  \n",
       "418558  2.8  0.748331         0.0  \n",
       "418559  3.0  0.774597         0.0  \n",
       "\n",
       "[418373 rows x 6 columns]"
      ]
     },
     "execution_count": 113,
     "metadata": {},
     "output_type": "execute_result"
    }
   ],
   "source": [
    "df[df['cpm']>0]"
   ]
  },
  {
   "cell_type": "code",
   "execution_count": 114,
   "id": "4e544db9",
   "metadata": {},
   "outputs": [
    {
     "data": {
      "text/plain": [
       "0         True\n",
       "1         True\n",
       "2         True\n",
       "3         True\n",
       "4         True\n",
       "          ... \n",
       "418555    True\n",
       "418556    True\n",
       "418557    True\n",
       "418558    True\n",
       "418559    True\n",
       "Name: cpm, Length: 418560, dtype: bool"
      ]
     },
     "metadata": {},
     "output_type": "display_data"
    }
   ],
   "source": [
    "mask = df['cpm']>0\n",
    "display(mask)"
   ]
  },
  {
   "cell_type": "code",
   "execution_count": 116,
   "id": "8fa931a4",
   "metadata": {},
   "outputs": [],
   "source": [
    "df_cut = df[mask]"
   ]
  },
  {
   "cell_type": "code",
   "execution_count": 118,
   "id": "19663b41",
   "metadata": {},
   "outputs": [
    {
     "data": {
      "text/html": [
       "<div>\n",
       "<style scoped>\n",
       "    .dataframe tbody tr th:only-of-type {\n",
       "        vertical-align: middle;\n",
       "    }\n",
       "\n",
       "    .dataframe tbody tr th {\n",
       "        vertical-align: top;\n",
       "    }\n",
       "\n",
       "    .dataframe thead th {\n",
       "        text-align: right;\n",
       "    }\n",
       "</style>\n",
       "<table border=\"1\" class=\"dataframe\">\n",
       "  <thead>\n",
       "    <tr style=\"text-align: right;\">\n",
       "      <th></th>\n",
       "      <th>deviceTime_unix</th>\n",
       "      <th>cpm</th>\n",
       "      <th>cpmError</th>\n",
       "      <th>error_flag</th>\n",
       "    </tr>\n",
       "  </thead>\n",
       "  <tbody>\n",
       "    <tr>\n",
       "      <th>count</th>\n",
       "      <td>4.183730e+05</td>\n",
       "      <td>418373.000000</td>\n",
       "      <td>418373.000000</td>\n",
       "      <td>102938.0</td>\n",
       "    </tr>\n",
       "    <tr>\n",
       "      <th>mean</th>\n",
       "      <td>1.533099e+09</td>\n",
       "      <td>2.705196</td>\n",
       "      <td>0.727497</td>\n",
       "      <td>0.0</td>\n",
       "    </tr>\n",
       "    <tr>\n",
       "      <th>std</th>\n",
       "      <td>5.945586e+07</td>\n",
       "      <td>0.925681</td>\n",
       "      <td>0.108648</td>\n",
       "      <td>0.0</td>\n",
       "    </tr>\n",
       "    <tr>\n",
       "      <th>min</th>\n",
       "      <td>1.447986e+09</td>\n",
       "      <td>0.200000</td>\n",
       "      <td>0.200000</td>\n",
       "      <td>0.0</td>\n",
       "    </tr>\n",
       "    <tr>\n",
       "      <th>25%</th>\n",
       "      <td>1.481491e+09</td>\n",
       "      <td>2.200000</td>\n",
       "      <td>0.663325</td>\n",
       "      <td>0.0</td>\n",
       "    </tr>\n",
       "    <tr>\n",
       "      <th>50%</th>\n",
       "      <td>1.526024e+09</td>\n",
       "      <td>2.600000</td>\n",
       "      <td>0.721110</td>\n",
       "      <td>0.0</td>\n",
       "    </tr>\n",
       "    <tr>\n",
       "      <th>75%</th>\n",
       "      <td>1.582147e+09</td>\n",
       "      <td>3.200000</td>\n",
       "      <td>0.800000</td>\n",
       "      <td>0.0</td>\n",
       "    </tr>\n",
       "    <tr>\n",
       "      <th>max</th>\n",
       "      <td>1.662633e+09</td>\n",
       "      <td>96.000000</td>\n",
       "      <td>4.381780</td>\n",
       "      <td>0.0</td>\n",
       "    </tr>\n",
       "  </tbody>\n",
       "</table>\n",
       "</div>"
      ],
      "text/plain": [
       "       deviceTime_unix            cpm       cpmError  error_flag\n",
       "count     4.183730e+05  418373.000000  418373.000000    102938.0\n",
       "mean      1.533099e+09       2.705196       0.727497         0.0\n",
       "std       5.945586e+07       0.925681       0.108648         0.0\n",
       "min       1.447986e+09       0.200000       0.200000         0.0\n",
       "25%       1.481491e+09       2.200000       0.663325         0.0\n",
       "50%       1.526024e+09       2.600000       0.721110         0.0\n",
       "75%       1.582147e+09       3.200000       0.800000         0.0\n",
       "max       1.662633e+09      96.000000       4.381780         0.0"
      ]
     },
     "execution_count": 118,
     "metadata": {},
     "output_type": "execute_result"
    }
   ],
   "source": [
    "df_cut.describe()"
   ]
  },
  {
   "cell_type": "code",
   "execution_count": 120,
   "id": "b54efd06",
   "metadata": {},
   "outputs": [],
   "source": [
    "mask = df_cut['deviceTime_utc'] > '2022-01-01 00:00:00-0000'"
   ]
  },
  {
   "cell_type": "code",
   "execution_count": 123,
   "id": "978a468d",
   "metadata": {},
   "outputs": [],
   "source": [
    "df_2022 = df_cut[mask]"
   ]
  },
  {
   "cell_type": "code",
   "execution_count": 124,
   "id": "822792a8",
   "metadata": {},
   "outputs": [
    {
     "data": {
      "text/html": [
       "<div>\n",
       "<style scoped>\n",
       "    .dataframe tbody tr th:only-of-type {\n",
       "        vertical-align: middle;\n",
       "    }\n",
       "\n",
       "    .dataframe tbody tr th {\n",
       "        vertical-align: top;\n",
       "    }\n",
       "\n",
       "    .dataframe thead th {\n",
       "        text-align: right;\n",
       "    }\n",
       "</style>\n",
       "<table border=\"1\" class=\"dataframe\">\n",
       "  <thead>\n",
       "    <tr style=\"text-align: right;\">\n",
       "      <th></th>\n",
       "      <th>deviceTime_utc</th>\n",
       "      <th>deviceTime_local</th>\n",
       "      <th>deviceTime_unix</th>\n",
       "      <th>cpm</th>\n",
       "      <th>cpmError</th>\n",
       "      <th>error_flag</th>\n",
       "    </tr>\n",
       "  </thead>\n",
       "  <tbody>\n",
       "    <tr>\n",
       "      <th>389838</th>\n",
       "      <td>2022-01-19 00:45:41+0000</td>\n",
       "      <td>2022-01-18 16:45:41-0800</td>\n",
       "      <td>1.642374e+09</td>\n",
       "      <td>2.6</td>\n",
       "      <td>0.721110</td>\n",
       "      <td>0.0</td>\n",
       "    </tr>\n",
       "    <tr>\n",
       "      <th>389839</th>\n",
       "      <td>2022-01-19 00:45:43+0000</td>\n",
       "      <td>2022-01-18 16:45:43-0800</td>\n",
       "      <td>1.642375e+09</td>\n",
       "      <td>2.6</td>\n",
       "      <td>0.721110</td>\n",
       "      <td>0.0</td>\n",
       "    </tr>\n",
       "    <tr>\n",
       "      <th>389840</th>\n",
       "      <td>2022-01-19 00:45:45+0000</td>\n",
       "      <td>2022-01-18 16:45:45-0800</td>\n",
       "      <td>1.642375e+09</td>\n",
       "      <td>2.6</td>\n",
       "      <td>0.721110</td>\n",
       "      <td>0.0</td>\n",
       "    </tr>\n",
       "    <tr>\n",
       "      <th>389841</th>\n",
       "      <td>2022-01-19 00:45:48+0000</td>\n",
       "      <td>2022-01-18 16:45:48-0800</td>\n",
       "      <td>1.642375e+09</td>\n",
       "      <td>3.4</td>\n",
       "      <td>0.824621</td>\n",
       "      <td>0.0</td>\n",
       "    </tr>\n",
       "    <tr>\n",
       "      <th>389842</th>\n",
       "      <td>2022-01-19 00:45:50+0000</td>\n",
       "      <td>2022-01-18 16:45:50-0800</td>\n",
       "      <td>1.642376e+09</td>\n",
       "      <td>3.0</td>\n",
       "      <td>0.774597</td>\n",
       "      <td>0.0</td>\n",
       "    </tr>\n",
       "    <tr>\n",
       "      <th>...</th>\n",
       "      <td>...</td>\n",
       "      <td>...</td>\n",
       "      <td>...</td>\n",
       "      <td>...</td>\n",
       "      <td>...</td>\n",
       "      <td>...</td>\n",
       "    </tr>\n",
       "    <tr>\n",
       "      <th>418555</th>\n",
       "      <td>2022-09-08 10:05:42+0000</td>\n",
       "      <td>2022-09-08 03:05:42-0700</td>\n",
       "      <td>1.662632e+09</td>\n",
       "      <td>2.8</td>\n",
       "      <td>0.748331</td>\n",
       "      <td>0.0</td>\n",
       "    </tr>\n",
       "    <tr>\n",
       "      <th>418556</th>\n",
       "      <td>2022-09-08 10:10:42+0000</td>\n",
       "      <td>2022-09-08 03:10:42-0700</td>\n",
       "      <td>1.662632e+09</td>\n",
       "      <td>2.8</td>\n",
       "      <td>0.748331</td>\n",
       "      <td>0.0</td>\n",
       "    </tr>\n",
       "    <tr>\n",
       "      <th>418557</th>\n",
       "      <td>2022-09-08 10:15:42+0000</td>\n",
       "      <td>2022-09-08 03:15:42-0700</td>\n",
       "      <td>1.662632e+09</td>\n",
       "      <td>3.6</td>\n",
       "      <td>0.848528</td>\n",
       "      <td>0.0</td>\n",
       "    </tr>\n",
       "    <tr>\n",
       "      <th>418558</th>\n",
       "      <td>2022-09-08 10:20:42+0000</td>\n",
       "      <td>2022-09-08 03:20:42-0700</td>\n",
       "      <td>1.662632e+09</td>\n",
       "      <td>2.8</td>\n",
       "      <td>0.748331</td>\n",
       "      <td>0.0</td>\n",
       "    </tr>\n",
       "    <tr>\n",
       "      <th>418559</th>\n",
       "      <td>2022-09-08 10:25:42+0000</td>\n",
       "      <td>2022-09-08 03:25:42-0700</td>\n",
       "      <td>1.662633e+09</td>\n",
       "      <td>3.0</td>\n",
       "      <td>0.774597</td>\n",
       "      <td>0.0</td>\n",
       "    </tr>\n",
       "  </tbody>\n",
       "</table>\n",
       "<p>28722 rows × 6 columns</p>\n",
       "</div>"
      ],
      "text/plain": [
       "                  deviceTime_utc          deviceTime_local  deviceTime_unix  \\\n",
       "389838  2022-01-19 00:45:41+0000  2022-01-18 16:45:41-0800     1.642374e+09   \n",
       "389839  2022-01-19 00:45:43+0000  2022-01-18 16:45:43-0800     1.642375e+09   \n",
       "389840  2022-01-19 00:45:45+0000  2022-01-18 16:45:45-0800     1.642375e+09   \n",
       "389841  2022-01-19 00:45:48+0000  2022-01-18 16:45:48-0800     1.642375e+09   \n",
       "389842  2022-01-19 00:45:50+0000  2022-01-18 16:45:50-0800     1.642376e+09   \n",
       "...                          ...                       ...              ...   \n",
       "418555  2022-09-08 10:05:42+0000  2022-09-08 03:05:42-0700     1.662632e+09   \n",
       "418556  2022-09-08 10:10:42+0000  2022-09-08 03:10:42-0700     1.662632e+09   \n",
       "418557  2022-09-08 10:15:42+0000  2022-09-08 03:15:42-0700     1.662632e+09   \n",
       "418558  2022-09-08 10:20:42+0000  2022-09-08 03:20:42-0700     1.662632e+09   \n",
       "418559  2022-09-08 10:25:42+0000  2022-09-08 03:25:42-0700     1.662633e+09   \n",
       "\n",
       "        cpm  cpmError  error_flag  \n",
       "389838  2.6  0.721110         0.0  \n",
       "389839  2.6  0.721110         0.0  \n",
       "389840  2.6  0.721110         0.0  \n",
       "389841  3.4  0.824621         0.0  \n",
       "389842  3.0  0.774597         0.0  \n",
       "...     ...       ...         ...  \n",
       "418555  2.8  0.748331         0.0  \n",
       "418556  2.8  0.748331         0.0  \n",
       "418557  3.6  0.848528         0.0  \n",
       "418558  2.8  0.748331         0.0  \n",
       "418559  3.0  0.774597         0.0  \n",
       "\n",
       "[28722 rows x 6 columns]"
      ]
     },
     "execution_count": 124,
     "metadata": {},
     "output_type": "execute_result"
    }
   ],
   "source": [
    "df_2022"
   ]
  },
  {
   "cell_type": "code",
   "execution_count": 129,
   "id": "ab81851e",
   "metadata": {},
   "outputs": [],
   "source": [
    "mask = (df_cut['deviceTime_utc'] > '2022-08-01 00:00:00-0000') & (df_cut['deviceTime_utc'] < '2022-09-01 00:00:00-0000')\n",
    "df_aug = df_cut[mask]"
   ]
  },
  {
   "cell_type": "code",
   "execution_count": 130,
   "id": "589e14a7",
   "metadata": {},
   "outputs": [
    {
     "data": {
      "text/html": [
       "<div>\n",
       "<style scoped>\n",
       "    .dataframe tbody tr th:only-of-type {\n",
       "        vertical-align: middle;\n",
       "    }\n",
       "\n",
       "    .dataframe tbody tr th {\n",
       "        vertical-align: top;\n",
       "    }\n",
       "\n",
       "    .dataframe thead th {\n",
       "        text-align: right;\n",
       "    }\n",
       "</style>\n",
       "<table border=\"1\" class=\"dataframe\">\n",
       "  <thead>\n",
       "    <tr style=\"text-align: right;\">\n",
       "      <th></th>\n",
       "      <th>deviceTime_utc</th>\n",
       "      <th>deviceTime_local</th>\n",
       "      <th>deviceTime_unix</th>\n",
       "      <th>cpm</th>\n",
       "      <th>cpmError</th>\n",
       "      <th>error_flag</th>\n",
       "    </tr>\n",
       "  </thead>\n",
       "  <tbody>\n",
       "    <tr>\n",
       "      <th>414156</th>\n",
       "      <td>2022-08-17 01:20:39+0000</td>\n",
       "      <td>2022-08-16 18:20:39-0700</td>\n",
       "      <td>1.660699e+09</td>\n",
       "      <td>2.8</td>\n",
       "      <td>0.748331</td>\n",
       "      <td>0.0</td>\n",
       "    </tr>\n",
       "    <tr>\n",
       "      <th>414157</th>\n",
       "      <td>2022-08-14 23:05:39+0000</td>\n",
       "      <td>2022-08-14 16:05:39-0700</td>\n",
       "      <td>1.660518e+09</td>\n",
       "      <td>1.4</td>\n",
       "      <td>0.529150</td>\n",
       "      <td>0.0</td>\n",
       "    </tr>\n",
       "    <tr>\n",
       "      <th>414158</th>\n",
       "      <td>2022-08-14 23:10:39+0000</td>\n",
       "      <td>2022-08-14 16:10:39-0700</td>\n",
       "      <td>1.660519e+09</td>\n",
       "      <td>3.6</td>\n",
       "      <td>0.848528</td>\n",
       "      <td>0.0</td>\n",
       "    </tr>\n",
       "    <tr>\n",
       "      <th>414159</th>\n",
       "      <td>2022-08-14 23:15:39+0000</td>\n",
       "      <td>2022-08-14 16:15:39-0700</td>\n",
       "      <td>1.660519e+09</td>\n",
       "      <td>2.0</td>\n",
       "      <td>0.632456</td>\n",
       "      <td>0.0</td>\n",
       "    </tr>\n",
       "    <tr>\n",
       "      <th>414160</th>\n",
       "      <td>2022-08-14 23:20:39+0000</td>\n",
       "      <td>2022-08-14 16:20:39-0700</td>\n",
       "      <td>1.660519e+09</td>\n",
       "      <td>3.4</td>\n",
       "      <td>0.824621</td>\n",
       "      <td>0.0</td>\n",
       "    </tr>\n",
       "    <tr>\n",
       "      <th>...</th>\n",
       "      <td>...</td>\n",
       "      <td>...</td>\n",
       "      <td>...</td>\n",
       "      <td>...</td>\n",
       "      <td>...</td>\n",
       "      <td>...</td>\n",
       "    </tr>\n",
       "    <tr>\n",
       "      <th>416415</th>\n",
       "      <td>2022-08-31 23:35:41+0000</td>\n",
       "      <td>2022-08-31 16:35:41-0700</td>\n",
       "      <td>1.661989e+09</td>\n",
       "      <td>2.4</td>\n",
       "      <td>0.692820</td>\n",
       "      <td>0.0</td>\n",
       "    </tr>\n",
       "    <tr>\n",
       "      <th>416416</th>\n",
       "      <td>2022-08-31 23:40:41+0000</td>\n",
       "      <td>2022-08-31 16:40:41-0700</td>\n",
       "      <td>1.661989e+09</td>\n",
       "      <td>2.2</td>\n",
       "      <td>0.663325</td>\n",
       "      <td>0.0</td>\n",
       "    </tr>\n",
       "    <tr>\n",
       "      <th>416417</th>\n",
       "      <td>2022-08-31 23:45:41+0000</td>\n",
       "      <td>2022-08-31 16:45:41-0700</td>\n",
       "      <td>1.661990e+09</td>\n",
       "      <td>2.8</td>\n",
       "      <td>0.748331</td>\n",
       "      <td>0.0</td>\n",
       "    </tr>\n",
       "    <tr>\n",
       "      <th>416418</th>\n",
       "      <td>2022-08-31 23:50:41+0000</td>\n",
       "      <td>2022-08-31 16:50:41-0700</td>\n",
       "      <td>1.661990e+09</td>\n",
       "      <td>3.0</td>\n",
       "      <td>0.774597</td>\n",
       "      <td>0.0</td>\n",
       "    </tr>\n",
       "    <tr>\n",
       "      <th>416419</th>\n",
       "      <td>2022-08-31 23:55:41+0000</td>\n",
       "      <td>2022-08-31 16:55:41-0700</td>\n",
       "      <td>1.661990e+09</td>\n",
       "      <td>2.4</td>\n",
       "      <td>0.692820</td>\n",
       "      <td>0.0</td>\n",
       "    </tr>\n",
       "  </tbody>\n",
       "</table>\n",
       "<p>2263 rows × 6 columns</p>\n",
       "</div>"
      ],
      "text/plain": [
       "                  deviceTime_utc          deviceTime_local  deviceTime_unix  \\\n",
       "414156  2022-08-17 01:20:39+0000  2022-08-16 18:20:39-0700     1.660699e+09   \n",
       "414157  2022-08-14 23:05:39+0000  2022-08-14 16:05:39-0700     1.660518e+09   \n",
       "414158  2022-08-14 23:10:39+0000  2022-08-14 16:10:39-0700     1.660519e+09   \n",
       "414159  2022-08-14 23:15:39+0000  2022-08-14 16:15:39-0700     1.660519e+09   \n",
       "414160  2022-08-14 23:20:39+0000  2022-08-14 16:20:39-0700     1.660519e+09   \n",
       "...                          ...                       ...              ...   \n",
       "416415  2022-08-31 23:35:41+0000  2022-08-31 16:35:41-0700     1.661989e+09   \n",
       "416416  2022-08-31 23:40:41+0000  2022-08-31 16:40:41-0700     1.661989e+09   \n",
       "416417  2022-08-31 23:45:41+0000  2022-08-31 16:45:41-0700     1.661990e+09   \n",
       "416418  2022-08-31 23:50:41+0000  2022-08-31 16:50:41-0700     1.661990e+09   \n",
       "416419  2022-08-31 23:55:41+0000  2022-08-31 16:55:41-0700     1.661990e+09   \n",
       "\n",
       "        cpm  cpmError  error_flag  \n",
       "414156  2.8  0.748331         0.0  \n",
       "414157  1.4  0.529150         0.0  \n",
       "414158  3.6  0.848528         0.0  \n",
       "414159  2.0  0.632456         0.0  \n",
       "414160  3.4  0.824621         0.0  \n",
       "...     ...       ...         ...  \n",
       "416415  2.4  0.692820         0.0  \n",
       "416416  2.2  0.663325         0.0  \n",
       "416417  2.8  0.748331         0.0  \n",
       "416418  3.0  0.774597         0.0  \n",
       "416419  2.4  0.692820         0.0  \n",
       "\n",
       "[2263 rows x 6 columns]"
      ]
     },
     "execution_count": 130,
     "metadata": {},
     "output_type": "execute_result"
    }
   ],
   "source": [
    "df_aug"
   ]
  },
  {
   "cell_type": "code",
   "execution_count": 131,
   "id": "c415d0a1",
   "metadata": {},
   "outputs": [],
   "source": [
    "import matplotlib.pyplot as plt"
   ]
  },
  {
   "cell_type": "code",
   "execution_count": 135,
   "id": "0464f595",
   "metadata": {},
   "outputs": [
    {
     "data": {
      "image/png": "[encoded data removed]",
      "text/plain": [
       "<Figure size 432x288 with 1 Axes>"
      ]
     },
     "metadata": {
      "needs_background": "light"
     },
     "output_type": "display_data"
    }
   ],
   "source": [
    "plt.plot(df_aug['deviceTime_unix'],df_aug['cpm'])\n",
    "plt.ylabel('CPM')\n",
    "plt.xlabel('Time')\n",
    "plt.title(\"CPM vs time\")\n",
    "plt.show()"
   ]
  },
  {
   "cell_type": "code",
   "execution_count": 139,
   "id": "7900490a",
   "metadata": {},
   "outputs": [
    {
     "data": {
      "image/png": "[encoded data removed]",
      "text/plain": [
       "<Figure size 432x288 with 1 Axes>"
      ]
     },
     "metadata": {
      "needs_background": "light"
     },
     "output_type": "display_data"
    }
   ],
   "source": [
    "plt.hist(df_aug['cpm'],bins=25)\n",
    "plt.show()"
   ]
  },
  {
   "cell_type": "code",
   "execution_count": 140,
   "id": "b0cc956d",
   "metadata": {},
   "outputs": [
    {
     "data": {
      "image/png": "[encoded data removed]",
      "text/plain": [
       "<Figure size 432x288 with 1 Axes>"
      ]
     },
     "metadata": {
      "needs_background": "light"
     },
     "output_type": "display_data"
    }
   ],
   "source": [
    "plt.plot(df_2022['deviceTime_unix'],df_2022['cpm'])\n",
    "plt.ylabel('CPM')\n",
    "plt.xlabel('Time')\n",
    "plt.title(\"CPM vs time\")\n",
    "plt.show()"
   ]
  },
  {
   "cell_type": "code",
   "execution_count": 141,
   "id": "718316be",
   "metadata": {},
   "outputs": [
    {
     "data": {
      "text/plain": [
       "1642374337.43"
      ]
     },
     "execution_count": 141,
     "metadata": {},
     "output_type": "execute_result"
    }
   ],
   "source": [
    "df_2022['deviceTime_unix'].min()"
   ]
  },
  {
   "cell_type": "code",
   "execution_count": 142,
   "id": "74f79b53",
   "metadata": {},
   "outputs": [],
   "source": [
    "start = int(df_2022['deviceTime_unix'].min())"
   ]
  },
  {
   "cell_type": "code",
   "execution_count": 143,
   "id": "4041c70a",
   "metadata": {},
   "outputs": [
    {
     "data": {
      "text/plain": [
       "1642374337"
      ]
     },
     "execution_count": 143,
     "metadata": {},
     "output_type": "execute_result"
    }
   ],
   "source": [
    "start"
   ]
  },
  {
   "cell_type": "code",
   "execution_count": 147,
   "id": "ec78eeb3",
   "metadata": {},
   "outputs": [
    {
     "data": {
      "text/plain": [
       "str"
      ]
     },
     "execution_count": 147,
     "metadata": {},
     "output_type": "execute_result"
    }
   ],
   "source": [
    "a = '1.0'\n",
    "type(a)"
   ]
  },
  {
   "cell_type": "code",
   "execution_count": 149,
   "id": "d99e98fe",
   "metadata": {},
   "outputs": [
    {
     "data": {
      "text/plain": [
       "float"
      ]
     },
     "execution_count": 149,
     "metadata": {},
     "output_type": "execute_result"
    }
   ],
   "source": [
    "type(float(a))"
   ]
  },
  {
   "cell_type": "code",
   "execution_count": 151,
   "id": "b69b1fcf",
   "metadata": {},
   "outputs": [],
   "source": [
    "mask = df_cut['deviceTime_unix'] > start\n",
    "df_start = df_cut[mask]"
   ]
  },
  {
   "cell_type": "code",
   "execution_count": 152,
   "id": "08ba9dc1",
   "metadata": {},
   "outputs": [
    {
     "data": {
      "text/html": [
       "<div>\n",
       "<style scoped>\n",
       "    .dataframe tbody tr th:only-of-type {\n",
       "        vertical-align: middle;\n",
       "    }\n",
       "\n",
       "    .dataframe tbody tr th {\n",
       "        vertical-align: top;\n",
       "    }\n",
       "\n",
       "    .dataframe thead th {\n",
       "        text-align: right;\n",
       "    }\n",
       "</style>\n",
       "<table border=\"1\" class=\"dataframe\">\n",
       "  <thead>\n",
       "    <tr style=\"text-align: right;\">\n",
       "      <th></th>\n",
       "      <th>deviceTime_utc</th>\n",
       "      <th>deviceTime_local</th>\n",
       "      <th>deviceTime_unix</th>\n",
       "      <th>cpm</th>\n",
       "      <th>cpmError</th>\n",
       "      <th>error_flag</th>\n",
       "    </tr>\n",
       "  </thead>\n",
       "  <tbody>\n",
       "    <tr>\n",
       "      <th>389838</th>\n",
       "      <td>2022-01-19 00:45:41+0000</td>\n",
       "      <td>2022-01-18 16:45:41-0800</td>\n",
       "      <td>1.642374e+09</td>\n",
       "      <td>2.6</td>\n",
       "      <td>0.721110</td>\n",
       "      <td>0.0</td>\n",
       "    </tr>\n",
       "    <tr>\n",
       "      <th>389839</th>\n",
       "      <td>2022-01-19 00:45:43+0000</td>\n",
       "      <td>2022-01-18 16:45:43-0800</td>\n",
       "      <td>1.642375e+09</td>\n",
       "      <td>2.6</td>\n",
       "      <td>0.721110</td>\n",
       "      <td>0.0</td>\n",
       "    </tr>\n",
       "    <tr>\n",
       "      <th>389840</th>\n",
       "      <td>2022-01-19 00:45:45+0000</td>\n",
       "      <td>2022-01-18 16:45:45-0800</td>\n",
       "      <td>1.642375e+09</td>\n",
       "      <td>2.6</td>\n",
       "      <td>0.721110</td>\n",
       "      <td>0.0</td>\n",
       "    </tr>\n",
       "    <tr>\n",
       "      <th>389841</th>\n",
       "      <td>2022-01-19 00:45:48+0000</td>\n",
       "      <td>2022-01-18 16:45:48-0800</td>\n",
       "      <td>1.642375e+09</td>\n",
       "      <td>3.4</td>\n",
       "      <td>0.824621</td>\n",
       "      <td>0.0</td>\n",
       "    </tr>\n",
       "    <tr>\n",
       "      <th>389842</th>\n",
       "      <td>2022-01-19 00:45:50+0000</td>\n",
       "      <td>2022-01-18 16:45:50-0800</td>\n",
       "      <td>1.642376e+09</td>\n",
       "      <td>3.0</td>\n",
       "      <td>0.774597</td>\n",
       "      <td>0.0</td>\n",
       "    </tr>\n",
       "    <tr>\n",
       "      <th>...</th>\n",
       "      <td>...</td>\n",
       "      <td>...</td>\n",
       "      <td>...</td>\n",
       "      <td>...</td>\n",
       "      <td>...</td>\n",
       "      <td>...</td>\n",
       "    </tr>\n",
       "    <tr>\n",
       "      <th>418555</th>\n",
       "      <td>2022-09-08 10:05:42+0000</td>\n",
       "      <td>2022-09-08 03:05:42-0700</td>\n",
       "      <td>1.662632e+09</td>\n",
       "      <td>2.8</td>\n",
       "      <td>0.748331</td>\n",
       "      <td>0.0</td>\n",
       "    </tr>\n",
       "    <tr>\n",
       "      <th>418556</th>\n",
       "      <td>2022-09-08 10:10:42+0000</td>\n",
       "      <td>2022-09-08 03:10:42-0700</td>\n",
       "      <td>1.662632e+09</td>\n",
       "      <td>2.8</td>\n",
       "      <td>0.748331</td>\n",
       "      <td>0.0</td>\n",
       "    </tr>\n",
       "    <tr>\n",
       "      <th>418557</th>\n",
       "      <td>2022-09-08 10:15:42+0000</td>\n",
       "      <td>2022-09-08 03:15:42-0700</td>\n",
       "      <td>1.662632e+09</td>\n",
       "      <td>3.6</td>\n",
       "      <td>0.848528</td>\n",
       "      <td>0.0</td>\n",
       "    </tr>\n",
       "    <tr>\n",
       "      <th>418558</th>\n",
       "      <td>2022-09-08 10:20:42+0000</td>\n",
       "      <td>2022-09-08 03:20:42-0700</td>\n",
       "      <td>1.662632e+09</td>\n",
       "      <td>2.8</td>\n",
       "      <td>0.748331</td>\n",
       "      <td>0.0</td>\n",
       "    </tr>\n",
       "    <tr>\n",
       "      <th>418559</th>\n",
       "      <td>2022-09-08 10:25:42+0000</td>\n",
       "      <td>2022-09-08 03:25:42-0700</td>\n",
       "      <td>1.662633e+09</td>\n",
       "      <td>3.0</td>\n",
       "      <td>0.774597</td>\n",
       "      <td>0.0</td>\n",
       "    </tr>\n",
       "  </tbody>\n",
       "</table>\n",
       "<p>28722 rows × 6 columns</p>\n",
       "</div>"
      ],
      "text/plain": [
       "                  deviceTime_utc          deviceTime_local  deviceTime_unix  \\\n",
       "389838  2022-01-19 00:45:41+0000  2022-01-18 16:45:41-0800     1.642374e+09   \n",
       "389839  2022-01-19 00:45:43+0000  2022-01-18 16:45:43-0800     1.642375e+09   \n",
       "389840  2022-01-19 00:45:45+0000  2022-01-18 16:45:45-0800     1.642375e+09   \n",
       "389841  2022-01-19 00:45:48+0000  2022-01-18 16:45:48-0800     1.642375e+09   \n",
       "389842  2022-01-19 00:45:50+0000  2022-01-18 16:45:50-0800     1.642376e+09   \n",
       "...                          ...                       ...              ...   \n",
       "418555  2022-09-08 10:05:42+0000  2022-09-08 03:05:42-0700     1.662632e+09   \n",
       "418556  2022-09-08 10:10:42+0000  2022-09-08 03:10:42-0700     1.662632e+09   \n",
       "418557  2022-09-08 10:15:42+0000  2022-09-08 03:15:42-0700     1.662632e+09   \n",
       "418558  2022-09-08 10:20:42+0000  2022-09-08 03:20:42-0700     1.662632e+09   \n",
       "418559  2022-09-08 10:25:42+0000  2022-09-08 03:25:42-0700     1.662633e+09   \n",
       "\n",
       "        cpm  cpmError  error_flag  \n",
       "389838  2.6  0.721110         0.0  \n",
       "389839  2.6  0.721110         0.0  \n",
       "389840  2.6  0.721110         0.0  \n",
       "389841  3.4  0.824621         0.0  \n",
       "389842  3.0  0.774597         0.0  \n",
       "...     ...       ...         ...  \n",
       "418555  2.8  0.748331         0.0  \n",
       "418556  2.8  0.748331         0.0  \n",
       "418557  3.6  0.848528         0.0  \n",
       "418558  2.8  0.748331         0.0  \n",
       "418559  3.0  0.774597         0.0  \n",
       "\n",
       "[28722 rows x 6 columns]"
      ]
     },
     "execution_count": 152,
     "metadata": {},
     "output_type": "execute_result"
    }
   ],
   "source": [
    "df_start"
   ]
  },
  {
   "cell_type": "code",
   "execution_count": 153,
   "id": "45fcf225",
   "metadata": {},
   "outputs": [],
   "source": [
    "interval = 30*24*3600"
   ]
  },
  {
   "cell_type": "code",
   "execution_count": 154,
   "id": "a3079487",
   "metadata": {},
   "outputs": [
    {
     "data": {
      "text/html": [
       "<div>\n",
       "<style scoped>\n",
       "    .dataframe tbody tr th:only-of-type {\n",
       "        vertical-align: middle;\n",
       "    }\n",
       "\n",
       "    .dataframe tbody tr th {\n",
       "        vertical-align: top;\n",
       "    }\n",
       "\n",
       "    .dataframe thead th {\n",
       "        text-align: right;\n",
       "    }\n",
       "</style>\n",
       "<table border=\"1\" class=\"dataframe\">\n",
       "  <thead>\n",
       "    <tr style=\"text-align: right;\">\n",
       "      <th></th>\n",
       "      <th>deviceTime_utc</th>\n",
       "      <th>deviceTime_local</th>\n",
       "      <th>deviceTime_unix</th>\n",
       "      <th>cpm</th>\n",
       "      <th>cpmError</th>\n",
       "      <th>error_flag</th>\n",
       "    </tr>\n",
       "  </thead>\n",
       "  <tbody>\n",
       "    <tr>\n",
       "      <th>389838</th>\n",
       "      <td>2022-01-19 00:45:41+0000</td>\n",
       "      <td>2022-01-18 16:45:41-0800</td>\n",
       "      <td>1.642374e+09</td>\n",
       "      <td>2.6</td>\n",
       "      <td>0.721110</td>\n",
       "      <td>0.0</td>\n",
       "    </tr>\n",
       "    <tr>\n",
       "      <th>389839</th>\n",
       "      <td>2022-01-19 00:45:43+0000</td>\n",
       "      <td>2022-01-18 16:45:43-0800</td>\n",
       "      <td>1.642375e+09</td>\n",
       "      <td>2.6</td>\n",
       "      <td>0.721110</td>\n",
       "      <td>0.0</td>\n",
       "    </tr>\n",
       "    <tr>\n",
       "      <th>389840</th>\n",
       "      <td>2022-01-19 00:45:45+0000</td>\n",
       "      <td>2022-01-18 16:45:45-0800</td>\n",
       "      <td>1.642375e+09</td>\n",
       "      <td>2.6</td>\n",
       "      <td>0.721110</td>\n",
       "      <td>0.0</td>\n",
       "    </tr>\n",
       "    <tr>\n",
       "      <th>389841</th>\n",
       "      <td>2022-01-19 00:45:48+0000</td>\n",
       "      <td>2022-01-18 16:45:48-0800</td>\n",
       "      <td>1.642375e+09</td>\n",
       "      <td>3.4</td>\n",
       "      <td>0.824621</td>\n",
       "      <td>0.0</td>\n",
       "    </tr>\n",
       "    <tr>\n",
       "      <th>389842</th>\n",
       "      <td>2022-01-19 00:45:50+0000</td>\n",
       "      <td>2022-01-18 16:45:50-0800</td>\n",
       "      <td>1.642376e+09</td>\n",
       "      <td>3.0</td>\n",
       "      <td>0.774597</td>\n",
       "      <td>0.0</td>\n",
       "    </tr>\n",
       "    <tr>\n",
       "      <th>...</th>\n",
       "      <td>...</td>\n",
       "      <td>...</td>\n",
       "      <td>...</td>\n",
       "      <td>...</td>\n",
       "      <td>...</td>\n",
       "      <td>...</td>\n",
       "    </tr>\n",
       "    <tr>\n",
       "      <th>390693</th>\n",
       "      <td>2022-01-19 18:30:37+0000</td>\n",
       "      <td>2022-01-19 10:30:37-0800</td>\n",
       "      <td>1.642617e+09</td>\n",
       "      <td>1.4</td>\n",
       "      <td>0.529150</td>\n",
       "      <td>0.0</td>\n",
       "    </tr>\n",
       "    <tr>\n",
       "      <th>390694</th>\n",
       "      <td>2022-01-19 18:35:43+0000</td>\n",
       "      <td>2022-01-19 10:35:43-0800</td>\n",
       "      <td>1.642617e+09</td>\n",
       "      <td>1.0</td>\n",
       "      <td>0.447214</td>\n",
       "      <td>0.0</td>\n",
       "    </tr>\n",
       "    <tr>\n",
       "      <th>390695</th>\n",
       "      <td>2022-01-19 18:35:38+0000</td>\n",
       "      <td>2022-01-19 10:35:38-0800</td>\n",
       "      <td>1.642617e+09</td>\n",
       "      <td>2.6</td>\n",
       "      <td>0.721110</td>\n",
       "      <td>0.0</td>\n",
       "    </tr>\n",
       "    <tr>\n",
       "      <th>390696</th>\n",
       "      <td>2022-01-19 18:40:37+0000</td>\n",
       "      <td>2022-01-19 10:40:37-0800</td>\n",
       "      <td>1.642618e+09</td>\n",
       "      <td>2.8</td>\n",
       "      <td>0.748331</td>\n",
       "      <td>0.0</td>\n",
       "    </tr>\n",
       "    <tr>\n",
       "      <th>390697</th>\n",
       "      <td>2022-01-19 18:45:37+0000</td>\n",
       "      <td>2022-01-19 10:45:37-0800</td>\n",
       "      <td>1.642618e+09</td>\n",
       "      <td>3.0</td>\n",
       "      <td>0.774597</td>\n",
       "      <td>0.0</td>\n",
       "    </tr>\n",
       "  </tbody>\n",
       "</table>\n",
       "<p>860 rows × 6 columns</p>\n",
       "</div>"
      ],
      "text/plain": [
       "                  deviceTime_utc          deviceTime_local  deviceTime_unix  \\\n",
       "389838  2022-01-19 00:45:41+0000  2022-01-18 16:45:41-0800     1.642374e+09   \n",
       "389839  2022-01-19 00:45:43+0000  2022-01-18 16:45:43-0800     1.642375e+09   \n",
       "389840  2022-01-19 00:45:45+0000  2022-01-18 16:45:45-0800     1.642375e+09   \n",
       "389841  2022-01-19 00:45:48+0000  2022-01-18 16:45:48-0800     1.642375e+09   \n",
       "389842  2022-01-19 00:45:50+0000  2022-01-18 16:45:50-0800     1.642376e+09   \n",
       "...                          ...                       ...              ...   \n",
       "390693  2022-01-19 18:30:37+0000  2022-01-19 10:30:37-0800     1.642617e+09   \n",
       "390694  2022-01-19 18:35:43+0000  2022-01-19 10:35:43-0800     1.642617e+09   \n",
       "390695  2022-01-19 18:35:38+0000  2022-01-19 10:35:38-0800     1.642617e+09   \n",
       "390696  2022-01-19 18:40:37+0000  2022-01-19 10:40:37-0800     1.642618e+09   \n",
       "390697  2022-01-19 18:45:37+0000  2022-01-19 10:45:37-0800     1.642618e+09   \n",
       "\n",
       "        cpm  cpmError  error_flag  \n",
       "389838  2.6  0.721110         0.0  \n",
       "389839  2.6  0.721110         0.0  \n",
       "389840  2.6  0.721110         0.0  \n",
       "389841  3.4  0.824621         0.0  \n",
       "389842  3.0  0.774597         0.0  \n",
       "...     ...       ...         ...  \n",
       "390693  1.4  0.529150         0.0  \n",
       "390694  1.0  0.447214         0.0  \n",
       "390695  2.6  0.721110         0.0  \n",
       "390696  2.8  0.748331         0.0  \n",
       "390697  3.0  0.774597         0.0  \n",
       "\n",
       "[860 rows x 6 columns]"
      ]
     },
     "execution_count": 154,
     "metadata": {},
     "output_type": "execute_result"
    }
   ],
   "source": [
    "mask = (df_2022['deviceTime_unix'] > start) & (df_2022['deviceTime_unix'] < (start + interval))\n",
    "df_2022[mask]"
   ]
  },
  {
   "cell_type": "code",
   "execution_count": 166,
   "id": "5f34334c",
   "metadata": {},
   "outputs": [
    {
     "data": {
      "text/html": [
       "<div>\n",
       "<style scoped>\n",
       "    .dataframe tbody tr th:only-of-type {\n",
       "        vertical-align: middle;\n",
       "    }\n",
       "\n",
       "    .dataframe tbody tr th {\n",
       "        vertical-align: top;\n",
       "    }\n",
       "\n",
       "    .dataframe thead th {\n",
       "        text-align: right;\n",
       "    }\n",
       "</style>\n",
       "<table border=\"1\" class=\"dataframe\">\n",
       "  <thead>\n",
       "    <tr style=\"text-align: right;\">\n",
       "      <th></th>\n",
       "      <th>deviceTime_utc</th>\n",
       "      <th>deviceTime_local</th>\n",
       "      <th>deviceTime_unix</th>\n",
       "      <th>cpm</th>\n",
       "      <th>cpmError</th>\n",
       "      <th>error_flag</th>\n",
       "    </tr>\n",
       "  </thead>\n",
       "  <tbody>\n",
       "  </tbody>\n",
       "</table>\n",
       "</div>"
      ],
      "text/plain": [
       "Empty DataFrame\n",
       "Columns: [deviceTime_utc, deviceTime_local, deviceTime_unix, cpm, cpmError, error_flag]\n",
       "Index: []"
      ]
     },
     "execution_count": 166,
     "metadata": {},
     "output_type": "execute_result"
    }
   ],
   "source": [
    "mask = (df_2022['deviceTime_unix'] > (start+interval)) & (df_2022['deviceTime_unix'] < (start + 2*interval))\n",
    "df_2022[mask]"
   ]
  },
  {
   "cell_type": "code",
   "execution_count": 156,
   "id": "c6884313",
   "metadata": {},
   "outputs": [
    {
     "data": {
      "text/html": [
       "<div>\n",
       "<style scoped>\n",
       "    .dataframe tbody tr th:only-of-type {\n",
       "        vertical-align: middle;\n",
       "    }\n",
       "\n",
       "    .dataframe tbody tr th {\n",
       "        vertical-align: top;\n",
       "    }\n",
       "\n",
       "    .dataframe thead th {\n",
       "        text-align: right;\n",
       "    }\n",
       "</style>\n",
       "<table border=\"1\" class=\"dataframe\">\n",
       "  <thead>\n",
       "    <tr style=\"text-align: right;\">\n",
       "      <th></th>\n",
       "      <th>deviceTime_utc</th>\n",
       "      <th>deviceTime_local</th>\n",
       "      <th>deviceTime_unix</th>\n",
       "      <th>cpm</th>\n",
       "      <th>cpmError</th>\n",
       "      <th>error_flag</th>\n",
       "    </tr>\n",
       "  </thead>\n",
       "  <tbody>\n",
       "    <tr>\n",
       "      <th>389838</th>\n",
       "      <td>2022-01-19 00:45:41+0000</td>\n",
       "      <td>2022-01-18 16:45:41-0800</td>\n",
       "      <td>1.642374e+09</td>\n",
       "      <td>2.6</td>\n",
       "      <td>0.721110</td>\n",
       "      <td>0.0</td>\n",
       "    </tr>\n",
       "    <tr>\n",
       "      <th>389839</th>\n",
       "      <td>2022-01-19 00:45:43+0000</td>\n",
       "      <td>2022-01-18 16:45:43-0800</td>\n",
       "      <td>1.642375e+09</td>\n",
       "      <td>2.6</td>\n",
       "      <td>0.721110</td>\n",
       "      <td>0.0</td>\n",
       "    </tr>\n",
       "    <tr>\n",
       "      <th>389840</th>\n",
       "      <td>2022-01-19 00:45:45+0000</td>\n",
       "      <td>2022-01-18 16:45:45-0800</td>\n",
       "      <td>1.642375e+09</td>\n",
       "      <td>2.6</td>\n",
       "      <td>0.721110</td>\n",
       "      <td>0.0</td>\n",
       "    </tr>\n",
       "    <tr>\n",
       "      <th>389841</th>\n",
       "      <td>2022-01-19 00:45:48+0000</td>\n",
       "      <td>2022-01-18 16:45:48-0800</td>\n",
       "      <td>1.642375e+09</td>\n",
       "      <td>3.4</td>\n",
       "      <td>0.824621</td>\n",
       "      <td>0.0</td>\n",
       "    </tr>\n",
       "    <tr>\n",
       "      <th>389842</th>\n",
       "      <td>2022-01-19 00:45:50+0000</td>\n",
       "      <td>2022-01-18 16:45:50-0800</td>\n",
       "      <td>1.642376e+09</td>\n",
       "      <td>3.0</td>\n",
       "      <td>0.774597</td>\n",
       "      <td>0.0</td>\n",
       "    </tr>\n",
       "    <tr>\n",
       "      <th>...</th>\n",
       "      <td>...</td>\n",
       "      <td>...</td>\n",
       "      <td>...</td>\n",
       "      <td>...</td>\n",
       "      <td>...</td>\n",
       "      <td>...</td>\n",
       "    </tr>\n",
       "    <tr>\n",
       "      <th>418555</th>\n",
       "      <td>2022-09-08 10:05:42+0000</td>\n",
       "      <td>2022-09-08 03:05:42-0700</td>\n",
       "      <td>1.662632e+09</td>\n",
       "      <td>2.8</td>\n",
       "      <td>0.748331</td>\n",
       "      <td>0.0</td>\n",
       "    </tr>\n",
       "    <tr>\n",
       "      <th>418556</th>\n",
       "      <td>2022-09-08 10:10:42+0000</td>\n",
       "      <td>2022-09-08 03:10:42-0700</td>\n",
       "      <td>1.662632e+09</td>\n",
       "      <td>2.8</td>\n",
       "      <td>0.748331</td>\n",
       "      <td>0.0</td>\n",
       "    </tr>\n",
       "    <tr>\n",
       "      <th>418557</th>\n",
       "      <td>2022-09-08 10:15:42+0000</td>\n",
       "      <td>2022-09-08 03:15:42-0700</td>\n",
       "      <td>1.662632e+09</td>\n",
       "      <td>3.6</td>\n",
       "      <td>0.848528</td>\n",
       "      <td>0.0</td>\n",
       "    </tr>\n",
       "    <tr>\n",
       "      <th>418558</th>\n",
       "      <td>2022-09-08 10:20:42+0000</td>\n",
       "      <td>2022-09-08 03:20:42-0700</td>\n",
       "      <td>1.662632e+09</td>\n",
       "      <td>2.8</td>\n",
       "      <td>0.748331</td>\n",
       "      <td>0.0</td>\n",
       "    </tr>\n",
       "    <tr>\n",
       "      <th>418559</th>\n",
       "      <td>2022-09-08 10:25:42+0000</td>\n",
       "      <td>2022-09-08 03:25:42-0700</td>\n",
       "      <td>1.662633e+09</td>\n",
       "      <td>3.0</td>\n",
       "      <td>0.774597</td>\n",
       "      <td>0.0</td>\n",
       "    </tr>\n",
       "  </tbody>\n",
       "</table>\n",
       "<p>28722 rows × 6 columns</p>\n",
       "</div>"
      ],
      "text/plain": [
       "                  deviceTime_utc          deviceTime_local  deviceTime_unix  \\\n",
       "389838  2022-01-19 00:45:41+0000  2022-01-18 16:45:41-0800     1.642374e+09   \n",
       "389839  2022-01-19 00:45:43+0000  2022-01-18 16:45:43-0800     1.642375e+09   \n",
       "389840  2022-01-19 00:45:45+0000  2022-01-18 16:45:45-0800     1.642375e+09   \n",
       "389841  2022-01-19 00:45:48+0000  2022-01-18 16:45:48-0800     1.642375e+09   \n",
       "389842  2022-01-19 00:45:50+0000  2022-01-18 16:45:50-0800     1.642376e+09   \n",
       "...                          ...                       ...              ...   \n",
       "418555  2022-09-08 10:05:42+0000  2022-09-08 03:05:42-0700     1.662632e+09   \n",
       "418556  2022-09-08 10:10:42+0000  2022-09-08 03:10:42-0700     1.662632e+09   \n",
       "418557  2022-09-08 10:15:42+0000  2022-09-08 03:15:42-0700     1.662632e+09   \n",
       "418558  2022-09-08 10:20:42+0000  2022-09-08 03:20:42-0700     1.662632e+09   \n",
       "418559  2022-09-08 10:25:42+0000  2022-09-08 03:25:42-0700     1.662633e+09   \n",
       "\n",
       "        cpm  cpmError  error_flag  \n",
       "389838  2.6  0.721110         0.0  \n",
       "389839  2.6  0.721110         0.0  \n",
       "389840  2.6  0.721110         0.0  \n",
       "389841  3.4  0.824621         0.0  \n",
       "389842  3.0  0.774597         0.0  \n",
       "...     ...       ...         ...  \n",
       "418555  2.8  0.748331         0.0  \n",
       "418556  2.8  0.748331         0.0  \n",
       "418557  3.6  0.848528         0.0  \n",
       "418558  2.8  0.748331         0.0  \n",
       "418559  3.0  0.774597         0.0  \n",
       "\n",
       "[28722 rows x 6 columns]"
      ]
     },
     "execution_count": 156,
     "metadata": {},
     "output_type": "execute_result"
    }
   ],
   "source": [
    "df_2022"
   ]
  },
  {
   "cell_type": "code",
   "execution_count": 157,
   "id": "b99ad072",
   "metadata": {},
   "outputs": [],
   "source": [
    "import datetime as dt"
   ]
  },
  {
   "cell_type": "code",
   "execution_count": 158,
   "id": "fde4d724",
   "metadata": {},
   "outputs": [],
   "source": [
    "start_time = dt.datetime(2022,1,1,0,0,0)"
   ]
  },
  {
   "cell_type": "code",
   "execution_count": 159,
   "id": "474ca17c",
   "metadata": {},
   "outputs": [
    {
     "data": {
      "text/plain": [
       "datetime.datetime(2022, 1, 1, 0, 0)"
      ]
     },
     "execution_count": 159,
     "metadata": {},
     "output_type": "execute_result"
    }
   ],
   "source": [
    "start_time"
   ]
  },
  {
   "cell_type": "code",
   "execution_count": 165,
   "id": "3e49bb5b",
   "metadata": {},
   "outputs": [],
   "source": [
    "start = dt.datetime.timestamp(start_time)"
   ]
  },
  {
   "cell_type": "code",
   "execution_count": 167,
   "id": "baa1a27b",
   "metadata": {},
   "outputs": [
    {
     "name": "stdout",
     "output_type": "stream",
     "text": [
      "2.793953488372093\n",
      "nan\n",
      "2.7659910502763885\n",
      "2.7536358458325427\n",
      "2.7775933609958505\n",
      "2.7850166287414666\n",
      "2.7718296379007814\n",
      "2.801739130434782\n",
      "3.365692677896184\n",
      "nan\n",
      "nan\n",
      "nan\n"
     ]
    }
   ],
   "source": [
    "for i in range(12):\n",
    "    mask = (df_2022['deviceTime_unix'] > (start+i*interval)) & (df_2022['deviceTime_unix'] < (start + (i+1)*interval))\n",
    "    idf = df_2022[mask]\n",
    "    cpm_ave = idf['cpm'].mean()\n",
    "    print(cpm_ave)\n"
   ]
  },
  {
   "cell_type": "code",
   "execution_count": null,
   "id": "c2ee4800",
   "metadata": {},
   "outputs": [],
   "source": []
  }
 ],
 "metadata": {
  "kernelspec": {
   "display_name": "Python 3",
   "language": "python",
   "name": "python3"
  },
  "language_info": {
   "codemirror_mode": {
    "name": "ipython",
    "version": 3
   },
   "file_extension": ".py",
   "mimetype": "text/x-python",
   "name": "python",
   "nbconvert_exporter": "python",
   "pygments_lexer": "ipython3",
   "version": "3.7.3"
  }
 },
 "nbformat": 4,
 "nbformat_minor": 5
}
