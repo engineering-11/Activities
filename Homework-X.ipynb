{
 "cells": [
  {
   "cell_type": "markdown",
   "metadata": {},
   "source": [
    "# 2. Radiation from Radon (Rn)\n",
    "\n",
    "### 2.a. The average home in the US has ~ 0.019 pico-grams ($10^{-12}$ g) of $Rn/m^3$. What is the corresponding activity, in $Bq/m^3$?\n",
    "\n",
    "### 2.b. If we assume all of the short half-life daughters following the Rn decay to be part of the same disintegration, how much energy is being produced by this activity? (in units of $MeV/m^3/s$) Use the decay table provided on slide 34.\n",
    "\n",
    "### 2.c. Use the [live chart](https://www-nds.iaea.org/relnsd/vcharthtml/VChartHTML.html) to update your answer to include all significant decay modes and secondary gamma radiation (neglect x-rays)\n",
    "  * Hint: The total will be a weighted (by branching ratio) sum of all decay products.\n",
    "\n",
    "### 2.d. In a 25 $m^3$ room, how much energy is being produced from Radon? How does this compare to a ~10W (Joules/s) LED light bulb?\n"
   ]
  },
  {
   "cell_type": "code",
   "execution_count": null,
   "metadata": {},
   "outputs": [],
   "source": []
  }
 ],
 "metadata": {
  "kernelspec": {
   "display_name": "Python 3",
   "language": "python",
   "name": "python3"
  },
  "language_info": {
   "codemirror_mode": {
    "name": "ipython",
    "version": 3
   },
   "file_extension": ".py",
   "mimetype": "text/x-python",
   "name": "python",
   "nbconvert_exporter": "python",
   "pygments_lexer": "ipython3",
   "version": "3.7.1"
  }
 },
 "nbformat": 4,
 "nbformat_minor": 2
}
