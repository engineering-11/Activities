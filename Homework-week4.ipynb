{
 "cells": [
  {
   "cell_type": "markdown",
   "metadata": {},
   "source": [
    "## Part 1: Copy this notebook\n",
    "\n",
    "Get a local compy of this notebook by following these steps:\n",
    "1. Open your command-line terminal and go to the Activities git repository folder\n",
    "\n",
    "```\n",
    "$ cd ~/Activities\n",
    "```\n",
    "\n",
    "2. Pickup the added files from the master branch\n",
    "\n",
    "```\n",
    "$ git checkout master\n",
    "$ git pull\n",
    "```\n",
    "\n",
    "NOTE: If you have any error messages related to local files that have been modified, make note of the issue (e.g. take a screen shot) and then 'stash' your local modifications:\n",
    "\n",
    "```\n",
    "$ git stash\n",
    "$ git checkout master\n",
    "$ git pull\n",
    "```\n",
    "\n",
    "3. You should now see a jupyter notebook in the Activities folder. `ls` should include `Homework-week4.ipynb`\n",
    "\n",
    "\n",
    "4. Copy this jupyter notebook to your private repository:\n",
    "\n",
    "```\n",
    "$ cd ~\n",
    "$ cp Activities/Homework-week4.ipynb E11-work/\n",
    "```\n",
    "\n",
    "NOTE: If you named your private repository something other than `E11-work`, you should substitute the name of your repository in place of `E11-work` in these instructions.\n",
    "\n",
    "5. Open this notebook through the jupyter browser: launch jupyter and navigate to the E11-work (your private repository) directory and open this notebook from that directory.\n",
    "\n",
    "\n",
    "6. Embed your answers to the following questions within this copy of the notebook.\n",
    "\n",
    "\n",
    "NOTE: For non-numerical answers, you can make your answers in Markdown by selecting 'Markdown' in the drop-down menu for the cell type in the toolbar. \n",
    "\n",
    "Please either include Markdown, text in a print statement, or comments in your code cells, to describe what you are doing when you are using python code to provide your answer. Please show all work.\n",
    "\n",
    "\n",
    "## Part 2: Homework questions"
   ]
  },
  {
   "cell_type": "markdown",
   "metadata": {},
   "source": [
    "1.a. You have a radiation detector. It collects 250 interactions - counts - within a 5 second interval. What is the uncertainty on that measurement?"
   ]
  },
  {
   "cell_type": "code",
   "execution_count": null,
   "metadata": {},
   "outputs": [],
   "source": []
  },
  {
   "cell_type": "markdown",
   "metadata": {},
   "source": [
    "1.b. What fraction of measurements will be within one sigma (your answer above) of 250 counts?"
   ]
  },
  {
   "cell_type": "code",
   "execution_count": null,
   "metadata": {},
   "outputs": [],
   "source": []
  },
  {
   "cell_type": "markdown",
   "metadata": {},
   "source": [
    "1.c. How many counts-per-second does this measurement correspond to? What is the uncertainty on that value?"
   ]
  },
  {
   "cell_type": "code",
   "execution_count": null,
   "metadata": {},
   "outputs": [],
   "source": []
  },
  {
   "cell_type": "markdown",
   "metadata": {},
   "source": [
    "2.a. In this image of [data with uncertainties](https://github.com/engineering-11/Engin-11/blob/master/Images/uncertainties_figure1.png), counts-per-minute (CPM) are being plotted as a function of time. Remember, because this is showing CPM, the uncertainties shown are not going to be related to the measured CPM in the same way they would be if this were showing total counts. However, these uncertainties should still be showing the 1-sigma range for a Gaussian distribution. With that in mind, are these points fluctuating as expected given the shown uncertainties? Explain your answer. "
   ]
  },
  {
   "cell_type": "code",
   "execution_count": null,
   "metadata": {},
   "outputs": [],
   "source": []
  },
  {
   "cell_type": "markdown",
   "metadata": {},
   "source": [
    "2.b. Now consider this image of [data with uncertainties](https://github.com/engineering-11/Engin-11/blob/master/Images/uncertainties_figure2.png) and answer the same question."
   ]
  },
  {
   "cell_type": "code",
   "execution_count": null,
   "metadata": {},
   "outputs": [],
   "source": []
  },
  {
   "cell_type": "markdown",
   "metadata": {},
   "source": [
    "3.a. If you are given a set of CPM measurements, `[20, 40, 18, 30, 45, 25, 35, 32]`, each taken over 10 minute intervals. Calculate the uncertainty on each measurement? (Remember that the CPM values are not the total counts measured.)"
   ]
  },
  {
   "cell_type": "code",
   "execution_count": null,
   "metadata": {},
   "outputs": [],
   "source": []
  },
  {
   "cell_type": "markdown",
   "metadata": {},
   "source": [
    "3.b. Are these measurements consistent? In other words, given the uncertainties you determined, is the variation between the measurements within those statistical uncertainties, or is something else required to explain the variation? Explain your answer."
   ]
  },
  {
   "cell_type": "code",
   "execution_count": null,
   "metadata": {},
   "outputs": [],
   "source": []
  },
  {
   "cell_type": "markdown",
   "metadata": {},
   "source": [
    "3.c. Do the same with this set of CPM measurements, still taken over 10 minute intervals: \n",
    "\n",
    "```\n",
    "[45, 48, 43, 44, 46, 42, 47, 40]\n",
    "```\n",
    "\n",
    "Are these variations explainable by your calculated statistical uncertainties?"
   ]
  },
  {
   "cell_type": "code",
   "execution_count": null,
   "metadata": {},
   "outputs": [],
   "source": []
  },
  {
   "cell_type": "markdown",
   "metadata": {},
   "source": [
    "4.a. Here is a list of data (measurements) with uncertainties:\n",
    "```\n",
    "120 +/- 5.5, 125 +/- 5.6, 118 +/- 5.4, 122 +/- 5.5, 116 +/- 5.4 \n",
    "```\n",
    "\n",
    "Combined this data: determine the **mean** and **uncertainty** of the combined measurement. Show your work. \n",
    "\n",
    "HINT: Do not calculate the standard deviation on the data to determine the combined uncertainty, instead combine the given uncertainties in the way we learned in class."
   ]
  },
  {
   "cell_type": "code",
   "execution_count": null,
   "metadata": {},
   "outputs": [],
   "source": []
  },
  {
   "cell_type": "markdown",
   "metadata": {},
   "source": [
    "4.b. We have two detectors measuring the same radiation source. One of the detectors is measuring an activity from the source of $3235 +/- 12.5$, the other is measuring an activity of $3178 +/- 143.6$. Combined these two results to determine the most likely activity (combined mean) and the combined uncertainty."
   ]
  },
  {
   "cell_type": "code",
   "execution_count": null,
   "metadata": {},
   "outputs": [],
   "source": []
  },
  {
   "cell_type": "markdown",
   "metadata": {},
   "source": [
    "5.a. You have a radiation detector that is able to detect $2\\%$ of all radioactive decays produced by a source placed in front of it. If you place a source with an activity of $11235 Bq$ in front of the detector, what do you expect the measured counts-per-second (CPS) to be? Show your work."
   ]
  },
  {
   "cell_type": "code",
   "execution_count": null,
   "metadata": {},
   "outputs": [],
   "source": []
  },
  {
   "cell_type": "markdown",
   "metadata": {},
   "source": [
    "5.b. What is the expected fluctuation in the actual number of decays each second? Show your work."
   ]
  },
  {
   "cell_type": "code",
   "execution_count": null,
   "metadata": {},
   "outputs": [],
   "source": []
  },
  {
   "cell_type": "markdown",
   "metadata": {},
   "source": [
    "5.c. If you take data in 10s intervals, what will the most likely number of counts collected be and how much will that value vary from measurement to measurement? In other words, what is the uncertainty, or standard deviation, on that measurement? Show your work."
   ]
  },
  {
   "cell_type": "code",
   "execution_count": null,
   "metadata": {},
   "outputs": [],
   "source": []
  },
  {
   "cell_type": "markdown",
   "metadata": {},
   "source": [
    "6. You have a $CO_{2}$ sensor that you are testing the reliability of in your lab. You are collecting data in a controlled environment where the actual $CO_{2}$ level in parts-per-million (ppm) is held at $450 ppm$. Your detector is measuring $512 +/- 3.4$. You want to now use this detector to measure the $CO_{2}$ levels in your office, to make sure your ventelation is working. How precise is your detector, i.e. what is the percent uncertainty? How can you make it accurate?"
   ]
  }
 ],
 "metadata": {
  "kernelspec": {
   "display_name": "Python 3",
   "language": "python",
   "name": "python3"
  },
  "language_info": {
   "codemirror_mode": {
    "name": "ipython",
    "version": 3
   },
   "file_extension": ".py",
   "mimetype": "text/x-python",
   "name": "python",
   "nbconvert_exporter": "python",
   "pygments_lexer": "ipython3",
   "version": "3.7.1"
  }
 },
 "nbformat": 4,
 "nbformat_minor": 2
}
