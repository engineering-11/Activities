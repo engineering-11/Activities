{
 "cells": [
  {
   "cell_type": "code",
   "execution_count": 1,
   "id": "8fe1f037",
   "metadata": {},
   "outputs": [],
   "source": [
    "data = [0,1,2,3,4,5,6,7,8,9]\n",
    "\n"
   ]
  },
  {
   "cell_type": "code",
   "execution_count": 2,
   "id": "2e135d88",
   "metadata": {},
   "outputs": [
    {
     "data": {
      "text/plain": [
       "range(0, 10)"
      ]
     },
     "execution_count": 2,
     "metadata": {},
     "output_type": "execute_result"
    }
   ],
   "source": [
    "range(10)"
   ]
  },
  {
   "cell_type": "code",
   "execution_count": 3,
   "id": "710b2acc",
   "metadata": {},
   "outputs": [
    {
     "name": "stdout",
     "output_type": "stream",
     "text": [
      "0\n",
      "1\n",
      "2\n",
      "3\n",
      "4\n",
      "5\n",
      "6\n",
      "7\n",
      "8\n",
      "9\n"
     ]
    }
   ],
   "source": [
    "for i in range(10):\n",
    "    print(i)"
   ]
  },
  {
   "cell_type": "code",
   "execution_count": 7,
   "id": "4acbbf6b",
   "metadata": {},
   "outputs": [
    {
     "name": "stdout",
     "output_type": "stream",
     "text": [
      "0\n",
      "Hello\n",
      "2\n",
      "Hello\n",
      "4\n",
      "Hello\n",
      "6\n",
      "Hello\n",
      "8\n",
      "Hello\n",
      "10\n",
      "Hello\n",
      "12\n",
      "Hello\n",
      "14\n",
      "Hello\n",
      "16\n",
      "Hello\n",
      "18\n",
      "Hello\n"
     ]
    }
   ],
   "source": [
    "for idata in data:\n",
    "    val = idata*2\n",
    "    print(val)\n",
    "    print(\"Hello\")"
   ]
  },
  {
   "cell_type": "code",
   "execution_count": 8,
   "id": "0d8b1374",
   "metadata": {},
   "outputs": [
    {
     "name": "stdout",
     "output_type": "stream",
     "text": [
      "0\n",
      "1\n",
      "2\n",
      "3\n",
      "4\n",
      "5\n",
      "6\n",
      "7\n",
      "8\n",
      "9\n"
     ]
    }
   ],
   "source": [
    "i = 0\n",
    "while i < 10:\n",
    "    print(i)\n",
    "    i = i+1"
   ]
  },
  {
   "cell_type": "code",
   "execution_count": 11,
   "id": "7ae5a537",
   "metadata": {},
   "outputs": [
    {
     "name": "stdout",
     "output_type": "stream",
     "text": [
      "0\n",
      "1\n",
      "2\n",
      "not in range\n",
      "not in range\n",
      "not in range\n",
      "not in range\n",
      "not in range\n",
      "8\n",
      "9\n",
      "10\n",
      "11\n",
      "12\n",
      "13\n",
      "14\n",
      "15\n",
      "16\n",
      "17\n",
      "18\n",
      "19\n"
     ]
    }
   ],
   "source": [
    "for i in range(20):\n",
    "    if i < 3:\n",
    "        print(i)\n",
    "    elif i > 7:\n",
    "        print(i)\n",
    "    else:\n",
    "        print(\"not in range\")"
   ]
  },
  {
   "cell_type": "code",
   "execution_count": 16,
   "id": "9c929b01",
   "metadata": {},
   "outputs": [],
   "source": [
    "# def function(argument):\n",
    "def square(value):\n",
    "    sq = value*value\n",
    "    output = sq + 100\n",
    "    return output"
   ]
  },
  {
   "cell_type": "code",
   "execution_count": 17,
   "id": "dea62ea9",
   "metadata": {},
   "outputs": [
    {
     "name": "stdout",
     "output_type": "stream",
     "text": [
      "100\n",
      "101\n",
      "104\n",
      "109\n",
      "116\n",
      "125\n",
      "136\n",
      "149\n",
      "164\n",
      "181\n"
     ]
    }
   ],
   "source": [
    "for idata in data:\n",
    "    sq = square(idata)\n",
    "    print(sq)"
   ]
  },
  {
   "cell_type": "code",
   "execution_count": 18,
   "id": "2cae0af1",
   "metadata": {},
   "outputs": [],
   "source": [
    "import random"
   ]
  },
  {
   "cell_type": "code",
   "execution_count": 35,
   "id": "95010cc7",
   "metadata": {},
   "outputs": [
    {
     "data": {
      "text/plain": [
       "8"
      ]
     },
     "execution_count": 35,
     "metadata": {},
     "output_type": "execute_result"
    }
   ],
   "source": [
    "int(10*random.random())+1"
   ]
  },
  {
   "cell_type": "code",
   "execution_count": null,
   "id": "dcf95dea",
   "metadata": {},
   "outputs": [],
   "source": []
  },
  {
   "cell_type": "code",
   "execution_count": null,
   "id": "93b2a20a",
   "metadata": {},
   "outputs": [],
   "source": []
  }
 ],
 "metadata": {
  "kernelspec": {
   "display_name": "Python 3",
   "language": "python",
   "name": "python3"
  },
  "language_info": {
   "codemirror_mode": {
    "name": "ipython",
    "version": 3
   },
   "file_extension": ".py",
   "mimetype": "text/x-python",
   "name": "python",
   "nbconvert_exporter": "python",
   "pygments_lexer": "ipython3",
   "version": "3.7.3"
  }
 },
 "nbformat": 4,
 "nbformat_minor": 5
}
