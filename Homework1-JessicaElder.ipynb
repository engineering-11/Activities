{
 "cells": [
  {
   "cell_type": "code",
   "execution_count": 21,
   "metadata": {},
   "outputs": [
    {
     "name": "stdout",
     "output_type": "stream",
     "text": [
      "Question 1\n"
     ]
    }
   ],
   "source": [
    "print('Question 1')\n",
    "ln2 = .693147\n",
    "\n"
   ]
  },
  {
   "cell_type": "code",
   "execution_count": 2,
   "metadata": {},
   "outputs": [],
   "source": [
    "Av = 6.02 * 10 **23"
   ]
  },
  {
   "cell_type": "code",
   "execution_count": 3,
   "metadata": {},
   "outputs": [
    {
     "data": {
      "text/plain": [
       "6.019999999999999e+23"
      ]
     },
     "execution_count": 3,
     "metadata": {},
     "output_type": "execute_result"
    }
   ],
   "source": [
    "Av\n"
   ]
  },
  {
   "cell_type": "code",
   "execution_count": 15,
   "metadata": {},
   "outputs": [],
   "source": [
    "elementformat = ('halflife','mass', 'M', 'abundance')\n",
    "K = (3.91* 10 **16, 140, 39.09, 0.00012)\n",
    "U = (1.42 * 10**17, .0001, 238.05, .9927)\n",
    "Th = (4.43 *10 **17, .0001, 232.038, .999)\n",
    "ActK40 = ((ln2 * Av * K[1] * K[3])/(K[0]*K[2]))\n",
    "ActU238 = ((ln2 * Av * U[1] * U[3])/(U[0]*U[2]))\n",
    "ActTh232 = ((ln2 * Av * Th[1] * Th[3])/(Th[0]*Th[2]))   \n",
    "TotalAct = ActK40 + ActU238 + ActTh232"
   ]
  },
  {
   "cell_type": "code",
   "execution_count": 11,
   "metadata": {},
   "outputs": [
    {
     "data": {
      "text/plain": [
       "4586.577044122062"
      ]
     },
     "execution_count": 11,
     "metadata": {},
     "output_type": "execute_result"
    }
   ],
   "source": [
    "ActK40"
   ]
  },
  {
   "cell_type": "code",
   "execution_count": 12,
   "metadata": {},
   "outputs": [
    {
     "data": {
      "text/plain": [
       "1.2254153914694215"
      ]
     },
     "execution_count": 12,
     "metadata": {},
     "output_type": "execute_result"
    }
   ],
   "source": [
    "ActU238"
   ]
  },
  {
   "cell_type": "code",
   "execution_count": 16,
   "metadata": {},
   "outputs": [
    {
     "data": {
      "text/plain": [
       "0.4055314006674822"
      ]
     },
     "execution_count": 16,
     "metadata": {},
     "output_type": "execute_result"
    }
   ],
   "source": [
    "ActTh232"
   ]
  },
  {
   "cell_type": "code",
   "execution_count": 27,
   "metadata": {},
   "outputs": [
    {
     "name": "stdout",
     "output_type": "stream",
     "text": [
      "1a:4600 Bq\n",
      "1b: 0.066 Bq/g\n",
      "1c: https://hps.org/publicinformation/ate/faqs/faqradbods.html https://en.wikipedia.org/wiki/Potassium-40 https://en.wikipedia.org/wiki/Uranium-238 https://en.wikipedia.org/wiki/Isotopes_of_thorium\n"
     ]
    }
   ],
   "source": [
    "TotalAct\n",
    "print('1a:4600 Bq')\n",
    "print('1b: 0.066 Bq/g')\n",
    "print('1c: https://hps.org/publicinformation/ate/faqs/faqradbods.html https://en.wikipedia.org/wiki/Potassium-40 https://en.wikipedia.org/wiki/Uranium-238 https://en.wikipedia.org/wiki/Isotopes_of_thorium')"
   ]
  },
  {
   "cell_type": "code",
   "execution_count": 19,
   "metadata": {},
   "outputs": [
    {
     "data": {
      "text/plain": [
       "0.06554582844163141"
      ]
     },
     "execution_count": 19,
     "metadata": {},
     "output_type": "execute_result"
    }
   ],
   "source": [
    "SpecAct= TotalAct/70000\n",
    "SpecAct"
   ]
  },
  {
   "cell_type": "code",
   "execution_count": 24,
   "metadata": {},
   "outputs": [
    {
     "name": "stdout",
     "output_type": "stream",
     "text": [
      "Question 2\n"
     ]
    }
   ],
   "source": [
    "print('Question 2')"
   ]
  },
  {
   "cell_type": "code",
   "execution_count": 25,
   "metadata": {},
   "outputs": [],
   "source": [
    "K_ = (3.91* 10 **16,.4296, 39.09, 0.00012)\n",
    "C = (1.81 * 10**11, .01, 12.01, 1*10**-14)\n",
    "Mn = (26956800, .000324, 54.94, 0)\n",
    "Zn = (21081600, .00018, 65.38, 0)\n",
    "Na = (82000000,.0012,22.99, 0)\n",
    "\n",
    "ActK40_ = ((ln2 * Av * K_[1] * K_[3])/(K_[0]*K_[2]))\n",
    "ActC14 = ((ln2 * Av * C[1] * C[3])/(C[0]*C[2]))\n",
    "BananaActivity = ActK40_ + ActC14"
   ]
  },
  {
   "cell_type": "code",
   "execution_count": 26,
   "metadata": {},
   "outputs": [
    {
     "data": {
      "text/plain": [
       "14.074258468071148"
      ]
     },
     "execution_count": 26,
     "metadata": {},
     "output_type": "execute_result"
    }
   ],
   "source": [
    "BananaActivity"
   ]
  },
  {
   "cell_type": "code",
   "execution_count": 28,
   "metadata": {},
   "outputs": [
    {
     "name": "stdout",
     "output_type": "stream",
     "text": [
      "2a: Potassium-40 will contribute the most significantly to the answer because it is the only radioactive isotope in bananas with a significant natural abundance.\n",
      "2b: Approximately 11% of K-40 decays will be gamma emissions, yielding 1.55 Bq\n",
      "2c: Approximately 89% will be from beta decay, yeilding 12.5 Bq.\n",
      "2d: The total activity of the banana is 14.1 Bq\n",
      "2e: When purchasing the banana, you will only be exposed to gamma emission, which is 1.55 Bq.\n",
      "2f: When you eat the banana, you will be exposed to the full 14.1 Bq\n"
     ]
    }
   ],
   "source": [
    "\n",
    "\n",
    "print('2a: Potassium-40 will contribute the most significantly to the answer because it is the only radioactive isotope in bananas with a significant natural abundance.')\n",
    "print('2b: Approximately 11% of K-40 decays will be gamma emissions, yielding 1.55 Bq')\n",
    "print('2c: Approximately 89% will be from beta decay, yeilding 12.5 Bq.')\n",
    "print('2d: The total activity of the banana is 14.1 Bq')\n",
    "print('2e: When purchasing the banana, you will only be exposed to gamma emission, which is 1.55 Bq.')\n",
    "print('2f: When you eat the banana, you will be exposed to the full 14.1 Bq')\n"
   ]
  },
  {
   "cell_type": "code",
   "execution_count": null,
   "metadata": {},
   "outputs": [],
   "source": []
  }
 ],
 "metadata": {
  "kernelspec": {
   "display_name": "Python 3",
   "language": "python",
   "name": "python3"
  },
  "language_info": {
   "codemirror_mode": {
    "name": "ipython",
    "version": 3
   },
   "file_extension": ".py",
   "mimetype": "text/x-python",
   "name": "python",
   "nbconvert_exporter": "python",
   "pygments_lexer": "ipython3",
   "version": "3.7.3"
  }
 },
 "nbformat": 4,
 "nbformat_minor": 2
}
