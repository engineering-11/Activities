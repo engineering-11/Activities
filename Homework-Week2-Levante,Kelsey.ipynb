{
 "cells": [
  {
   "cell_type": "markdown",
   "metadata": {},
   "source": [
    "# 1. HOW RADIOACTIVE ARE HUMANS?"
   ]
  },
  {
   "cell_type": "markdown",
   "metadata": {},
   "source": [
    "# 1a. Assume an average human mass of 70kg. What is the activity (Bq) of that person?\n",
    "\n",
    "The main source of radiation in the human body is from 40K. If the average person is approximatly 70 kg, \n",
    "their radioactive level is about 1.2e8, which is approximatly 1.2e8 atoms going under radioactive decay \n",
    "every single second. The levels of Carbon14 and Radon are usually too minimal to have much effect. "
   ]
  },
  {
   "cell_type": "code",
   "execution_count": null,
   "metadata": {},
   "outputs": [],
   "source": []
  },
  {
   "cell_type": "code",
   "execution_count": 20,
   "metadata": {},
   "outputs": [],
   "source": [
    "h=1.775*6.02e23/39000"
   ]
  },
  {
   "cell_type": "markdown",
   "metadata": {},
   "source": [
    "*Comment: You seem to be trying to get atoms/kg with: 1.775 g/kg * N atoms/mol * 1/(39 g/mol). The molar mass of potassium is 39.1 g/mol, not 39000 (-0.5)*"
   ]
  },
  {
   "cell_type": "code",
   "execution_count": 21,
   "metadata": {},
   "outputs": [],
   "source": [
    "i=h*0.000117"
   ]
  },
  {
   "cell_type": "markdown",
   "metadata": {},
   "source": [
    "*Comment: Abundance accounted for correctly*"
   ]
  },
  {
   "cell_type": "code",
   "execution_count": 22,
   "metadata": {},
   "outputs": [],
   "source": [
    "import math"
   ]
  },
  {
   "cell_type": "code",
   "execution_count": 23,
   "metadata": {},
   "outputs": [],
   "source": [
    "j=i*math.log(2)/1.25e9"
   ]
  },
  {
   "cell_type": "markdown",
   "metadata": {},
   "source": [
    "*Comment: Half-life applied correctly*"
   ]
  },
  {
   "cell_type": "code",
   "execution_count": 26,
   "metadata": {},
   "outputs": [],
   "source": [
    "k=j*70"
   ]
  },
  {
   "cell_type": "markdown",
   "metadata": {},
   "source": [
    "*Comment: This would give you decays/year if you didn't have the error above*"
   ]
  },
  {
   "cell_type": "code",
   "execution_count": 27,
   "metadata": {},
   "outputs": [
    {
     "data": {
      "text/plain": [
       "124431286.52427134"
      ]
     },
     "execution_count": 27,
     "metadata": {},
     "output_type": "execute_result"
    }
   ],
   "source": [
    "k"
   ]
  },
  {
   "cell_type": "markdown",
   "metadata": {},
   "source": [
    "*Comment: This is the decays/year - you need to convert from years to seconds to get the final answer (-1)*\n",
    "\n",
    "*Comment: your activity should only be from decays that escape the body (so not electrons) so you should include the branching ration to gammas (-1)*"
   ]
  },
  {
   "cell_type": "markdown",
   "metadata": {},
   "source": [
    "# 1b. how radioactive are you?\n",
    "\n",
    "Since I am 52 kg, my radioactive level is approximatly 9.2e7. "
   ]
  },
  {
   "cell_type": "code",
   "execution_count": 28,
   "metadata": {},
   "outputs": [],
   "source": [
    "l=j*52"
   ]
  },
  {
   "cell_type": "code",
   "execution_count": 29,
   "metadata": {},
   "outputs": [
    {
     "data": {
      "text/plain": [
       "92434669.98945871"
      ]
     },
     "execution_count": 29,
     "metadata": {},
     "output_type": "execute_result"
    }
   ],
   "source": [
    "l"
   ]
  },
  {
   "cell_type": "markdown",
   "metadata": {},
   "source": [
    "*Comment: Again, this would be right if you had converted from decays/year to decays/second*"
   ]
  },
  {
   "cell_type": "markdown",
   "metadata": {},
   "source": [
    "# 1c. provide references\n",
    "\n",
    "I got my numbers for my calculations from:\n",
    "- hps.org \n",
    "    - average mass: 70 kg\n",
    "    - Potassium in the human body: 45 millimole (mmol)/kg = 1.755 g/kg"
   ]
  },
  {
   "cell_type": "markdown",
   "metadata": {},
   "source": [
    "# 2. WHAT IS THE ACTIVITY FROM A 120G BANANA?\n",
    "\n",
    "45 mg of potassium in 120 g banana\n",
    "~3,500 picocuries per kilo of potassium\n",
    "\n",
    "The activity of a 120g banana is about 1.3*10^(-4) Bq.\n",
    "\n",
    "data reference: National Cancer Association"
   ]
  },
  {
   "cell_type": "markdown",
   "metadata": {},
   "source": [
    "# 2a. Which of the components of a banana will contribute the most to the activity and why?\n",
    "\n",
    "The potassium will have the greatest effect because there is such a small quantity of the other vitamins, that\n",
    "if they have any levels of radioactivity, it will be so small compared to the activity levels of the potassium. "
   ]
  },
  {
   "cell_type": "markdown",
   "metadata": {},
   "source": [
    "2b. What is the activity just from gamma radiation?\n",
    "\n",
    "In the average banana, there is 358mg of potassium, 0.0117% of which is 40K, therfore there is a total of 0.0419 mg \n",
    "of 40K. The branching ratio for gamma radiation is about 10.66% which means that there are 3.8*10e4 decays from gamma. "
   ]
  },
  {
   "cell_type": "code",
   "execution_count": 39,
   "metadata": {},
   "outputs": [],
   "source": [
    "a=0.358*6.02e23/39000"
   ]
  },
  {
   "cell_type": "code",
   "execution_count": 40,
   "metadata": {},
   "outputs": [],
   "source": [
    "b=a*0.000117"
   ]
  },
  {
   "cell_type": "code",
   "execution_count": 41,
   "metadata": {},
   "outputs": [],
   "source": [
    "import math"
   ]
  },
  {
   "cell_type": "code",
   "execution_count": 42,
   "metadata": {},
   "outputs": [],
   "source": [
    "c=b*math.log(2)/1.25e9"
   ]
  },
  {
   "cell_type": "code",
   "execution_count": 43,
   "metadata": {},
   "outputs": [],
   "source": [
    "d=c*0.1066"
   ]
  },
  {
   "cell_type": "code",
   "execution_count": 44,
   "metadata": {},
   "outputs": [
    {
     "data": {
      "text/plain": [
       "38218.481298740146"
      ]
     },
     "execution_count": 44,
     "metadata": {},
     "output_type": "execute_result"
    }
   ],
   "source": [
    "d"
   ]
  },
  {
   "cell_type": "markdown",
   "metadata": {},
   "source": [
    "*Comment: Again, this is decays/year and you want decays/second*"
   ]
  },
  {
   "cell_type": "markdown",
   "metadata": {},
   "source": [
    "2.c. Assuming no self-shielding of electrons (all electrons produced escape the banana), what is the activity \n",
    "just from electrons?\n",
    "\n",
    "Since the branching ratio is 89.14% from beta radiation, there are 3.2*10e5 decays from beta (electrons). "
   ]
  },
  {
   "cell_type": "code",
   "execution_count": 45,
   "metadata": {},
   "outputs": [],
   "source": [
    "f=c*0.8914"
   ]
  },
  {
   "cell_type": "code",
   "execution_count": 46,
   "metadata": {},
   "outputs": [
    {
     "data": {
      "text/plain": [
       "319586.81266132236"
      ]
     },
     "execution_count": 46,
     "metadata": {},
     "output_type": "execute_result"
    }
   ],
   "source": [
    "f"
   ]
  },
  {
   "cell_type": "markdown",
   "metadata": {},
   "source": [
    "2.d. What is the total activity of the banana?\n",
    "\n",
    "The total activity of a banana is 15Bq."
   ]
  },
  {
   "cell_type": "markdown",
   "metadata": {},
   "source": [
    "*Comment: Where is this number coming from, it doesn't seem to derive from your answers to 2.b. and 2.c., nor does it seem consistent with what you stated at the start of the problem. (-0.5)*"
   ]
  },
  {
   "cell_type": "markdown",
   "metadata": {},
   "source": [
    "2.e. When you purchase the banana, how much of the activity from the banana are you being exposed to?\n",
    "\n",
    "You are being exposed to only the gamma radiation when you buy the banana, since the electrons do not pass through \n",
    "the peel, so you are only being exposed to 3.8*10^7 decays. "
   ]
  },
  {
   "cell_type": "markdown",
   "metadata": {},
   "source": [
    "2.f. When you eat the banana, how much of the activity are you being exposed to?\n",
    "\n",
    "Youare being exposed to both the beta and the gamma radiation when you are eating the banana, \n",
    "so the activity you recieve is 3.5*10e5 decays. "
   ]
  },
  {
   "cell_type": "code",
   "execution_count": 47,
   "metadata": {},
   "outputs": [
    {
     "data": {
      "text/plain": [
       "358522.3386373372"
      ]
     },
     "execution_count": 47,
     "metadata": {},
     "output_type": "execute_result"
    }
   ],
   "source": [
    "c"
   ]
  },
  {
   "cell_type": "code",
   "execution_count": null,
   "metadata": {},
   "outputs": [],
   "source": []
  },
  {
   "cell_type": "code",
   "execution_count": null,
   "metadata": {},
   "outputs": [],
   "source": []
  }
 ],
 "metadata": {
  "kernelspec": {
   "display_name": "Python 3",
   "language": "python",
   "name": "python3"
  },
  "language_info": {
   "codemirror_mode": {
    "name": "ipython",
    "version": 3
   },
   "file_extension": ".py",
   "mimetype": "text/x-python",
   "name": "python",
   "nbconvert_exporter": "python",
   "pygments_lexer": "ipython3",
   "version": "3.7.1"
  }
 },
 "nbformat": 4,
 "nbformat_minor": 2
}
