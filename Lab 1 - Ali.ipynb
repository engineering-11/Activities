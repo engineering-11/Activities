{
 "cells": [
  {
   "cell_type": "code",
   "execution_count": null,
   "metadata": {},
   "outputs": [],
   "source": [
    "import numpy as np\n",
    "import pandas as pd\n",
    "%matplotlib inline\n",
    "import matplotlib.pyplot as plt"
   ]
  },
  {
   "cell_type": "code",
   "execution_count": null,
   "metadata": {},
   "outputs": [],
   "source": [
    "data = pd.read_csv('https://radwatch.berkeley.edu/sites/default/files/dosenet/etch_roof.csv')"
   ]
  },
  {
   "cell_type": "code",
   "execution_count": null,
   "metadata": {},
   "outputs": [],
   "source": [
    "data"
   ]
  },
  {
   "cell_type": "code",
   "execution_count": null,
   "metadata": {},
   "outputs": [],
   "source": [
    "data.describe()"
   ]
  },
  {
   "cell_type": "code",
   "execution_count": null,
   "metadata": {},
   "outputs": [],
   "source": [
    "cpm_data = data.loc[:,\"deviceTime_local\":\"cpmError\"]\n",
    "cpm_data = cpm_data.drop([\"deviceTime_unix\"],axis=1)\n",
    "cpm_data"
   ]
  },
  {
   "cell_type": "code",
   "execution_count": null,
   "metadata": {},
   "outputs": [],
   "source": [
    "print(cpm_data.max())\n",
    "print(cpm_data.min())"
   ]
  },
  {
   "cell_type": "code",
   "execution_count": null,
   "metadata": {},
   "outputs": [],
   "source": [
    "cpm_data.loc[:,\"cpm\"] > 0.0\n",
    "mask = cpm_data[\"cpm\"] > 0.0\n",
    "#print(mask)\n",
    "good_cpm_data = cpm_data[mask]\n",
    "good_cpm_data.min()"
   ]
  },
  {
   "cell_type": "code",
   "execution_count": null,
   "metadata": {},
   "outputs": [],
   "source": [
    "time_mask = good_cpm_data['deviceTime_local']>'2019-08-05 00:00:00-07:00'\n",
    "month_cpm = good_cpm_data[time_mask]\n",
    "month_cpm"
   ]
  },
  {
   "cell_type": "code",
   "execution_count": null,
   "metadata": {},
   "outputs": [],
   "source": [
    "plt.plot(good_cpm_data[\"cpm\"])\n",
    "plt.ylabel('Counts Per Minute')                       # label the y-axis\n",
    "plt.title(\"CPM vs index\")                                  # put a title!\n",
    "plt.show()"
   ]
  },
  {
   "cell_type": "code",
   "execution_count": null,
   "metadata": {},
   "outputs": [],
   "source": [
    "plt.hist(month_cpm[\"cpm\"],bins=31)\n",
    "plt.ylabel('Frequency')\n",
    "plt.xlabel('Counts Per Minute')\n",
    "plt.show()"
   ]
  },
  {
   "cell_type": "code",
   "execution_count": null,
   "metadata": {},
   "outputs": [],
   "source": [
    "cpm_array = month_cpm[\"cpm\"]\n",
    "mean = np.mean(cpm_array)\n",
    "std = np.std(cpm_array)\n",
    "print(\"<cpm> = {} +/- {}\".format(mean,std))"
   ]
  },
  {
   "cell_type": "code",
   "execution_count": null,
   "metadata": {},
   "outputs": [],
   "source": []
  }
 ],
 "metadata": {
  "kernelspec": {
   "display_name": "Python 3",
   "language": "python",
   "name": "python3"
  },
  "language_info": {
   "codemirror_mode": {
    "name": "ipython",
    "version": 3
   },
   "file_extension": ".py",
   "mimetype": "text/x-python",
   "name": "python",
   "nbconvert_exporter": "python",
   "pygments_lexer": "ipython3",
   "version": "3.7.1"
  }
 },
 "nbformat": 4,
 "nbformat_minor": 2
}
