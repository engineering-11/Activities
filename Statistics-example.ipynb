{
 "cells": [
  {
   "cell_type": "code",
   "execution_count": 36,
   "id": "deca0462",
   "metadata": {},
   "outputs": [],
   "source": [
    "import numpy as np\n",
    "import matplotlib.pyplot as plt\n",
    "from scipy.stats import binom\n",
    "from IPython import display\n",
    "import time\n",
    "from scipy.stats import norm"
   ]
  },
  {
   "cell_type": "code",
   "execution_count": 9,
   "id": "76c33e11",
   "metadata": {},
   "outputs": [],
   "source": [
    "def get_nheads(nflips):\n",
    "    nheads = 0\n",
    "    for i in range(nflips):\n",
    "        if np.random.random() > 0.5:\n",
    "            nheads +=1\n",
    "    return nheads\n",
    "#print(nheads)"
   ]
  },
  {
   "cell_type": "code",
   "execution_count": 13,
   "id": "475df688",
   "metadata": {},
   "outputs": [
    {
     "data": {
      "text/plain": [
       "29"
      ]
     },
     "execution_count": 13,
     "metadata": {},
     "output_type": "execute_result"
    }
   ],
   "source": [
    "get_nheads(50)"
   ]
  },
  {
   "cell_type": "code",
   "execution_count": 19,
   "id": "c19edc1b",
   "metadata": {},
   "outputs": [
    {
     "data": {
      "image/png": "[encoded data removed]",
      "text/plain": [
       "<Figure size 720x360 with 1 Axes>"
      ]
     },
     "metadata": {
      "needs_background": "light"
     },
     "output_type": "display_data"
    }
   ],
   "source": [
    "plt.ion()\n",
    "fig1 = plt.figure(1, figsize=(10,5))\n",
    "\n",
    "ax1 = fig1.add_subplot()\n",
    "#ax2 = fig1.add_subplot(122)\n",
    "fig1.canvas.draw()\n",
    "\n",
    "nheads_exp = []\n",
    "ntests = 200\n",
    "nflips = 50\n",
    "\n",
    "p = .5\n",
    "x = np.array(range(nflips+1))\n",
    "align='mid'\n",
    "if nflips%2==0:\n",
    "    align='left'\n",
    "for i in range(ntests):\n",
    "    iheads = get_nheads(nflips)\n",
    "    nheads_exp.append(iheads)\n",
    "\n",
    "    ax1.clear()\n",
    "    ax1.hist(nheads_exp, range=(0,nflips+1), bins = nflips+1, density=True, align=align)\n",
    "    ax1.plot(x, binom.pmf(x, nflips, p))\n",
    "    ax1.set_ylabel(\"Relative Frequency\")\n",
    "    ax1.set_xlabel(\"Number of heads\")\n",
    "    fig1.canvas.draw()\n",
    "    display.display(plt.gcf())\n",
    "    display.clear_output(wait=True)\n",
    "    time.sleep(0.03)\n"
   ]
  },
  {
   "cell_type": "code",
   "execution_count": 20,
   "id": "c30a2e6c",
   "metadata": {},
   "outputs": [
    {
     "data": {
      "text/plain": [
       "[21,\n",
       " 27,\n",
       " 26,\n",
       " 33,\n",
       " 31,\n",
       " 22,\n",
       " 20,\n",
       " 28,\n",
       " 26,\n",
       " 24,\n",
       " 24,\n",
       " 19,\n",
       " 21,\n",
       " 22,\n",
       " 30,\n",
       " 20,\n",
       " 26,\n",
       " 22,\n",
       " 27,\n",
       " 27,\n",
       " 19,\n",
       " 29,\n",
       " 23,\n",
       " 20,\n",
       " 27,\n",
       " 27,\n",
       " 19,\n",
       " 32,\n",
       " 28,\n",
       " 23,\n",
       " 24,\n",
       " 25,\n",
       " 24,\n",
       " 21,\n",
       " 26,\n",
       " 26,\n",
       " 27,\n",
       " 25,\n",
       " 26,\n",
       " 26,\n",
       " 27,\n",
       " 29,\n",
       " 20,\n",
       " 28,\n",
       " 23,\n",
       " 24,\n",
       " 23,\n",
       " 24,\n",
       " 27,\n",
       " 25,\n",
       " 24,\n",
       " 28,\n",
       " 15,\n",
       " 27,\n",
       " 24,\n",
       " 27,\n",
       " 25,\n",
       " 23,\n",
       " 30,\n",
       " 19,\n",
       " 27,\n",
       " 23,\n",
       " 28,\n",
       " 22,\n",
       " 29,\n",
       " 28,\n",
       " 26,\n",
       " 25,\n",
       " 28,\n",
       " 32,\n",
       " 24,\n",
       " 27,\n",
       " 23,\n",
       " 21,\n",
       " 25,\n",
       " 24,\n",
       " 22,\n",
       " 25,\n",
       " 24,\n",
       " 20,\n",
       " 19,\n",
       " 24,\n",
       " 30,\n",
       " 25,\n",
       " 21,\n",
       " 26,\n",
       " 28,\n",
       " 18,\n",
       " 24,\n",
       " 26,\n",
       " 29,\n",
       " 26,\n",
       " 26,\n",
       " 22,\n",
       " 28,\n",
       " 25,\n",
       " 23,\n",
       " 24,\n",
       " 28,\n",
       " 18,\n",
       " 32,\n",
       " 29,\n",
       " 22,\n",
       " 30,\n",
       " 30,\n",
       " 23,\n",
       " 28,\n",
       " 22,\n",
       " 23,\n",
       " 26,\n",
       " 27,\n",
       " 23,\n",
       " 28,\n",
       " 23,\n",
       " 24,\n",
       " 26,\n",
       " 24,\n",
       " 24,\n",
       " 24,\n",
       " 22,\n",
       " 28,\n",
       " 25,\n",
       " 33,\n",
       " 30,\n",
       " 28,\n",
       " 23,\n",
       " 24,\n",
       " 33,\n",
       " 26,\n",
       " 23,\n",
       " 30,\n",
       " 21,\n",
       " 26,\n",
       " 22,\n",
       " 24,\n",
       " 29,\n",
       " 24,\n",
       " 24,\n",
       " 25,\n",
       " 23,\n",
       " 26,\n",
       " 25,\n",
       " 18,\n",
       " 25,\n",
       " 29,\n",
       " 32,\n",
       " 29,\n",
       " 26,\n",
       " 24,\n",
       " 23,\n",
       " 29,\n",
       " 30,\n",
       " 19,\n",
       " 21,\n",
       " 22,\n",
       " 26,\n",
       " 27,\n",
       " 29,\n",
       " 23,\n",
       " 27,\n",
       " 25,\n",
       " 30,\n",
       " 25,\n",
       " 26,\n",
       " 20,\n",
       " 25,\n",
       " 20,\n",
       " 26,\n",
       " 31,\n",
       " 22,\n",
       " 26,\n",
       " 21,\n",
       " 28,\n",
       " 27,\n",
       " 32,\n",
       " 21,\n",
       " 21,\n",
       " 20,\n",
       " 27,\n",
       " 23,\n",
       " 22,\n",
       " 24,\n",
       " 28,\n",
       " 30,\n",
       " 19,\n",
       " 25,\n",
       " 24,\n",
       " 30,\n",
       " 26,\n",
       " 22,\n",
       " 24,\n",
       " 30,\n",
       " 22,\n",
       " 35,\n",
       " 21,\n",
       " 22,\n",
       " 21,\n",
       " 19,\n",
       " 24,\n",
       " 20]"
      ]
     },
     "execution_count": 20,
     "metadata": {},
     "output_type": "execute_result"
    }
   ],
   "source": [
    "nheads_exp"
   ]
  },
  {
   "cell_type": "code",
   "execution_count": 21,
   "id": "fd36541d",
   "metadata": {},
   "outputs": [
    {
     "data": {
      "text/plain": [
       "25.015"
      ]
     },
     "execution_count": 21,
     "metadata": {},
     "output_type": "execute_result"
    }
   ],
   "source": [
    "np.sum(nheads_exp)/len(nheads_exp)"
   ]
  },
  {
   "cell_type": "code",
   "execution_count": 22,
   "id": "c9155cc5",
   "metadata": {},
   "outputs": [
    {
     "data": {
      "text/plain": [
       "25.015"
      ]
     },
     "execution_count": 22,
     "metadata": {},
     "output_type": "execute_result"
    }
   ],
   "source": [
    "np.mean(nheads_exp)"
   ]
  },
  {
   "cell_type": "code",
   "execution_count": 23,
   "id": "49a549e3",
   "metadata": {},
   "outputs": [
    {
     "data": {
      "text/plain": [
       "3.5347949021124263"
      ]
     },
     "execution_count": 23,
     "metadata": {},
     "output_type": "execute_result"
    }
   ],
   "source": [
    "np.std(nheads_exp)"
   ]
  },
  {
   "cell_type": "code",
   "execution_count": 24,
   "id": "a97ed373",
   "metadata": {},
   "outputs": [],
   "source": [
    "nheads_exp = []\n",
    "ntests = 200\n",
    "for i in range(ntests):\n",
    "    iheads = get_nheads(nflips)\n",
    "    nheads_exp.append(iheads)"
   ]
  },
  {
   "cell_type": "code",
   "execution_count": 25,
   "id": "1c2c1e91",
   "metadata": {},
   "outputs": [
    {
     "data": {
      "text/plain": [
       "25.155"
      ]
     },
     "execution_count": 25,
     "metadata": {},
     "output_type": "execute_result"
    }
   ],
   "source": [
    "np.mean(nheads_exp)"
   ]
  },
  {
   "cell_type": "code",
   "execution_count": 26,
   "id": "a424774c",
   "metadata": {},
   "outputs": [],
   "source": [
    "def get_tests(ntests, nflips):\n",
    "    nheads_exp = []\n",
    "    for i in range(ntests):\n",
    "        iheads = get_nheads(nflips)\n",
    "        nheads_exp.append(iheads)\n",
    "\n",
    "    return nheads_exp"
   ]
  },
  {
   "cell_type": "code",
   "execution_count": 33,
   "id": "217daacd",
   "metadata": {},
   "outputs": [],
   "source": [
    "nmeans_exp = []\n",
    "for i in range(500):\n",
    "    nheads_exp = get_tests(500, 50)\n",
    "    imean = np.mean(nheads_exp)\n",
    "    nmeans_exp.append(imean)"
   ]
  },
  {
   "cell_type": "code",
   "execution_count": 34,
   "id": "6ed7ed6a",
   "metadata": {},
   "outputs": [
    {
     "data": {
      "image/png": "[encoded data removed]",
      "text/plain": [
       "<Figure size 432x288 with 1 Axes>"
      ]
     },
     "metadata": {
      "needs_background": "light"
     },
     "output_type": "display_data"
    }
   ],
   "source": [
    "plt.hist(nmeans_exp,bins=30)\n",
    "plt.show()"
   ]
  },
  {
   "cell_type": "code",
   "execution_count": 37,
   "id": "c5a14816",
   "metadata": {},
   "outputs": [
    {
     "name": "stdout",
     "output_type": "stream",
     "text": [
      "\u001b[1m Mean of the mean number of heads = 25.05 +/- 0.37 \u001b[0m\n"
     ]
    },
    {
     "data": {
      "image/png": "[encoded data removed]",
      "text/plain": [
       "<Figure size 720x360 with 1 Axes>"
      ]
     },
     "metadata": {
      "needs_background": "light"
     },
     "output_type": "display_data"
    }
   ],
   "source": [
    "ntests = 100\n",
    "nflips = 50\n",
    "test_means = []\n",
    "nexperiments = 100\n",
    "\n",
    "for i in range(nexperiments):\n",
    "    nheads_exp = get_tests(ntests, nflips)\n",
    "    test_means.append(np.mean(nheads_exp))\n",
    "\n",
    "mu = np.mean(test_means)\n",
    "sigma = np.std(test_means)\n",
    "x = np.linspace(mu - 5*sigma, mu + 5*sigma, 100)\n",
    "y=norm.pdf(x, mu, sigma)\n",
    "\n",
    "print(\"\\033[1m Mean of the mean number of heads = {:.2f} +/- {:.2f} \\033[0m\".format(mu,sigma))\n",
    "\n",
    "fig1 = plt.figure(1, figsize=(10,5))\n",
    "plt.hist(test_means, bins = nflips, density=True, label=\"F(x)\")\n",
    "plt.plot(x,y, label=\"P(x)\")\n",
    "plt.title(\"Distribution of experimental means for a fair coin\")\n",
    "plt.ylabel(\"Frequency\")\n",
    "plt.xlabel(\"Experimental mean\")\n",
    "plt.legend()\n",
    "plt.show()"
   ]
  },
  {
   "cell_type": "code",
   "execution_count": 38,
   "id": "a8853e69",
   "metadata": {},
   "outputs": [],
   "source": [
    "def get_nheads_weighted(nflips, weight):\n",
    "    nheads = 0\n",
    "    for i in range(nflips):\n",
    "        if np.random.random() > weight:\n",
    "            nheads += 1\n",
    "    return nheads\n",
    "\n",
    "def get_weighted_tests(ntests, nflips, weight):\n",
    "    nheads_exp = []\n",
    "    for i in range(ntests):\n",
    "        iheads = get_nheads_weighted(nflips, weight)\n",
    "        nheads_exp.append(iheads)\n",
    "\n",
    "    return nheads_exp"
   ]
  },
  {
   "cell_type": "code",
   "execution_count": 39,
   "id": "8eea36c5",
   "metadata": {},
   "outputs": [
    {
     "data": {
      "image/png": "[encoded data removed]",
      "text/plain": [
       "<Figure size 720x360 with 1 Axes>"
      ]
     },
     "metadata": {
      "needs_background": "light"
     },
     "output_type": "display_data"
    },
    {
     "name": "stdout",
     "output_type": "stream",
     "text": [
      "Fair coin: ave. nheads = 25.0, sigma = 3.536\n",
      "Nheads between 17 and 32 have a Prob. to be fair of 0.960\n",
      "\n",
      "\u001b[1m Number of heads = 29 \u001b[0m\n",
      "\n",
      "\u001b[1m\u001b[95m Our flip is 1.13 sigma from the fair mean. \u001b[0m\n",
      "\n"
     ]
    }
   ],
   "source": [
    "fairness_weight = 0.40\n",
    "\n",
    "nflips = 50\n",
    "\n",
    "nheads = get_nheads_weighted(nflips, fairness_weight)\n",
    "\n",
    "p = .5\n",
    "x = np.array(range(nflips+1))\n",
    "\n",
    "fig1 = plt.figure(1, figsize=(10,5))\n",
    "plt.plot(x, binom.pmf(x, nflips, p))\n",
    "plt.plot([nheads,nheads], [0,  binom.pmf(nheads, nflips, p)])\n",
    "plt.title(\"Probability distribution for number of heads from 50 coin flips\")\n",
    "plt.ylabel(\"Binomial Probability: P(x)\")\n",
    "plt.xlabel(\"number of heads: x\")\n",
    "plt.show()\n",
    "\n",
    "fair_mean = nflips*p\n",
    "fair_sigma = np.sqrt(fair_mean*(1-p))\n",
    "\n",
    "lowx = int(fair_mean-2*fair_sigma)\n",
    "highx = int(fair_mean+2*fair_sigma)\n",
    "\n",
    "bsum = 0\n",
    "for x in range(lowx, highx):\n",
    "    bsum += binom.pmf(x, nflips, p)\n",
    "\n",
    "print(\"Fair coin: ave. nheads = {}, sigma = {:.3f}\".format(fair_mean,fair_sigma))\n",
    "print(\"Nheads between {} and {} have a Prob. to be fair of {:.3f}\".format(lowx,highx,bsum))\n",
    "print(\"\")\n",
    "print('\\033[1m Number of heads = {} \\033[0m'.format(nheads))\n",
    "print(\"\")\n",
    "print(\"\\033[1m\\033[95m Our flip is {:.2f} sigma from the fair mean. \\033[0m\".format(np.abs(fair_mean-nheads)/fair_sigma))\n",
    "print(\"\")\n"
   ]
  },
  {
   "cell_type": "code",
   "execution_count": 40,
   "id": "6871f571",
   "metadata": {},
   "outputs": [
    {
     "name": "stdout",
     "output_type": "stream",
     "text": [
      "\u001b[1m Fair coin: mean number of heads = 25.0, sigma = 3.54 \u001b[0m\n",
      "\u001b[1m Weighted coin: mean number of heads = 29.59, sigma_e = 3.26 \u001b[0m\n"
     ]
    },
    {
     "data": {
      "image/png": "[encoded data removed]",
      "text/plain": [
       "<Figure size 720x360 with 1 Axes>"
      ]
     },
     "metadata": {
      "needs_background": "light"
     },
     "output_type": "display_data"
    }
   ],
   "source": [
    "fairness_weight = 0.4\n",
    "\n",
    "nflips = 50\n",
    "ntests = 100\n",
    "\n",
    "nheads = get_weighted_tests(ntests, nflips, fairness_weight)\n",
    "nheads_f = get_tests(ntests, nflips)\n",
    "\n",
    "p = .5\n",
    "x = np.array(range(nflips+1))\n",
    "fig1 = plt.figure(1, figsize=(10,5))\n",
    "plt.hist(nheads,density=True, label=\"F(x) - weighted\", alpha = 0.75)\n",
    "plt.hist(nheads_f,density=True, label=\"F(x) - fair\", alpha = 0.75)\n",
    "#plt.plot(x, binom.pmf(x, nflips, p), label=\"P(x)\")\n",
    "plt.ylabel(\"Frequency: F(x)\")\n",
    "plt.xlabel(\"number of heads: x\")\n",
    "plt.xlim(int(fair_mean-10*fair_sigma),int(fair_mean+10*fair_sigma))\n",
    "plt.legend()\n",
    "\n",
    "fair_mean = nflips*p\n",
    "fair_sigma = np.sqrt(fair_mean*(1-p))\n",
    "\n",
    "print(\"\\033[1m Fair coin: mean number of heads = {:.1f}, sigma = {:.2f} \\033[0m\".format(fair_mean,fair_sigma))\n",
    "print(\"\\033[1m Weighted coin: mean number of heads = {:.2f}, sigma_e = {:.2f} \\033[0m\".format(np.mean(nheads),np.std(nheads)))\n",
    "plt.show()"
   ]
  },
  {
   "cell_type": "code",
   "execution_count": 47,
   "id": "acacaea1",
   "metadata": {},
   "outputs": [],
   "source": [
    "fmean = np.mean(nheads_f)"
   ]
  },
  {
   "cell_type": "code",
   "execution_count": 48,
   "id": "527b0bfa",
   "metadata": {},
   "outputs": [],
   "source": [
    "wmean = np.mean(nheads)"
   ]
  },
  {
   "cell_type": "code",
   "execution_count": 49,
   "id": "7cbda4cf",
   "metadata": {},
   "outputs": [],
   "source": [
    "func = np.std(nheads_f)/np.sqrt(100)"
   ]
  },
  {
   "cell_type": "code",
   "execution_count": 46,
   "id": "3df4a8cc",
   "metadata": {},
   "outputs": [
    {
     "data": {
      "text/plain": [
       "0.32560558963261055"
      ]
     },
     "execution_count": 46,
     "metadata": {},
     "output_type": "execute_result"
    }
   ],
   "source": [
    "np.std(nheads)/np.sqrt(100)"
   ]
  },
  {
   "cell_type": "code",
   "execution_count": 51,
   "id": "b1d195e9",
   "metadata": {},
   "outputs": [
    {
     "data": {
      "text/plain": [
       "-11.957795205348594"
      ]
     },
     "execution_count": 51,
     "metadata": {},
     "output_type": "execute_result"
    }
   ],
   "source": [
    "(fmean-wmean)/func"
   ]
  },
  {
   "cell_type": "code",
   "execution_count": 52,
   "id": "982f4bab",
   "metadata": {},
   "outputs": [
    {
     "data": {
      "text/plain": [
       "35.35533905932738"
      ]
     },
     "execution_count": 52,
     "metadata": {},
     "output_type": "execute_result"
    }
   ],
   "source": [
    "np.sqrt(1250)"
   ]
  },
  {
   "cell_type": "code",
   "execution_count": 53,
   "id": "dc2bb8ed",
   "metadata": {},
   "outputs": [
    {
     "data": {
      "text/plain": [
       "34.64101615137755"
      ]
     },
     "execution_count": 53,
     "metadata": {},
     "output_type": "execute_result"
    }
   ],
   "source": [
    "np.sqrt(1200)"
   ]
  },
  {
   "cell_type": "code",
   "execution_count": 64,
   "id": "ac1e38d8",
   "metadata": {},
   "outputs": [],
   "source": [
    "N = 50"
   ]
  },
  {
   "cell_type": "code",
   "execution_count": 65,
   "id": "a879c51f",
   "metadata": {},
   "outputs": [
    {
     "name": "stdout",
     "output_type": "stream",
     "text": [
      "25.0 3.5355339059327378\n"
     ]
    }
   ],
   "source": [
    "\n",
    "p = .5\n",
    "x = N*p\n",
    "sig = np.sqrt(N*p*(1-p))\n",
    "print(x,sig)"
   ]
  },
  {
   "cell_type": "code",
   "execution_count": 66,
   "id": "b52d4448",
   "metadata": {},
   "outputs": [
    {
     "name": "stdout",
     "output_type": "stream",
     "text": [
      "20.0 3.5355339059327378\n"
     ]
    }
   ],
   "source": [
    "wp = .4\n",
    "wx = N*wp\n",
    "wsig = np.sqrt(N*p*(1-p))\n",
    "print(wx,wsig)"
   ]
  },
  {
   "cell_type": "code",
   "execution_count": 67,
   "id": "5ad4bdba",
   "metadata": {},
   "outputs": [
    {
     "data": {
      "text/plain": [
       "1.414213562373095"
      ]
     },
     "execution_count": 67,
     "metadata": {},
     "output_type": "execute_result"
    }
   ],
   "source": [
    "sep_50 = np.abs(x-wx)/sig"
   ]
  },
  {
   "cell_type": "code",
   "execution_count": 63,
   "id": "1cdb5edc",
   "metadata": {},
   "outputs": [
    {
     "data": {
      "text/plain": [
       "14.14213562373095"
      ]
     },
     "execution_count": 63,
     "metadata": {},
     "output_type": "execute_result"
    }
   ],
   "source": [
    "np.abs(x-wx)/sig"
   ]
  },
  {
   "cell_type": "code",
   "execution_count": null,
   "id": "312baa40",
   "metadata": {},
   "outputs": [],
   "source": []
  }
 ],
 "metadata": {
  "kernelspec": {
   "display_name": "Python 3 (ipykernel)",
   "language": "python",
   "name": "python3"
  },
  "language_info": {
   "codemirror_mode": {
    "name": "ipython",
    "version": 3
   },
   "file_extension": ".py",
   "mimetype": "text/x-python",
   "name": "python",
   "nbconvert_exporter": "python",
   "pygments_lexer": "ipython3",
   "version": "3.11.5"
  }
 },
 "nbformat": 4,
 "nbformat_minor": 5
}
