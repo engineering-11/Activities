{
 "cells": [
  {
   "cell_type": "markdown",
   "metadata": {},
   "source": [
    "# 1. How radioactive are humans?\n",
    "\n",
    "### 1.a. Assume an average human mass of 70kg. What is the activity (Bq) of that person?\n",
    "  * Hints:\n",
    "    * What elements(isotopes) in our body produce radiation that actually escapes our body?\n",
    "    * How much of our body is made up of those elements?\n",
    "      * Don’t forget to consider the natural abundance of the unstable isotopes\n",
    "    * How much activity will that lead to?\n",
    "      * Don’t forget about branching ratios\n",
    "\n",
    "### 1.b. How radioactive are you?\n",
    "  * Hint: make use of specific activity\n",
    "  * You don’t have to use your actual mass\n",
    "\n",
    "### 1.c. Provide references\n",
    "  * Where did you get the relevant numers that went in to your calculations?\n",
    "  * Include your references in Markdown"
   ]
  },
  {
   "cell_type": "markdown",
   "metadata": {},
   "source": [
    "# 2. What is the activity from a 120g (medium size) banana?\n",
    "* Neglect the impact of the banana peel in your answers - assume a uniform composition and assume you will injest the entire banana.\n",
    "* Composition of bananas:\n",
    "  * Potassium (K)\n",
    "  * Vitamin B6 (C<sub>8</sub>H<sub>11</sub>NO<sub>3</sub>)\n",
    "  * Vitamin C (C<sub>6</sub>H<sub>8</sub>O<sub>6</sub>)\n",
    "  * Isoamyl acetate (C<sub>7</sub>H<sub>14</sub>O<sub>2</sub>)\n",
    "  * Pectin (C<sub>6</sub>H<sub>10</sub>O<sub>7</sub>)\n",
    "* Check [nutrition information](https://en.wikipedia.org/wiki/Banana#Nutrition)\n",
    "\n",
    "### 2.a. Which of the above components of the banana composition will contribute significantly to your answer and why?\n",
    "### 2.b. What is the activity just from gamma radiation?\n",
    "### 2.c. Assuming no self-shielding of electrons (all electrons produced escape the banana), what is the activity just from electrons?\n",
    "### 2.d. What is the total activity of the banana?\n",
    "### 2.e. When you purchase the banana, how much of the activity from the banana are you being exposed to?\n",
    "### 2.f. When you eat the banana, how much of the activity are you being exposed to?"
   ]
  },
  {
   "cell_type": "code",
   "execution_count": null,
   "metadata": {},
   "outputs": [],
   "source": []
  }
 ],
 "metadata": {
  "kernelspec": {
   "display_name": "Python 3",
   "language": "python",
   "name": "python3"
  },
  "language_info": {
   "codemirror_mode": {
    "name": "ipython",
    "version": 3
   },
   "file_extension": ".py",
   "mimetype": "text/x-python",
   "name": "python",
   "nbconvert_exporter": "python",
   "pygments_lexer": "ipython3",
   "version": "3.7.1"
  }
 },
 "nbformat": 4,
 "nbformat_minor": 2
}
