{
 "cells": [
  {
   "cell_type": "markdown",
   "metadata": {},
   "source": [
    "# 1. How radioactive are humans?\n",
    "\n",
    "### 1.a. Assume an average human mass of 70kg. What is the activity (Bq) of that person?\n",
    "  * Hints:\n",
    "    * What elements(isotopes) in our body produce radiation that actually escapes our body?\n",
    "    * How much of our body is made up of those elements?\n",
    "      * Don’t forget to consider the natural abundance of the unstable isotopes\n",
    "    * How much activity will that lead to?\n",
    "      * Don’t forget about branching ratios\n",
    "\n",
    "### 1.b. How radioactive are you?\n",
    "  * Hint: make use of specific activity\n",
    "  * You don’t have to use your actual mass\n",
    "\n",
    "### 1.c. Provide references\n",
    "  * Where did you get the relevant numers that went in to your calculations?\n",
    "  * Include your references in Markdown"
   ]
  },
  {
   "cell_type": "markdown",
   "metadata": {},
   "source": [
    "# 2. What is the activity from a 120g (medium size) banana?\n",
    "* Neglect the impact of the banana peel in your answers - assume a uniform composition and assume you will injest the entire banana.\n",
    "* Composition of bananas:\n",
    "  * Potassium (K)\n",
    "  * Vitamin B6 (C<sub>8</sub>H<sub>11</sub>NO<sub>3</sub>)\n",
    "  * Vitamin C (C<sub>6</sub>H<sub>8</sub>O<sub>6</sub>)\n",
    "  * Isoamyl acetate (C<sub>7</sub>H<sub>14</sub>O<sub>2</sub>)\n",
    "  * Pectin (C<sub>6</sub>H<sub>10</sub>O<sub>7</sub>)\n",
    "* Check [nutrition information](https://en.wikipedia.org/wiki/Banana#Nutrition)\n",
    "\n",
    "### 2.a. Which of the above components of the banana composition will contribute significantly to your answer and why?\n",
    "### 2.b. What is the activity just from gamma radiation?\n",
    "### 2.c. Assuming no self-shielding of electrons (all electrons produced escape the banana), what is the activity just from electrons?\n",
    "### 2.d. What is the total activity of the banana?\n",
    "### 2.e. When you purchase the banana, how much of the activity from the banana are you being exposed to?\n",
    "### 2.f. When you eat the banana, how much of the activity are you being exposed to?"
   ]
  },
  {
   "cell_type": "code",
   "execution_count": 7,
   "metadata": {},
   "outputs": [],
   "source": [
    "import numpy as np\n",
    "import pandas as pd"
   ]
  },
  {
   "cell_type": "code",
   "execution_count": 8,
   "metadata": {},
   "outputs": [],
   "source": [
    "m=70\n",
    "mkrad=(0.0169/1000)"
   ]
  },
  {
   "cell_type": "code",
   "execution_count": 9,
   "metadata": {},
   "outputs": [],
   "source": [
    "Mkrad=(39.963998/1000)\n",
    "Nkrad=(mkrad/Mkrad)"
   ]
  },
  {
   "cell_type": "code",
   "execution_count": 10,
   "metadata": {},
   "outputs": [],
   "source": [
    "Nkrad=Nkrad*(6.02E23)"
   ]
  },
  {
   "cell_type": "code",
   "execution_count": 11,
   "metadata": {},
   "outputs": [
    {
     "name": "stdout",
     "output_type": "stream",
     "text": [
      "No variables match your requested type.\n"
     ]
    }
   ],
   "source": [
    "who Nkrad"
   ]
  },
  {
   "cell_type": "code",
   "execution_count": 12,
   "metadata": {},
   "outputs": [
    {
     "name": "stdout",
     "output_type": "stream",
     "text": [
      "2.5457412944520715e+20\n"
     ]
    }
   ],
   "source": [
    "print(Nkrad)"
   ]
  },
  {
   "cell_type": "code",
   "execution_count": 13,
   "metadata": {},
   "outputs": [],
   "source": [
    "halflife=(1.26E9)*365*24*3600"
   ]
  },
  {
   "cell_type": "code",
   "execution_count": 14,
   "metadata": {},
   "outputs": [],
   "source": [
    "decayconstant=np.log(2)/halflife"
   ]
  },
  {
   "cell_type": "code",
   "execution_count": 15,
   "metadata": {},
   "outputs": [
    {
     "name": "stdout",
     "output_type": "stream",
     "text": [
      "1.744408961086411e-17\n"
     ]
    }
   ],
   "source": [
    "print (decayconstant)"
   ]
  },
  {
   "cell_type": "code",
   "execution_count": 16,
   "metadata": {},
   "outputs": [
    {
     "name": "stdout",
     "output_type": "stream",
     "text": [
      "activity of human being is 4440.813926649913 Bq\n"
     ]
    }
   ],
   "source": [
    "activity=decayconstant*Nkrad\n",
    "print(\"activity of human being is\", activity, \"Bq\")"
   ]
  },
  {
   "cell_type": "code",
   "execution_count": 17,
   "metadata": {},
   "outputs": [
    {
     "name": "stdout",
     "output_type": "stream",
     "text": [
      "activity of self is 63.440198952141614 Bq/kg\n"
     ]
    }
   ],
   "source": [
    "specificactivity=activity/m\n",
    "print(\"activity of self is\",specificactivity,\"Bq/kg\")"
   ]
  },
  {
   "cell_type": "markdown",
   "metadata": {},
   "source": [
    "Mass of K-40 in 70kg human body,half-life, and sources of radiation that successfully emmit from human body obtained from: https://sciencedemonstrations.fas.harvard.edu/presentations/radioactive-human-body\n",
    "Molercular Weight of K-40 obtained from: https://pubchem.ncbi.nlm.nih.gov/compound/Potassium-40"
   ]
  },
  {
   "cell_type": "code",
   "execution_count": 18,
   "metadata": {},
   "outputs": [],
   "source": [
    "mbanana=120"
   ]
  },
  {
   "cell_type": "code",
   "execution_count": 19,
   "metadata": {},
   "outputs": [],
   "source": [
    "mvitb=120*(.0004/100)\n",
    "mk=120*(.358/100)\n",
    "mvitc=120*(.0087/100)\n"
   ]
  },
  {
   "cell_type": "markdown",
   "metadata": {},
   "source": [
    "mass of isoamyl acetate and pectin in bananas could not be found"
   ]
  },
  {
   "cell_type": "code",
   "execution_count": 20,
   "metadata": {},
   "outputs": [
    {
     "name": "stdout",
     "output_type": "stream",
     "text": [
      "0.00047999999999999996\n"
     ]
    }
   ],
   "source": [
    "print (mvitb)"
   ]
  },
  {
   "cell_type": "code",
   "execution_count": 21,
   "metadata": {},
   "outputs": [],
   "source": [
    "Mc=12.011\n",
    "Mh=1.008\n",
    "Mo=15.999\n",
    "Mn=14.0067\n",
    "Mk=39.0983\n",
    "Mvitb=8*Mc+11*Mh+Mn+3*Mo\n",
    "percentcvitb=8*Mc/Mvitb\n",
    "mcvitb=percentcvitb*mvitb\n",
    "Ncvitb=(mcvitb/Mc)*6.02E23\n",
    "Ncvitb=.001*Ncvitb\n",
    "Nk=(mk/Mk)*6.02E23\n",
    "Mvitc=6*Mc+8*Mh+6*Mo\n",
    "percentcvitc=6*Mc/Mvitc\n",
    "mcvitc=percentcvitc*mvitc\n",
    "Ncvitc=(mcvitc/Mc)*6.02E23\n",
    "Ncvitc=.001*Ncvitc\n",
    "Ncbetarad=Ncvitb+Ncvitc\n",
    "Nkbetarad=.8914*(.000117*Nk)\n",
    "Nkgammarad=.1066*(.000117*Nk)\n"
   ]
  },
  {
   "cell_type": "code",
   "execution_count": 23,
   "metadata": {},
   "outputs": [
    {
     "name": "stdout",
     "output_type": "stream",
     "text": [
      "activity of 120g banana is 1.4391109071731483 Bq\n"
     ]
    }
   ],
   "source": [
    "khalflife=(1.26E9)*365*24*3600\n",
    "chalflife=9.426E10*365*24*3600\n",
    "kdecayconstant=np.log(2)/khalflife\n",
    "cdecayconstant=np.log(2)/chalflife\n",
    "kactivity=Nkgammarad*kdecayconstant\n",
    "bananaactivity=kactivity\n",
    "print(\"activity of 120g banana is\",bananaactivity,\"Bq\")\n"
   ]
  },
  {
   "cell_type": "markdown",
   "metadata": {},
   "source": [
    "The amount of gamma radiation of potasium 40 will contribute the most since it is the only radiation actually emmitted from the banana "
   ]
  },
  {
   "cell_type": "code",
   "execution_count": 25,
   "metadata": {},
   "outputs": [
    {
     "name": "stdout",
     "output_type": "stream",
     "text": [
      "activity from gamma radiation= 1.4391109071731483 Bq\n"
     ]
    }
   ],
   "source": [
    "print(\"activity from gamma radiation=\",bananaactivity,\"Bq\")"
   ]
  },
  {
   "cell_type": "code",
   "execution_count": 26,
   "metadata": {},
   "outputs": [
    {
     "name": "stdout",
     "output_type": "stream",
     "text": [
      "activity from beta radiation = 12.087102741180958 Bq\n"
     ]
    }
   ],
   "source": [
    "betaactivity=Nkbetarad*kdecayconstant+Ncbetarad*cdecayconstant\n",
    "print(\"activity from beta radiation =\",betaactivity,\"Bq\")"
   ]
  },
  {
   "cell_type": "code",
   "execution_count": 27,
   "metadata": {},
   "outputs": [
    {
     "name": "stdout",
     "output_type": "stream",
     "text": [
      "Total activity of banana= 13.526213648354107 Bq\n"
     ]
    }
   ],
   "source": [
    "totalactivity=bananaactivity+betaactivity\n",
    "print(\"Total activity of banana=\",totalactivity,\"Bq\")"
   ]
  },
  {
   "cell_type": "code",
   "execution_count": 28,
   "metadata": {},
   "outputs": [
    {
     "name": "stdout",
     "output_type": "stream",
     "text": [
      "When banana is purchased you are exposed to 1.4391109071731483 Bq\n",
      "When you eat the banana you are exposed to 13.526213648354107 Bq\n"
     ]
    }
   ],
   "source": [
    "print(\"When banana is purchased you are exposed to\",bananaactivity,\"Bq\")\n",
    "print(\"When you eat the banana you are exposed to\",totalactivity,\"Bq\")"
   ]
  },
  {
   "cell_type": "markdown",
   "metadata": {},
   "source": []
  }
 ],
 "metadata": {
  "kernelspec": {
   "display_name": "Python 3",
   "language": "python",
   "name": "python3"
  },
  "language_info": {
   "codemirror_mode": {
    "name": "ipython",
    "version": 3
   },
   "file_extension": ".py",
   "mimetype": "text/x-python",
   "name": "python",
   "nbconvert_exporter": "python",
   "pygments_lexer": "ipython3",
   "version": "3.7.3"
  }
 },
 "nbformat": 4,
 "nbformat_minor": 2
}
