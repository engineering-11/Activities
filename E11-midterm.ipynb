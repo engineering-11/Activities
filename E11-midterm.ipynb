{
 "cells": [
  {
   "cell_type": "markdown",
   "metadata": {},
   "source": [
    "# E11 Midterm\n",
    "\n",
    "#### Instructions:\n",
    "\n",
    "When asked for specific quantities, use python to do any calculations necessary and print out your answer with some text describing the answer. Include the units for your answer and any other relevant information.\n",
    "\n",
    "When asked for a non-numerical answer, please provide your answer in Markdown - one of the settings you can give cells in Jupyter.\n",
    "\n",
    "Submit your Midterm by copying this notebook to your git repository, adding your answer, and committing your modified notebood to your repository. Being able to complete these steps and commit/push your work to your repo so that it is visible on GitHub is part of the midterm and will be part of your grade. If you need help from Chris or I with this step, that will be considered in your grade.\n",
    "\n",
    "#### A few useful pieces of information:\n",
    "For the purposes of these questions here are some assumptions we will make if a radioisotope source is inside the human body:\n",
    "* All alpha and beta particles are fully absorbed\n",
    "* The source is assumed to be in the center of the body and the attenuation of gamma radiation is determined using the assumption that the body is a sphere of water:\n",
    "  * $\\int_{0.001}^{30}\\frac{e^{-\\mu r}}{(4\\pi r^2)}$ = 0.79\n",
    "  * where $\\mu = 0.036/cm$ and $r = 30cm$\n",
    "  * Therefore, all gamma radiation sources inside the body should include a multiplicative factor of $0.79$ when determining the absorbed or effective dose.\n",
    "* For sources outside the body, the absorbed dose from gamma radiation should include a correction for attenuation of $0.5$ (this is a very rough approximation)"
   ]
  },
  {
   "cell_type": "markdown",
   "metadata": {},
   "source": [
    "### Part 1\n",
    "\n",
    "You are given a 1.5 kg sample. Using your high-purity germanium (HPGe) detector to measure the gamma-ray spectrum from this sample, you collect data from this sample for one hour."
   ]
  },
  {
   "cell_type": "markdown",
   "metadata": {},
   "source": [
    "#### 1. Your detector collects data in the energy range from 100 keV to 3 MeV. If your sample contains Cs-137, at what gamma-ray energy should you expect to see a peak - an excess count rate associated with a gamma-ray decay coming from the Cs-137 contained in your sample?"
   ]
  },
  {
   "cell_type": "code",
   "execution_count": null,
   "metadata": {},
   "outputs": [],
   "source": []
  },
  {
   "cell_type": "markdown",
   "metadata": {},
   "source": [
    "The energy resolution of an HPGe detector at the Cs-137 peak energy is 0.2 keV. The energy resolution is defined as the full-width half-max (FWHM) width of the Gaussian distribution of counts around the mean measured energy of the gamma-ray peak. Recall from **Lecture 3** that the **FWHM** $= 2\\sigma\\sqrt{2ln(2)}$.\n",
    "\n",
    "#### 2. a. If you measure 27 counts total in the Cs-137 peak - integrated over the full Gaussian distribution - how many counts fall within a 1-sigma peak window? What about a $3\\sigma$ window?"
   ]
  },
  {
   "cell_type": "code",
   "execution_count": null,
   "metadata": {},
   "outputs": [],
   "source": []
  },
  {
   "cell_type": "markdown",
   "metadata": {},
   "source": [
    "#### 2.b. Using your answer to 1. and the definition of FWHM, what are the energies that describe the $3\\sigma$ bounds for the Cs-137 peak?"
   ]
  },
  {
   "cell_type": "code",
   "execution_count": null,
   "metadata": {},
   "outputs": [],
   "source": []
  },
  {
   "cell_type": "markdown",
   "metadata": {},
   "source": [
    "From your 1-hour measurement, the Cs-137 peak contains 27 counts, but this is after subtracting the background counts under that peak. In the raw spectrum you collect, you actually measure 539 counts in the $3\\sigma$ window around your Cs-137 peak. The rest of the counts are considered detector background, meaning this background is not **directly** attributed to other sources.\n",
    "\n",
    "#### 3.a. Where is the background in your spectrum coming from?"
   ]
  },
  {
   "cell_type": "code",
   "execution_count": null,
   "metadata": {},
   "outputs": [],
   "source": []
  },
  {
   "cell_type": "markdown",
   "metadata": {},
   "source": [
    "You use a method called the side-band subtraction method to estimate the background under your Cs-137 peak. In this method, you measure the counts recorded by your detector on either side of the Cs-137 peak over an equivalent $\\Delta E$ range, where there is no other signal, only detector background. These two regions give measured count rates of $556$ and $468$ counts, which can be used to estimate the total number of bacgkround counts under your Cs-137 peak by taking the average.\n",
    "\n",
    "#### 3.b. How many counts in your Cs-137 peak are from background? Show your work, and include uncertainties on your final answer.\n",
    "**NOTE:** Uncertainty here should be propagated from the uncertainty on the measured counts in the two side-band regions."
   ]
  },
  {
   "cell_type": "code",
   "execution_count": null,
   "metadata": {},
   "outputs": [],
   "source": []
  },
  {
   "cell_type": "markdown",
   "metadata": {},
   "source": [
    "#### 3.c. Is your answer above consistent with what I gave as the counts from Cs-137 in 2.a.? What is the undertainty on that measurement result?\n",
    "**NOTE:** Again, this uncertainty comes from a propagation of uncertainties from the raw measurements, not from the Cs-137 counts alone."
   ]
  },
  {
   "cell_type": "code",
   "execution_count": null,
   "metadata": {},
   "outputs": [],
   "source": []
  },
  {
   "cell_type": "markdown",
   "metadata": {},
   "source": [
    "The total efficiency of your detector at the energy of the Cs-137 measurement is 1%. This efficiency includes all geometric effects - so you do not need to consider the distance the sample is from the detector or the geometry of the sample, etc.\n",
    "\n",
    "#### 4. a. Using your measured count rate and this efficiency, what is the Cs-137 activity of your sample?"
   ]
  },
  {
   "cell_type": "code",
   "execution_count": null,
   "metadata": {},
   "outputs": [],
   "source": []
  },
  {
   "cell_type": "markdown",
   "metadata": {},
   "source": [
    "#### 4.b. What is the specific activity (Bq/kg) of this sample?"
   ]
  },
  {
   "cell_type": "code",
   "execution_count": null,
   "metadata": {},
   "outputs": [],
   "source": []
  },
  {
   "cell_type": "markdown",
   "metadata": {},
   "source": [
    "#### 4.c. What is the uncertainty on this activity measurement?"
   ]
  },
  {
   "cell_type": "code",
   "execution_count": null,
   "metadata": {},
   "outputs": [],
   "source": []
  },
  {
   "cell_type": "markdown",
   "metadata": {},
   "source": [
    "#### 5.a. What is the total absorbed dose-rate (Gy/s) from Cs-137 from this sample if we placed it inside a 10kg lead absorber that we assumed absorbed all of the gamma radiation produced by the sample. This answer should include all beta and gamma radiation produced by Cs-137.\n",
    "\n",
    "**NOTE:** You can look up the decay channels to consider on LiveChart - https://www-nds.iaea.org/relnsd/vcharthtml/VChartHTML.html"
   ]
  },
  {
   "cell_type": "code",
   "execution_count": null,
   "metadata": {},
   "outputs": [],
   "source": []
  },
  {
   "cell_type": "markdown",
   "metadata": {},
   "source": [
    "#### 5.b. If you ate a $0.25 kg$ portion of this sample (assuming you are 70kg) what would your effective dose-rate exposure be in $\\mu Sv/hr$?\n",
    "**Note:** Be sure to make use of all of the numbers I've provided to determine the activity you are being exposed to and how much dose (energy/kg) you will absorb."
   ]
  },
  {
   "cell_type": "code",
   "execution_count": null,
   "metadata": {},
   "outputs": [],
   "source": []
  },
  {
   "cell_type": "markdown",
   "metadata": {},
   "source": [
    "### Part 2\n",
    "\n",
    "You collect radiation data in two experiments. In both cases you collect data in $5s$ intervals for $10$ minutes. You measure and mean of 102 counts-per-second in experiment A and a mean of 106 counts-per-second in experiment B.\n",
    "\n",
    "#### 6.a. How many counts in total do you measure in each experiment?"
   ]
  },
  {
   "cell_type": "code",
   "execution_count": null,
   "metadata": {},
   "outputs": [],
   "source": []
  },
  {
   "cell_type": "markdown",
   "metadata": {},
   "source": [
    "#### 6.b. What is the uncertainty on the counts-per-second measured at each experiment?"
   ]
  },
  {
   "cell_type": "code",
   "execution_count": null,
   "metadata": {},
   "outputs": [],
   "source": []
  },
  {
   "cell_type": "markdown",
   "metadata": {},
   "source": [
    "#### 6.c. What is the uncertainty on the mean of the measured counts at each experiment?\n",
    "**NOTE:** Refer back to lectures 3 and 4 where we discussed the central-limit theorem and the uncertainty on any parameter (mean, sigma, etc.) being estimated by our sampling of the true count-rate."
   ]
  },
  {
   "cell_type": "code",
   "execution_count": null,
   "metadata": {},
   "outputs": [],
   "source": []
  },
  {
   "cell_type": "markdown",
   "metadata": {},
   "source": [
    "#### 6.d. Based on your answer above, are these two measurements in agreement, or are you actually seeing a statistically significant difference in background radiation between experiment A and B? Explain your answer qualitatively."
   ]
  },
  {
   "cell_type": "code",
   "execution_count": null,
   "metadata": {},
   "outputs": [],
   "source": []
  },
  {
   "cell_type": "markdown",
   "metadata": {},
   "source": [
    "#### 6.e. Extra: Use a T-test to quantify how likely these two results are to have come from the same \"true\" radiation level. Meaning, determine the p-value (probability that they are the same) from the t-statistic calculated from the data from experiment A and B.\n",
    "**NOTE:** There are python tools for this. You will get extra extra points if you find such a tool and use it instead of manually calculating the t-statistic and then using a look-up table to determine the p-value."
   ]
  },
  {
   "cell_type": "code",
   "execution_count": null,
   "metadata": {},
   "outputs": [],
   "source": []
  },
  {
   "cell_type": "markdown",
   "metadata": {},
   "source": [
    "#### 7.a. The detector used in both experiments has a total efficency of 5%. What is the total activity being measured by this detector in each case, including uncertainties?"
   ]
  },
  {
   "cell_type": "code",
   "execution_count": null,
   "metadata": {},
   "outputs": [],
   "source": []
  },
  {
   "cell_type": "markdown",
   "metadata": {},
   "source": [
    "#### 7.b. Assuming all of the radiation measured came from a K-40 source, what would the effective dose to you be if you were standing 1 meter away from the source during the entire data collection time?\n",
    "**NOTE:** Remember the note above about attenuation for sources outside the body and the $1/r^2$ rule for the intensity of the radiation."
   ]
  },
  {
   "cell_type": "code",
   "execution_count": null,
   "metadata": {},
   "outputs": [],
   "source": []
  }
 ],
 "metadata": {
  "kernelspec": {
   "display_name": "Python 3",
   "language": "python",
   "name": "python3"
  },
  "language_info": {
   "codemirror_mode": {
    "name": "ipython",
    "version": 3
   },
   "file_extension": ".py",
   "mimetype": "text/x-python",
   "name": "python",
   "nbconvert_exporter": "python",
   "pygments_lexer": "ipython3",
   "version": "3.7.3"
  }
 },
 "nbformat": 4,
 "nbformat_minor": 2
}
