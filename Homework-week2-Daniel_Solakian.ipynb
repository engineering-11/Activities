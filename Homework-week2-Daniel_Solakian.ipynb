{
 "cells": [
  {
   "cell_type": "markdown",
   "metadata": {},
   "source": [
    "1.a Assume an average human mass of 70kg. What is the activity (Bq) of that person?"
   ]
  },
  {
   "cell_type": "markdown",
   "metadata": {},
   "source": [
    "Humans have radioisotopes in them, the γ radition producer is K-40 Carbon is negligible\n",
    "\n",
    "    Finding the percentage of Potassium in humans, with M_0= 70 kg\n",
    "    \n",
    "    .4% *70 kg = 0.28 kg\n",
    "    \n",
    "    Natural abundance of radioisotope K-40 is .012% respectively, and use stoichiometry to determine number of atoms \n",
    "        \n",
    "    .28 kg * 1000g/1 kg* 1 mol/39.098 g * 6.0223*10^23 atoms/1mol = 4.3*10^24 atoms\n",
    "        N = 4.3 * 10^24 atoms * .00012 = 5.18 * 10^20 atoms K-40\n",
    "        \n",
    "t(1/2) for K-40 = 1.248 * 10^9 yr\n",
    "\n",
    "    Find the decay constant λ = ln(2)/ t(1/2)\n",
    "    \n",
    "    λ= 5.55 * 10^-10 /yr\n",
    "    \n",
    "    Activity of humans is ΔN/Δt = λN = (5.18 * 10^20) * (5.55*10^-10) = 2.8749*10^11 decay/year\n",
    "    \n",
    "    Convert decay/year => second \n",
    "    \n",
    "    2.8749*10^11 decay/year * 1 yr / 31536000 s = 9116.25 Bq\n",
    "    \n",
    "    The branching ratio of k-40 is 10.66% gamma radiation, so a portion of the total activity.\n",
    "    \n",
    "    .1066 * 9116.25 = 971.79 Bq"
   ]
  },
  {
   "cell_type": "markdown",
   "metadata": {},
   "source": [
    "1b. How radioactive am I?\n",
    "    \n",
    "    Using specific activity, and m = 55 kg\n",
    "    \n",
    "    Specific activity = λN/m\n",
    "    \n",
    "    Determine N, number of γ emitting radioisotopes in me (k-40)\n",
    "    \n",
    "    .4% * 55 kg = .22 kg\n",
    "    \n",
    "    .22 kg => atoms (from part 1a.) = 3.388679728 * 10^24 atoms \n",
    "    \n",
    "    3.388679728 * 10^24 atoms * .00012 = 4.066416 * 10 ^ 20 k-40 atoms\n",
    "    \n",
    "    λ = 5.55 * 10^-10 /year \n",
    "    λ in seconds = 5.55 * 10^-10 /year * 1 yr / 31536000 s = 1.7599 * 10^-17 /s\n",
    "    \n",
    "Specific activity \n",
    "    \n",
    "    A = (λ * N)/m = (1.7599 * 10^-17 /s * 4.066416 * 10 ^ 20 k-40 atoms)/55 kg = 130.12  bq/kg\n",
    "    \n",
    "    130.12 bq/kg * 55 kg = 7162.77 bq for a 55 kg \"me\""
   ]
  },
  {
   "cell_type": "markdown",
   "metadata": {},
   "source": [
    "References:\n",
    "    \n",
    "    https://en.wikipedia.org/wiki/Composition_of_the_human_body\n",
    "        \n",
    "    Lecture 2 slides for eq\n",
    "    \n",
    "    Chris and Ali helped :^)"
   ]
  },
  {
   "cell_type": "markdown",
   "metadata": {},
   "source": [
    "2. Activity of a 120 g banana"
   ]
  },
  {
   "cell_type": "markdown",
   "metadata": {},
   "source": [
    "2a. The components that contribute to the activity of a banana are the elements that have some natural abundance of radioisotopes. The elements are potassium, carbon, and hydrogen. \n",
    "\n",
    "    However, the only components that will contribute significantly to the activity of the banana is the potassium and its natural abundance of potassium 40 (K-40).\n",
    "    \n",
    "    Trace amounts of radioactive C-14 and tritium occur naturally and are negligible in the calculation."
   ]
  },
  {
   "cell_type": "markdown",
   "metadata": {},
   "source": [
    "2b. Activity just from gamma radiation\n",
    "\n",
    "    m = 120 g\n",
    "    \n",
    "    m_k = 358 mg/100 g => .358/100 g; .385/100 = x /120 => .4296 g K in a banana of 120 g\n",
    "    \n",
    "    m_k = .4296 g K \n",
    "    \n",
    "Number of K-40 atoms in a banana \n",
    "    \n",
    "    N = .4296 g * 1 mol/39.098 g * 6.0223*10^23 atoms/1mol = 6.61717 * 10^21 K atoms\n",
    "    \n",
    "    K-40 is .012% of K (natural abundance)\n",
    "    \n",
    "    .00012 * 6.61717 * 10^21 K atoms = 7.9406 * 10^17 k-40 atoms = N_k\n",
    "    \n",
    "Activity of Banana \n",
    "    activity = λN = 7.9406 * 10^17 atoms * 5.55 * 10^-10 /yr = 440703343.7 decays/year\n",
    "    \n",
    "    440703343.7 decays/ year to decays/sec => 13.98 Bq\n",
    "    \n",
    "Gamma Activity from total for K-40 is 10.66%\n",
    "    \n",
    "    13.98 Bq * .1066 = 1.49 Bq"
   ]
  },
  {
   "cell_type": "markdown",
   "metadata": {},
   "source": [
    "Activity from electrons is the β- decay from K-40\n",
    "    \n",
    "    The percentage of the β- decay in k-40 is 89.27%\n",
    "    \n",
    "    Total activity is 13.98 Bq\n",
    "    \n",
    "    .8927 * 13.98 = 12.479946 Bq for β- decay from branching ratios"
   ]
  },
  {
   "cell_type": "markdown",
   "metadata": {},
   "source": [
    "2d. Total activity of banana found above \n",
    "    13.98 Bq"
   ]
  },
  {
   "cell_type": "markdown",
   "metadata": {},
   "source": [
    "2e. Purchasing a banana, the the peel blocks the beta decays, so only gammas are exposed.\n",
    "    \n",
    "    The typical group of bananas bought at a store is 8 bananas. \n",
    "    \n",
    "    Gamma activity * 8 medium bananas = 1.49 * 8 = 11.92 Bq for 8 medium sized bananas"
   ]
  },
  {
   "cell_type": "markdown",
   "metadata": {},
   "source": [
    "2f. Eating the banana, you are exposed to the total activity of the banana:\n",
    "    assuming the mass and activity of the peel is negligble, and only one is eaten at a time, the activity is...\n",
    "    13.98 Bq."
   ]
  },
  {
   "cell_type": "markdown",
   "metadata": {},
   "source": [
    "References\n",
    "    https://www.ptable.com/\n",
    "        \n",
    "    Lecture 2 slides\n",
    "    \n",
    "    https://en.wikipedia.org/wiki/Banana#Nutrition\n",
    "    \n",
    "    IAEA Nuclear Data Section"
   ]
  }
 ],
 "metadata": {
  "kernelspec": {
   "display_name": "Python 3",
   "language": "python",
   "name": "python3"
  },
  "language_info": {
   "codemirror_mode": {
    "name": "ipython",
    "version": 3
   },
   "file_extension": ".py",
   "mimetype": "text/x-python",
   "name": "python",
   "nbconvert_exporter": "python",
   "pygments_lexer": "ipython3",
   "version": "3.7.3"
  }
 },
 "nbformat": 4,
 "nbformat_minor": 2
}
