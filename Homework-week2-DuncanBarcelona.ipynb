{
 "cells": [
  {
   "cell_type": "code",
   "execution_count": 3,
   "metadata": {},
   "outputs": [],
   "source": [
    "import math as math\n",
    "import numpy as np"
   ]
  },
  {
   "cell_type": "code",
   "execution_count": 19,
   "metadata": {},
   "outputs": [
    {
     "data": {
      "text/plain": [
       "5000"
      ]
     },
     "execution_count": 19,
     "metadata": {},
     "output_type": "execute_result"
    }
   ],
   "source": [
    "# 1a. what is the activity of a 70 kg person?\n",
    "\n",
    "# potassium-40\n",
    "# present in most tissues, 5000 Bq for 70 kg person\n",
    "# 5000 atoms decaying per second, 10% emit gamma rays, 500 gamma rays per second\n",
    "# https://hps.org/publicinformation/ate/faqs/faqradbods.html\n",
    "\n",
    "k_40_activity = 5000\n",
    "\n",
    "# uranium-238, thorium-232, and radon\n",
    "# present at lower levels than potassium-40\n",
    "# not significant source of radiation from humans\n",
    "# https://hps.org/publicinformation/ate/faqs/faqradbods.html\n",
    "\n",
    "# carbon-14 and rubidium-87\n",
    "# do not emit gamma rays that escape the body\n",
    "# not a source of radiation from humans\n",
    "# https://hps.org/publicinformation/ate/faqs/faqradbods.html\n",
    "\n",
    "k_40_activity"
   ]
  },
  {
   "cell_type": "code",
   "execution_count": 20,
   "metadata": {},
   "outputs": [
    {
     "data": {
      "text/plain": [
       "71.42857142857143"
      ]
     },
     "execution_count": 20,
     "metadata": {},
     "output_type": "execute_result"
    }
   ],
   "source": [
    "# 1b. how radioactive am I?\n",
    "\n",
    "my_mass = 70\n",
    "specific_activity = k_40_activity / my_mass\n",
    "\n",
    "specific_activity\n",
    "\n",
    "# equation from powerpoint"
   ]
  },
  {
   "cell_type": "code",
   "execution_count": 22,
   "metadata": {},
   "outputs": [
    {
     "data": {
      "text/plain": [
       "14"
      ]
     },
     "execution_count": 22,
     "metadata": {},
     "output_type": "execute_result"
    }
   ],
   "source": [
    "# 2. what is the activity from a 120g banana?\n",
    "# 14 decays per second\n",
    "# https://io9.gizmodo.com/why-are-bananas-radioactive-5783811\n",
    "\n",
    "banana_activity = 14\n",
    "\n",
    "banana_activity"
   ]
  },
  {
   "cell_type": "code",
   "execution_count": 23,
   "metadata": {},
   "outputs": [
    {
     "name": "stdout",
     "output_type": "stream",
     "text": [
      "potassium\n"
     ]
    }
   ],
   "source": [
    "# 2a. which component will contribute significantly to activity of banana?\n",
    "# potassium will contribute significantly to activity since it is the only potential radioactive component\n",
    "\n",
    "print(\"potassium\")"
   ]
  },
  {
   "cell_type": "code",
   "execution_count": 24,
   "metadata": {},
   "outputs": [
    {
     "data": {
      "text/plain": [
       "1.54"
      ]
     },
     "execution_count": 24,
     "metadata": {},
     "output_type": "execute_result"
    }
   ],
   "source": [
    "# 2b. what is the activity just from gamma radiation?\n",
    "# 11% of potassium decay leads to emission of gamma rays\n",
    "# https://io9.gizmodo.com/why-are-bananas-radioactive-5783811\n",
    "\n",
    "percent_gamma = .11\n",
    "banana_activity_gamma = banana_activity * percent_gamma\n",
    "\n",
    "banana_activity_gamma"
   ]
  },
  {
   "cell_type": "code",
   "execution_count": 25,
   "metadata": {},
   "outputs": [
    {
     "data": {
      "text/plain": [
       "12.46"
      ]
     },
     "execution_count": 25,
     "metadata": {},
     "output_type": "execute_result"
    }
   ],
   "source": [
    "# 2c. what is the activity just from electrons?\n",
    "# 89% of potassium decay leads to emission of electrons\n",
    "# https://io9.gizmodo.com/why-are-bananas-radioactive-5783811\n",
    "\n",
    "percent_electron = .89\n",
    "banana_activity_electron = banana_activity * percent_electron\n",
    "\n",
    "banana_activity_electron"
   ]
  },
  {
   "cell_type": "code",
   "execution_count": 26,
   "metadata": {},
   "outputs": [
    {
     "data": {
      "text/plain": [
       "14"
      ]
     },
     "execution_count": 26,
     "metadata": {},
     "output_type": "execute_result"
    }
   ],
   "source": [
    "# 2d. what is the total activity of the banana\n",
    "\n",
    "banana_activity"
   ]
  },
  {
   "cell_type": "code",
   "execution_count": 27,
   "metadata": {},
   "outputs": [
    {
     "name": "stdout",
     "output_type": "stream",
     "text": [
      "little to no activity\n"
     ]
    }
   ],
   "source": [
    "# 2e. how much activity are you exposed to when buying the banana?\n",
    "# little to no activity because the radioactivity is already so small when consuming the banana\n",
    "\n",
    "print(\"little to no activity\")"
   ]
  },
  {
   "cell_type": "code",
   "execution_count": 28,
   "metadata": {},
   "outputs": [
    {
     "data": {
      "text/plain": [
       "14"
      ]
     },
     "execution_count": 28,
     "metadata": {},
     "output_type": "execute_result"
    }
   ],
   "source": [
    "# 2f. how much activity are you exposed to when eating the banana?\n",
    "\n",
    "banana_activity"
   ]
  },
  {
   "cell_type": "code",
   "execution_count": null,
   "metadata": {},
   "outputs": [],
   "source": []
  }
 ],
 "metadata": {
  "kernelspec": {
   "display_name": "Python 3",
   "language": "python",
   "name": "python3"
  },
  "language_info": {
   "codemirror_mode": {
    "name": "ipython",
    "version": 3
   },
   "file_extension": ".py",
   "mimetype": "text/x-python",
   "name": "python",
   "nbconvert_exporter": "python",
   "pygments_lexer": "ipython3",
   "version": "3.7.3"
  }
 },
 "nbformat": 4,
 "nbformat_minor": 2
}
