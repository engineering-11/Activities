{
 "cells": [
  {
   "cell_type": "code",
   "execution_count": 1,
   "id": "673e8645",
   "metadata": {},
   "outputs": [],
   "source": [
    "from becquerel.tools import Isotope, IsotopeQuantity, NeutronIrradiation\n",
    "import datetime"
   ]
  },
  {
   "cell_type": "code",
   "execution_count": 7,
   "id": "5cc029ef",
   "metadata": {},
   "outputs": [],
   "source": [
    "eu152 = Isotope('Eu-152')\n",
    "eu152_chk = IsotopeQuantity(eu152, date='2009-1-15', bq=39.37e3)"
   ]
  },
  {
   "cell_type": "code",
   "execution_count": 9,
   "id": "06730d28",
   "metadata": {},
   "outputs": [
    {
     "name": "stdout",
     "output_type": "stream",
     "text": [
      "19949.294761937403\n"
     ]
    }
   ],
   "source": [
    "eu_act = eu152_chk.bq_now()\n",
    "print(eu_act)"
   ]
  },
  {
   "cell_type": "code",
   "execution_count": 27,
   "id": "1d0a5e37",
   "metadata": {},
   "outputs": [
    {
     "data": {
      "text/plain": [
       "53205.6695665269"
      ]
     },
     "execution_count": 27,
     "metadata": {},
     "output_type": "execute_result"
    }
   ],
   "source": [
    "co60 = Isotope('Co-60')\n",
    "co60_chk = IsotopeQuantity(co60, date='2008-1-15', bq=347.2e3)\n",
    "co_act = co60_chk.bq_now()\n",
    "co_act"
   ]
  },
  {
   "cell_type": "code",
   "execution_count": 7,
   "id": "3a5ef4d0",
   "metadata": {},
   "outputs": [
    {
     "data": {
      "text/plain": [
       "363329.38374284137"
      ]
     },
     "execution_count": 7,
     "metadata": {},
     "output_type": "execute_result"
    }
   ],
   "source": [
    "am241 = Isotope('Am-241')\n",
    "am241_chk = IsotopeQuantity(am241, date='2010-8-1', bq=370e3)\n",
    "am241_chk.bq_now()"
   ]
  },
  {
   "cell_type": "code",
   "execution_count": 3,
   "id": "92afe1e5",
   "metadata": {},
   "outputs": [
    {
     "data": {
      "text/plain": [
       "307545.40523421305"
      ]
     },
     "execution_count": 3,
     "metadata": {},
     "output_type": "execute_result"
    }
   ],
   "source": [
    "cs137 = Isotope('Cs-137')\n",
    "cs137_chk = IsotopeQuantity(cs137, date='2013-6-1', bq=377.4e3)\n",
    "cs137_chk.bq_now()"
   ]
  },
  {
   "cell_type": "code",
   "execution_count": 24,
   "id": "74be7c28",
   "metadata": {},
   "outputs": [
    {
     "data": {
      "text/plain": [
       "148492.06191248514"
      ]
     },
     "execution_count": 24,
     "metadata": {},
     "output_type": "execute_result"
    }
   ],
   "source": [
    "ba133 = Isotope('Ba-133')\n",
    "ba133_chk = IsotopeQuantity(ba133, date='2008-1-15', bq=378.9e3)\n",
    "ba_act = ba133_chk.bq_now()\n",
    "ba_act"
   ]
  },
  {
   "cell_type": "code",
   "execution_count": 20,
   "id": "0b7cfaa8",
   "metadata": {},
   "outputs": [
    {
     "name": "stdout",
     "output_type": "stream",
     "text": [
      "10.277777777777779\n"
     ]
    }
   ],
   "source": [
    "bg = 1850/180\n",
    "print(bg)"
   ]
  },
  {
   "cell_type": "code",
   "execution_count": 21,
   "id": "6224387f",
   "metadata": {},
   "outputs": [
    {
     "name": "stdout",
     "output_type": "stream",
     "text": [
      "0.13397173228199746\n"
     ]
    }
   ],
   "source": [
    "eu_cps = 166341/62\n",
    "eff = (eu_cps - bg)/eu_act\n",
    "print(eff)"
   ]
  },
  {
   "cell_type": "code",
   "execution_count": 22,
   "id": "a3200da0",
   "metadata": {},
   "outputs": [
    {
     "data": {
      "text/plain": [
       "2682.9193548387098"
      ]
     },
     "execution_count": 22,
     "metadata": {},
     "output_type": "execute_result"
    }
   ],
   "source": [
    "eu_cps"
   ]
  },
  {
   "cell_type": "code",
   "execution_count": 26,
   "id": "912cd62f",
   "metadata": {},
   "outputs": [
    {
     "name": "stdout",
     "output_type": "stream",
     "text": [
      "0.13214716869592932\n"
     ]
    }
   ],
   "source": [
    "ba_cps = 2355970/120\n",
    "eff = (ba_cps - bg)/ba_act\n",
    "print(eff)"
   ]
  },
  {
   "cell_type": "code",
   "execution_count": 28,
   "id": "ad28ef70",
   "metadata": {},
   "outputs": [
    {
     "name": "stdout",
     "output_type": "stream",
     "text": [
      "0.1491579240873796\n"
     ]
    }
   ],
   "source": [
    "co_cps = 953559/120\n",
    "eff = (co_cps - bg)/co_act\n",
    "print(eff)"
   ]
  },
  {
   "cell_type": "code",
   "execution_count": null,
   "id": "92ccbe1b",
   "metadata": {},
   "outputs": [],
   "source": []
  }
 ],
 "metadata": {
  "kernelspec": {
   "display_name": "Python 3",
   "language": "python",
   "name": "python3"
  },
  "language_info": {
   "codemirror_mode": {
    "name": "ipython",
    "version": 3
   },
   "file_extension": ".py",
   "mimetype": "text/x-python",
   "name": "python",
   "nbconvert_exporter": "python",
   "pygments_lexer": "ipython3",
   "version": "3.7.3"
  }
 },
 "nbformat": 4,
 "nbformat_minor": 5
}
