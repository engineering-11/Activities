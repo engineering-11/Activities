{
 "cells": [
  {
   "cell_type": "code",
   "execution_count": 1,
   "id": "9b49adf8",
   "metadata": {},
   "outputs": [],
   "source": [
    "import time"
   ]
  },
  {
   "cell_type": "code",
   "execution_count": 2,
   "id": "b97bc2b9",
   "metadata": {},
   "outputs": [
    {
     "name": "stdout",
     "output_type": "stream",
     "text": [
      "1675895791.8510437\n"
     ]
    }
   ],
   "source": [
    "itime = time.time()\n",
    "print(itime)"
   ]
  },
  {
   "cell_type": "code",
   "execution_count": 9,
   "id": "8d84d176",
   "metadata": {},
   "outputs": [
    {
     "name": "stdout",
     "output_type": "stream",
     "text": [
      "1675895791.8510437 24.5 35.4 1016.2 89450\n"
     ]
    }
   ],
   "source": [
    "temp = 24.5\n",
    "hum = 35.4\n",
    "press = 1016.2\n",
    "gas = 89450\n",
    "\n",
    "print(itime,temp,hum,press,gas)\n",
    "\n",
    "meta_data = [\"Time\",\"Temp\",\"Humidity\",\"Pressure\",\"Gas\"]\n",
    "\n",
    "data = [itime,temp,hum,press,gas]"
   ]
  },
  {
   "cell_type": "code",
   "execution_count": 8,
   "id": "e9c1f896",
   "metadata": {},
   "outputs": [],
   "source": [
    "f = open(\"data.csv\",\"w\")"
   ]
  },
  {
   "cell_type": "code",
   "execution_count": 10,
   "id": "bb94c1db",
   "metadata": {},
   "outputs": [
    {
     "data": {
      "text/plain": [
       "1"
      ]
     },
     "execution_count": 10,
     "metadata": {},
     "output_type": "execute_result"
    }
   ],
   "source": [
    "for entry in meta_data:\n",
    "    f.write(entry+',')\n",
    "f.write('\\n')\n",
    "\n",
    "for idata in data:\n",
    "    f.write(str(idata)+',')\n",
    "f.write('\\n')"
   ]
  },
  {
   "cell_type": "code",
   "execution_count": 11,
   "id": "c81a3c4a",
   "metadata": {},
   "outputs": [],
   "source": [
    "f.close()"
   ]
  },
  {
   "cell_type": "code",
   "execution_count": 12,
   "id": "7fc139f4",
   "metadata": {},
   "outputs": [],
   "source": [
    "import csv"
   ]
  },
  {
   "cell_type": "code",
   "execution_count": 19,
   "id": "782cbaf0",
   "metadata": {},
   "outputs": [],
   "source": [
    "f = open(\"data.csv\",\"w\", newline = '')"
   ]
  },
  {
   "cell_type": "code",
   "execution_count": 20,
   "id": "97ca2cee",
   "metadata": {},
   "outputs": [],
   "source": [
    "writer = csv.writer(f)\n"
   ]
  },
  {
   "cell_type": "code",
   "execution_count": 21,
   "id": "ecafe933",
   "metadata": {},
   "outputs": [
    {
     "data": {
      "text/plain": [
       "33"
      ]
     },
     "execution_count": 21,
     "metadata": {},
     "output_type": "execute_result"
    }
   ],
   "source": [
    "writer.writerow(meta_data)"
   ]
  },
  {
   "cell_type": "code",
   "execution_count": 22,
   "id": "f5e524c5",
   "metadata": {},
   "outputs": [
    {
     "data": {
      "text/plain": [
       "43"
      ]
     },
     "execution_count": 22,
     "metadata": {},
     "output_type": "execute_result"
    }
   ],
   "source": [
    "writer.writerow(data)"
   ]
  },
  {
   "cell_type": "code",
   "execution_count": 23,
   "id": "0965d2c2",
   "metadata": {},
   "outputs": [],
   "source": [
    "f.close()"
   ]
  },
  {
   "cell_type": "code",
   "execution_count": null,
   "id": "5b91abcb",
   "metadata": {},
   "outputs": [],
   "source": []
  }
 ],
 "metadata": {
  "kernelspec": {
   "display_name": "Python 3 (ipykernel)",
   "language": "python",
   "name": "python3"
  },
  "language_info": {
   "codemirror_mode": {
    "name": "ipython",
    "version": 3
   },
   "file_extension": ".py",
   "mimetype": "text/x-python",
   "name": "python",
   "nbconvert_exporter": "python",
   "pygments_lexer": "ipython3",
   "version": "3.7.12"
  }
 },
 "nbformat": 4,
 "nbformat_minor": 5
}
