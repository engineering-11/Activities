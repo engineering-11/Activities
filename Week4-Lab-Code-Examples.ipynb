{
 "cells": [
  {
   "cell_type": "code",
   "execution_count": 1,
   "id": "5fb7ffce",
   "metadata": {},
   "outputs": [],
   "source": [
    "import time"
   ]
  },
  {
   "cell_type": "code",
   "execution_count": 2,
   "id": "a1a97931",
   "metadata": {},
   "outputs": [
    {
     "name": "stdout",
     "output_type": "stream",
     "text": [
      "1675895791.8510437\n"
     ]
    }
   ],
   "source": [
    "itime = time.time()\n",
    "print(itime)"
   ]
  },
  {
   "cell_type": "code",
   "execution_count": 9,
   "id": "4e82f04a",
   "metadata": {},
   "outputs": [
    {
     "name": "stdout",
     "output_type": "stream",
     "text": [
      "1675895791.8510437 24.5 35.4 1016.2 89450\n"
     ]
    }
   ],
   "source": [
    "temp = 24.5\n",
    "hum = 35.4\n",
    "press = 1016.2\n",
    "gas = 89450\n",
    "\n",
    "print(itime,temp,hum,press,gas)\n",
    "\n",
    "data = [itime,temp,hum,press,gas]"
   ]
  },
  {
   "cell_type": "code",
   "execution_count": 8,
   "id": "a2a3edbc",
   "metadata": {},
   "outputs": [],
   "source": [
    "f = open(\"data.csv\",\"w\")"
   ]
  },
  {
   "cell_type": "code",
   "execution_count": 10,
   "id": "f2fa0b18",
   "metadata": {},
   "outputs": [
    {
     "data": {
      "text/plain": [
       "1"
      ]
     },
     "execution_count": 10,
     "metadata": {},
     "output_type": "execute_result"
    }
   ],
   "source": [
    "meta_data = [\"Time\",\"Temp\",\"Humidity\",\"Pressure\",\"Gas\"]\n",
    "for entry in meta_data:\n",
    "    f.write(entry+',')\n",
    "f.write('\\n')\n",
    "\n",
    "for idata in data:\n",
    "    f.write(str(idata)+',')\n",
    "f.write('\\n')"
   ]
  },
  {
   "cell_type": "code",
   "execution_count": 11,
   "id": "869a44a1",
   "metadata": {},
   "outputs": [],
   "source": [
    "f.close()"
   ]
  },
  {
   "cell_type": "code",
   "execution_count": 12,
   "id": "541f90bc",
   "metadata": {},
   "outputs": [],
   "source": [
    "import csv"
   ]
  },
  {
   "cell_type": "code",
   "execution_count": 19,
   "id": "cf8003c7",
   "metadata": {},
   "outputs": [],
   "source": [
    "f = open(\"data.csv\",\"w\", newline = '')"
   ]
  },
  {
   "cell_type": "code",
   "execution_count": 20,
   "id": "d359f27d",
   "metadata": {},
   "outputs": [],
   "source": [
    "writer = csv.writer(f)\n"
   ]
  },
  {
   "cell_type": "code",
   "execution_count": 21,
   "id": "1022dcc4",
   "metadata": {},
   "outputs": [
    {
     "data": {
      "text/plain": [
       "33"
      ]
     },
     "execution_count": 21,
     "metadata": {},
     "output_type": "execute_result"
    }
   ],
   "source": [
    "writer.writerow(meta_data)"
   ]
  },
  {
   "cell_type": "code",
   "execution_count": 22,
   "id": "7963c468",
   "metadata": {},
   "outputs": [
    {
     "data": {
      "text/plain": [
       "43"
      ]
     },
     "execution_count": 22,
     "metadata": {},
     "output_type": "execute_result"
    }
   ],
   "source": [
    "writer.writerow(data)"
   ]
  },
  {
   "cell_type": "code",
   "execution_count": 23,
   "id": "21fcf259",
   "metadata": {},
   "outputs": [],
   "source": [
    "f.close()"
   ]
  },
  {
   "cell_type": "code",
   "execution_count": null,
   "id": "feef50d5",
   "metadata": {},
   "outputs": [],
   "source": []
  }
 ],
 "metadata": {
  "kernelspec": {
   "display_name": "Python 3",
   "language": "python",
   "name": "python3"
  },
  "language_info": {
   "codemirror_mode": {
    "name": "ipython",
    "version": 3
   },
   "file_extension": ".py",
   "mimetype": "text/x-python",
   "name": "python",
   "nbconvert_exporter": "python",
   "pygments_lexer": "ipython3",
   "version": "3.7.3"
  }
 },
 "nbformat": 4,
 "nbformat_minor": 5
}
