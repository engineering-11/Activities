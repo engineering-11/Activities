{
 "cells": [
  {
   "cell_type": "markdown",
   "metadata": {},
   "source": [
    "### Useful Numbers\n",
    "Avogadros number: $6.02\\times10^{23}$ atoms/mole\n",
    "\n",
    "$1 MeV = 1.602\\times10^{-13}J$ (J = Joules)"
   ]
  },
  {
   "cell_type": "markdown",
   "metadata": {},
   "source": [
    "### Problem 1: Energy from Radon\n",
    "\n",
    "The average home in the US contains ~0.019 pico-grams ($10^{-12} g$) of Rn/$m^3$ (Rn = Radon).\n",
    "\n",
    "#### 1.a What is the corresponding Bq/$m^3$?\n",
    "\n",
    ">*NOTE: We will include all of the daughter decays that occur with short half-lives relative to the ~4 day half-life of Radon in the determination of the total energy produced per decay, but do not include those here in the determination of activity. For the purposes of this excersize, all daughter decays are considered part of the Radon decay.*"
   ]
  },
  {
   "cell_type": "code",
   "execution_count": 3,
   "metadata": {},
   "outputs": [],
   "source": [
    "import math\n",
    "def get_activity(grams, mol_mass, abundance, half_life):\n",
    "    # Avogadro's number\n",
    "    N_A = 6.02e23\n",
    "    # N_atoms = grams * mol/g * atoms/mol\n",
    "    n_atoms = grams/mol_mass * N_A\n",
    "    n_active = n_atoms * abundance\n",
    "    # the default math.log() is the natural log - other bases require additional arguments\n",
    "    decays_year = n_active * math.log(2)/half_life\n",
    "    activity = decays_year/(365*24*60*60)\n",
    "    return activity"
   ]
  },
  {
   "cell_type": "code",
   "execution_count": 7,
   "metadata": {},
   "outputs": [
    {
     "name": "stdout",
     "output_type": "stream",
     "text": [
      "Radon activity = 108.7740351541873 Bq/m^3\n"
     ]
    }
   ],
   "source": [
    "Rn_activity = get_activity(0.019e-12, 222, 1.0, 3.8/365)\n",
    "print(\"Radon activity = {} Bq/m^3\".format(Rn_activity))"
   ]
  },
  {
   "cell_type": "markdown",
   "metadata": {},
   "source": [
    "##### 1.b If we assume all of the short half-life daughters following the Rn decay to be part of the same disintegration, how much energy is being produced  by this activity? (in units of MeV/$m^3$/s)\n",
    "\n",
    ">*NOTE: Use the decay chain for Radon provided in the lecture slides*"
   ]
  },
  {
   "cell_type": "code",
   "execution_count": 9,
   "metadata": {},
   "outputs": [
    {
     "name": "stdout",
     "output_type": "stream",
     "text": [
      "Energy produced = 2552.9266050687756 MeV/m^3/s\n"
     ]
    }
   ],
   "source": [
    "MeV_per_decay = 5.49 + 6 + 1.02 + 3.27 + 7.69\n",
    "MeV_per_V_s = MeV_per_decay * Rn_activity\n",
    "print(\"Energy produced = {} MeV/m^3/s\".format(MeV_per_V_s))"
   ]
  },
  {
   "cell_type": "markdown",
   "metadata": {},
   "source": [
    "##### 1.c In a $25 m^3$ room, how much energy is being produced from Radon? How does this compare to a ~10W (Joules/s) LED light bulb?"
   ]
  },
  {
   "cell_type": "code",
   "execution_count": 10,
   "metadata": {},
   "outputs": [
    {
     "name": "stdout",
     "output_type": "stream",
     "text": [
      "Energy from Radon = 1.0224471053300446e-08 J/s\n"
     ]
    }
   ],
   "source": [
    "MeV_per_s = E_per_V_s * 25\n",
    "J_per_s = 1.602e-13 * MeV_per_s\n",
    "print(\"Energy from Radon = {} J/s\".format(J_per_s))"
   ]
  },
  {
   "cell_type": "markdown",
   "metadata": {},
   "source": [
    "> This is insignificant relative to the lightbulb: it's eight orders of magnitude less energy!"
   ]
  },
  {
   "cell_type": "markdown",
   "metadata": {},
   "source": [
    "### Problem 2. Dose from Radon\n",
    "\n",
    "##### 2.a Neglecting gamma-radiation, and assuming full absorption of beta and alpha decays, what is the corresponding dose-rate in mGy/yr (milliGray/year) using your answer from problem 1?\n",
    "\n",
    ">*HINT: This is the dose to the human body, so assuming a body mass of 70kg*"
   ]
  },
  {
   "cell_type": "code",
   "execution_count": 13,
   "metadata": {},
   "outputs": [
    {
     "name": "stdout",
     "output_type": "stream",
     "text": [
      "This energy emission corresponds to 4.60627027338404 mGy/yr\n"
     ]
    }
   ],
   "source": [
    "def get_dose(E_per_s):\n",
    "    return E_per_s/70 * 365*24*60*60 * 1000\n",
    "mG_per_year = get_dose(J_per_s)\n",
    "print(\"This energy emission corresponds to {} mGy/yr\".format(mG_per_year))"
   ]
  },
  {
   "cell_type": "markdown",
   "metadata": {},
   "source": [
    "##### 2.b What equivalent dose (mSv/yr) does this correspond to?\n",
    "\n",
    ">*NOTE: Use the weight-factors indicated in the lecture slides (slide 12)*"
   ]
  },
  {
   "cell_type": "code",
   "execution_count": 14,
   "metadata": {},
   "outputs": [
    {
     "name": "stdout",
     "output_type": "stream",
     "text": [
      "The effective dose is 76.12808591150134 mSv/yr\n"
     ]
    }
   ],
   "source": [
    "W_MeV_per_decay = 5.49*20 + 6*20 + 1.02*1 + 3.27*1 + 7.69*20\n",
    "W_MeV_per_V_s = W_MeV_per_decay * Rn_activity\n",
    "# I never gave you any volume other than the 25m^3 room, so you can continue using that volume\n",
    "# I should have asked you to consider/use the volume of air you actually breath in - we will discuss in class\n",
    "W_MeV_per_s = W_MeV_per_V_s * 25\n",
    "W_J_per_s = 1.602e-13 * W_MeV_per_s\n",
    "mSv_per_yr = get_dose(W_J_per_s)\n",
    "print(\"The effective dose is {} mSv/yr\".format(mSv_per_yr))"
   ]
  },
  {
   "cell_type": "markdown",
   "metadata": {},
   "source": [
    "##### 2.c How does this dose-rate compare to what we determined the internal dose from K-40 to be in class?\n",
    "\n",
    ">*NOTE: Check the slides for the final confirmed dose-rate from our calculations in class with some corrections*"
   ]
  },
  {
   "cell_type": "markdown",
   "metadata": {},
   "source": [
    "> This number is what I asked for, but it's ridiculous because we do not actually breath all the are in a 25m^3 room into our lungs every second - meaning we are not exposed to all of the activity from the Radon in the room."
   ]
  },
  {
   "cell_type": "markdown",
   "metadata": {},
   "source": [
    "##### 2.d If we apply a similar correction for the beta decays produced in the Radon decay chain (true $<E_{beta}> = 0.5E_{max}$), what total equivalent dose (mSv/yr) do we get from these internal sources (combining K-40 and Rn-86)? How does this compare to the average total dose world-wide?\n",
    "\n",
    ">*NOTE: Again, see the lecture slides (slide 17)*"
   ]
  },
  {
   "cell_type": "code",
   "execution_count": 15,
   "metadata": {},
   "outputs": [
    {
     "name": "stdout",
     "output_type": "stream",
     "text": [
      "The corrected effective dose is 75.70710381791764 mSv/yr\n"
     ]
    }
   ],
   "source": [
    "W_MeV_per_decay = 5.49*20 + 6*20 + 1.02*0.5 + 3.27*0.5 + 7.69*20\n",
    "W_MeV_per_V_s = W_MeV_per_decay * Rn_activity\n",
    "# I never gave you any volume other than the 25m^3 room, so you can continue using that volume\n",
    "# I should have asked you to consider/use the volume of air you actually breath in - we will discuss in class\n",
    "W_MeV_per_s = W_MeV_per_V_s * 25\n",
    "W_J_per_s = 1.602e-13 * W_MeV_per_s\n",
    "mSv_per_yr = get_dose(W_J_per_s)\n",
    "print(\"The corrected effective dose is {} mSv/yr\".format(mSv_per_yr))"
   ]
  },
  {
   "cell_type": "markdown",
   "metadata": {},
   "source": [
    "> This number is much higehr than the actual average yearly dose world-wide, which is 2.4 mSv/yr."
   ]
  },
  {
   "cell_type": "markdown",
   "metadata": {},
   "source": [
    "#### 2.e Why might our estimated yearly dose be off from the actual average yearly dose?\n",
    "> List all possible sources of descrepancy, even if they go in the wrong direction or you got a reasonable estimate"
   ]
  },
  {
   "cell_type": "markdown",
   "metadata": {},
   "source": [
    "> This estimate includes a lot of assumptions about exposure that would push the number up, but most importantly it uses a very wrong assumption about how much of the Radon in a room will actually make it into your body."
   ]
  },
  {
   "cell_type": "code",
   "execution_count": null,
   "metadata": {},
   "outputs": [],
   "source": []
  }
 ],
 "metadata": {
  "kernelspec": {
   "display_name": "Python 3",
   "language": "python",
   "name": "python3"
  },
  "language_info": {
   "codemirror_mode": {
    "name": "ipython",
    "version": 3
   },
   "file_extension": ".py",
   "mimetype": "text/x-python",
   "name": "python",
   "nbconvert_exporter": "python",
   "pygments_lexer": "ipython3",
   "version": "3.7.3"
  }
 },
 "nbformat": 4,
 "nbformat_minor": 2
}
