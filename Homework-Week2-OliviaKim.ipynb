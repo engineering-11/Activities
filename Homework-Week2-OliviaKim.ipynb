{
 "cells": [
  {
   "cell_type": "markdown",
   "metadata": {},
   "source": [
    "# 1. How radioactive are humans?\n",
    "\n",
    "### 1.a. Assume an average human mass of 70kg. What is the activity (Bq) of that person?\n",
    "  * Hints:\n",
    "    * What elements(isotopes) in our body produce radiation that actually escapes our body?\n",
    "    * How much of our body is made up of those elements?\n",
    "      * Don’t forget to consider the natural abundance of the unstable isotopes\n",
    "    * How much activity will that lead to?\n",
    "      * Don’t forget about branching ratios\n",
    "\n",
    "### 1.b. How radioactive are you?\n",
    "  * Hint: make use of specific activity\n",
    "  * You don’t have to use your actual mass\n",
    "\n",
    "### 1.c. Provide references\n",
    "  * Where did you get the relevant numers that went in to your calculations?\n",
    "  * Include your references in Markdown"
   ]
  },
  {
   "cell_type": "code",
   "execution_count": 8,
   "metadata": {},
   "outputs": [
    {
     "name": "stdout",
     "output_type": "stream",
     "text": [
      "4337.876225339463 Bq\n"
     ]
    }
   ],
   "source": [
    "#1a\n",
    "import numpy as np\n",
    "potassium_40 = 0.0117 #in percentage & natural abundance\n",
    "half_life_K40 = 1.28*10**9 #y\n",
    "potassium_content = 0.2 #percent\n",
    "mm_K = 39.098\n",
    "\n",
    "m = 70 * potassium_40/100 * potassium_content/100 * 1000 #units in g\n",
    "p = m * 1/39.098 * 6.023 * 10**23\n",
    "r = np.log(2)/(half_life_K40 * 3.15 * 10**7) * p\n",
    "print(r, \"Bq\")"
   ]
  },
  {
   "cell_type": "code",
   "execution_count": 12,
   "metadata": {},
   "outputs": [
    {
     "name": "stdout",
     "output_type": "stream",
     "text": [
      "1647000.0 Bq\n"
     ]
    }
   ],
   "source": [
    "#1b\n",
    "specific_activity_K40 = 30.5 #Bq g-1\n",
    "w = 54 * 30.5 * 1000\n",
    "print(w, \"Bq\")"
   ]
  },
  {
   "cell_type": "markdown",
   "metadata": {},
   "source": [
    "Baes, Fred. “Hps.org.” Health Physics Society, hps.org/publicinformation/ate/faqs/faqradbods.html.\n",
    "\n",
    "Average Dose, https://www.nrc.gov/reading-rm/basic-ref/students/for-educators/average-dose-worksheet.pdf."
   ]
  },
  {
   "cell_type": "markdown",
   "metadata": {},
   "source": [
    "# 2. What is the activity from a 120g (medium size) banana?\n",
    "* Neglect the impact of the banana peel in your answers - assume a uniform composition and assume you will injest the entire banana.\n",
    "* Composition of bananas:\n",
    "  * Potassium (K)\n",
    "  * Vitamin B6 (C<sub>8</sub>H<sub>11</sub>NO<sub>3</sub>)\n",
    "  * Vitamin C (C<sub>6</sub>H<sub>8</sub>O<sub>6</sub>)\n",
    "  * Isoamyl acetate (C<sub>7</sub>H<sub>14</sub>O<sub>2</sub>)\n",
    "  * Pectin (C<sub>6</sub>H<sub>10</sub>O<sub>7</sub>)\n",
    "* Check [nutrition information](https://en.wikipedia.org/wiki/Banana#Nutrition)\n",
    "\n",
    "### 2.a. Which of the above components of the banana composition will contribute significantly to your answer and why?\n",
    "### 2.b. What is the activity just from gamma radiation?\n",
    "### 2.c. Assuming no self-shielding of electrons (all electrons produced escape the banana), what is the activity just from electrons?\n",
    "### 2.d. What is the total activity of the banana?\n",
    "### 2.e. When you purchase the banana, how much of the activity from the banana are you being exposed to?\n",
    "### 2.f. When you eat the banana, how much of the activity are you being exposed to?"
   ]
  },
  {
   "cell_type": "markdown",
   "metadata": {},
   "source": [
    "2a) It would be potassium, which also contains potassium decay. Potassium contributes significantly since banana itself is contains a lot of potassium. "
   ]
  },
  {
   "cell_type": "markdown",
   "metadata": {},
   "source": [
    "2b) Activity from gamma radiation are about 11% of radioactivity of potassium. "
   ]
  },
  {
   "cell_type": "markdown",
   "metadata": {},
   "source": [
    "2c) Activity from beta are about 89% of radioacitiviy of potassium. "
   ]
  },
  {
   "cell_type": "markdown",
   "metadata": {},
   "source": [
    "2d) The total activity of the banana is approximately 15 Bq as it only contains about 0.5g of potassium. "
   ]
  },
  {
   "cell_type": "code",
   "execution_count": 16,
   "metadata": {},
   "outputs": [
    {
     "name": "stdout",
     "output_type": "stream",
     "text": [
      "When you purchase the banana, you are being exposed to 13.35 Bq\n"
     ]
    }
   ],
   "source": [
    "#2e) When you purchase the banana: \n",
    "\n",
    "total_activity_banana_K40 = 15\n",
    "total = 15 * 0.89\n",
    "print(\"When you purchase the banana, you are being exposed to\", total, \"Bq\")"
   ]
  },
  {
   "cell_type": "markdown",
   "metadata": {},
   "source": [
    "2f) When you eat the banana, you are being exposed to approximately 0.1µSv, which is far less than the average consumption."
   ]
  }
 ],
 "metadata": {
  "kernelspec": {
   "display_name": "Python 3",
   "language": "python",
   "name": "python3"
  },
  "language_info": {
   "codemirror_mode": {
    "name": "ipython",
    "version": 3
   },
   "file_extension": ".py",
   "mimetype": "text/x-python",
   "name": "python",
   "nbconvert_exporter": "python",
   "pygments_lexer": "ipython3",
   "version": "3.7.1"
  }
 },
 "nbformat": 4,
 "nbformat_minor": 2
}
