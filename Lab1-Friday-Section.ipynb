{
 "cells": [
  {
   "cell_type": "code",
   "execution_count": 82,
   "id": "52b23e26",
   "metadata": {},
   "outputs": [],
   "source": [
    "helloworld = \"Hello World!\""
   ]
  },
  {
   "cell_type": "code",
   "execution_count": 83,
   "id": "750a82f5",
   "metadata": {},
   "outputs": [
    {
     "data": {
      "text/plain": [
       "float"
      ]
     },
     "execution_count": 83,
     "metadata": {},
     "output_type": "execute_result"
    }
   ],
   "source": [
    "type(a)"
   ]
  },
  {
   "cell_type": "code",
   "execution_count": 84,
   "id": "bf98f05a",
   "metadata": {},
   "outputs": [
    {
     "data": {
      "text/plain": [
       "str"
      ]
     },
     "execution_count": 84,
     "metadata": {},
     "output_type": "execute_result"
    }
   ],
   "source": [
    "type(helloworld)"
   ]
  },
  {
   "cell_type": "code",
   "execution_count": 85,
   "id": "a613e385",
   "metadata": {},
   "outputs": [],
   "source": [
    "a = 10.0"
   ]
  },
  {
   "cell_type": "code",
   "execution_count": 86,
   "id": "24f01be2",
   "metadata": {},
   "outputs": [],
   "source": [
    "b = 50"
   ]
  },
  {
   "cell_type": "code",
   "execution_count": 87,
   "id": "9f9f027c",
   "metadata": {},
   "outputs": [],
   "source": [
    "c = a/b"
   ]
  },
  {
   "cell_type": "code",
   "execution_count": 88,
   "id": "592f8cb1",
   "metadata": {},
   "outputs": [
    {
     "name": "stdout",
     "output_type": "stream",
     "text": [
      "0.2\n"
     ]
    }
   ],
   "source": [
    "print(c)"
   ]
  },
  {
   "cell_type": "code",
   "execution_count": 89,
   "id": "c7641551",
   "metadata": {},
   "outputs": [
    {
     "ename": "NameError",
     "evalue": "name 'd' is not defined",
     "output_type": "error",
     "traceback": [
      "\u001b[1;31m---------------------------------------------------------------------------\u001b[0m",
      "\u001b[1;31mNameError\u001b[0m                                 Traceback (most recent call last)",
      "\u001b[1;32m<ipython-input-89-85549cb1de5f>\u001b[0m in \u001b[0;36m<module>\u001b[1;34m\u001b[0m\n\u001b[1;32m----> 1\u001b[1;33m \u001b[0mprint\u001b[0m\u001b[1;33m(\u001b[0m\u001b[0md\u001b[0m\u001b[1;33m)\u001b[0m\u001b[1;33m\u001b[0m\u001b[1;33m\u001b[0m\u001b[0m\n\u001b[0m",
      "\u001b[1;31mNameError\u001b[0m: name 'd' is not defined"
     ]
    }
   ],
   "source": [
    "print(d)"
   ]
  },
  {
   "cell_type": "code",
   "execution_count": 248,
   "id": "c1c8f797",
   "metadata": {},
   "outputs": [],
   "source": [
    "h = \"Hello World!\""
   ]
  },
  {
   "cell_type": "code",
   "execution_count": 249,
   "id": "72b91f61",
   "metadata": {},
   "outputs": [],
   "source": [
    "length = len(h)"
   ]
  },
  {
   "cell_type": "code",
   "execution_count": 250,
   "id": "45fa02d3",
   "metadata": {},
   "outputs": [
    {
     "name": "stdout",
     "output_type": "stream",
     "text": [
      "12\n"
     ]
    }
   ],
   "source": [
    "print(length)"
   ]
  },
  {
   "cell_type": "code",
   "execution_count": 251,
   "id": "3e2a9ab8",
   "metadata": {},
   "outputs": [
    {
     "data": {
      "text/plain": [
       "12"
      ]
     },
     "execution_count": 251,
     "metadata": {},
     "output_type": "execute_result"
    }
   ],
   "source": [
    "len(h)"
   ]
  },
  {
   "cell_type": "code",
   "execution_count": 252,
   "id": "875a21cb",
   "metadata": {},
   "outputs": [
    {
     "ename": "TypeError",
     "evalue": "object of type 'float' has no len()",
     "output_type": "error",
     "traceback": [
      "\u001b[1;31m---------------------------------------------------------------------------\u001b[0m",
      "\u001b[1;31mTypeError\u001b[0m                                 Traceback (most recent call last)",
      "\u001b[1;32m<ipython-input-252-821a70939e36>\u001b[0m in \u001b[0;36m<module>\u001b[1;34m\u001b[0m\n\u001b[1;32m----> 1\u001b[1;33m \u001b[0mlen\u001b[0m\u001b[1;33m(\u001b[0m\u001b[0mc\u001b[0m\u001b[1;33m)\u001b[0m\u001b[1;33m\u001b[0m\u001b[1;33m\u001b[0m\u001b[0m\n\u001b[0m",
      "\u001b[1;31mTypeError\u001b[0m: object of type 'float' has no len()"
     ]
    }
   ],
   "source": [
    "len(c)"
   ]
  },
  {
   "cell_type": "code",
   "execution_count": 253,
   "id": "145cf373",
   "metadata": {},
   "outputs": [
    {
     "data": {
      "text/plain": [
       "'d'"
      ]
     },
     "execution_count": 253,
     "metadata": {},
     "output_type": "execute_result"
    }
   ],
   "source": [
    "h[-2]"
   ]
  },
  {
   "cell_type": "code",
   "execution_count": 254,
   "id": "f0d11f45",
   "metadata": {},
   "outputs": [
    {
     "data": {
      "text/plain": [
       "'llo W'"
      ]
     },
     "execution_count": 254,
     "metadata": {},
     "output_type": "execute_result"
    }
   ],
   "source": [
    "# slicing - start-index : stop-index\n",
    "h[2:7]"
   ]
  },
  {
   "cell_type": "code",
   "execution_count": 255,
   "id": "e5fdf639",
   "metadata": {},
   "outputs": [
    {
     "data": {
      "text/plain": [
       "'loW'"
      ]
     },
     "execution_count": 255,
     "metadata": {},
     "output_type": "execute_result"
    }
   ],
   "source": [
    "h[2:7:2]"
   ]
  },
  {
   "cell_type": "code",
   "execution_count": 256,
   "id": "59cfef3c",
   "metadata": {},
   "outputs": [],
   "source": [
    "data = [1,2,3,4,5,6,7,8,9]"
   ]
  },
  {
   "cell_type": "code",
   "execution_count": 257,
   "id": "05f64e55",
   "metadata": {},
   "outputs": [
    {
     "data": {
      "text/plain": [
       "list"
      ]
     },
     "execution_count": 257,
     "metadata": {},
     "output_type": "execute_result"
    }
   ],
   "source": [
    "type(data)"
   ]
  },
  {
   "cell_type": "code",
   "execution_count": 258,
   "id": "62f890bd",
   "metadata": {},
   "outputs": [],
   "source": [
    "test = [1,2.0,\"hello\",[1,2,3.0]]"
   ]
  },
  {
   "cell_type": "code",
   "execution_count": 259,
   "id": "8a3ea630",
   "metadata": {},
   "outputs": [
    {
     "name": "stdout",
     "output_type": "stream",
     "text": [
      "[1, 2.0, 'hello', [1, 2, 3.0]]\n"
     ]
    }
   ],
   "source": [
    "print(test)"
   ]
  },
  {
   "cell_type": "code",
   "execution_count": 260,
   "id": "97d4a4ac",
   "metadata": {},
   "outputs": [
    {
     "data": {
      "text/plain": [
       "[2, 5, 8]"
      ]
     },
     "execution_count": 260,
     "metadata": {},
     "output_type": "execute_result"
    }
   ],
   "source": [
    "data[1:8:3]"
   ]
  },
  {
   "cell_type": "code",
   "execution_count": 261,
   "id": "d084ee74",
   "metadata": {},
   "outputs": [],
   "source": [
    "data.append(10)"
   ]
  },
  {
   "cell_type": "code",
   "execution_count": 262,
   "id": "6a7cd1c5",
   "metadata": {},
   "outputs": [
    {
     "data": {
      "text/plain": [
       "[1, 2, 3, 4, 5, 6, 7, 8, 9, 10]"
      ]
     },
     "execution_count": 262,
     "metadata": {},
     "output_type": "execute_result"
    }
   ],
   "source": [
    "data"
   ]
  },
  {
   "cell_type": "code",
   "execution_count": 263,
   "id": "00bcb00a",
   "metadata": {},
   "outputs": [],
   "source": [
    "test2 = (1,2,3,4)"
   ]
  },
  {
   "cell_type": "code",
   "execution_count": 264,
   "id": "26d4c5a1",
   "metadata": {},
   "outputs": [
    {
     "data": {
      "text/plain": [
       "tuple"
      ]
     },
     "execution_count": 264,
     "metadata": {},
     "output_type": "execute_result"
    }
   ],
   "source": [
    "type(test2)"
   ]
  },
  {
   "cell_type": "code",
   "execution_count": 265,
   "id": "c2f8a4c1",
   "metadata": {},
   "outputs": [
    {
     "ename": "AttributeError",
     "evalue": "'tuple' object has no attribute 'append'",
     "output_type": "error",
     "traceback": [
      "\u001b[1;31m---------------------------------------------------------------------------\u001b[0m",
      "\u001b[1;31mAttributeError\u001b[0m                            Traceback (most recent call last)",
      "\u001b[1;32m<ipython-input-265-9af3fbd09518>\u001b[0m in \u001b[0;36m<module>\u001b[1;34m\u001b[0m\n\u001b[1;32m----> 1\u001b[1;33m \u001b[0mtest2\u001b[0m\u001b[1;33m.\u001b[0m\u001b[0mappend\u001b[0m\u001b[1;33m(\u001b[0m\u001b[1;36m5\u001b[0m\u001b[1;33m)\u001b[0m\u001b[1;33m\u001b[0m\u001b[1;33m\u001b[0m\u001b[0m\n\u001b[0m",
      "\u001b[1;31mAttributeError\u001b[0m: 'tuple' object has no attribute 'append'"
     ]
    }
   ],
   "source": [
    "test2.append(5)"
   ]
  },
  {
   "cell_type": "code",
   "execution_count": 266,
   "id": "f4e11725",
   "metadata": {},
   "outputs": [
    {
     "data": {
      "text/plain": [
       "[1, 2, 3, 4]"
      ]
     },
     "execution_count": 266,
     "metadata": {},
     "output_type": "execute_result"
    }
   ],
   "source": [
    "list(test2)"
   ]
  },
  {
   "cell_type": "code",
   "execution_count": 267,
   "id": "32ec913d",
   "metadata": {},
   "outputs": [
    {
     "ename": "TypeError",
     "evalue": "'float' object is not iterable",
     "output_type": "error",
     "traceback": [
      "\u001b[1;31m---------------------------------------------------------------------------\u001b[0m",
      "\u001b[1;31mTypeError\u001b[0m                                 Traceback (most recent call last)",
      "\u001b[1;32m<ipython-input-267-e8d606e78fd4>\u001b[0m in \u001b[0;36m<module>\u001b[1;34m\u001b[0m\n\u001b[1;32m----> 1\u001b[1;33m \u001b[0mlist\u001b[0m\u001b[1;33m(\u001b[0m\u001b[0ma\u001b[0m\u001b[1;33m)\u001b[0m\u001b[1;33m\u001b[0m\u001b[1;33m\u001b[0m\u001b[0m\n\u001b[0m",
      "\u001b[1;31mTypeError\u001b[0m: 'float' object is not iterable"
     ]
    }
   ],
   "source": [
    "list(a)"
   ]
  },
  {
   "cell_type": "code",
   "execution_count": 268,
   "id": "eabcf115",
   "metadata": {},
   "outputs": [],
   "source": [
    "a_str = str(a)"
   ]
  },
  {
   "cell_type": "code",
   "execution_count": 269,
   "id": "518ecc84",
   "metadata": {},
   "outputs": [
    {
     "name": "stdout",
     "output_type": "stream",
     "text": [
      "10.0\n"
     ]
    }
   ],
   "source": [
    "print(a_str)"
   ]
  },
  {
   "cell_type": "code",
   "execution_count": 270,
   "id": "fe439434",
   "metadata": {},
   "outputs": [
    {
     "ename": "ValueError",
     "evalue": "invalid literal for int() with base 10: '10.0'",
     "output_type": "error",
     "traceback": [
      "\u001b[1;31m---------------------------------------------------------------------------\u001b[0m",
      "\u001b[1;31mValueError\u001b[0m                                Traceback (most recent call last)",
      "\u001b[1;32m<ipython-input-270-b6b7023b46c6>\u001b[0m in \u001b[0;36m<module>\u001b[1;34m\u001b[0m\n\u001b[1;32m----> 1\u001b[1;33m \u001b[0mint\u001b[0m\u001b[1;33m(\u001b[0m\u001b[0ma_str\u001b[0m\u001b[1;33m)\u001b[0m\u001b[1;33m\u001b[0m\u001b[1;33m\u001b[0m\u001b[0m\n\u001b[0m",
      "\u001b[1;31mValueError\u001b[0m: invalid literal for int() with base 10: '10.0'"
     ]
    }
   ],
   "source": [
    "int(a_str)"
   ]
  },
  {
   "cell_type": "code",
   "execution_count": 271,
   "id": "c7c41eb0",
   "metadata": {},
   "outputs": [],
   "source": [
    "b_str = '5'"
   ]
  },
  {
   "cell_type": "code",
   "execution_count": 272,
   "id": "d32cfbea",
   "metadata": {},
   "outputs": [
    {
     "data": {
      "text/plain": [
       "5"
      ]
     },
     "execution_count": 272,
     "metadata": {},
     "output_type": "execute_result"
    }
   ],
   "source": [
    "int(b_str)"
   ]
  },
  {
   "cell_type": "code",
   "execution_count": 273,
   "id": "677b708e",
   "metadata": {},
   "outputs": [
    {
     "data": {
      "text/plain": [
       "1"
      ]
     },
     "execution_count": 273,
     "metadata": {},
     "output_type": "execute_result"
    }
   ],
   "source": [
    "int(a_str[0])"
   ]
  },
  {
   "cell_type": "code",
   "execution_count": 274,
   "id": "11ea8da3",
   "metadata": {},
   "outputs": [
    {
     "data": {
      "text/plain": [
       "[1, 2, 3, 4, 5, 6, 7, 8, 9, 10]"
      ]
     },
     "execution_count": 274,
     "metadata": {},
     "output_type": "execute_result"
    }
   ],
   "source": [
    "data"
   ]
  },
  {
   "cell_type": "code",
   "execution_count": 275,
   "id": "44bcbe0e",
   "metadata": {},
   "outputs": [],
   "source": [
    "data[3] = 12, data[2]"
   ]
  },
  {
   "cell_type": "code",
   "execution_count": 276,
   "id": "4b362dbc",
   "metadata": {},
   "outputs": [
    {
     "data": {
      "text/plain": [
       "[1, 2, 3, (12, 3), 5, 6, 7, 8, 9, 10]"
      ]
     },
     "execution_count": 276,
     "metadata": {},
     "output_type": "execute_result"
    }
   ],
   "source": [
    "data"
   ]
  },
  {
   "cell_type": "code",
   "execution_count": 277,
   "id": "d294ad78",
   "metadata": {},
   "outputs": [
    {
     "data": {
      "text/plain": [
       "((12, 3), 3)"
      ]
     },
     "execution_count": 277,
     "metadata": {},
     "output_type": "execute_result"
    }
   ],
   "source": [
    "data[3],data[2]"
   ]
  },
  {
   "cell_type": "code",
   "execution_count": 278,
   "id": "d8c14eb8",
   "metadata": {},
   "outputs": [
    {
     "data": {
      "text/plain": [
       "[3, (12, 3), 5, 6]"
      ]
     },
     "execution_count": 278,
     "metadata": {},
     "output_type": "execute_result"
    }
   ],
   "source": [
    "data[2:6]"
   ]
  },
  {
   "cell_type": "code",
   "execution_count": 279,
   "id": "4121c9d6",
   "metadata": {},
   "outputs": [],
   "source": [
    "import numpy as np"
   ]
  },
  {
   "cell_type": "code",
   "execution_count": 280,
   "id": "e8e96df1",
   "metadata": {},
   "outputs": [],
   "source": [
    "data = [1,2,3,4,5,6,7,8,9]"
   ]
  },
  {
   "cell_type": "code",
   "execution_count": 281,
   "id": "784e677a",
   "metadata": {},
   "outputs": [],
   "source": [
    "data_np = np.array(data)"
   ]
  },
  {
   "cell_type": "code",
   "execution_count": 282,
   "id": "fd24f622",
   "metadata": {},
   "outputs": [
    {
     "data": {
      "text/plain": [
       "array([1, 2, 3, 4, 5, 6, 7, 8, 9])"
      ]
     },
     "execution_count": 282,
     "metadata": {},
     "output_type": "execute_result"
    }
   ],
   "source": [
    "data_np"
   ]
  },
  {
   "cell_type": "code",
   "execution_count": 283,
   "id": "e19d3c83",
   "metadata": {},
   "outputs": [
    {
     "data": {
      "text/plain": [
       "numpy.ndarray"
      ]
     },
     "execution_count": 283,
     "metadata": {},
     "output_type": "execute_result"
    }
   ],
   "source": [
    "type(data_np)"
   ]
  },
  {
   "cell_type": "code",
   "execution_count": 284,
   "id": "b48028cc",
   "metadata": {},
   "outputs": [
    {
     "data": {
      "text/plain": [
       "dtype('int32')"
      ]
     },
     "execution_count": 284,
     "metadata": {},
     "output_type": "execute_result"
    }
   ],
   "source": [
    "data_np.dtype"
   ]
  },
  {
   "cell_type": "code",
   "execution_count": 285,
   "id": "2b88a9ae",
   "metadata": {},
   "outputs": [
    {
     "data": {
      "text/plain": [
       "[1, 2, 3, 4, 5, 6, 7, 8, 9, 1, 2, 3, 4, 5, 6, 7, 8, 9]"
      ]
     },
     "execution_count": 285,
     "metadata": {},
     "output_type": "execute_result"
    }
   ],
   "source": [
    "data*2"
   ]
  },
  {
   "cell_type": "code",
   "execution_count": 133,
   "id": "8616b9f2",
   "metadata": {},
   "outputs": [
    {
     "data": {
      "text/plain": [
       "array([ 2,  4,  6,  8, 10, 12, 14, 16, 18])"
      ]
     },
     "execution_count": 133,
     "metadata": {},
     "output_type": "execute_result"
    }
   ],
   "source": [
    "data_np*2"
   ]
  },
  {
   "cell_type": "code",
   "execution_count": 134,
   "id": "12306b1f",
   "metadata": {},
   "outputs": [
    {
     "data": {
      "text/plain": [
       "array([1, 2, 3, 4, 5, 6, 7, 8, 9])"
      ]
     },
     "execution_count": 134,
     "metadata": {},
     "output_type": "execute_result"
    }
   ],
   "source": [
    "data_np"
   ]
  },
  {
   "cell_type": "code",
   "execution_count": 135,
   "id": "66c7b03a",
   "metadata": {},
   "outputs": [],
   "source": [
    "data2_np = data_np*2"
   ]
  },
  {
   "cell_type": "code",
   "execution_count": 136,
   "id": "5a323814",
   "metadata": {},
   "outputs": [
    {
     "data": {
      "text/plain": [
       "array([ 2,  4,  6,  8, 10, 12, 14, 16, 18])"
      ]
     },
     "execution_count": 136,
     "metadata": {},
     "output_type": "execute_result"
    }
   ],
   "source": [
    "data2_np"
   ]
  },
  {
   "cell_type": "code",
   "execution_count": 137,
   "id": "fca0452a",
   "metadata": {},
   "outputs": [
    {
     "data": {
      "text/plain": [
       "[1, 2, 3, 4, 5, 6, 7, 8, 9]"
      ]
     },
     "execution_count": 137,
     "metadata": {},
     "output_type": "execute_result"
    }
   ],
   "source": [
    "data"
   ]
  },
  {
   "cell_type": "code",
   "execution_count": 138,
   "id": "3e12d887",
   "metadata": {},
   "outputs": [],
   "source": [
    "data2 = [2,3,4,5,6]"
   ]
  },
  {
   "cell_type": "code",
   "execution_count": 139,
   "id": "31954710",
   "metadata": {},
   "outputs": [
    {
     "data": {
      "text/plain": [
       "[1, 2, 3, 4, 5, 6, 7, 8, 9, 2, 3, 4, 5, 6]"
      ]
     },
     "execution_count": 139,
     "metadata": {},
     "output_type": "execute_result"
    }
   ],
   "source": [
    "data+data2"
   ]
  },
  {
   "cell_type": "code",
   "execution_count": 140,
   "id": "e58a33b1",
   "metadata": {},
   "outputs": [
    {
     "data": {
      "text/plain": [
       "array([ 3,  6,  9, 12, 15, 18, 21, 24, 27])"
      ]
     },
     "execution_count": 140,
     "metadata": {},
     "output_type": "execute_result"
    }
   ],
   "source": [
    "data_np + data2_np"
   ]
  },
  {
   "cell_type": "code",
   "execution_count": 143,
   "id": "3b0c0d22",
   "metadata": {},
   "outputs": [],
   "source": [
    "data3_np = np.array(data2)"
   ]
  },
  {
   "cell_type": "code",
   "execution_count": 144,
   "id": "e49f94e1",
   "metadata": {},
   "outputs": [
    {
     "data": {
      "text/plain": [
       "9"
      ]
     },
     "execution_count": 144,
     "metadata": {},
     "output_type": "execute_result"
    }
   ],
   "source": [
    "len(data_np)"
   ]
  },
  {
   "cell_type": "code",
   "execution_count": 145,
   "id": "d95d621e",
   "metadata": {},
   "outputs": [
    {
     "data": {
      "text/plain": [
       "5"
      ]
     },
     "execution_count": 145,
     "metadata": {},
     "output_type": "execute_result"
    }
   ],
   "source": [
    "len(data3_np)"
   ]
  },
  {
   "cell_type": "code",
   "execution_count": 146,
   "id": "4c0ce492",
   "metadata": {},
   "outputs": [
    {
     "ename": "ValueError",
     "evalue": "operands could not be broadcast together with shapes (9,) (5,) ",
     "output_type": "error",
     "traceback": [
      "\u001b[1;31m---------------------------------------------------------------------------\u001b[0m",
      "\u001b[1;31mValueError\u001b[0m                                Traceback (most recent call last)",
      "\u001b[1;32m<ipython-input-146-be749ad1aea2>\u001b[0m in \u001b[0;36m<module>\u001b[1;34m\u001b[0m\n\u001b[1;32m----> 1\u001b[1;33m \u001b[0mdata_np\u001b[0m \u001b[1;33m+\u001b[0m \u001b[0mdata3_np\u001b[0m\u001b[1;33m\u001b[0m\u001b[1;33m\u001b[0m\u001b[0m\n\u001b[0m",
      "\u001b[1;31mValueError\u001b[0m: operands could not be broadcast together with shapes (9,) (5,) "
     ]
    }
   ],
   "source": [
    "data_np + data3_np"
   ]
  },
  {
   "cell_type": "code",
   "execution_count": 147,
   "id": "0c7b38df",
   "metadata": {},
   "outputs": [
    {
     "data": {
      "text/plain": [
       "array([1.        , 1.41421356, 1.73205081, 2.        , 2.23606798,\n",
       "       2.44948974, 2.64575131, 2.82842712, 3.        ])"
      ]
     },
     "execution_count": 147,
     "metadata": {},
     "output_type": "execute_result"
    }
   ],
   "source": [
    "np.sqrt(data_np)"
   ]
  },
  {
   "cell_type": "code",
   "execution_count": 149,
   "id": "89bb57b4",
   "metadata": {},
   "outputs": [],
   "source": [
    "data_2d = np.array([[1,2,3,4,5,6],[5,6,7,8,9,10]])"
   ]
  },
  {
   "cell_type": "code",
   "execution_count": 150,
   "id": "27474639",
   "metadata": {},
   "outputs": [
    {
     "data": {
      "text/plain": [
       "array([[ 1,  2,  3,  4,  5,  6],\n",
       "       [ 5,  6,  7,  8,  9, 10]])"
      ]
     },
     "execution_count": 150,
     "metadata": {},
     "output_type": "execute_result"
    }
   ],
   "source": [
    "data_2d"
   ]
  },
  {
   "cell_type": "code",
   "execution_count": 151,
   "id": "f7577395",
   "metadata": {},
   "outputs": [
    {
     "data": {
      "text/plain": [
       "(2, 6)"
      ]
     },
     "execution_count": 151,
     "metadata": {},
     "output_type": "execute_result"
    }
   ],
   "source": [
    "data_2d.shape"
   ]
  },
  {
   "cell_type": "code",
   "execution_count": 152,
   "id": "af4f94ec",
   "metadata": {},
   "outputs": [
    {
     "data": {
      "text/plain": [
       "5.5"
      ]
     },
     "execution_count": 152,
     "metadata": {},
     "output_type": "execute_result"
    }
   ],
   "source": [
    "np.mean(data_2d)"
   ]
  },
  {
   "cell_type": "code",
   "execution_count": 157,
   "id": "ebf38463",
   "metadata": {},
   "outputs": [
    {
     "data": {
      "text/plain": [
       "array([[1.        , 1.41421356, 1.73205081, 2.        , 2.23606798,\n",
       "        2.44948974],\n",
       "       [2.23606798, 2.44948974, 2.64575131, 2.82842712, 3.        ,\n",
       "        3.16227766]])"
      ]
     },
     "execution_count": 157,
     "metadata": {},
     "output_type": "execute_result"
    }
   ],
   "source": [
    "np.sqrt(data_2d)"
   ]
  },
  {
   "cell_type": "code",
   "execution_count": 158,
   "id": "c7467bdf",
   "metadata": {},
   "outputs": [
    {
     "data": {
      "text/plain": [
       "array([3.5, 7.5])"
      ]
     },
     "execution_count": 158,
     "metadata": {},
     "output_type": "execute_result"
    }
   ],
   "source": [
    "np.mean(data_2d,axis=1)"
   ]
  },
  {
   "cell_type": "code",
   "execution_count": 159,
   "id": "eacad71e",
   "metadata": {},
   "outputs": [],
   "source": [
    "list_2d = [[ 1,  2,  3,  4,  5,  6],[ 5,  6,  7,  8,  9, 10]]"
   ]
  },
  {
   "cell_type": "code",
   "execution_count": 161,
   "id": "9165877a",
   "metadata": {},
   "outputs": [
    {
     "data": {
      "text/plain": [
       "[5, 6, 7, 8, 9, 10]"
      ]
     },
     "execution_count": 161,
     "metadata": {},
     "output_type": "execute_result"
    }
   ],
   "source": [
    "list_2d[1]"
   ]
  },
  {
   "cell_type": "code",
   "execution_count": 162,
   "id": "4ef5e916",
   "metadata": {},
   "outputs": [
    {
     "data": {
      "text/plain": [
       "array([3., 4., 5., 6., 7., 8.])"
      ]
     },
     "execution_count": 162,
     "metadata": {},
     "output_type": "execute_result"
    }
   ],
   "source": [
    "np.mean(data_2d,axis=0)"
   ]
  },
  {
   "cell_type": "code",
   "execution_count": 163,
   "id": "133b5171",
   "metadata": {},
   "outputs": [
    {
     "data": {
      "text/plain": [
       "3"
      ]
     },
     "execution_count": 163,
     "metadata": {},
     "output_type": "execute_result"
    }
   ],
   "source": [
    "list_2d[0][2]"
   ]
  },
  {
   "cell_type": "code",
   "execution_count": 164,
   "id": "df0a6ede",
   "metadata": {},
   "outputs": [
    {
     "data": {
      "text/plain": [
       "3"
      ]
     },
     "execution_count": 164,
     "metadata": {},
     "output_type": "execute_result"
    }
   ],
   "source": [
    "data_2d[0][2]"
   ]
  },
  {
   "cell_type": "code",
   "execution_count": 165,
   "id": "e19982d9",
   "metadata": {},
   "outputs": [
    {
     "data": {
      "text/plain": [
       "array([1, 2, 3, 4, 5, 6])"
      ]
     },
     "execution_count": 165,
     "metadata": {},
     "output_type": "execute_result"
    }
   ],
   "source": [
    "data_2d[0]"
   ]
  },
  {
   "cell_type": "code",
   "execution_count": 166,
   "id": "22fc7dbf",
   "metadata": {},
   "outputs": [
    {
     "data": {
      "text/plain": [
       "3"
      ]
     },
     "execution_count": 166,
     "metadata": {},
     "output_type": "execute_result"
    }
   ],
   "source": [
    "data_2d[0,2]"
   ]
  },
  {
   "cell_type": "code",
   "execution_count": 170,
   "id": "8502b534",
   "metadata": {},
   "outputs": [
    {
     "data": {
      "text/plain": [
       "array([[3, 4],\n",
       "       [7, 8]])"
      ]
     },
     "execution_count": 170,
     "metadata": {},
     "output_type": "execute_result"
    }
   ],
   "source": [
    "data_2d[:,2:4]"
   ]
  },
  {
   "cell_type": "code",
   "execution_count": 171,
   "id": "b91ad2fa",
   "metadata": {},
   "outputs": [
    {
     "data": {
      "text/plain": [
       "array([[ 1,  2,  3,  4,  5,  6],\n",
       "       [ 5,  6,  7,  8,  9, 10]])"
      ]
     },
     "execution_count": 171,
     "metadata": {},
     "output_type": "execute_result"
    }
   ],
   "source": [
    "data_2d"
   ]
  },
  {
   "cell_type": "code",
   "execution_count": 174,
   "id": "b067426f",
   "metadata": {},
   "outputs": [
    {
     "data": {
      "text/plain": [
       "array([6, 7, 8])"
      ]
     },
     "execution_count": 174,
     "metadata": {},
     "output_type": "execute_result"
    }
   ],
   "source": [
    "data_2d[1,1:4]"
   ]
  },
  {
   "cell_type": "code",
   "execution_count": 175,
   "id": "19f75a19",
   "metadata": {},
   "outputs": [],
   "source": [
    "import pandas as pd"
   ]
  },
  {
   "cell_type": "code",
   "execution_count": 176,
   "id": "eb0eac07",
   "metadata": {},
   "outputs": [],
   "source": [
    "data_dict = {'Name': ['Rob','Bob','Bill','Will'],\n",
    "             'Age': [20,21,30,23],\n",
    "             'Year':[2024,2025,2023,2023]}\n"
   ]
  },
  {
   "cell_type": "code",
   "execution_count": 178,
   "id": "7f651948",
   "metadata": {},
   "outputs": [
    {
     "data": {
      "text/plain": [
       "['Rob', 'Bob', 'Bill', 'Will']"
      ]
     },
     "execution_count": 178,
     "metadata": {},
     "output_type": "execute_result"
    }
   ],
   "source": [
    "data_dict['Name']"
   ]
  },
  {
   "cell_type": "code",
   "execution_count": 179,
   "id": "85819c2d",
   "metadata": {},
   "outputs": [
    {
     "data": {
      "text/plain": [
       "[2024, 2025, 2023, 2023]"
      ]
     },
     "execution_count": 179,
     "metadata": {},
     "output_type": "execute_result"
    }
   ],
   "source": [
    "data_dict['Year']"
   ]
  },
  {
   "cell_type": "code",
   "execution_count": 180,
   "id": "96f98937",
   "metadata": {},
   "outputs": [],
   "source": [
    "df = pd.DataFrame(data_dict)"
   ]
  },
  {
   "cell_type": "code",
   "execution_count": 183,
   "id": "3810119e",
   "metadata": {},
   "outputs": [
    {
     "data": {
      "text/html": [
       "<div>\n",
       "<style scoped>\n",
       "    .dataframe tbody tr th:only-of-type {\n",
       "        vertical-align: middle;\n",
       "    }\n",
       "\n",
       "    .dataframe tbody tr th {\n",
       "        vertical-align: top;\n",
       "    }\n",
       "\n",
       "    .dataframe thead th {\n",
       "        text-align: right;\n",
       "    }\n",
       "</style>\n",
       "<table border=\"1\" class=\"dataframe\">\n",
       "  <thead>\n",
       "    <tr style=\"text-align: right;\">\n",
       "      <th></th>\n",
       "      <th>Name</th>\n",
       "      <th>Age</th>\n",
       "      <th>Year</th>\n",
       "    </tr>\n",
       "  </thead>\n",
       "  <tbody>\n",
       "    <tr>\n",
       "      <th>0</th>\n",
       "      <td>Rob</td>\n",
       "      <td>20</td>\n",
       "      <td>2024</td>\n",
       "    </tr>\n",
       "    <tr>\n",
       "      <th>1</th>\n",
       "      <td>Bob</td>\n",
       "      <td>21</td>\n",
       "      <td>2025</td>\n",
       "    </tr>\n",
       "    <tr>\n",
       "      <th>2</th>\n",
       "      <td>Bill</td>\n",
       "      <td>30</td>\n",
       "      <td>2023</td>\n",
       "    </tr>\n",
       "    <tr>\n",
       "      <th>3</th>\n",
       "      <td>Will</td>\n",
       "      <td>23</td>\n",
       "      <td>2023</td>\n",
       "    </tr>\n",
       "  </tbody>\n",
       "</table>\n",
       "</div>"
      ],
      "text/plain": [
       "   Name  Age  Year\n",
       "0   Rob   20  2024\n",
       "1   Bob   21  2025\n",
       "2  Bill   30  2023\n",
       "3  Will   23  2023"
      ]
     },
     "metadata": {},
     "output_type": "display_data"
    }
   ],
   "source": [
    "display(df)"
   ]
  },
  {
   "cell_type": "code",
   "execution_count": 187,
   "id": "379b0dca",
   "metadata": {},
   "outputs": [
    {
     "data": {
      "text/plain": [
       "0    20\n",
       "1    21\n",
       "2    30\n",
       "3    23\n",
       "Name: Age, dtype: int64"
      ]
     },
     "execution_count": 187,
     "metadata": {},
     "output_type": "execute_result"
    }
   ],
   "source": [
    "df['Age']"
   ]
  },
  {
   "cell_type": "code",
   "execution_count": 185,
   "id": "c35ad363",
   "metadata": {},
   "outputs": [
    {
     "data": {
      "text/plain": [
       "20"
      ]
     },
     "execution_count": 185,
     "metadata": {},
     "output_type": "execute_result"
    }
   ],
   "source": [
    "df.loc[0,'Age']"
   ]
  },
  {
   "cell_type": "code",
   "execution_count": 188,
   "id": "c7e692d5",
   "metadata": {},
   "outputs": [
    {
     "data": {
      "text/html": [
       "<div>\n",
       "<style scoped>\n",
       "    .dataframe tbody tr th:only-of-type {\n",
       "        vertical-align: middle;\n",
       "    }\n",
       "\n",
       "    .dataframe tbody tr th {\n",
       "        vertical-align: top;\n",
       "    }\n",
       "\n",
       "    .dataframe thead th {\n",
       "        text-align: right;\n",
       "    }\n",
       "</style>\n",
       "<table border=\"1\" class=\"dataframe\">\n",
       "  <thead>\n",
       "    <tr style=\"text-align: right;\">\n",
       "      <th></th>\n",
       "      <th>Name</th>\n",
       "      <th>Age</th>\n",
       "    </tr>\n",
       "  </thead>\n",
       "  <tbody>\n",
       "    <tr>\n",
       "      <th>0</th>\n",
       "      <td>Rob</td>\n",
       "      <td>20</td>\n",
       "    </tr>\n",
       "    <tr>\n",
       "      <th>1</th>\n",
       "      <td>Bob</td>\n",
       "      <td>21</td>\n",
       "    </tr>\n",
       "    <tr>\n",
       "      <th>2</th>\n",
       "      <td>Bill</td>\n",
       "      <td>30</td>\n",
       "    </tr>\n",
       "    <tr>\n",
       "      <th>3</th>\n",
       "      <td>Will</td>\n",
       "      <td>23</td>\n",
       "    </tr>\n",
       "  </tbody>\n",
       "</table>\n",
       "</div>"
      ],
      "text/plain": [
       "   Name  Age\n",
       "0   Rob   20\n",
       "1   Bob   21\n",
       "2  Bill   30\n",
       "3  Will   23"
      ]
     },
     "execution_count": 188,
     "metadata": {},
     "output_type": "execute_result"
    }
   ],
   "source": [
    "df.loc[:,'Name':'Age']"
   ]
  },
  {
   "cell_type": "code",
   "execution_count": 189,
   "id": "4588f4d5",
   "metadata": {},
   "outputs": [],
   "source": [
    "data_2d2 = np.array([[1,2,3,4,5,6],[5,6,7,8,9,10],[3,2,5,6,7,1],[5,2,6,7,4,5]])"
   ]
  },
  {
   "cell_type": "code",
   "execution_count": 190,
   "id": "6808bf18",
   "metadata": {},
   "outputs": [
    {
     "data": {
      "text/plain": [
       "array([[ 1,  2,  3,  4,  5,  6],\n",
       "       [ 5,  6,  7,  8,  9, 10],\n",
       "       [ 3,  2,  5,  6,  7,  1],\n",
       "       [ 5,  2,  6,  7,  4,  5]])"
      ]
     },
     "execution_count": 190,
     "metadata": {},
     "output_type": "execute_result"
    }
   ],
   "source": [
    "data_2d2"
   ]
  },
  {
   "cell_type": "code",
   "execution_count": 191,
   "id": "85ae45c2",
   "metadata": {},
   "outputs": [
    {
     "data": {
      "text/plain": [
       "array([[6, 7, 8],\n",
       "       [2, 5, 6]])"
      ]
     },
     "execution_count": 191,
     "metadata": {},
     "output_type": "execute_result"
    }
   ],
   "source": [
    "data_2d2[1:3,1:4]"
   ]
  },
  {
   "cell_type": "code",
   "execution_count": 192,
   "id": "7b729127",
   "metadata": {},
   "outputs": [],
   "source": [
    "# /Users/ahanks/Downloads/etch_roof.csv\n",
    "data_file = r'C:\\Users\\ahanks\\dosenet_data\\dosenet-download\\etch_roof.csv'\n",
    "\n",
    "df = pd.read_csv(data_file)"
   ]
  },
  {
   "cell_type": "code",
   "execution_count": 193,
   "id": "6992d5fd",
   "metadata": {},
   "outputs": [
    {
     "data": {
      "text/html": [
       "<div>\n",
       "<style scoped>\n",
       "    .dataframe tbody tr th:only-of-type {\n",
       "        vertical-align: middle;\n",
       "    }\n",
       "\n",
       "    .dataframe tbody tr th {\n",
       "        vertical-align: top;\n",
       "    }\n",
       "\n",
       "    .dataframe thead th {\n",
       "        text-align: right;\n",
       "    }\n",
       "</style>\n",
       "<table border=\"1\" class=\"dataframe\">\n",
       "  <thead>\n",
       "    <tr style=\"text-align: right;\">\n",
       "      <th></th>\n",
       "      <th>deviceTime_utc</th>\n",
       "      <th>deviceTime_local</th>\n",
       "      <th>deviceTime_unix</th>\n",
       "      <th>cpm</th>\n",
       "      <th>cpmError</th>\n",
       "      <th>error_flag</th>\n",
       "    </tr>\n",
       "  </thead>\n",
       "  <tbody>\n",
       "    <tr>\n",
       "      <th>0</th>\n",
       "      <td>2015-11-20 02:27:13+00:00</td>\n",
       "      <td>2015-11-19 18:27:13-08:00</td>\n",
       "      <td>1.447986e+09</td>\n",
       "      <td>4.0</td>\n",
       "      <td>0.894427</td>\n",
       "      <td>NaN</td>\n",
       "    </tr>\n",
       "    <tr>\n",
       "      <th>1</th>\n",
       "      <td>2015-11-20 02:32:13+00:00</td>\n",
       "      <td>2015-11-19 18:32:13-08:00</td>\n",
       "      <td>1.447987e+09</td>\n",
       "      <td>2.8</td>\n",
       "      <td>0.748331</td>\n",
       "      <td>NaN</td>\n",
       "    </tr>\n",
       "    <tr>\n",
       "      <th>2</th>\n",
       "      <td>2015-11-20 02:37:15+00:00</td>\n",
       "      <td>2015-11-19 18:37:15-08:00</td>\n",
       "      <td>1.447987e+09</td>\n",
       "      <td>3.4</td>\n",
       "      <td>0.824621</td>\n",
       "      <td>NaN</td>\n",
       "    </tr>\n",
       "    <tr>\n",
       "      <th>3</th>\n",
       "      <td>2015-11-20 02:42:15+00:00</td>\n",
       "      <td>2015-11-19 18:42:15-08:00</td>\n",
       "      <td>1.447987e+09</td>\n",
       "      <td>2.4</td>\n",
       "      <td>0.692820</td>\n",
       "      <td>NaN</td>\n",
       "    </tr>\n",
       "    <tr>\n",
       "      <th>4</th>\n",
       "      <td>2015-11-20 02:47:16+00:00</td>\n",
       "      <td>2015-11-19 18:47:16-08:00</td>\n",
       "      <td>1.447988e+09</td>\n",
       "      <td>3.4</td>\n",
       "      <td>0.824621</td>\n",
       "      <td>NaN</td>\n",
       "    </tr>\n",
       "    <tr>\n",
       "      <th>...</th>\n",
       "      <td>...</td>\n",
       "      <td>...</td>\n",
       "      <td>...</td>\n",
       "      <td>...</td>\n",
       "      <td>...</td>\n",
       "      <td>...</td>\n",
       "    </tr>\n",
       "    <tr>\n",
       "      <th>418555</th>\n",
       "      <td>2022-09-08 10:05:42+0000</td>\n",
       "      <td>2022-09-08 03:05:42-0700</td>\n",
       "      <td>1.662632e+09</td>\n",
       "      <td>2.8</td>\n",
       "      <td>0.748331</td>\n",
       "      <td>0.0</td>\n",
       "    </tr>\n",
       "    <tr>\n",
       "      <th>418556</th>\n",
       "      <td>2022-09-08 10:10:42+0000</td>\n",
       "      <td>2022-09-08 03:10:42-0700</td>\n",
       "      <td>1.662632e+09</td>\n",
       "      <td>2.8</td>\n",
       "      <td>0.748331</td>\n",
       "      <td>0.0</td>\n",
       "    </tr>\n",
       "    <tr>\n",
       "      <th>418557</th>\n",
       "      <td>2022-09-08 10:15:42+0000</td>\n",
       "      <td>2022-09-08 03:15:42-0700</td>\n",
       "      <td>1.662632e+09</td>\n",
       "      <td>3.6</td>\n",
       "      <td>0.848528</td>\n",
       "      <td>0.0</td>\n",
       "    </tr>\n",
       "    <tr>\n",
       "      <th>418558</th>\n",
       "      <td>2022-09-08 10:20:42+0000</td>\n",
       "      <td>2022-09-08 03:20:42-0700</td>\n",
       "      <td>1.662632e+09</td>\n",
       "      <td>2.8</td>\n",
       "      <td>0.748331</td>\n",
       "      <td>0.0</td>\n",
       "    </tr>\n",
       "    <tr>\n",
       "      <th>418559</th>\n",
       "      <td>2022-09-08 10:25:42+0000</td>\n",
       "      <td>2022-09-08 03:25:42-0700</td>\n",
       "      <td>1.662633e+09</td>\n",
       "      <td>3.0</td>\n",
       "      <td>0.774597</td>\n",
       "      <td>0.0</td>\n",
       "    </tr>\n",
       "  </tbody>\n",
       "</table>\n",
       "<p>418560 rows × 6 columns</p>\n",
       "</div>"
      ],
      "text/plain": [
       "                   deviceTime_utc           deviceTime_local  deviceTime_unix  \\\n",
       "0       2015-11-20 02:27:13+00:00  2015-11-19 18:27:13-08:00     1.447986e+09   \n",
       "1       2015-11-20 02:32:13+00:00  2015-11-19 18:32:13-08:00     1.447987e+09   \n",
       "2       2015-11-20 02:37:15+00:00  2015-11-19 18:37:15-08:00     1.447987e+09   \n",
       "3       2015-11-20 02:42:15+00:00  2015-11-19 18:42:15-08:00     1.447987e+09   \n",
       "4       2015-11-20 02:47:16+00:00  2015-11-19 18:47:16-08:00     1.447988e+09   \n",
       "...                           ...                        ...              ...   \n",
       "418555   2022-09-08 10:05:42+0000   2022-09-08 03:05:42-0700     1.662632e+09   \n",
       "418556   2022-09-08 10:10:42+0000   2022-09-08 03:10:42-0700     1.662632e+09   \n",
       "418557   2022-09-08 10:15:42+0000   2022-09-08 03:15:42-0700     1.662632e+09   \n",
       "418558   2022-09-08 10:20:42+0000   2022-09-08 03:20:42-0700     1.662632e+09   \n",
       "418559   2022-09-08 10:25:42+0000   2022-09-08 03:25:42-0700     1.662633e+09   \n",
       "\n",
       "        cpm  cpmError  error_flag  \n",
       "0       4.0  0.894427         NaN  \n",
       "1       2.8  0.748331         NaN  \n",
       "2       3.4  0.824621         NaN  \n",
       "3       2.4  0.692820         NaN  \n",
       "4       3.4  0.824621         NaN  \n",
       "...     ...       ...         ...  \n",
       "418555  2.8  0.748331         0.0  \n",
       "418556  2.8  0.748331         0.0  \n",
       "418557  3.6  0.848528         0.0  \n",
       "418558  2.8  0.748331         0.0  \n",
       "418559  3.0  0.774597         0.0  \n",
       "\n",
       "[418560 rows x 6 columns]"
      ]
     },
     "execution_count": 193,
     "metadata": {},
     "output_type": "execute_result"
    }
   ],
   "source": [
    "df"
   ]
  },
  {
   "cell_type": "code",
   "execution_count": 194,
   "id": "43d30074",
   "metadata": {},
   "outputs": [
    {
     "data": {
      "text/plain": [
       "0         4.0\n",
       "1         2.8\n",
       "2         3.4\n",
       "3         2.4\n",
       "4         3.4\n",
       "         ... \n",
       "418555    2.8\n",
       "418556    2.8\n",
       "418557    3.6\n",
       "418558    2.8\n",
       "418559    3.0\n",
       "Name: cpm, Length: 418560, dtype: float64"
      ]
     },
     "execution_count": 194,
     "metadata": {},
     "output_type": "execute_result"
    }
   ],
   "source": [
    "df['cpm']"
   ]
  },
  {
   "cell_type": "code",
   "execution_count": 195,
   "id": "3a9e5062",
   "metadata": {},
   "outputs": [
    {
     "data": {
      "text/html": [
       "<div>\n",
       "<style scoped>\n",
       "    .dataframe tbody tr th:only-of-type {\n",
       "        vertical-align: middle;\n",
       "    }\n",
       "\n",
       "    .dataframe tbody tr th {\n",
       "        vertical-align: top;\n",
       "    }\n",
       "\n",
       "    .dataframe thead th {\n",
       "        text-align: right;\n",
       "    }\n",
       "</style>\n",
       "<table border=\"1\" class=\"dataframe\">\n",
       "  <thead>\n",
       "    <tr style=\"text-align: right;\">\n",
       "      <th></th>\n",
       "      <th>deviceTime_unix</th>\n",
       "      <th>cpm</th>\n",
       "      <th>cpmError</th>\n",
       "      <th>error_flag</th>\n",
       "    </tr>\n",
       "  </thead>\n",
       "  <tbody>\n",
       "    <tr>\n",
       "      <th>count</th>\n",
       "      <td>4.185600e+05</td>\n",
       "      <td>418560.000000</td>\n",
       "      <td>418560.000000</td>\n",
       "      <td>103124.0</td>\n",
       "    </tr>\n",
       "    <tr>\n",
       "      <th>mean</th>\n",
       "      <td>1.533129e+09</td>\n",
       "      <td>2.703987</td>\n",
       "      <td>0.727172</td>\n",
       "      <td>0.0</td>\n",
       "    </tr>\n",
       "    <tr>\n",
       "      <th>std</th>\n",
       "      <td>5.945913e+07</td>\n",
       "      <td>0.927238</td>\n",
       "      <td>0.109707</td>\n",
       "      <td>0.0</td>\n",
       "    </tr>\n",
       "    <tr>\n",
       "      <th>min</th>\n",
       "      <td>1.447986e+09</td>\n",
       "      <td>0.000000</td>\n",
       "      <td>0.000000</td>\n",
       "      <td>0.0</td>\n",
       "    </tr>\n",
       "    <tr>\n",
       "      <th>25%</th>\n",
       "      <td>1.481505e+09</td>\n",
       "      <td>2.200000</td>\n",
       "      <td>0.663325</td>\n",
       "      <td>0.0</td>\n",
       "    </tr>\n",
       "    <tr>\n",
       "      <th>50%</th>\n",
       "      <td>1.526052e+09</td>\n",
       "      <td>2.600000</td>\n",
       "      <td>0.721110</td>\n",
       "      <td>0.0</td>\n",
       "    </tr>\n",
       "    <tr>\n",
       "      <th>75%</th>\n",
       "      <td>1.582189e+09</td>\n",
       "      <td>3.200000</td>\n",
       "      <td>0.800000</td>\n",
       "      <td>0.0</td>\n",
       "    </tr>\n",
       "    <tr>\n",
       "      <th>max</th>\n",
       "      <td>1.662633e+09</td>\n",
       "      <td>96.000000</td>\n",
       "      <td>4.381780</td>\n",
       "      <td>0.0</td>\n",
       "    </tr>\n",
       "  </tbody>\n",
       "</table>\n",
       "</div>"
      ],
      "text/plain": [
       "       deviceTime_unix            cpm       cpmError  error_flag\n",
       "count     4.185600e+05  418560.000000  418560.000000    103124.0\n",
       "mean      1.533129e+09       2.703987       0.727172         0.0\n",
       "std       5.945913e+07       0.927238       0.109707         0.0\n",
       "min       1.447986e+09       0.000000       0.000000         0.0\n",
       "25%       1.481505e+09       2.200000       0.663325         0.0\n",
       "50%       1.526052e+09       2.600000       0.721110         0.0\n",
       "75%       1.582189e+09       3.200000       0.800000         0.0\n",
       "max       1.662633e+09      96.000000       4.381780         0.0"
      ]
     },
     "execution_count": 195,
     "metadata": {},
     "output_type": "execute_result"
    }
   ],
   "source": [
    "df.describe()"
   ]
  },
  {
   "cell_type": "code",
   "execution_count": 196,
   "id": "d877305a",
   "metadata": {},
   "outputs": [
    {
     "data": {
      "text/plain": [
       "0         True\n",
       "1         True\n",
       "2         True\n",
       "3         True\n",
       "4         True\n",
       "          ... \n",
       "418555    True\n",
       "418556    True\n",
       "418557    True\n",
       "418558    True\n",
       "418559    True\n",
       "Name: cpm, Length: 418560, dtype: bool"
      ]
     },
     "execution_count": 196,
     "metadata": {},
     "output_type": "execute_result"
    }
   ],
   "source": [
    "df['cpm'] > 0"
   ]
  },
  {
   "cell_type": "code",
   "execution_count": 199,
   "id": "9662fdc4",
   "metadata": {},
   "outputs": [],
   "source": [
    "df_good = df[df['cpm'] > 0]"
   ]
  },
  {
   "cell_type": "code",
   "execution_count": 198,
   "id": "452f2249",
   "metadata": {},
   "outputs": [
    {
     "data": {
      "text/html": [
       "<div>\n",
       "<style scoped>\n",
       "    .dataframe tbody tr th:only-of-type {\n",
       "        vertical-align: middle;\n",
       "    }\n",
       "\n",
       "    .dataframe tbody tr th {\n",
       "        vertical-align: top;\n",
       "    }\n",
       "\n",
       "    .dataframe thead th {\n",
       "        text-align: right;\n",
       "    }\n",
       "</style>\n",
       "<table border=\"1\" class=\"dataframe\">\n",
       "  <thead>\n",
       "    <tr style=\"text-align: right;\">\n",
       "      <th></th>\n",
       "      <th>deviceTime_utc</th>\n",
       "      <th>deviceTime_local</th>\n",
       "      <th>deviceTime_unix</th>\n",
       "      <th>cpm</th>\n",
       "      <th>cpmError</th>\n",
       "      <th>error_flag</th>\n",
       "    </tr>\n",
       "  </thead>\n",
       "  <tbody>\n",
       "    <tr>\n",
       "      <th>0</th>\n",
       "      <td>2015-11-20 02:27:13+00:00</td>\n",
       "      <td>2015-11-19 18:27:13-08:00</td>\n",
       "      <td>1.447986e+09</td>\n",
       "      <td>4.0</td>\n",
       "      <td>0.894427</td>\n",
       "      <td>NaN</td>\n",
       "    </tr>\n",
       "    <tr>\n",
       "      <th>1</th>\n",
       "      <td>2015-11-20 02:32:13+00:00</td>\n",
       "      <td>2015-11-19 18:32:13-08:00</td>\n",
       "      <td>1.447987e+09</td>\n",
       "      <td>2.8</td>\n",
       "      <td>0.748331</td>\n",
       "      <td>NaN</td>\n",
       "    </tr>\n",
       "    <tr>\n",
       "      <th>2</th>\n",
       "      <td>2015-11-20 02:37:15+00:00</td>\n",
       "      <td>2015-11-19 18:37:15-08:00</td>\n",
       "      <td>1.447987e+09</td>\n",
       "      <td>3.4</td>\n",
       "      <td>0.824621</td>\n",
       "      <td>NaN</td>\n",
       "    </tr>\n",
       "    <tr>\n",
       "      <th>3</th>\n",
       "      <td>2015-11-20 02:42:15+00:00</td>\n",
       "      <td>2015-11-19 18:42:15-08:00</td>\n",
       "      <td>1.447987e+09</td>\n",
       "      <td>2.4</td>\n",
       "      <td>0.692820</td>\n",
       "      <td>NaN</td>\n",
       "    </tr>\n",
       "    <tr>\n",
       "      <th>4</th>\n",
       "      <td>2015-11-20 02:47:16+00:00</td>\n",
       "      <td>2015-11-19 18:47:16-08:00</td>\n",
       "      <td>1.447988e+09</td>\n",
       "      <td>3.4</td>\n",
       "      <td>0.824621</td>\n",
       "      <td>NaN</td>\n",
       "    </tr>\n",
       "    <tr>\n",
       "      <th>...</th>\n",
       "      <td>...</td>\n",
       "      <td>...</td>\n",
       "      <td>...</td>\n",
       "      <td>...</td>\n",
       "      <td>...</td>\n",
       "      <td>...</td>\n",
       "    </tr>\n",
       "    <tr>\n",
       "      <th>418555</th>\n",
       "      <td>2022-09-08 10:05:42+0000</td>\n",
       "      <td>2022-09-08 03:05:42-0700</td>\n",
       "      <td>1.662632e+09</td>\n",
       "      <td>2.8</td>\n",
       "      <td>0.748331</td>\n",
       "      <td>0.0</td>\n",
       "    </tr>\n",
       "    <tr>\n",
       "      <th>418556</th>\n",
       "      <td>2022-09-08 10:10:42+0000</td>\n",
       "      <td>2022-09-08 03:10:42-0700</td>\n",
       "      <td>1.662632e+09</td>\n",
       "      <td>2.8</td>\n",
       "      <td>0.748331</td>\n",
       "      <td>0.0</td>\n",
       "    </tr>\n",
       "    <tr>\n",
       "      <th>418557</th>\n",
       "      <td>2022-09-08 10:15:42+0000</td>\n",
       "      <td>2022-09-08 03:15:42-0700</td>\n",
       "      <td>1.662632e+09</td>\n",
       "      <td>3.6</td>\n",
       "      <td>0.848528</td>\n",
       "      <td>0.0</td>\n",
       "    </tr>\n",
       "    <tr>\n",
       "      <th>418558</th>\n",
       "      <td>2022-09-08 10:20:42+0000</td>\n",
       "      <td>2022-09-08 03:20:42-0700</td>\n",
       "      <td>1.662632e+09</td>\n",
       "      <td>2.8</td>\n",
       "      <td>0.748331</td>\n",
       "      <td>0.0</td>\n",
       "    </tr>\n",
       "    <tr>\n",
       "      <th>418559</th>\n",
       "      <td>2022-09-08 10:25:42+0000</td>\n",
       "      <td>2022-09-08 03:25:42-0700</td>\n",
       "      <td>1.662633e+09</td>\n",
       "      <td>3.0</td>\n",
       "      <td>0.774597</td>\n",
       "      <td>0.0</td>\n",
       "    </tr>\n",
       "  </tbody>\n",
       "</table>\n",
       "<p>418560 rows × 6 columns</p>\n",
       "</div>"
      ],
      "text/plain": [
       "                   deviceTime_utc           deviceTime_local  deviceTime_unix  \\\n",
       "0       2015-11-20 02:27:13+00:00  2015-11-19 18:27:13-08:00     1.447986e+09   \n",
       "1       2015-11-20 02:32:13+00:00  2015-11-19 18:32:13-08:00     1.447987e+09   \n",
       "2       2015-11-20 02:37:15+00:00  2015-11-19 18:37:15-08:00     1.447987e+09   \n",
       "3       2015-11-20 02:42:15+00:00  2015-11-19 18:42:15-08:00     1.447987e+09   \n",
       "4       2015-11-20 02:47:16+00:00  2015-11-19 18:47:16-08:00     1.447988e+09   \n",
       "...                           ...                        ...              ...   \n",
       "418555   2022-09-08 10:05:42+0000   2022-09-08 03:05:42-0700     1.662632e+09   \n",
       "418556   2022-09-08 10:10:42+0000   2022-09-08 03:10:42-0700     1.662632e+09   \n",
       "418557   2022-09-08 10:15:42+0000   2022-09-08 03:15:42-0700     1.662632e+09   \n",
       "418558   2022-09-08 10:20:42+0000   2022-09-08 03:20:42-0700     1.662632e+09   \n",
       "418559   2022-09-08 10:25:42+0000   2022-09-08 03:25:42-0700     1.662633e+09   \n",
       "\n",
       "        cpm  cpmError  error_flag  \n",
       "0       4.0  0.894427         NaN  \n",
       "1       2.8  0.748331         NaN  \n",
       "2       3.4  0.824621         NaN  \n",
       "3       2.4  0.692820         NaN  \n",
       "4       3.4  0.824621         NaN  \n",
       "...     ...       ...         ...  \n",
       "418555  2.8  0.748331         0.0  \n",
       "418556  2.8  0.748331         0.0  \n",
       "418557  3.6  0.848528         0.0  \n",
       "418558  2.8  0.748331         0.0  \n",
       "418559  3.0  0.774597         0.0  \n",
       "\n",
       "[418560 rows x 6 columns]"
      ]
     },
     "execution_count": 198,
     "metadata": {},
     "output_type": "execute_result"
    }
   ],
   "source": [
    "df"
   ]
  },
  {
   "cell_type": "code",
   "execution_count": 200,
   "id": "be8751fa",
   "metadata": {},
   "outputs": [
    {
     "data": {
      "text/html": [
       "<div>\n",
       "<style scoped>\n",
       "    .dataframe tbody tr th:only-of-type {\n",
       "        vertical-align: middle;\n",
       "    }\n",
       "\n",
       "    .dataframe tbody tr th {\n",
       "        vertical-align: top;\n",
       "    }\n",
       "\n",
       "    .dataframe thead th {\n",
       "        text-align: right;\n",
       "    }\n",
       "</style>\n",
       "<table border=\"1\" class=\"dataframe\">\n",
       "  <thead>\n",
       "    <tr style=\"text-align: right;\">\n",
       "      <th></th>\n",
       "      <th>deviceTime_utc</th>\n",
       "      <th>deviceTime_local</th>\n",
       "      <th>deviceTime_unix</th>\n",
       "      <th>cpm</th>\n",
       "      <th>cpmError</th>\n",
       "      <th>error_flag</th>\n",
       "    </tr>\n",
       "  </thead>\n",
       "  <tbody>\n",
       "    <tr>\n",
       "      <th>0</th>\n",
       "      <td>2015-11-20 02:27:13+00:00</td>\n",
       "      <td>2015-11-19 18:27:13-08:00</td>\n",
       "      <td>1.447986e+09</td>\n",
       "      <td>4.0</td>\n",
       "      <td>0.894427</td>\n",
       "      <td>NaN</td>\n",
       "    </tr>\n",
       "    <tr>\n",
       "      <th>1</th>\n",
       "      <td>2015-11-20 02:32:13+00:00</td>\n",
       "      <td>2015-11-19 18:32:13-08:00</td>\n",
       "      <td>1.447987e+09</td>\n",
       "      <td>2.8</td>\n",
       "      <td>0.748331</td>\n",
       "      <td>NaN</td>\n",
       "    </tr>\n",
       "    <tr>\n",
       "      <th>2</th>\n",
       "      <td>2015-11-20 02:37:15+00:00</td>\n",
       "      <td>2015-11-19 18:37:15-08:00</td>\n",
       "      <td>1.447987e+09</td>\n",
       "      <td>3.4</td>\n",
       "      <td>0.824621</td>\n",
       "      <td>NaN</td>\n",
       "    </tr>\n",
       "    <tr>\n",
       "      <th>3</th>\n",
       "      <td>2015-11-20 02:42:15+00:00</td>\n",
       "      <td>2015-11-19 18:42:15-08:00</td>\n",
       "      <td>1.447987e+09</td>\n",
       "      <td>2.4</td>\n",
       "      <td>0.692820</td>\n",
       "      <td>NaN</td>\n",
       "    </tr>\n",
       "    <tr>\n",
       "      <th>4</th>\n",
       "      <td>2015-11-20 02:47:16+00:00</td>\n",
       "      <td>2015-11-19 18:47:16-08:00</td>\n",
       "      <td>1.447988e+09</td>\n",
       "      <td>3.4</td>\n",
       "      <td>0.824621</td>\n",
       "      <td>NaN</td>\n",
       "    </tr>\n",
       "    <tr>\n",
       "      <th>...</th>\n",
       "      <td>...</td>\n",
       "      <td>...</td>\n",
       "      <td>...</td>\n",
       "      <td>...</td>\n",
       "      <td>...</td>\n",
       "      <td>...</td>\n",
       "    </tr>\n",
       "    <tr>\n",
       "      <th>418555</th>\n",
       "      <td>2022-09-08 10:05:42+0000</td>\n",
       "      <td>2022-09-08 03:05:42-0700</td>\n",
       "      <td>1.662632e+09</td>\n",
       "      <td>2.8</td>\n",
       "      <td>0.748331</td>\n",
       "      <td>0.0</td>\n",
       "    </tr>\n",
       "    <tr>\n",
       "      <th>418556</th>\n",
       "      <td>2022-09-08 10:10:42+0000</td>\n",
       "      <td>2022-09-08 03:10:42-0700</td>\n",
       "      <td>1.662632e+09</td>\n",
       "      <td>2.8</td>\n",
       "      <td>0.748331</td>\n",
       "      <td>0.0</td>\n",
       "    </tr>\n",
       "    <tr>\n",
       "      <th>418557</th>\n",
       "      <td>2022-09-08 10:15:42+0000</td>\n",
       "      <td>2022-09-08 03:15:42-0700</td>\n",
       "      <td>1.662632e+09</td>\n",
       "      <td>3.6</td>\n",
       "      <td>0.848528</td>\n",
       "      <td>0.0</td>\n",
       "    </tr>\n",
       "    <tr>\n",
       "      <th>418558</th>\n",
       "      <td>2022-09-08 10:20:42+0000</td>\n",
       "      <td>2022-09-08 03:20:42-0700</td>\n",
       "      <td>1.662632e+09</td>\n",
       "      <td>2.8</td>\n",
       "      <td>0.748331</td>\n",
       "      <td>0.0</td>\n",
       "    </tr>\n",
       "    <tr>\n",
       "      <th>418559</th>\n",
       "      <td>2022-09-08 10:25:42+0000</td>\n",
       "      <td>2022-09-08 03:25:42-0700</td>\n",
       "      <td>1.662633e+09</td>\n",
       "      <td>3.0</td>\n",
       "      <td>0.774597</td>\n",
       "      <td>0.0</td>\n",
       "    </tr>\n",
       "  </tbody>\n",
       "</table>\n",
       "<p>418373 rows × 6 columns</p>\n",
       "</div>"
      ],
      "text/plain": [
       "                   deviceTime_utc           deviceTime_local  deviceTime_unix  \\\n",
       "0       2015-11-20 02:27:13+00:00  2015-11-19 18:27:13-08:00     1.447986e+09   \n",
       "1       2015-11-20 02:32:13+00:00  2015-11-19 18:32:13-08:00     1.447987e+09   \n",
       "2       2015-11-20 02:37:15+00:00  2015-11-19 18:37:15-08:00     1.447987e+09   \n",
       "3       2015-11-20 02:42:15+00:00  2015-11-19 18:42:15-08:00     1.447987e+09   \n",
       "4       2015-11-20 02:47:16+00:00  2015-11-19 18:47:16-08:00     1.447988e+09   \n",
       "...                           ...                        ...              ...   \n",
       "418555   2022-09-08 10:05:42+0000   2022-09-08 03:05:42-0700     1.662632e+09   \n",
       "418556   2022-09-08 10:10:42+0000   2022-09-08 03:10:42-0700     1.662632e+09   \n",
       "418557   2022-09-08 10:15:42+0000   2022-09-08 03:15:42-0700     1.662632e+09   \n",
       "418558   2022-09-08 10:20:42+0000   2022-09-08 03:20:42-0700     1.662632e+09   \n",
       "418559   2022-09-08 10:25:42+0000   2022-09-08 03:25:42-0700     1.662633e+09   \n",
       "\n",
       "        cpm  cpmError  error_flag  \n",
       "0       4.0  0.894427         NaN  \n",
       "1       2.8  0.748331         NaN  \n",
       "2       3.4  0.824621         NaN  \n",
       "3       2.4  0.692820         NaN  \n",
       "4       3.4  0.824621         NaN  \n",
       "...     ...       ...         ...  \n",
       "418555  2.8  0.748331         0.0  \n",
       "418556  2.8  0.748331         0.0  \n",
       "418557  3.6  0.848528         0.0  \n",
       "418558  2.8  0.748331         0.0  \n",
       "418559  3.0  0.774597         0.0  \n",
       "\n",
       "[418373 rows x 6 columns]"
      ]
     },
     "execution_count": 200,
     "metadata": {},
     "output_type": "execute_result"
    }
   ],
   "source": [
    "df_good"
   ]
  },
  {
   "cell_type": "code",
   "execution_count": 201,
   "id": "2c4a3626",
   "metadata": {},
   "outputs": [],
   "source": [
    "df_good_cut = df_good.loc[:,'deviceTime_utc':'cpm']"
   ]
  },
  {
   "cell_type": "code",
   "execution_count": 202,
   "id": "63e06713",
   "metadata": {},
   "outputs": [
    {
     "data": {
      "text/html": [
       "<div>\n",
       "<style scoped>\n",
       "    .dataframe tbody tr th:only-of-type {\n",
       "        vertical-align: middle;\n",
       "    }\n",
       "\n",
       "    .dataframe tbody tr th {\n",
       "        vertical-align: top;\n",
       "    }\n",
       "\n",
       "    .dataframe thead th {\n",
       "        text-align: right;\n",
       "    }\n",
       "</style>\n",
       "<table border=\"1\" class=\"dataframe\">\n",
       "  <thead>\n",
       "    <tr style=\"text-align: right;\">\n",
       "      <th></th>\n",
       "      <th>deviceTime_utc</th>\n",
       "      <th>deviceTime_local</th>\n",
       "      <th>deviceTime_unix</th>\n",
       "      <th>cpm</th>\n",
       "    </tr>\n",
       "  </thead>\n",
       "  <tbody>\n",
       "    <tr>\n",
       "      <th>0</th>\n",
       "      <td>2015-11-20 02:27:13+00:00</td>\n",
       "      <td>2015-11-19 18:27:13-08:00</td>\n",
       "      <td>1.447986e+09</td>\n",
       "      <td>4.0</td>\n",
       "    </tr>\n",
       "    <tr>\n",
       "      <th>1</th>\n",
       "      <td>2015-11-20 02:32:13+00:00</td>\n",
       "      <td>2015-11-19 18:32:13-08:00</td>\n",
       "      <td>1.447987e+09</td>\n",
       "      <td>2.8</td>\n",
       "    </tr>\n",
       "    <tr>\n",
       "      <th>2</th>\n",
       "      <td>2015-11-20 02:37:15+00:00</td>\n",
       "      <td>2015-11-19 18:37:15-08:00</td>\n",
       "      <td>1.447987e+09</td>\n",
       "      <td>3.4</td>\n",
       "    </tr>\n",
       "    <tr>\n",
       "      <th>3</th>\n",
       "      <td>2015-11-20 02:42:15+00:00</td>\n",
       "      <td>2015-11-19 18:42:15-08:00</td>\n",
       "      <td>1.447987e+09</td>\n",
       "      <td>2.4</td>\n",
       "    </tr>\n",
       "    <tr>\n",
       "      <th>4</th>\n",
       "      <td>2015-11-20 02:47:16+00:00</td>\n",
       "      <td>2015-11-19 18:47:16-08:00</td>\n",
       "      <td>1.447988e+09</td>\n",
       "      <td>3.4</td>\n",
       "    </tr>\n",
       "    <tr>\n",
       "      <th>...</th>\n",
       "      <td>...</td>\n",
       "      <td>...</td>\n",
       "      <td>...</td>\n",
       "      <td>...</td>\n",
       "    </tr>\n",
       "    <tr>\n",
       "      <th>418555</th>\n",
       "      <td>2022-09-08 10:05:42+0000</td>\n",
       "      <td>2022-09-08 03:05:42-0700</td>\n",
       "      <td>1.662632e+09</td>\n",
       "      <td>2.8</td>\n",
       "    </tr>\n",
       "    <tr>\n",
       "      <th>418556</th>\n",
       "      <td>2022-09-08 10:10:42+0000</td>\n",
       "      <td>2022-09-08 03:10:42-0700</td>\n",
       "      <td>1.662632e+09</td>\n",
       "      <td>2.8</td>\n",
       "    </tr>\n",
       "    <tr>\n",
       "      <th>418557</th>\n",
       "      <td>2022-09-08 10:15:42+0000</td>\n",
       "      <td>2022-09-08 03:15:42-0700</td>\n",
       "      <td>1.662632e+09</td>\n",
       "      <td>3.6</td>\n",
       "    </tr>\n",
       "    <tr>\n",
       "      <th>418558</th>\n",
       "      <td>2022-09-08 10:20:42+0000</td>\n",
       "      <td>2022-09-08 03:20:42-0700</td>\n",
       "      <td>1.662632e+09</td>\n",
       "      <td>2.8</td>\n",
       "    </tr>\n",
       "    <tr>\n",
       "      <th>418559</th>\n",
       "      <td>2022-09-08 10:25:42+0000</td>\n",
       "      <td>2022-09-08 03:25:42-0700</td>\n",
       "      <td>1.662633e+09</td>\n",
       "      <td>3.0</td>\n",
       "    </tr>\n",
       "  </tbody>\n",
       "</table>\n",
       "<p>418373 rows × 4 columns</p>\n",
       "</div>"
      ],
      "text/plain": [
       "                   deviceTime_utc           deviceTime_local  deviceTime_unix  \\\n",
       "0       2015-11-20 02:27:13+00:00  2015-11-19 18:27:13-08:00     1.447986e+09   \n",
       "1       2015-11-20 02:32:13+00:00  2015-11-19 18:32:13-08:00     1.447987e+09   \n",
       "2       2015-11-20 02:37:15+00:00  2015-11-19 18:37:15-08:00     1.447987e+09   \n",
       "3       2015-11-20 02:42:15+00:00  2015-11-19 18:42:15-08:00     1.447987e+09   \n",
       "4       2015-11-20 02:47:16+00:00  2015-11-19 18:47:16-08:00     1.447988e+09   \n",
       "...                           ...                        ...              ...   \n",
       "418555   2022-09-08 10:05:42+0000   2022-09-08 03:05:42-0700     1.662632e+09   \n",
       "418556   2022-09-08 10:10:42+0000   2022-09-08 03:10:42-0700     1.662632e+09   \n",
       "418557   2022-09-08 10:15:42+0000   2022-09-08 03:15:42-0700     1.662632e+09   \n",
       "418558   2022-09-08 10:20:42+0000   2022-09-08 03:20:42-0700     1.662632e+09   \n",
       "418559   2022-09-08 10:25:42+0000   2022-09-08 03:25:42-0700     1.662633e+09   \n",
       "\n",
       "        cpm  \n",
       "0       4.0  \n",
       "1       2.8  \n",
       "2       3.4  \n",
       "3       2.4  \n",
       "4       3.4  \n",
       "...     ...  \n",
       "418555  2.8  \n",
       "418556  2.8  \n",
       "418557  3.6  \n",
       "418558  2.8  \n",
       "418559  3.0  \n",
       "\n",
       "[418373 rows x 4 columns]"
      ]
     },
     "execution_count": 202,
     "metadata": {},
     "output_type": "execute_result"
    }
   ],
   "source": [
    "df_good_cut"
   ]
  },
  {
   "cell_type": "code",
   "execution_count": 204,
   "id": "4ebb1597",
   "metadata": {},
   "outputs": [
    {
     "data": {
      "text/html": [
       "<div>\n",
       "<style scoped>\n",
       "    .dataframe tbody tr th:only-of-type {\n",
       "        vertical-align: middle;\n",
       "    }\n",
       "\n",
       "    .dataframe tbody tr th {\n",
       "        vertical-align: top;\n",
       "    }\n",
       "\n",
       "    .dataframe thead th {\n",
       "        text-align: right;\n",
       "    }\n",
       "</style>\n",
       "<table border=\"1\" class=\"dataframe\">\n",
       "  <thead>\n",
       "    <tr style=\"text-align: right;\">\n",
       "      <th></th>\n",
       "      <th>deviceTime_utc</th>\n",
       "      <th>deviceTime_local</th>\n",
       "      <th>deviceTime_unix</th>\n",
       "      <th>cpm</th>\n",
       "    </tr>\n",
       "  </thead>\n",
       "  <tbody>\n",
       "    <tr>\n",
       "      <th>0</th>\n",
       "      <td>2015-11-20 02:27:13+00:00</td>\n",
       "      <td>2015-11-19 18:27:13-08:00</td>\n",
       "      <td>1.447986e+09</td>\n",
       "      <td>4.0</td>\n",
       "    </tr>\n",
       "    <tr>\n",
       "      <th>1</th>\n",
       "      <td>2015-11-20 02:32:13+00:00</td>\n",
       "      <td>2015-11-19 18:32:13-08:00</td>\n",
       "      <td>1.447987e+09</td>\n",
       "      <td>2.8</td>\n",
       "    </tr>\n",
       "    <tr>\n",
       "      <th>2</th>\n",
       "      <td>2015-11-20 02:37:15+00:00</td>\n",
       "      <td>2015-11-19 18:37:15-08:00</td>\n",
       "      <td>1.447987e+09</td>\n",
       "      <td>3.4</td>\n",
       "    </tr>\n",
       "    <tr>\n",
       "      <th>3</th>\n",
       "      <td>2015-11-20 02:42:15+00:00</td>\n",
       "      <td>2015-11-19 18:42:15-08:00</td>\n",
       "      <td>1.447987e+09</td>\n",
       "      <td>2.4</td>\n",
       "    </tr>\n",
       "    <tr>\n",
       "      <th>4</th>\n",
       "      <td>2015-11-20 02:47:16+00:00</td>\n",
       "      <td>2015-11-19 18:47:16-08:00</td>\n",
       "      <td>1.447988e+09</td>\n",
       "      <td>3.4</td>\n",
       "    </tr>\n",
       "    <tr>\n",
       "      <th>5</th>\n",
       "      <td>2015-11-20 02:52:16+00:00</td>\n",
       "      <td>2015-11-19 18:52:16-08:00</td>\n",
       "      <td>1.447988e+09</td>\n",
       "      <td>1.8</td>\n",
       "    </tr>\n",
       "    <tr>\n",
       "      <th>6</th>\n",
       "      <td>2015-11-20 02:57:07+00:00</td>\n",
       "      <td>2015-11-19 18:57:07-08:00</td>\n",
       "      <td>1.447988e+09</td>\n",
       "      <td>3.2</td>\n",
       "    </tr>\n",
       "    <tr>\n",
       "      <th>7</th>\n",
       "      <td>2015-11-20 03:02:07+00:00</td>\n",
       "      <td>2015-11-19 19:02:07-08:00</td>\n",
       "      <td>1.447989e+09</td>\n",
       "      <td>3.0</td>\n",
       "    </tr>\n",
       "    <tr>\n",
       "      <th>8</th>\n",
       "      <td>2015-11-20 03:07:08+00:00</td>\n",
       "      <td>2015-11-19 19:07:08-08:00</td>\n",
       "      <td>1.447989e+09</td>\n",
       "      <td>1.8</td>\n",
       "    </tr>\n",
       "    <tr>\n",
       "      <th>9</th>\n",
       "      <td>2015-11-20 03:12:08+00:00</td>\n",
       "      <td>2015-11-19 19:12:08-08:00</td>\n",
       "      <td>1.447989e+09</td>\n",
       "      <td>2.8</td>\n",
       "    </tr>\n",
       "    <tr>\n",
       "      <th>10</th>\n",
       "      <td>2015-11-20 03:17:09+00:00</td>\n",
       "      <td>2015-11-19 19:17:09-08:00</td>\n",
       "      <td>1.447989e+09</td>\n",
       "      <td>1.4</td>\n",
       "    </tr>\n",
       "  </tbody>\n",
       "</table>\n",
       "</div>"
      ],
      "text/plain": [
       "               deviceTime_utc           deviceTime_local  deviceTime_unix  cpm\n",
       "0   2015-11-20 02:27:13+00:00  2015-11-19 18:27:13-08:00     1.447986e+09  4.0\n",
       "1   2015-11-20 02:32:13+00:00  2015-11-19 18:32:13-08:00     1.447987e+09  2.8\n",
       "2   2015-11-20 02:37:15+00:00  2015-11-19 18:37:15-08:00     1.447987e+09  3.4\n",
       "3   2015-11-20 02:42:15+00:00  2015-11-19 18:42:15-08:00     1.447987e+09  2.4\n",
       "4   2015-11-20 02:47:16+00:00  2015-11-19 18:47:16-08:00     1.447988e+09  3.4\n",
       "5   2015-11-20 02:52:16+00:00  2015-11-19 18:52:16-08:00     1.447988e+09  1.8\n",
       "6   2015-11-20 02:57:07+00:00  2015-11-19 18:57:07-08:00     1.447988e+09  3.2\n",
       "7   2015-11-20 03:02:07+00:00  2015-11-19 19:02:07-08:00     1.447989e+09  3.0\n",
       "8   2015-11-20 03:07:08+00:00  2015-11-19 19:07:08-08:00     1.447989e+09  1.8\n",
       "9   2015-11-20 03:12:08+00:00  2015-11-19 19:12:08-08:00     1.447989e+09  2.8\n",
       "10  2015-11-20 03:17:09+00:00  2015-11-19 19:17:09-08:00     1.447989e+09  1.4"
      ]
     },
     "execution_count": 204,
     "metadata": {},
     "output_type": "execute_result"
    }
   ],
   "source": [
    "df_good_cut.loc[0:10,:]"
   ]
  },
  {
   "cell_type": "code",
   "execution_count": 207,
   "id": "f3a95e04",
   "metadata": {},
   "outputs": [
    {
     "data": {
      "text/html": [
       "<div>\n",
       "<style scoped>\n",
       "    .dataframe tbody tr th:only-of-type {\n",
       "        vertical-align: middle;\n",
       "    }\n",
       "\n",
       "    .dataframe tbody tr th {\n",
       "        vertical-align: top;\n",
       "    }\n",
       "\n",
       "    .dataframe thead th {\n",
       "        text-align: right;\n",
       "    }\n",
       "</style>\n",
       "<table border=\"1\" class=\"dataframe\">\n",
       "  <thead>\n",
       "    <tr style=\"text-align: right;\">\n",
       "      <th></th>\n",
       "      <th>deviceTime_utc</th>\n",
       "      <th>deviceTime_local</th>\n",
       "      <th>deviceTime_unix</th>\n",
       "      <th>cpm</th>\n",
       "    </tr>\n",
       "  </thead>\n",
       "  <tbody>\n",
       "    <tr>\n",
       "      <th>389838</th>\n",
       "      <td>2022-01-19 00:45:41+0000</td>\n",
       "      <td>2022-01-18 16:45:41-0800</td>\n",
       "      <td>1.642374e+09</td>\n",
       "      <td>2.6</td>\n",
       "    </tr>\n",
       "    <tr>\n",
       "      <th>389839</th>\n",
       "      <td>2022-01-19 00:45:43+0000</td>\n",
       "      <td>2022-01-18 16:45:43-0800</td>\n",
       "      <td>1.642375e+09</td>\n",
       "      <td>2.6</td>\n",
       "    </tr>\n",
       "    <tr>\n",
       "      <th>389840</th>\n",
       "      <td>2022-01-19 00:45:45+0000</td>\n",
       "      <td>2022-01-18 16:45:45-0800</td>\n",
       "      <td>1.642375e+09</td>\n",
       "      <td>2.6</td>\n",
       "    </tr>\n",
       "    <tr>\n",
       "      <th>389841</th>\n",
       "      <td>2022-01-19 00:45:48+0000</td>\n",
       "      <td>2022-01-18 16:45:48-0800</td>\n",
       "      <td>1.642375e+09</td>\n",
       "      <td>3.4</td>\n",
       "    </tr>\n",
       "    <tr>\n",
       "      <th>389842</th>\n",
       "      <td>2022-01-19 00:45:50+0000</td>\n",
       "      <td>2022-01-18 16:45:50-0800</td>\n",
       "      <td>1.642376e+09</td>\n",
       "      <td>3.0</td>\n",
       "    </tr>\n",
       "    <tr>\n",
       "      <th>...</th>\n",
       "      <td>...</td>\n",
       "      <td>...</td>\n",
       "      <td>...</td>\n",
       "      <td>...</td>\n",
       "    </tr>\n",
       "    <tr>\n",
       "      <th>418555</th>\n",
       "      <td>2022-09-08 10:05:42+0000</td>\n",
       "      <td>2022-09-08 03:05:42-0700</td>\n",
       "      <td>1.662632e+09</td>\n",
       "      <td>2.8</td>\n",
       "    </tr>\n",
       "    <tr>\n",
       "      <th>418556</th>\n",
       "      <td>2022-09-08 10:10:42+0000</td>\n",
       "      <td>2022-09-08 03:10:42-0700</td>\n",
       "      <td>1.662632e+09</td>\n",
       "      <td>2.8</td>\n",
       "    </tr>\n",
       "    <tr>\n",
       "      <th>418557</th>\n",
       "      <td>2022-09-08 10:15:42+0000</td>\n",
       "      <td>2022-09-08 03:15:42-0700</td>\n",
       "      <td>1.662632e+09</td>\n",
       "      <td>3.6</td>\n",
       "    </tr>\n",
       "    <tr>\n",
       "      <th>418558</th>\n",
       "      <td>2022-09-08 10:20:42+0000</td>\n",
       "      <td>2022-09-08 03:20:42-0700</td>\n",
       "      <td>1.662632e+09</td>\n",
       "      <td>2.8</td>\n",
       "    </tr>\n",
       "    <tr>\n",
       "      <th>418559</th>\n",
       "      <td>2022-09-08 10:25:42+0000</td>\n",
       "      <td>2022-09-08 03:25:42-0700</td>\n",
       "      <td>1.662633e+09</td>\n",
       "      <td>3.0</td>\n",
       "    </tr>\n",
       "  </tbody>\n",
       "</table>\n",
       "<p>28722 rows × 4 columns</p>\n",
       "</div>"
      ],
      "text/plain": [
       "                  deviceTime_utc          deviceTime_local  deviceTime_unix  \\\n",
       "389838  2022-01-19 00:45:41+0000  2022-01-18 16:45:41-0800     1.642374e+09   \n",
       "389839  2022-01-19 00:45:43+0000  2022-01-18 16:45:43-0800     1.642375e+09   \n",
       "389840  2022-01-19 00:45:45+0000  2022-01-18 16:45:45-0800     1.642375e+09   \n",
       "389841  2022-01-19 00:45:48+0000  2022-01-18 16:45:48-0800     1.642375e+09   \n",
       "389842  2022-01-19 00:45:50+0000  2022-01-18 16:45:50-0800     1.642376e+09   \n",
       "...                          ...                       ...              ...   \n",
       "418555  2022-09-08 10:05:42+0000  2022-09-08 03:05:42-0700     1.662632e+09   \n",
       "418556  2022-09-08 10:10:42+0000  2022-09-08 03:10:42-0700     1.662632e+09   \n",
       "418557  2022-09-08 10:15:42+0000  2022-09-08 03:15:42-0700     1.662632e+09   \n",
       "418558  2022-09-08 10:20:42+0000  2022-09-08 03:20:42-0700     1.662632e+09   \n",
       "418559  2022-09-08 10:25:42+0000  2022-09-08 03:25:42-0700     1.662633e+09   \n",
       "\n",
       "        cpm  \n",
       "389838  2.6  \n",
       "389839  2.6  \n",
       "389840  2.6  \n",
       "389841  3.4  \n",
       "389842  3.0  \n",
       "...     ...  \n",
       "418555  2.8  \n",
       "418556  2.8  \n",
       "418557  3.6  \n",
       "418558  2.8  \n",
       "418559  3.0  \n",
       "\n",
       "[28722 rows x 4 columns]"
      ]
     },
     "metadata": {},
     "output_type": "display_data"
    }
   ],
   "source": [
    "mask = df_good_cut['deviceTime_utc'] >= '2022-01-01 00:00:00+0000'\n",
    "df_2022 = df_good_cut[mask]\n",
    "display(df_2022)"
   ]
  },
  {
   "cell_type": "code",
   "execution_count": 231,
   "id": "851f444e",
   "metadata": {},
   "outputs": [
    {
     "data": {
      "text/html": [
       "<div>\n",
       "<style scoped>\n",
       "    .dataframe tbody tr th:only-of-type {\n",
       "        vertical-align: middle;\n",
       "    }\n",
       "\n",
       "    .dataframe tbody tr th {\n",
       "        vertical-align: top;\n",
       "    }\n",
       "\n",
       "    .dataframe thead th {\n",
       "        text-align: right;\n",
       "    }\n",
       "</style>\n",
       "<table border=\"1\" class=\"dataframe\">\n",
       "  <thead>\n",
       "    <tr style=\"text-align: right;\">\n",
       "      <th></th>\n",
       "      <th>deviceTime_utc</th>\n",
       "      <th>deviceTime_local</th>\n",
       "      <th>deviceTime_unix</th>\n",
       "      <th>cpm</th>\n",
       "    </tr>\n",
       "  </thead>\n",
       "  <tbody>\n",
       "    <tr>\n",
       "      <th>389838</th>\n",
       "      <td>2022-01-19 00:45:41+0000</td>\n",
       "      <td>2022-01-18 16:45:41-0800</td>\n",
       "      <td>1.642374e+09</td>\n",
       "      <td>2.6</td>\n",
       "    </tr>\n",
       "    <tr>\n",
       "      <th>389839</th>\n",
       "      <td>2022-01-19 00:45:43+0000</td>\n",
       "      <td>2022-01-18 16:45:43-0800</td>\n",
       "      <td>1.642375e+09</td>\n",
       "      <td>2.6</td>\n",
       "    </tr>\n",
       "    <tr>\n",
       "      <th>389840</th>\n",
       "      <td>2022-01-19 00:45:45+0000</td>\n",
       "      <td>2022-01-18 16:45:45-0800</td>\n",
       "      <td>1.642375e+09</td>\n",
       "      <td>2.6</td>\n",
       "    </tr>\n",
       "    <tr>\n",
       "      <th>389841</th>\n",
       "      <td>2022-01-19 00:45:48+0000</td>\n",
       "      <td>2022-01-18 16:45:48-0800</td>\n",
       "      <td>1.642375e+09</td>\n",
       "      <td>3.4</td>\n",
       "    </tr>\n",
       "    <tr>\n",
       "      <th>389842</th>\n",
       "      <td>2022-01-19 00:45:50+0000</td>\n",
       "      <td>2022-01-18 16:45:50-0800</td>\n",
       "      <td>1.642376e+09</td>\n",
       "      <td>3.0</td>\n",
       "    </tr>\n",
       "    <tr>\n",
       "      <th>...</th>\n",
       "      <td>...</td>\n",
       "      <td>...</td>\n",
       "      <td>...</td>\n",
       "      <td>...</td>\n",
       "    </tr>\n",
       "    <tr>\n",
       "      <th>390693</th>\n",
       "      <td>2022-01-19 18:30:37+0000</td>\n",
       "      <td>2022-01-19 10:30:37-0800</td>\n",
       "      <td>1.642617e+09</td>\n",
       "      <td>1.4</td>\n",
       "    </tr>\n",
       "    <tr>\n",
       "      <th>390694</th>\n",
       "      <td>2022-01-19 18:35:43+0000</td>\n",
       "      <td>2022-01-19 10:35:43-0800</td>\n",
       "      <td>1.642617e+09</td>\n",
       "      <td>1.0</td>\n",
       "    </tr>\n",
       "    <tr>\n",
       "      <th>390695</th>\n",
       "      <td>2022-01-19 18:35:38+0000</td>\n",
       "      <td>2022-01-19 10:35:38-0800</td>\n",
       "      <td>1.642617e+09</td>\n",
       "      <td>2.6</td>\n",
       "    </tr>\n",
       "    <tr>\n",
       "      <th>390696</th>\n",
       "      <td>2022-01-19 18:40:37+0000</td>\n",
       "      <td>2022-01-19 10:40:37-0800</td>\n",
       "      <td>1.642618e+09</td>\n",
       "      <td>2.8</td>\n",
       "    </tr>\n",
       "    <tr>\n",
       "      <th>390697</th>\n",
       "      <td>2022-01-19 18:45:37+0000</td>\n",
       "      <td>2022-01-19 10:45:37-0800</td>\n",
       "      <td>1.642618e+09</td>\n",
       "      <td>3.0</td>\n",
       "    </tr>\n",
       "  </tbody>\n",
       "</table>\n",
       "<p>860 rows × 4 columns</p>\n",
       "</div>"
      ],
      "text/plain": [
       "                  deviceTime_utc          deviceTime_local  deviceTime_unix  \\\n",
       "389838  2022-01-19 00:45:41+0000  2022-01-18 16:45:41-0800     1.642374e+09   \n",
       "389839  2022-01-19 00:45:43+0000  2022-01-18 16:45:43-0800     1.642375e+09   \n",
       "389840  2022-01-19 00:45:45+0000  2022-01-18 16:45:45-0800     1.642375e+09   \n",
       "389841  2022-01-19 00:45:48+0000  2022-01-18 16:45:48-0800     1.642375e+09   \n",
       "389842  2022-01-19 00:45:50+0000  2022-01-18 16:45:50-0800     1.642376e+09   \n",
       "...                          ...                       ...              ...   \n",
       "390693  2022-01-19 18:30:37+0000  2022-01-19 10:30:37-0800     1.642617e+09   \n",
       "390694  2022-01-19 18:35:43+0000  2022-01-19 10:35:43-0800     1.642617e+09   \n",
       "390695  2022-01-19 18:35:38+0000  2022-01-19 10:35:38-0800     1.642617e+09   \n",
       "390696  2022-01-19 18:40:37+0000  2022-01-19 10:40:37-0800     1.642618e+09   \n",
       "390697  2022-01-19 18:45:37+0000  2022-01-19 10:45:37-0800     1.642618e+09   \n",
       "\n",
       "        cpm  \n",
       "389838  2.6  \n",
       "389839  2.6  \n",
       "389840  2.6  \n",
       "389841  3.4  \n",
       "389842  3.0  \n",
       "...     ...  \n",
       "390693  1.4  \n",
       "390694  1.0  \n",
       "390695  2.6  \n",
       "390696  2.8  \n",
       "390697  3.0  \n",
       "\n",
       "[860 rows x 4 columns]"
      ]
     },
     "metadata": {},
     "output_type": "display_data"
    }
   ],
   "source": [
    "mask = (df_good_cut['deviceTime_utc'] >= '2022-01-01 00:00:00+0000') & \\\n",
    "       (df_good_cut['deviceTime_utc'] < '2022-02-01 00:00:00+0000')\n",
    "df_2022_1 = df_good_cut[mask]\n",
    "display(df_2022_1)"
   ]
  },
  {
   "cell_type": "code",
   "execution_count": 213,
   "id": "c9792901",
   "metadata": {},
   "outputs": [
    {
     "data": {
      "text/plain": [
       "pandas.core.series.Series"
      ]
     },
     "execution_count": 213,
     "metadata": {},
     "output_type": "execute_result"
    }
   ],
   "source": [
    "type(mask)"
   ]
  },
  {
   "cell_type": "code",
   "execution_count": 217,
   "id": "7e5458d6",
   "metadata": {},
   "outputs": [
    {
     "data": {
      "text/plain": [
       "array([5, 6, 7, 8, 9])"
      ]
     },
     "execution_count": 217,
     "metadata": {},
     "output_type": "execute_result"
    }
   ],
   "source": [
    "data_np[data_np > 4]"
   ]
  },
  {
   "cell_type": "code",
   "execution_count": 218,
   "id": "a0768a0c",
   "metadata": {},
   "outputs": [
    {
     "data": {
      "text/plain": [
       "2.771289268103496"
      ]
     },
     "execution_count": 218,
     "metadata": {},
     "output_type": "execute_result"
    }
   ],
   "source": [
    "df_2022_1['cpm'].mean()"
   ]
  },
  {
   "cell_type": "code",
   "execution_count": 220,
   "id": "ed0cc8c1",
   "metadata": {},
   "outputs": [
    {
     "data": {
      "text/plain": [
       "2.771289268103496"
      ]
     },
     "execution_count": 220,
     "metadata": {},
     "output_type": "execute_result"
    }
   ],
   "source": [
    "np.mean(df_2022_1['cpm'])"
   ]
  },
  {
   "cell_type": "code",
   "execution_count": 221,
   "id": "23489a47",
   "metadata": {},
   "outputs": [],
   "source": [
    "np_cpm = df_2022_1['cpm'].to_numpy()"
   ]
  },
  {
   "cell_type": "code",
   "execution_count": 222,
   "id": "c5150277",
   "metadata": {},
   "outputs": [],
   "source": [
    "import matplotlib.pyplot as plt"
   ]
  },
  {
   "cell_type": "code",
   "execution_count": 225,
   "id": "bf3d964d",
   "metadata": {},
   "outputs": [
    {
     "data": {
      "image/png": "[encoded data removed]",
      "text/plain": [
       "<Figure size 432x288 with 1 Axes>"
      ]
     },
     "metadata": {
      "needs_background": "light"
     },
     "output_type": "display_data"
    }
   ],
   "source": [
    "plt.plot(df_2022['cpm'])\n",
    "plt.ylabel(\"CPM\")\n",
    "plt.show()"
   ]
  },
  {
   "cell_type": "code",
   "execution_count": 233,
   "id": "fa6dc1f7",
   "metadata": {},
   "outputs": [
    {
     "data": {
      "image/png": "[encoded data removed]",
      "text/plain": [
       "<Figure size 432x288 with 1 Axes>"
      ]
     },
     "metadata": {
      "needs_background": "light"
     },
     "output_type": "display_data"
    }
   ],
   "source": [
    "plt.plot(df_2022['deviceTime_unix'],df_2022['cpm'])\n",
    "plt.ylabel(\"CPM\")\n",
    "plt.xlabel(\"time\")\n",
    "plt.show()"
   ]
  },
  {
   "cell_type": "code",
   "execution_count": 229,
   "id": "ddea34d9",
   "metadata": {},
   "outputs": [
    {
     "data": {
      "text/plain": [
       "pandas.core.series.Series"
      ]
     },
     "execution_count": 229,
     "metadata": {},
     "output_type": "execute_result"
    }
   ],
   "source": [
    "type(df_2022['deviceTime_unix'])"
   ]
  },
  {
   "cell_type": "code",
   "execution_count": 247,
   "id": "4d8ac4bf",
   "metadata": {},
   "outputs": [
    {
     "data": {
      "image/png": "[encoded data removed]",
      "text/plain": [
       "<Figure size 432x288 with 1 Axes>"
      ]
     },
     "metadata": {
      "needs_background": "light"
     },
     "output_type": "display_data"
    }
   ],
   "source": [
    "plt.hist(df_2022_1['cpm'],bins=25)\n",
    "plt.show()"
   ]
  },
  {
   "cell_type": "code",
   "execution_count": null,
   "id": "c02e0433",
   "metadata": {},
   "outputs": [],
   "source": []
  }
 ],
 "metadata": {
  "kernelspec": {
   "display_name": "Python 3",
   "language": "python",
   "name": "python3"
  },
  "language_info": {
   "codemirror_mode": {
    "name": "ipython",
    "version": 3
   },
   "file_extension": ".py",
   "mimetype": "text/x-python",
   "name": "python",
   "nbconvert_exporter": "python",
   "pygments_lexer": "ipython3",
   "version": "3.7.3"
  }
 },
 "nbformat": 4,
 "nbformat_minor": 5
}
