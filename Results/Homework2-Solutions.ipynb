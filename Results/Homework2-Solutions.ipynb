{
 "cells": [
  {
   "cell_type": "code",
   "execution_count": 4,
   "metadata": {},
   "outputs": [],
   "source": [
    "import math"
   ]
  },
  {
   "cell_type": "code",
   "execution_count": 9,
   "metadata": {},
   "outputs": [],
   "source": [
    "def get_activity(grams, mol_mass, abundance, half_life):\n",
    "    # N_atoms = grams * mol/g * atoms/mol\n",
    "    n_atoms = grams/mol_mass * N_A\n",
    "    n_active = n_atoms * abundance\n",
    "    # the default math.log() is the natural log - other bases require additional arguments\n",
    "    decays_year = n_active * math.log(2)/half_life\n",
    "    activity = decays_year/(365*24*60*60)\n",
    "    return activity"
   ]
  },
  {
   "cell_type": "markdown",
   "metadata": {},
   "source": [
    "### Problem 1:\n",
    "* K-40 abundance is 0.012% (from https://en.wikipedia.org/wiki/Potassium-40)\n",
    "* K-40 half-life (in years) (from https://en.wikipedia.org/wiki/Potassium-40)\n",
    "* Potassium in human body: ~0.4% (from https://en.wikipedia.org/wiki/Composition_of_the_human_body)\n",
    "* 10.66% of K-40 decays through gamma emission (Branching ratio from lecture)\n"
   ]
  },
  {
   "cell_type": "code",
   "execution_count": 5,
   "metadata": {},
   "outputs": [],
   "source": [
    "k40_abundance = 0.000117\n",
    "K_half = 1.251e9\n",
    "human_k = 0.004\n",
    "gamma_branch = 0.1066\n",
    "# molecular mass of K\n",
    "k_mass = 39.098\n",
    "# Avogadro's number\n",
    "N_A = 6.02e23"
   ]
  },
  {
   "cell_type": "code",
   "execution_count": 15,
   "metadata": {},
   "outputs": [
    {
     "name": "stdout",
     "output_type": "stream",
     "text": [
      "Activity outside the body from 70kg human = 944.723222887241 Bq\n"
     ]
    }
   ],
   "source": [
    "human_mass = 70000 # assume average human is 70kg\n",
    "grams_k = human_mass * human_k\n",
    "total_activity = get_activity(grams_k, k_mass, k40_abundance, K_half)\n",
    "gamma_activity = total_activity * gamma_branch\n",
    "print(\"Activity outside the body from 70kg human = {} Bq\".format(gamma_activity))"
   ]
  },
  {
   "cell_type": "code",
   "execution_count": 16,
   "metadata": {},
   "outputs": [
    {
     "name": "stdout",
     "output_type": "stream",
     "text": [
      "0.013496046041246301\n",
      "Activity from me (assuming I am 60kg) = 809.762762474778 Bq\n"
     ]
    }
   ],
   "source": [
    "specific_activity = gamma_activity/human_mass\n",
    "my_mass = 60000\n",
    "my_activity = specific_activity * my_mass\n",
    "print(specific_activity)\n",
    "print(\"Activity from me (assuming I am 60kg) = {} Bq\".format(my_activity))"
   ]
  },
  {
   "cell_type": "markdown",
   "metadata": {},
   "source": [
    "### Problem 2:\n",
    "* from nutrition information here: https://en.wikipedia.org/wiki/Banana#Nutrition\n",
    "  * Potassium in 100g of banana = 358 mg\n",
    "  * Vitamin B: 0.4 mg\n",
    "  * Vitamin C: 8.7 mg\n",
    "  * the rest will be ignored\n",
    "* other numbers from same references as problem 1"
   ]
  },
  {
   "cell_type": "markdown",
   "metadata": {},
   "source": [
    "2.a. \n",
    "\n",
    "Potassium and Carbon both have radioactive isotopes (K-40 and C-14) so they could contribute. However, from these numbers, there is ~100x more Potassium than Carbon in a banana. Also, the natural abundance of carbon-14 is 1 in a trillion vs for K-40, which is ~.12%. So we will not consider radiation from carbon in this calculation."
   ]
  },
  {
   "cell_type": "code",
   "execution_count": 25,
   "metadata": {},
   "outputs": [
    {
     "name": "stdout",
     "output_type": "stream",
     "text": [
      "2.b. The activity from gamma radiation = 1.4494753448298532 Bq\n"
     ]
    }
   ],
   "source": [
    "# convert from 100g to 120g (the banana weight I specified)\n",
    "grams_k_banana = 120/100 * .358\n",
    "\n",
    "# We can now get the activity by imputing this mass and all the same numbers as problem 1\n",
    "banana_activity = get_activity(grams_k_banana, k_mass, k40_abundance, K_half)\n",
    "banana_activity_gamma = banana_activity * gamma_branch\n",
    "print(\"2.b. The activity from gamma radiation = {} Bq\".format(banana_activity_gamma))"
   ]
  },
  {
   "cell_type": "code",
   "execution_count": 23,
   "metadata": {},
   "outputs": [
    {
     "name": "stdout",
     "output_type": "stream",
     "text": [
      "2.c. The activity from electrons = 12.147854344005543 Bq\n"
     ]
    }
   ],
   "source": [
    "banana_activity_electron = banana_activity * (1-gamma_branch)\n",
    "print(\"2.c. The activity from electrons = {} Bq\".format(banana_activity_electron))"
   ]
  },
  {
   "cell_type": "code",
   "execution_count": 24,
   "metadata": {},
   "outputs": [
    {
     "name": "stdout",
     "output_type": "stream",
     "text": [
      "2.d. The total activity from the banana is 13.597329688835396 Bq\n"
     ]
    }
   ],
   "source": [
    "print(\"2.d. The total activity from the banana is {} Bq\".format(banana_activity))"
   ]
  },
  {
   "cell_type": "markdown",
   "metadata": {},
   "source": [
    "2.e. When you buy the banana, you are protected from the electron (beta) radiation by your skin, so you are only exposed to the activity from gamma radiation - as given in part 2.b.\n",
    "\n"
   ]
  },
  {
   "cell_type": "markdown",
   "metadata": {},
   "source": [
    "2.f. When you eat the banana, you are primarily being exposed to the electron (beta) radiation, because it will now all be absorbed by your body - as given in 2.c. That said, the gamma radiation is still being emitted, though less of your body is being exposed to it, so if you said you would also be exposed to the gamma radiation, that's OK."
   ]
  }
 ],
 "metadata": {
  "kernelspec": {
   "display_name": "Python 3",
   "language": "python",
   "name": "python3"
  },
  "language_info": {
   "codemirror_mode": {
    "name": "ipython",
    "version": 3
   },
   "file_extension": ".py",
   "mimetype": "text/x-python",
   "name": "python",
   "nbconvert_exporter": "python",
   "pygments_lexer": "ipython3",
   "version": "3.7.3"
  }
 },
 "nbformat": 4,
 "nbformat_minor": 2
}
