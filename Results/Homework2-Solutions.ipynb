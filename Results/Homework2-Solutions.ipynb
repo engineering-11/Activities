{
 "cells": [
  {
   "cell_type": "code",
   "execution_count": 6,
   "metadata": {},
   "outputs": [],
   "source": [
    "import math"
   ]
  },
  {
   "cell_type": "code",
   "execution_count": 3,
   "metadata": {},
   "outputs": [],
   "source": [
    "# K-40 abundance is 0.012%\n",
    "k40_abundance = 0.00012\n",
    "# K-40 half-life (in years)\n",
    "K_half = 1.248e9\n",
    "# Potassium in human body: ~0.4% (from https://en.wikipedia.org/wiki/Composition_of_the_human_body)\n",
    "human_k = 0.004\n",
    "# 10.66% of K-40 decays through gamma emission\n",
    "gamma_branch = 0.1066\n",
    "# molecular mass of K\n",
    "k_mass = 39.098\n",
    "# Avogadro's number\n",
    "N_A = 6.02e23"
   ]
  },
  {
   "cell_type": "code",
   "execution_count": 9,
   "metadata": {},
   "outputs": [],
   "source": [
    "def get_activity(grams, mol_mass, abundance, half_life, branch):\n",
    "    # N_atoms = grams * mol/g * atoms/mol\n",
    "    n_atoms = grams/mol_mass * N_A\n",
    "    n_active = n_atoms * abundance\n",
    "    # the default math.log() is the natural log - other bases require additional arguments\n",
    "    decays_year = n_active * math.log(2)/half_life\n",
    "    activity = decays_year/(365*24*60*60)\n",
    "    return activity"
   ]
  },
  {
   "cell_type": "code",
   "execution_count": 10,
   "metadata": {},
   "outputs": [
    {
     "data": {
      "text/plain": [
       "9111.408016289297"
      ]
     },
     "execution_count": 10,
     "metadata": {},
     "output_type": "execute_result"
    }
   ],
   "source": [
    "human_mass = 70000 # assume average human is 70kg\n",
    "grams_k = human_mass * human_k\n",
    "get_activity(grams_k, k_mass, k40_abundance, K_half, gamma_branch)"
   ]
  },
  {
   "cell_type": "code",
   "execution_count": null,
   "metadata": {},
   "outputs": [],
   "source": []
  }
 ],
 "metadata": {
  "kernelspec": {
   "display_name": "Python 3",
   "language": "python",
   "name": "python3"
  },
  "language_info": {
   "codemirror_mode": {
    "name": "ipython",
    "version": 3
   },
   "file_extension": ".py",
   "mimetype": "text/x-python",
   "name": "python",
   "nbconvert_exporter": "python",
   "pygments_lexer": "ipython3",
   "version": "3.7.1"
  }
 },
 "nbformat": 4,
 "nbformat_minor": 2
}
