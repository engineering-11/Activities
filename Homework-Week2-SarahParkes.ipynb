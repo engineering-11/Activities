{
 "cells": [
  {
   "cell_type": "code",
   "execution_count": 7,
   "metadata": {},
   "outputs": [],
   "source": [
    "import math \n",
    "import numpy as np"
   ]
  },
  {
   "cell_type": "code",
   "execution_count": 26,
   "metadata": {},
   "outputs": [
    {
     "data": {
      "text/plain": [
       "438.31966285301615"
      ]
     },
     "execution_count": 26,
     "metadata": {},
     "output_type": "execute_result"
    }
   ],
   "source": [
    "#1a prep: Assume an average human mass of 70kg. What is the activity (Bq) of that person?\n",
    "#carbon decay does not produce gamma radiation \n",
    "abundance =  0.000117 #abundance of potassium 40 \n",
    "ratiog = 0.1066 #ratio of decomposition that is gamma \n",
    "kavgman = 135 #potassium in 70kg man in GRAMS \n",
    "#source: https://www.sciencedirect.com/topics/biochemistry-genetics-and-molecular-biology/total-body-potassium\n",
    "k40person = abundance * kavgman #potassium 40 in avg person \n",
    "#solve 1a \n",
    "gramspmole = 39.0983 \n",
    "molesh = k40person / gramspmole \n",
    "atomspmole = 6.02e23\n",
    "atomsh = molesh * atomspmole\n",
    "activityh = atomsh * np.log(2) / 1300000000\n",
    "activityinsecondsh = activityh / 31536000\n",
    "activityinsecondsgammah = activityinsecondsh * ratiog\n",
    "activityinsecondsgammah"
   ]
  },
  {
   "cell_type": "code",
   "execution_count": 28,
   "metadata": {},
   "outputs": [
    {
     "data": {
      "text/plain": [
       "469.62821019966015"
      ]
     },
     "execution_count": 28,
     "metadata": {},
     "output_type": "execute_result"
    }
   ],
   "source": [
    "#1b How radioactive are you? \n",
    "activityperkg = activityinsecondsgammah / 70 \n",
    "myactivity = activityperkg * 75\n",
    "myactivity"
   ]
  },
  {
   "cell_type": "code",
   "execution_count": 29,
   "metadata": {},
   "outputs": [],
   "source": [
    "#1c Sources \n",
    "#amt of potassium in a 70kg man in grams: https://www.sciencedirect.com/topics/biochemistry-genetics-and-molecular-biology/total-body-potassium\n",
    "#grams per mole of potassium: https://www.convertunits.com/from/moles+Potassium/to/grams\n",
    "#abundance: https://education.jlab.org/itselemental/iso019.html"
   ]
  },
  {
   "cell_type": "code",
   "execution_count": 38,
   "metadata": {},
   "outputs": [
    {
     "name": "stdout",
     "output_type": "stream",
     "text": [
      "10.903928795871016\n",
      "The additional radiation from C-14 is negligible due to (a) it's monumentally smaller abundance and (b) the fact that there is far less carbon, much less carbon-14 in a banana than potassium-40\n"
     ]
    }
   ],
   "source": [
    "#2\n",
    "bk = 0.358 #banana potassium in g per 100g of banana \n",
    "k40banana = abundance * bk \n",
    "#solve 1a \n",
    "gramspmole = 39.0983\n",
    "molesb = k40banana / gramspmole\n",
    "atomspmole = 6.02e23\n",
    "atomsb = molesb * atomspmole\n",
    "activityb = atomsb * np.log(2) / 1300000000\n",
    "activityinsecondsb = activityb / 31536000\n",
    "print (activityinsecondsb)\n",
    "print (\"The additional radiation from C-14 is negligible due to (a) it's monumentally smaller abundance and (b) the fact that there is far less carbon, much less carbon-14 in a banana than potassium-40\")"
   ]
  },
  {
   "cell_type": "code",
   "execution_count": 31,
   "metadata": {},
   "outputs": [
    {
     "name": "stdout",
     "output_type": "stream",
     "text": [
      "The potassium will contribute most significantly to my answer because it is (a) found in the greatest quantity inside the banana, (b) has the highest natural abundance (potassium-40), and (c) everything else, specifically carbon, is negligible\n"
     ]
    }
   ],
   "source": [
    "#2a\n",
    "print(\"The potassium will contribute most significantly to my answer because it is (a) found in the greatest quantity inside the banana, (b) has the highest natural abundance (potassium-40), and (c) everything else, specifically carbon, is negligible\") \n"
   ]
  },
  {
   "cell_type": "code",
   "execution_count": 39,
   "metadata": {},
   "outputs": [
    {
     "data": {
      "text/plain": [
       "1.1623588096398503"
      ]
     },
     "execution_count": 39,
     "metadata": {},
     "output_type": "execute_result"
    }
   ],
   "source": [
    "#2b\n",
    "activityinsecondsgammab = activityinsecondsb * ratiog\n",
    "activityinsecondsgammab"
   ]
  },
  {
   "cell_type": "code",
   "execution_count": 40,
   "metadata": {},
   "outputs": [
    {
     "data": {
      "text/plain": [
       "9.741569986231166"
      ]
     },
     "execution_count": 40,
     "metadata": {},
     "output_type": "execute_result"
    }
   ],
   "source": [
    "#2c \n",
    "electronactivity = activityinsecondsb - activityinsecondsgammab\n",
    "electronactivity"
   ]
  },
  {
   "cell_type": "code",
   "execution_count": 42,
   "metadata": {},
   "outputs": [
    {
     "data": {
      "text/plain": [
       "10.903928795871016"
      ]
     },
     "execution_count": 42,
     "metadata": {},
     "output_type": "execute_result"
    }
   ],
   "source": [
    "#2d \n",
    "totalactivity = activityinseconds\n",
    "totalactivity\n",
    "#carbon activity is negligible "
   ]
  },
  {
   "cell_type": "code",
   "execution_count": 44,
   "metadata": {},
   "outputs": [
    {
     "data": {
      "text/plain": [
       "1.1623588096398503"
      ]
     },
     "execution_count": 44,
     "metadata": {},
     "output_type": "execute_result"
    }
   ],
   "source": [
    "#2e \n",
    "#Just the gamma activity\n",
    "activityinsecondsgammab"
   ]
  },
  {
   "cell_type": "code",
   "execution_count": 45,
   "metadata": {},
   "outputs": [
    {
     "data": {
      "text/plain": [
       "10.903928795871016"
      ]
     },
     "execution_count": 45,
     "metadata": {},
     "output_type": "execute_result"
    }
   ],
   "source": [
    "#2f \n",
    "#All of the radiation \n",
    "totalactivity"
   ]
  }
 ],
 "metadata": {
  "kernelspec": {
   "display_name": "Python 3",
   "language": "python",
   "name": "python3"
  },
  "language_info": {
   "codemirror_mode": {
    "name": "ipython",
    "version": 3
   },
   "file_extension": ".py",
   "mimetype": "text/x-python",
   "name": "python",
   "nbconvert_exporter": "python",
   "pygments_lexer": "ipython3",
   "version": "3.7.3"
  }
 },
 "nbformat": 4,
 "nbformat_minor": 2
}
