{
 "cells": [
  {
   "cell_type": "code",
   "execution_count": null,
   "metadata": {},
   "outputs": [],
   "source": [
    "import numpy as np\n",
    "import pandas as pd\n",
    "%matplotlib inline\n",
    "import matplotlib.pyplot as plt\n",
    "\n",
    "import plotly.graph_objects as go\n",
    "from plotly.subplots import make_subplots"
   ]
  },
  {
   "cell_type": "code",
   "execution_count": null,
   "metadata": {},
   "outputs": [],
   "source": [
    "data = pd.read_csv('https://radwatch.berkeley.edu/sites/default/files/dosenet/etch_roof.csv?uhekkvtdd')"
   ]
  },
  {
   "cell_type": "code",
   "execution_count": null,
   "metadata": {
    "scrolled": false
   },
   "outputs": [],
   "source": [
    "data"
   ]
  },
  {
   "cell_type": "code",
   "execution_count": null,
   "metadata": {},
   "outputs": [],
   "source": [
    "data.describe()"
   ]
  },
  {
   "cell_type": "code",
   "execution_count": null,
   "metadata": {},
   "outputs": [],
   "source": [
    "cpm_data = data.loc[:,\"deviceTime_local\":\"cpmError\"]\n",
    "cpm_data = cpm_data.drop([\"deviceTime_unix\"],axis=1)\n",
    "cpm_data"
   ]
  },
  {
   "cell_type": "code",
   "execution_count": null,
   "metadata": {},
   "outputs": [],
   "source": [
    "print(cpm_data.max())\n",
    "print(cpm_data.min())"
   ]
  },
  {
   "cell_type": "code",
   "execution_count": null,
   "metadata": {},
   "outputs": [],
   "source": [
    "cpm_data.loc[:,\"cpm\"]>0.0\n",
    "mask = cpm_data[\"cpm\"]>0.0\n",
    "print(mask)\n",
    "good_cpm_data = cpm_data[mask]\n",
    "good_cpm_data.min()"
   ]
  },
  {
   "cell_type": "code",
   "execution_count": null,
   "metadata": {},
   "outputs": [],
   "source": [
    "time_mask = good_cpm_data['deviceTime_local']>'2019-08-05 00:00:00-07:00'\n",
    "month_cpm = good_cpm_data[time_mask]\n",
    "print(month_cpm)"
   ]
  },
  {
   "cell_type": "code",
   "execution_count": null,
   "metadata": {},
   "outputs": [],
   "source": [
    "plt.plot(good_cpm_data[\"cpm\"])\n",
    "plt.ylabel('Counts Per Minute')\n",
    "plt.title('CPM vs Index')\n",
    "plt.show()"
   ]
  },
  {
   "cell_type": "code",
   "execution_count": null,
   "metadata": {
    "scrolled": true
   },
   "outputs": [],
   "source": [
    "plt.hist(month_cpm[\"cpm\"],bins=31)\n",
    "plt.ylabel('Frequency')\n",
    "plt.xlabel('Counts Per Minute')\n",
    "plt.show()"
   ]
  },
  {
   "cell_type": "code",
   "execution_count": null,
   "metadata": {},
   "outputs": [],
   "source": [
    "print(np.mean(cpm_data))\n",
    "print(np.std(cpm_data))\n",
    "data.mean(\"cpm\")\n",
    "data.std(\"cpm\")"
   ]
  },
  {
   "cell_type": "code",
   "execution_count": null,
   "metadata": {},
   "outputs": [],
   "source": []
  },
  {
   "cell_type": "code",
   "execution_count": null,
   "metadata": {},
   "outputs": [],
   "source": [
    "dataNOR = pd.read_csv('https://radwatch.berkeley.edu/sites/default/files/dosenet/norrareal.csv?bxycicyuzh')"
   ]
  },
  {
   "cell_type": "code",
   "execution_count": null,
   "metadata": {},
   "outputs": [],
   "source": [
    "dataNOR.describe()"
   ]
  },
  {
   "cell_type": "code",
   "execution_count": null,
   "metadata": {},
   "outputs": [],
   "source": [
    "cpm_dataNOR = dataNOR.loc[:,\"deviceTime_local\":\"cpmError\"]\n",
    "cpm_dataNOR = cpm_dataNOR.drop([\"deviceTime_unix\"],axis=1)\n",
    "cpm_dataNOR"
   ]
  },
  {
   "cell_type": "code",
   "execution_count": null,
   "metadata": {},
   "outputs": [],
   "source": [
    "print(cpm_dataNOR.max())\n",
    "print(cpm_dataNOR.min())"
   ]
  },
  {
   "cell_type": "code",
   "execution_count": null,
   "metadata": {},
   "outputs": [],
   "source": [
    "cpm_dataNOR.loc[:,\"cpm\"]>0.0\n",
    "mask = cpm_dataNOR[\"cpm\"]>0.0\n",
    "print(mask)\n",
    "good_cpm_dataNOR = cpm_dataNOR[mask]\n",
    "good_cpm_dataNOR.min()"
   ]
  },
  {
   "cell_type": "code",
   "execution_count": null,
   "metadata": {},
   "outputs": [],
   "source": [
    "time_maskNOR = good_cpm_dataNOR['deviceTime_local']>'2019-08-05 00:00:00-07:00'\n",
    "month_cpmNOR = good_cpm_dataNOR[time_mask]\n",
    "print(month_cpmNOR)"
   ]
  },
  {
   "cell_type": "code",
   "execution_count": null,
   "metadata": {},
   "outputs": [],
   "source": [
    "plt.plot(good_cpm_dataNOR[\"cpm\"])\n",
    "plt.ylabel('Counts Per Minute')\n",
    "plt.title('CPM vs Index')\n",
    "plt.show()"
   ]
  },
  {
   "cell_type": "code",
   "execution_count": null,
   "metadata": {},
   "outputs": [],
   "source": [
    "plt.hist(month_cpmNOR[\"cpm\"],bins=31)\n",
    "plt.ylabel('Frequency')\n",
    "plt.xlabel('Counts Per Minute')\n",
    "plt.show()"
   ]
  },
  {
   "cell_type": "code",
   "execution_count": null,
   "metadata": {},
   "outputs": [],
   "source": [
    "print(np.mean(cpm_dataNOR))\n",
    "print(np.std(cpm_dataNOR))\n",
    "dataNOR.mean(\"cpm\")\n",
    "dataNOR.std(\"cpm\")"
   ]
  },
  {
   "cell_type": "code",
   "execution_count": null,
   "metadata": {},
   "outputs": [],
   "source": [
    "# Create figure with secondary y-axis\n",
    "fig = make_subplots(specs=[[{\"secondary_y\": True}]])\n",
    "\n",
    "# Add traces\n",
    "fig.add_trace(\n",
    "    go.Scatter(x=[1, 2, 3], y=[40, 50, 60], name=\"yaxis data\"),\n",
    "    secondary_y=False,\n",
    ")\n",
    "\n",
    "fig.add_trace(\n",
    "    go.Scatter(x=[2, 3, 4], y=[4, 5, 6], name=\"yaxis2 data\"),\n",
    "    secondary_y=True,\n",
    ")\n",
    "\n",
    "# Add figure title\n",
    "fig.update_layout(\n",
    "    title_text=\"Double Y Axis Example\"\n",
    ")\n",
    "\n",
    "# Set x-axis title\n",
    "fig.update_xaxes(title_text=\"xaxis title\")\n",
    "\n",
    "# Set y-axes titles\n",
    "fig.update_yaxes(title_text=\"<b>primary</b> yaxis title\", secondary_y=False)\n",
    "fig.update_yaxes(title_text=\"<b>secondary</b> yaxis title\", secondary_y=True)\n",
    "\n",
    "fig.show()"
   ]
  }
 ],
 "metadata": {
  "kernelspec": {
   "display_name": "Python 3",
   "language": "python",
   "name": "python3"
  },
  "language_info": {
   "codemirror_mode": {
    "name": "ipython",
    "version": 2
   },
   "file_extension": ".py",
   "mimetype": "text/x-python",
   "name": "python",
   "nbconvert_exporter": "python",
   "pygments_lexer": "ipython2",
   "version": "2.7.16"
  }
 },
 "nbformat": 4,
 "nbformat_minor": 2
}
